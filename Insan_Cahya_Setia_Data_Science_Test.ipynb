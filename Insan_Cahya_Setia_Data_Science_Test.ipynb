{
  "nbformat": 4,
  "nbformat_minor": 0,
  "metadata": {
    "colab": {
      "provenance": []
    },
    "kernelspec": {
      "name": "python3",
      "display_name": "Python 3"
    },
    "language_info": {
      "name": "python"
    }
  },
  "cells": [
    {
      "cell_type": "markdown",
      "source": [
        "## Import Libraries"
      ],
      "metadata": {
        "id": "ULOq7M1YwqUl"
      }
    },
    {
      "cell_type": "code",
      "execution_count": 1,
      "metadata": {
        "id": "vLAyAvTIwnCH"
      },
      "outputs": [],
      "source": [
        "import numpy as np\n",
        "import pandas as pd\n",
        "import matplotlib.pyplot as plt\n",
        "import plotly.express as px\n",
        "import seaborn as sns\n",
        "\n",
        "from sklearn.preprocessing import RobustScaler\n",
        "from imblearn.over_sampling import SMOTE\n",
        "from sklearn.model_selection import train_test_split, cross_validate, StratifiedKFold, GridSearchCV, cross_val_score, RandomizedSearchCV\n",
        "\n",
        "from sklearn.tree import DecisionTreeClassifier\n",
        "from sklearn.ensemble import RandomForestClassifier, AdaBoostClassifier, ExtraTreesClassifier, GradientBoostingClassifier, BaggingClassifier\n",
        "from sklearn.neighbors import KNeighborsClassifier\n",
        "from sklearn.linear_model import LogisticRegression\n",
        "from sklearn.naive_bayes import GaussianNB\n",
        "from sklearn.svm import SVC\n",
        "from xgboost import XGBClassifier\n",
        "from sklearn.neural_network import MLPClassifier\n",
        "\n",
        "from sklearn.metrics import roc_auc_score, roc_curve, RocCurveDisplay, precision_recall_curve, PrecisionRecallDisplay\n",
        "from sklearn.metrics import accuracy_score, precision_score, recall_score, f1_score\n",
        "from sklearn.metrics import confusion_matrix, ConfusionMatrixDisplay, classification_report\n",
        "\n",
        "import datetime\n",
        "from collections import defaultdict\n",
        "import requests\n",
        "import warnings\n",
        "warnings.filterwarnings('ignore')\n",
        "sns.set_theme()\n",
        "pd.set_option('display.max_columns', 100)"
      ]
    },
    {
      "cell_type": "markdown",
      "source": [
        "## Load Dataset And Data Profiling"
      ],
      "metadata": {
        "id": "PtArd3ld-n1G"
      }
    },
    {
      "cell_type": "code",
      "source": [
        "url = \"https://raw.githubusercontent.com/indrasetiadhip/data-task-sample/main/data-sample.json\"\n",
        "response = requests.get(url)\n",
        "data = response.json()\n",
        "df = pd.json_normalize(data)"
      ],
      "metadata": {
        "id": "yrgTq4y57VZ_"
      },
      "execution_count": 2,
      "outputs": []
    },
    {
      "cell_type": "code",
      "source": [
        "df.head()"
      ],
      "metadata": {
        "colab": {
          "base_uri": "https://localhost:8080/",
          "height": 357
        },
        "id": "w9YDylbm-GwY",
        "outputId": "a97a21ec-ec6f-4690-bc3f-ade1aaa227df"
      },
      "execution_count": 3,
      "outputs": [
        {
          "output_type": "execute_result",
          "data": {
            "text/plain": [
              "             taskCreatedTime  taskAssignedTo          taskCompletedTime  \\\n",
              "0  2022-11-01 20:17:26 +0700   pacifiedLion0  2022-11-01 20:46:30 +0700   \n",
              "1  2022-11-01 08:41:07 +0700  peacefulTacos6  2022-11-01 12:33:48 +0700   \n",
              "2  2022-11-01 08:41:07 +0700  peacefulTacos6  2022-11-01 13:41:57 +0700   \n",
              "3  2022-11-01 08:41:07 +0700  peacefulTacos6  2022-11-01 18:18:19 +0700   \n",
              "4  2022-11-01 08:41:07 +0700  peacefulTacos6  2022-11-01 10:51:49 +0700   \n",
              "\n",
              "  taskStatus      flow                taskId  taskLocationDone.lon  \\\n",
              "0       done  Delivery  4fe3b237c832ca4841a2            109.762910   \n",
              "1       done  Delivery  08a4da25256affae8446            110.033986   \n",
              "2       done  Delivery  2ff0dc469826158b7684            109.999733   \n",
              "3       done  Delivery  331c172c2b383f774328            110.003708   \n",
              "4       done  Delivery  a9d53fa96c80baee8b23            110.013887   \n",
              "\n",
              "   taskLocationDone.lat  cod.amount cod.received UserVar.branch_dest  \\\n",
              "0             -6.926608    685000.0         True                 SRG   \n",
              "1             -7.876154     53500.0         True                 MGL   \n",
              "2             -7.849777    179500.0         True                 MGL   \n",
              "3             -7.710998     31815.0         True                 MGL   \n",
              "4             -7.829742    144562.0         True                 MGL   \n",
              "\n",
              "  UserVar.taskStatusLabel UserVar.receiver_city UserVar.taskDetailStatusLabel  \\\n",
              "0                 Success    BATANG ,KAB BATANG             YANG BERSANGKUTAN   \n",
              "1                 Success   PURWODADI,PURWOREJO             YANG BERSANGKUTAN   \n",
              "2                 Success   PURWODADI,PURWOREJO             YANG BERSANGKUTAN   \n",
              "3                 Success   PURWODADI,PURWOREJO             YANG BERSANGKUTAN   \n",
              "4                 Success     BAGELEN,PURWOREJO             YANG BERSANGKUTAN   \n",
              "\n",
              "  UserVar.taskDetailStatus UserVar.weight UserVar.branch_origin  \\\n",
              "0                      D01             13                   CGK   \n",
              "1                      D01            1.3                   CGK   \n",
              "2                      D01              3                   CGK   \n",
              "3                      D01          0.625                   CGK   \n",
              "4                      D01              3                   CGK   \n",
              "\n",
              "  UserVar.taskStatus  \n",
              "0             COLF01  \n",
              "1             COLF01  \n",
              "2             COLF01  \n",
              "3             COLF01  \n",
              "4             COLF01  "
            ],
            "text/html": [
              "\n",
              "  <div id=\"df-203e4621-4ba6-43ac-8363-1cde595ec012\">\n",
              "    <div class=\"colab-df-container\">\n",
              "      <div>\n",
              "<style scoped>\n",
              "    .dataframe tbody tr th:only-of-type {\n",
              "        vertical-align: middle;\n",
              "    }\n",
              "\n",
              "    .dataframe tbody tr th {\n",
              "        vertical-align: top;\n",
              "    }\n",
              "\n",
              "    .dataframe thead th {\n",
              "        text-align: right;\n",
              "    }\n",
              "</style>\n",
              "<table border=\"1\" class=\"dataframe\">\n",
              "  <thead>\n",
              "    <tr style=\"text-align: right;\">\n",
              "      <th></th>\n",
              "      <th>taskCreatedTime</th>\n",
              "      <th>taskAssignedTo</th>\n",
              "      <th>taskCompletedTime</th>\n",
              "      <th>taskStatus</th>\n",
              "      <th>flow</th>\n",
              "      <th>taskId</th>\n",
              "      <th>taskLocationDone.lon</th>\n",
              "      <th>taskLocationDone.lat</th>\n",
              "      <th>cod.amount</th>\n",
              "      <th>cod.received</th>\n",
              "      <th>UserVar.branch_dest</th>\n",
              "      <th>UserVar.taskStatusLabel</th>\n",
              "      <th>UserVar.receiver_city</th>\n",
              "      <th>UserVar.taskDetailStatusLabel</th>\n",
              "      <th>UserVar.taskDetailStatus</th>\n",
              "      <th>UserVar.weight</th>\n",
              "      <th>UserVar.branch_origin</th>\n",
              "      <th>UserVar.taskStatus</th>\n",
              "    </tr>\n",
              "  </thead>\n",
              "  <tbody>\n",
              "    <tr>\n",
              "      <th>0</th>\n",
              "      <td>2022-11-01 20:17:26 +0700</td>\n",
              "      <td>pacifiedLion0</td>\n",
              "      <td>2022-11-01 20:46:30 +0700</td>\n",
              "      <td>done</td>\n",
              "      <td>Delivery</td>\n",
              "      <td>4fe3b237c832ca4841a2</td>\n",
              "      <td>109.762910</td>\n",
              "      <td>-6.926608</td>\n",
              "      <td>685000.0</td>\n",
              "      <td>True</td>\n",
              "      <td>SRG</td>\n",
              "      <td>Success</td>\n",
              "      <td>BATANG ,KAB BATANG</td>\n",
              "      <td>YANG BERSANGKUTAN</td>\n",
              "      <td>D01</td>\n",
              "      <td>13</td>\n",
              "      <td>CGK</td>\n",
              "      <td>COLF01</td>\n",
              "    </tr>\n",
              "    <tr>\n",
              "      <th>1</th>\n",
              "      <td>2022-11-01 08:41:07 +0700</td>\n",
              "      <td>peacefulTacos6</td>\n",
              "      <td>2022-11-01 12:33:48 +0700</td>\n",
              "      <td>done</td>\n",
              "      <td>Delivery</td>\n",
              "      <td>08a4da25256affae8446</td>\n",
              "      <td>110.033986</td>\n",
              "      <td>-7.876154</td>\n",
              "      <td>53500.0</td>\n",
              "      <td>True</td>\n",
              "      <td>MGL</td>\n",
              "      <td>Success</td>\n",
              "      <td>PURWODADI,PURWOREJO</td>\n",
              "      <td>YANG BERSANGKUTAN</td>\n",
              "      <td>D01</td>\n",
              "      <td>1.3</td>\n",
              "      <td>CGK</td>\n",
              "      <td>COLF01</td>\n",
              "    </tr>\n",
              "    <tr>\n",
              "      <th>2</th>\n",
              "      <td>2022-11-01 08:41:07 +0700</td>\n",
              "      <td>peacefulTacos6</td>\n",
              "      <td>2022-11-01 13:41:57 +0700</td>\n",
              "      <td>done</td>\n",
              "      <td>Delivery</td>\n",
              "      <td>2ff0dc469826158b7684</td>\n",
              "      <td>109.999733</td>\n",
              "      <td>-7.849777</td>\n",
              "      <td>179500.0</td>\n",
              "      <td>True</td>\n",
              "      <td>MGL</td>\n",
              "      <td>Success</td>\n",
              "      <td>PURWODADI,PURWOREJO</td>\n",
              "      <td>YANG BERSANGKUTAN</td>\n",
              "      <td>D01</td>\n",
              "      <td>3</td>\n",
              "      <td>CGK</td>\n",
              "      <td>COLF01</td>\n",
              "    </tr>\n",
              "    <tr>\n",
              "      <th>3</th>\n",
              "      <td>2022-11-01 08:41:07 +0700</td>\n",
              "      <td>peacefulTacos6</td>\n",
              "      <td>2022-11-01 18:18:19 +0700</td>\n",
              "      <td>done</td>\n",
              "      <td>Delivery</td>\n",
              "      <td>331c172c2b383f774328</td>\n",
              "      <td>110.003708</td>\n",
              "      <td>-7.710998</td>\n",
              "      <td>31815.0</td>\n",
              "      <td>True</td>\n",
              "      <td>MGL</td>\n",
              "      <td>Success</td>\n",
              "      <td>PURWODADI,PURWOREJO</td>\n",
              "      <td>YANG BERSANGKUTAN</td>\n",
              "      <td>D01</td>\n",
              "      <td>0.625</td>\n",
              "      <td>CGK</td>\n",
              "      <td>COLF01</td>\n",
              "    </tr>\n",
              "    <tr>\n",
              "      <th>4</th>\n",
              "      <td>2022-11-01 08:41:07 +0700</td>\n",
              "      <td>peacefulTacos6</td>\n",
              "      <td>2022-11-01 10:51:49 +0700</td>\n",
              "      <td>done</td>\n",
              "      <td>Delivery</td>\n",
              "      <td>a9d53fa96c80baee8b23</td>\n",
              "      <td>110.013887</td>\n",
              "      <td>-7.829742</td>\n",
              "      <td>144562.0</td>\n",
              "      <td>True</td>\n",
              "      <td>MGL</td>\n",
              "      <td>Success</td>\n",
              "      <td>BAGELEN,PURWOREJO</td>\n",
              "      <td>YANG BERSANGKUTAN</td>\n",
              "      <td>D01</td>\n",
              "      <td>3</td>\n",
              "      <td>CGK</td>\n",
              "      <td>COLF01</td>\n",
              "    </tr>\n",
              "  </tbody>\n",
              "</table>\n",
              "</div>\n",
              "      <button class=\"colab-df-convert\" onclick=\"convertToInteractive('df-203e4621-4ba6-43ac-8363-1cde595ec012')\"\n",
              "              title=\"Convert this dataframe to an interactive table.\"\n",
              "              style=\"display:none;\">\n",
              "        \n",
              "  <svg xmlns=\"http://www.w3.org/2000/svg\" height=\"24px\"viewBox=\"0 0 24 24\"\n",
              "       width=\"24px\">\n",
              "    <path d=\"M0 0h24v24H0V0z\" fill=\"none\"/>\n",
              "    <path d=\"M18.56 5.44l.94 2.06.94-2.06 2.06-.94-2.06-.94-.94-2.06-.94 2.06-2.06.94zm-11 1L8.5 8.5l.94-2.06 2.06-.94-2.06-.94L8.5 2.5l-.94 2.06-2.06.94zm10 10l.94 2.06.94-2.06 2.06-.94-2.06-.94-.94-2.06-.94 2.06-2.06.94z\"/><path d=\"M17.41 7.96l-1.37-1.37c-.4-.4-.92-.59-1.43-.59-.52 0-1.04.2-1.43.59L10.3 9.45l-7.72 7.72c-.78.78-.78 2.05 0 2.83L4 21.41c.39.39.9.59 1.41.59.51 0 1.02-.2 1.41-.59l7.78-7.78 2.81-2.81c.8-.78.8-2.07 0-2.86zM5.41 20L4 18.59l7.72-7.72 1.47 1.35L5.41 20z\"/>\n",
              "  </svg>\n",
              "      </button>\n",
              "      \n",
              "  <style>\n",
              "    .colab-df-container {\n",
              "      display:flex;\n",
              "      flex-wrap:wrap;\n",
              "      gap: 12px;\n",
              "    }\n",
              "\n",
              "    .colab-df-convert {\n",
              "      background-color: #E8F0FE;\n",
              "      border: none;\n",
              "      border-radius: 50%;\n",
              "      cursor: pointer;\n",
              "      display: none;\n",
              "      fill: #1967D2;\n",
              "      height: 32px;\n",
              "      padding: 0 0 0 0;\n",
              "      width: 32px;\n",
              "    }\n",
              "\n",
              "    .colab-df-convert:hover {\n",
              "      background-color: #E2EBFA;\n",
              "      box-shadow: 0px 1px 2px rgba(60, 64, 67, 0.3), 0px 1px 3px 1px rgba(60, 64, 67, 0.15);\n",
              "      fill: #174EA6;\n",
              "    }\n",
              "\n",
              "    [theme=dark] .colab-df-convert {\n",
              "      background-color: #3B4455;\n",
              "      fill: #D2E3FC;\n",
              "    }\n",
              "\n",
              "    [theme=dark] .colab-df-convert:hover {\n",
              "      background-color: #434B5C;\n",
              "      box-shadow: 0px 1px 3px 1px rgba(0, 0, 0, 0.15);\n",
              "      filter: drop-shadow(0px 1px 2px rgba(0, 0, 0, 0.3));\n",
              "      fill: #FFFFFF;\n",
              "    }\n",
              "  </style>\n",
              "\n",
              "      <script>\n",
              "        const buttonEl =\n",
              "          document.querySelector('#df-203e4621-4ba6-43ac-8363-1cde595ec012 button.colab-df-convert');\n",
              "        buttonEl.style.display =\n",
              "          google.colab.kernel.accessAllowed ? 'block' : 'none';\n",
              "\n",
              "        async function convertToInteractive(key) {\n",
              "          const element = document.querySelector('#df-203e4621-4ba6-43ac-8363-1cde595ec012');\n",
              "          const dataTable =\n",
              "            await google.colab.kernel.invokeFunction('convertToInteractive',\n",
              "                                                     [key], {});\n",
              "          if (!dataTable) return;\n",
              "\n",
              "          const docLinkHtml = 'Like what you see? Visit the ' +\n",
              "            '<a target=\"_blank\" href=https://colab.research.google.com/notebooks/data_table.ipynb>data table notebook</a>'\n",
              "            + ' to learn more about interactive tables.';\n",
              "          element.innerHTML = '';\n",
              "          dataTable['output_type'] = 'display_data';\n",
              "          await google.colab.output.renderOutput(dataTable, element);\n",
              "          const docLink = document.createElement('div');\n",
              "          docLink.innerHTML = docLinkHtml;\n",
              "          element.appendChild(docLink);\n",
              "        }\n",
              "      </script>\n",
              "    </div>\n",
              "  </div>\n",
              "  "
            ]
          },
          "metadata": {},
          "execution_count": 3
        }
      ]
    },
    {
      "cell_type": "code",
      "source": [
        "# Dataframe dimension\n",
        "print(\"Dataframe dimension    :\",df.shape)\n",
        "print(\"Dataframe size         :\",df.size)\n",
        "print(\"Number of Row          :\",len(df.index))\n",
        "print(\"Number of Columns      :\",len(df.columns))"
      ],
      "metadata": {
        "colab": {
          "base_uri": "https://localhost:8080/"
        },
        "id": "I8MZGoG8dGOe",
        "outputId": "676f9dd0-244e-4b30-f1aa-036857e212fd"
      },
      "execution_count": 4,
      "outputs": [
        {
          "output_type": "stream",
          "name": "stdout",
          "text": [
            "Dataframe dimension    : (8334, 18)\n",
            "Dataframe size         : 150012\n",
            "Number of Row          : 8334\n",
            "Number of Columns      : 18\n"
          ]
        }
      ]
    },
    {
      "cell_type": "code",
      "source": [
        "df.info()"
      ],
      "metadata": {
        "colab": {
          "base_uri": "https://localhost:8080/"
        },
        "id": "tlUVEDFW-JEe",
        "outputId": "79988648-acd0-4017-e521-4963f2a5cc5b"
      },
      "execution_count": 5,
      "outputs": [
        {
          "output_type": "stream",
          "name": "stdout",
          "text": [
            "<class 'pandas.core.frame.DataFrame'>\n",
            "RangeIndex: 8334 entries, 0 to 8333\n",
            "Data columns (total 18 columns):\n",
            " #   Column                         Non-Null Count  Dtype  \n",
            "---  ------                         --------------  -----  \n",
            " 0   taskCreatedTime                8334 non-null   object \n",
            " 1   taskAssignedTo                 8333 non-null   object \n",
            " 2   taskCompletedTime              7566 non-null   object \n",
            " 3   taskStatus                     8334 non-null   object \n",
            " 4   flow                           8334 non-null   object \n",
            " 5   taskId                         8334 non-null   object \n",
            " 6   taskLocationDone.lon           7566 non-null   float64\n",
            " 7   taskLocationDone.lat           7566 non-null   float64\n",
            " 8   cod.amount                     2358 non-null   float64\n",
            " 9   cod.received                   2358 non-null   object \n",
            " 10  UserVar.branch_dest            8334 non-null   object \n",
            " 11  UserVar.taskStatusLabel        7572 non-null   object \n",
            " 12  UserVar.receiver_city          8282 non-null   object \n",
            " 13  UserVar.taskDetailStatusLabel  7572 non-null   object \n",
            " 14  UserVar.taskDetailStatus       7572 non-null   object \n",
            " 15  UserVar.weight                 8334 non-null   object \n",
            " 16  UserVar.branch_origin          8041 non-null   object \n",
            " 17  UserVar.taskStatus             7572 non-null   object \n",
            "dtypes: float64(3), object(15)\n",
            "memory usage: 1.1+ MB\n"
          ]
        }
      ]
    },
    {
      "cell_type": "code",
      "source": [
        "df.describe()"
      ],
      "metadata": {
        "colab": {
          "base_uri": "https://localhost:8080/",
          "height": 300
        },
        "id": "OEFUO3Mw-28w",
        "outputId": "5ab5351c-6e6c-4c29-d82c-b6270669af14"
      },
      "execution_count": 6,
      "outputs": [
        {
          "output_type": "execute_result",
          "data": {
            "text/plain": [
              "       taskLocationDone.lon  taskLocationDone.lat    cod.amount\n",
              "count           7566.000000           7566.000000  2.358000e+03\n",
              "mean              75.355852             -3.610514  1.911411e+05\n",
              "std               52.492016              3.647171  2.723770e+05\n",
              "min                0.000000            -10.493658  8.370000e+02\n",
              "25%                0.000000             -7.061575  6.100000e+04\n",
              "50%              106.843097             -3.329263  1.533750e+05\n",
              "75%              112.182877              0.000000  2.350000e+05\n",
              "max              140.806424              5.564040  4.730000e+06"
            ],
            "text/html": [
              "\n",
              "  <div id=\"df-6e70b1f8-c971-4983-8e77-d5e3e3899383\">\n",
              "    <div class=\"colab-df-container\">\n",
              "      <div>\n",
              "<style scoped>\n",
              "    .dataframe tbody tr th:only-of-type {\n",
              "        vertical-align: middle;\n",
              "    }\n",
              "\n",
              "    .dataframe tbody tr th {\n",
              "        vertical-align: top;\n",
              "    }\n",
              "\n",
              "    .dataframe thead th {\n",
              "        text-align: right;\n",
              "    }\n",
              "</style>\n",
              "<table border=\"1\" class=\"dataframe\">\n",
              "  <thead>\n",
              "    <tr style=\"text-align: right;\">\n",
              "      <th></th>\n",
              "      <th>taskLocationDone.lon</th>\n",
              "      <th>taskLocationDone.lat</th>\n",
              "      <th>cod.amount</th>\n",
              "    </tr>\n",
              "  </thead>\n",
              "  <tbody>\n",
              "    <tr>\n",
              "      <th>count</th>\n",
              "      <td>7566.000000</td>\n",
              "      <td>7566.000000</td>\n",
              "      <td>2.358000e+03</td>\n",
              "    </tr>\n",
              "    <tr>\n",
              "      <th>mean</th>\n",
              "      <td>75.355852</td>\n",
              "      <td>-3.610514</td>\n",
              "      <td>1.911411e+05</td>\n",
              "    </tr>\n",
              "    <tr>\n",
              "      <th>std</th>\n",
              "      <td>52.492016</td>\n",
              "      <td>3.647171</td>\n",
              "      <td>2.723770e+05</td>\n",
              "    </tr>\n",
              "    <tr>\n",
              "      <th>min</th>\n",
              "      <td>0.000000</td>\n",
              "      <td>-10.493658</td>\n",
              "      <td>8.370000e+02</td>\n",
              "    </tr>\n",
              "    <tr>\n",
              "      <th>25%</th>\n",
              "      <td>0.000000</td>\n",
              "      <td>-7.061575</td>\n",
              "      <td>6.100000e+04</td>\n",
              "    </tr>\n",
              "    <tr>\n",
              "      <th>50%</th>\n",
              "      <td>106.843097</td>\n",
              "      <td>-3.329263</td>\n",
              "      <td>1.533750e+05</td>\n",
              "    </tr>\n",
              "    <tr>\n",
              "      <th>75%</th>\n",
              "      <td>112.182877</td>\n",
              "      <td>0.000000</td>\n",
              "      <td>2.350000e+05</td>\n",
              "    </tr>\n",
              "    <tr>\n",
              "      <th>max</th>\n",
              "      <td>140.806424</td>\n",
              "      <td>5.564040</td>\n",
              "      <td>4.730000e+06</td>\n",
              "    </tr>\n",
              "  </tbody>\n",
              "</table>\n",
              "</div>\n",
              "      <button class=\"colab-df-convert\" onclick=\"convertToInteractive('df-6e70b1f8-c971-4983-8e77-d5e3e3899383')\"\n",
              "              title=\"Convert this dataframe to an interactive table.\"\n",
              "              style=\"display:none;\">\n",
              "        \n",
              "  <svg xmlns=\"http://www.w3.org/2000/svg\" height=\"24px\"viewBox=\"0 0 24 24\"\n",
              "       width=\"24px\">\n",
              "    <path d=\"M0 0h24v24H0V0z\" fill=\"none\"/>\n",
              "    <path d=\"M18.56 5.44l.94 2.06.94-2.06 2.06-.94-2.06-.94-.94-2.06-.94 2.06-2.06.94zm-11 1L8.5 8.5l.94-2.06 2.06-.94-2.06-.94L8.5 2.5l-.94 2.06-2.06.94zm10 10l.94 2.06.94-2.06 2.06-.94-2.06-.94-.94-2.06-.94 2.06-2.06.94z\"/><path d=\"M17.41 7.96l-1.37-1.37c-.4-.4-.92-.59-1.43-.59-.52 0-1.04.2-1.43.59L10.3 9.45l-7.72 7.72c-.78.78-.78 2.05 0 2.83L4 21.41c.39.39.9.59 1.41.59.51 0 1.02-.2 1.41-.59l7.78-7.78 2.81-2.81c.8-.78.8-2.07 0-2.86zM5.41 20L4 18.59l7.72-7.72 1.47 1.35L5.41 20z\"/>\n",
              "  </svg>\n",
              "      </button>\n",
              "      \n",
              "  <style>\n",
              "    .colab-df-container {\n",
              "      display:flex;\n",
              "      flex-wrap:wrap;\n",
              "      gap: 12px;\n",
              "    }\n",
              "\n",
              "    .colab-df-convert {\n",
              "      background-color: #E8F0FE;\n",
              "      border: none;\n",
              "      border-radius: 50%;\n",
              "      cursor: pointer;\n",
              "      display: none;\n",
              "      fill: #1967D2;\n",
              "      height: 32px;\n",
              "      padding: 0 0 0 0;\n",
              "      width: 32px;\n",
              "    }\n",
              "\n",
              "    .colab-df-convert:hover {\n",
              "      background-color: #E2EBFA;\n",
              "      box-shadow: 0px 1px 2px rgba(60, 64, 67, 0.3), 0px 1px 3px 1px rgba(60, 64, 67, 0.15);\n",
              "      fill: #174EA6;\n",
              "    }\n",
              "\n",
              "    [theme=dark] .colab-df-convert {\n",
              "      background-color: #3B4455;\n",
              "      fill: #D2E3FC;\n",
              "    }\n",
              "\n",
              "    [theme=dark] .colab-df-convert:hover {\n",
              "      background-color: #434B5C;\n",
              "      box-shadow: 0px 1px 3px 1px rgba(0, 0, 0, 0.15);\n",
              "      filter: drop-shadow(0px 1px 2px rgba(0, 0, 0, 0.3));\n",
              "      fill: #FFFFFF;\n",
              "    }\n",
              "  </style>\n",
              "\n",
              "      <script>\n",
              "        const buttonEl =\n",
              "          document.querySelector('#df-6e70b1f8-c971-4983-8e77-d5e3e3899383 button.colab-df-convert');\n",
              "        buttonEl.style.display =\n",
              "          google.colab.kernel.accessAllowed ? 'block' : 'none';\n",
              "\n",
              "        async function convertToInteractive(key) {\n",
              "          const element = document.querySelector('#df-6e70b1f8-c971-4983-8e77-d5e3e3899383');\n",
              "          const dataTable =\n",
              "            await google.colab.kernel.invokeFunction('convertToInteractive',\n",
              "                                                     [key], {});\n",
              "          if (!dataTable) return;\n",
              "\n",
              "          const docLinkHtml = 'Like what you see? Visit the ' +\n",
              "            '<a target=\"_blank\" href=https://colab.research.google.com/notebooks/data_table.ipynb>data table notebook</a>'\n",
              "            + ' to learn more about interactive tables.';\n",
              "          element.innerHTML = '';\n",
              "          dataTable['output_type'] = 'display_data';\n",
              "          await google.colab.output.renderOutput(dataTable, element);\n",
              "          const docLink = document.createElement('div');\n",
              "          docLink.innerHTML = docLinkHtml;\n",
              "          element.appendChild(docLink);\n",
              "        }\n",
              "      </script>\n",
              "    </div>\n",
              "  </div>\n",
              "  "
            ]
          },
          "metadata": {},
          "execution_count": 6
        }
      ]
    },
    {
      "cell_type": "markdown",
      "source": [
        "### Check Null Values"
      ],
      "metadata": {
        "id": "23Xr-tmbd_hR"
      }
    },
    {
      "cell_type": "code",
      "source": [
        "# number of null values\n",
        "num_null = df.isnull().sum()\n",
        "\n",
        "# percentage null values\n",
        "pct_null = round((num_null/df.shape[0] * 100), 2)\n",
        "\n",
        "# Create dataframe for number of null value and percentage of null values\n",
        "df_null = pd.DataFrame({\n",
        "    'Null Values':num_null,\n",
        "    'Percentage':pct_null}).reset_index()\n",
        "\n",
        "# Rename column index to Feature \n",
        "df_null.rename(columns={'index':'Features'}, inplace=True)\n",
        "\n",
        "# Filter only features with null values and sort as descending\n",
        "df_null = df_null[df_null['Null Values'] > 0].sort_values('Null Values', ascending=False).reset_index(drop=True)\n",
        "df_null"
      ],
      "metadata": {
        "colab": {
          "base_uri": "https://localhost:8080/",
          "height": 426
        },
        "id": "qIaRCrYYeB2I",
        "outputId": "2eb84ff1-6536-4dcb-b5a4-651a0fef77ae"
      },
      "execution_count": 7,
      "outputs": [
        {
          "output_type": "execute_result",
          "data": {
            "text/plain": [
              "                         Features  Null Values  Percentage\n",
              "0                      cod.amount         5976       71.71\n",
              "1                    cod.received         5976       71.71\n",
              "2               taskCompletedTime          768        9.22\n",
              "3            taskLocationDone.lon          768        9.22\n",
              "4            taskLocationDone.lat          768        9.22\n",
              "5         UserVar.taskStatusLabel          762        9.14\n",
              "6   UserVar.taskDetailStatusLabel          762        9.14\n",
              "7        UserVar.taskDetailStatus          762        9.14\n",
              "8              UserVar.taskStatus          762        9.14\n",
              "9           UserVar.branch_origin          293        3.52\n",
              "10          UserVar.receiver_city           52        0.62\n",
              "11                 taskAssignedTo            1        0.01"
            ],
            "text/html": [
              "\n",
              "  <div id=\"df-08408240-bade-4aad-abf0-1ef0a8be3fd0\">\n",
              "    <div class=\"colab-df-container\">\n",
              "      <div>\n",
              "<style scoped>\n",
              "    .dataframe tbody tr th:only-of-type {\n",
              "        vertical-align: middle;\n",
              "    }\n",
              "\n",
              "    .dataframe tbody tr th {\n",
              "        vertical-align: top;\n",
              "    }\n",
              "\n",
              "    .dataframe thead th {\n",
              "        text-align: right;\n",
              "    }\n",
              "</style>\n",
              "<table border=\"1\" class=\"dataframe\">\n",
              "  <thead>\n",
              "    <tr style=\"text-align: right;\">\n",
              "      <th></th>\n",
              "      <th>Features</th>\n",
              "      <th>Null Values</th>\n",
              "      <th>Percentage</th>\n",
              "    </tr>\n",
              "  </thead>\n",
              "  <tbody>\n",
              "    <tr>\n",
              "      <th>0</th>\n",
              "      <td>cod.amount</td>\n",
              "      <td>5976</td>\n",
              "      <td>71.71</td>\n",
              "    </tr>\n",
              "    <tr>\n",
              "      <th>1</th>\n",
              "      <td>cod.received</td>\n",
              "      <td>5976</td>\n",
              "      <td>71.71</td>\n",
              "    </tr>\n",
              "    <tr>\n",
              "      <th>2</th>\n",
              "      <td>taskCompletedTime</td>\n",
              "      <td>768</td>\n",
              "      <td>9.22</td>\n",
              "    </tr>\n",
              "    <tr>\n",
              "      <th>3</th>\n",
              "      <td>taskLocationDone.lon</td>\n",
              "      <td>768</td>\n",
              "      <td>9.22</td>\n",
              "    </tr>\n",
              "    <tr>\n",
              "      <th>4</th>\n",
              "      <td>taskLocationDone.lat</td>\n",
              "      <td>768</td>\n",
              "      <td>9.22</td>\n",
              "    </tr>\n",
              "    <tr>\n",
              "      <th>5</th>\n",
              "      <td>UserVar.taskStatusLabel</td>\n",
              "      <td>762</td>\n",
              "      <td>9.14</td>\n",
              "    </tr>\n",
              "    <tr>\n",
              "      <th>6</th>\n",
              "      <td>UserVar.taskDetailStatusLabel</td>\n",
              "      <td>762</td>\n",
              "      <td>9.14</td>\n",
              "    </tr>\n",
              "    <tr>\n",
              "      <th>7</th>\n",
              "      <td>UserVar.taskDetailStatus</td>\n",
              "      <td>762</td>\n",
              "      <td>9.14</td>\n",
              "    </tr>\n",
              "    <tr>\n",
              "      <th>8</th>\n",
              "      <td>UserVar.taskStatus</td>\n",
              "      <td>762</td>\n",
              "      <td>9.14</td>\n",
              "    </tr>\n",
              "    <tr>\n",
              "      <th>9</th>\n",
              "      <td>UserVar.branch_origin</td>\n",
              "      <td>293</td>\n",
              "      <td>3.52</td>\n",
              "    </tr>\n",
              "    <tr>\n",
              "      <th>10</th>\n",
              "      <td>UserVar.receiver_city</td>\n",
              "      <td>52</td>\n",
              "      <td>0.62</td>\n",
              "    </tr>\n",
              "    <tr>\n",
              "      <th>11</th>\n",
              "      <td>taskAssignedTo</td>\n",
              "      <td>1</td>\n",
              "      <td>0.01</td>\n",
              "    </tr>\n",
              "  </tbody>\n",
              "</table>\n",
              "</div>\n",
              "      <button class=\"colab-df-convert\" onclick=\"convertToInteractive('df-08408240-bade-4aad-abf0-1ef0a8be3fd0')\"\n",
              "              title=\"Convert this dataframe to an interactive table.\"\n",
              "              style=\"display:none;\">\n",
              "        \n",
              "  <svg xmlns=\"http://www.w3.org/2000/svg\" height=\"24px\"viewBox=\"0 0 24 24\"\n",
              "       width=\"24px\">\n",
              "    <path d=\"M0 0h24v24H0V0z\" fill=\"none\"/>\n",
              "    <path d=\"M18.56 5.44l.94 2.06.94-2.06 2.06-.94-2.06-.94-.94-2.06-.94 2.06-2.06.94zm-11 1L8.5 8.5l.94-2.06 2.06-.94-2.06-.94L8.5 2.5l-.94 2.06-2.06.94zm10 10l.94 2.06.94-2.06 2.06-.94-2.06-.94-.94-2.06-.94 2.06-2.06.94z\"/><path d=\"M17.41 7.96l-1.37-1.37c-.4-.4-.92-.59-1.43-.59-.52 0-1.04.2-1.43.59L10.3 9.45l-7.72 7.72c-.78.78-.78 2.05 0 2.83L4 21.41c.39.39.9.59 1.41.59.51 0 1.02-.2 1.41-.59l7.78-7.78 2.81-2.81c.8-.78.8-2.07 0-2.86zM5.41 20L4 18.59l7.72-7.72 1.47 1.35L5.41 20z\"/>\n",
              "  </svg>\n",
              "      </button>\n",
              "      \n",
              "  <style>\n",
              "    .colab-df-container {\n",
              "      display:flex;\n",
              "      flex-wrap:wrap;\n",
              "      gap: 12px;\n",
              "    }\n",
              "\n",
              "    .colab-df-convert {\n",
              "      background-color: #E8F0FE;\n",
              "      border: none;\n",
              "      border-radius: 50%;\n",
              "      cursor: pointer;\n",
              "      display: none;\n",
              "      fill: #1967D2;\n",
              "      height: 32px;\n",
              "      padding: 0 0 0 0;\n",
              "      width: 32px;\n",
              "    }\n",
              "\n",
              "    .colab-df-convert:hover {\n",
              "      background-color: #E2EBFA;\n",
              "      box-shadow: 0px 1px 2px rgba(60, 64, 67, 0.3), 0px 1px 3px 1px rgba(60, 64, 67, 0.15);\n",
              "      fill: #174EA6;\n",
              "    }\n",
              "\n",
              "    [theme=dark] .colab-df-convert {\n",
              "      background-color: #3B4455;\n",
              "      fill: #D2E3FC;\n",
              "    }\n",
              "\n",
              "    [theme=dark] .colab-df-convert:hover {\n",
              "      background-color: #434B5C;\n",
              "      box-shadow: 0px 1px 3px 1px rgba(0, 0, 0, 0.15);\n",
              "      filter: drop-shadow(0px 1px 2px rgba(0, 0, 0, 0.3));\n",
              "      fill: #FFFFFF;\n",
              "    }\n",
              "  </style>\n",
              "\n",
              "      <script>\n",
              "        const buttonEl =\n",
              "          document.querySelector('#df-08408240-bade-4aad-abf0-1ef0a8be3fd0 button.colab-df-convert');\n",
              "        buttonEl.style.display =\n",
              "          google.colab.kernel.accessAllowed ? 'block' : 'none';\n",
              "\n",
              "        async function convertToInteractive(key) {\n",
              "          const element = document.querySelector('#df-08408240-bade-4aad-abf0-1ef0a8be3fd0');\n",
              "          const dataTable =\n",
              "            await google.colab.kernel.invokeFunction('convertToInteractive',\n",
              "                                                     [key], {});\n",
              "          if (!dataTable) return;\n",
              "\n",
              "          const docLinkHtml = 'Like what you see? Visit the ' +\n",
              "            '<a target=\"_blank\" href=https://colab.research.google.com/notebooks/data_table.ipynb>data table notebook</a>'\n",
              "            + ' to learn more about interactive tables.';\n",
              "          element.innerHTML = '';\n",
              "          dataTable['output_type'] = 'display_data';\n",
              "          await google.colab.output.renderOutput(dataTable, element);\n",
              "          const docLink = document.createElement('div');\n",
              "          docLink.innerHTML = docLinkHtml;\n",
              "          element.appendChild(docLink);\n",
              "        }\n",
              "      </script>\n",
              "    </div>\n",
              "  </div>\n",
              "  "
            ]
          },
          "metadata": {},
          "execution_count": 7
        }
      ]
    },
    {
      "cell_type": "code",
      "source": [
        "# Plotting number of missing data\n",
        "fig, ax = plt.subplots(figsize=(13,6))\n",
        "\n",
        "g = sns.barplot(x = 'Features',y='Percentage',data=df_null,ax=ax, \n",
        "               palette=sns.color_palette(\"Blues_d\", n_colors=13, desat=1))\n",
        "\n",
        "x = np.arange(len(df_null['Features']))\n",
        "y = df_null['Percentage']\n",
        "\n",
        "for i, v in enumerate(y):\n",
        "    ax.text(x[i]-0.3, v+2, str(v)+'%', fontsize = 8, color='gray', fontweight='bold')\n",
        "    \n",
        "\n",
        "text = '''\n",
        "'''\n",
        "ax.text(0,65,text,horizontalalignment='left',color='black',fontsize=10,fontweight='normal')\n",
        "ax.set_title('Missing Values Distribution', color='black', fontsize=15, fontweight='bold')\n",
        "ax.set_xticklabels(ax.get_xticklabels(),rotation=90)\n",
        "ax.set_ylim(0,100)\n",
        "plt.show()"
      ],
      "metadata": {
        "colab": {
          "base_uri": "https://localhost:8080/",
          "height": 791
        },
        "id": "nl24BXLUeOdy",
        "outputId": "6fb6617a-4bee-44dc-84ff-83ef98c8c095"
      },
      "execution_count": 8,
      "outputs": [
        {
          "output_type": "display_data",
          "data": {
            "text/plain": [
              "<Figure size 1300x600 with 1 Axes>"
            ],
            "image/png": "[encoded data removed]"
          },
          "metadata": {}
        }
      ]
    },
    {
      "cell_type": "markdown",
      "source": [
        "### Check Duplicated Data"
      ],
      "metadata": {
        "id": "JPgGqdu4eqx7"
      }
    },
    {
      "cell_type": "code",
      "source": [
        "# Check the amount of duplicated data\n",
        "num_duplicated = df.duplicated().sum()\n",
        "print(f\"Total number of duplicate values : {num_duplicated}\")"
      ],
      "metadata": {
        "colab": {
          "base_uri": "https://localhost:8080/"
        },
        "id": "wMTeJ8hvesiq",
        "outputId": "25c8321d-ffda-4abc-abe5-138b6f0e4884"
      },
      "execution_count": 9,
      "outputs": [
        {
          "output_type": "stream",
          "name": "stdout",
          "text": [
            "Total number of duplicate values : 0\n"
          ]
        }
      ]
    },
    {
      "cell_type": "markdown",
      "source": [
        "## Data Cleaning"
      ],
      "metadata": {
        "id": "m70tFamWeCdc"
      }
    },
    {
      "cell_type": "markdown",
      "source": [
        "### Data Type Transformation\n",
        "Pad tahap ini kita akan melakukan transformasi tipe data setiap kolom sesuai dengan semestinya. "
      ],
      "metadata": {
        "id": "bIqC7DCekN3p"
      }
    },
    {
      "cell_type": "code",
      "source": [
        "df['taskCreatedTime'] = pd.to_datetime(df['taskCreatedTime'], utc=True)\n",
        "df['taskCompletedTime'] = pd.to_datetime(df['taskCompletedTime'], utc=True)\n",
        "\n",
        "df['taskCreatedTime'] = df['taskCreatedTime'].dt.tz_convert('Asia/Jakarta')\n",
        "df['taskCompletedTime'] = df['taskCompletedTime'].dt.tz_convert('Asia/Jakarta')\n",
        "\n",
        "df['UserVar.weight'] = pd.to_numeric(df['UserVar.weight'], errors='coerce')"
      ],
      "metadata": {
        "id": "S74NP_xLkVnb"
      },
      "execution_count": 10,
      "outputs": []
    },
    {
      "cell_type": "code",
      "source": [
        "df.info()"
      ],
      "metadata": {
        "colab": {
          "base_uri": "https://localhost:8080/"
        },
        "id": "s9gRepiekizu",
        "outputId": "b35875d4-0c4e-429c-9242-83871a130efd"
      },
      "execution_count": 11,
      "outputs": [
        {
          "output_type": "stream",
          "name": "stdout",
          "text": [
            "<class 'pandas.core.frame.DataFrame'>\n",
            "RangeIndex: 8334 entries, 0 to 8333\n",
            "Data columns (total 18 columns):\n",
            " #   Column                         Non-Null Count  Dtype                       \n",
            "---  ------                         --------------  -----                       \n",
            " 0   taskCreatedTime                8334 non-null   datetime64[ns, Asia/Jakarta]\n",
            " 1   taskAssignedTo                 8333 non-null   object                      \n",
            " 2   taskCompletedTime              7566 non-null   datetime64[ns, Asia/Jakarta]\n",
            " 3   taskStatus                     8334 non-null   object                      \n",
            " 4   flow                           8334 non-null   object                      \n",
            " 5   taskId                         8334 non-null   object                      \n",
            " 6   taskLocationDone.lon           7566 non-null   float64                     \n",
            " 7   taskLocationDone.lat           7566 non-null   float64                     \n",
            " 8   cod.amount                     2358 non-null   float64                     \n",
            " 9   cod.received                   2358 non-null   object                      \n",
            " 10  UserVar.branch_dest            8334 non-null   object                      \n",
            " 11  UserVar.taskStatusLabel        7572 non-null   object                      \n",
            " 12  UserVar.receiver_city          8282 non-null   object                      \n",
            " 13  UserVar.taskDetailStatusLabel  7572 non-null   object                      \n",
            " 14  UserVar.taskDetailStatus       7572 non-null   object                      \n",
            " 15  UserVar.weight                 8334 non-null   float64                     \n",
            " 16  UserVar.branch_origin          8041 non-null   object                      \n",
            " 17  UserVar.taskStatus             7572 non-null   object                      \n",
            "dtypes: datetime64[ns, Asia/Jakarta](2), float64(4), object(12)\n",
            "memory usage: 1.1+ MB\n"
          ]
        }
      ]
    },
    {
      "cell_type": "markdown",
      "source": [
        "### Check Number of Unique Values\n",
        "Pada tahap ini kita akan melakukan analisis pada feature kategorikal yang hanya mempunyai satu kategori. Jika kondisi tersebut terpenuhi kita akan menghapus feature tersebut karena tidak akan berpengaruh pada model kita nantinya."
      ],
      "metadata": {
        "id": "BLGurJfOfDD1"
      }
    },
    {
      "cell_type": "code",
      "source": [
        "cat_col = df.select_dtypes('object').columns\n",
        "# Create dataframe for number of unique values each categorical feature\n",
        "df_cat_unique = pd.DataFrame(columns=['Feature', 'unique_values'])\n",
        "\n",
        "# Repeat for each categorical features\n",
        "for col in cat_col:\n",
        "    # number of unique value \n",
        "    unique = df[col].nunique()\n",
        "\n",
        "    # Append number of unique values to dataframe\n",
        "    df_cat_unique = df_cat_unique.append({\n",
        "        'Feature':col,\n",
        "        'unique_values':unique\n",
        "    }, ignore_index=True).sort_values('unique_values', ascending=False)\n",
        "\n",
        "df_cat_unique"
      ],
      "metadata": {
        "colab": {
          "base_uri": "https://localhost:8080/",
          "height": 426
        },
        "id": "V6uDrmIvfEAh",
        "outputId": "ed4fbf6d-79aa-4868-87cb-988bfb33a304"
      },
      "execution_count": 12,
      "outputs": [
        {
          "output_type": "execute_result",
          "data": {
            "text/plain": [
              "                          Feature unique_values\n",
              "0                          taskId          8334\n",
              "1                  taskAssignedTo          2787\n",
              "2           UserVar.receiver_city          1830\n",
              "3             UserVar.branch_dest            62\n",
              "4           UserVar.branch_origin            59\n",
              "5   UserVar.taskDetailStatusLabel            31\n",
              "6        UserVar.taskDetailStatus            31\n",
              "7                      taskStatus             2\n",
              "8                    cod.received             2\n",
              "9         UserVar.taskStatusLabel             2\n",
              "11             UserVar.taskStatus             2\n",
              "10                           flow             1"
            ],
            "text/html": [
              "\n",
              "  <div id=\"df-5084ec2d-d6a3-4689-a5e1-527d7aa271db\">\n",
              "    <div class=\"colab-df-container\">\n",
              "      <div>\n",
              "<style scoped>\n",
              "    .dataframe tbody tr th:only-of-type {\n",
              "        vertical-align: middle;\n",
              "    }\n",
              "\n",
              "    .dataframe tbody tr th {\n",
              "        vertical-align: top;\n",
              "    }\n",
              "\n",
              "    .dataframe thead th {\n",
              "        text-align: right;\n",
              "    }\n",
              "</style>\n",
              "<table border=\"1\" class=\"dataframe\">\n",
              "  <thead>\n",
              "    <tr style=\"text-align: right;\">\n",
              "      <th></th>\n",
              "      <th>Feature</th>\n",
              "      <th>unique_values</th>\n",
              "    </tr>\n",
              "  </thead>\n",
              "  <tbody>\n",
              "    <tr>\n",
              "      <th>0</th>\n",
              "      <td>taskId</td>\n",
              "      <td>8334</td>\n",
              "    </tr>\n",
              "    <tr>\n",
              "      <th>1</th>\n",
              "      <td>taskAssignedTo</td>\n",
              "      <td>2787</td>\n",
              "    </tr>\n",
              "    <tr>\n",
              "      <th>2</th>\n",
              "      <td>UserVar.receiver_city</td>\n",
              "      <td>1830</td>\n",
              "    </tr>\n",
              "    <tr>\n",
              "      <th>3</th>\n",
              "      <td>UserVar.branch_dest</td>\n",
              "      <td>62</td>\n",
              "    </tr>\n",
              "    <tr>\n",
              "      <th>4</th>\n",
              "      <td>UserVar.branch_origin</td>\n",
              "      <td>59</td>\n",
              "    </tr>\n",
              "    <tr>\n",
              "      <th>5</th>\n",
              "      <td>UserVar.taskDetailStatusLabel</td>\n",
              "      <td>31</td>\n",
              "    </tr>\n",
              "    <tr>\n",
              "      <th>6</th>\n",
              "      <td>UserVar.taskDetailStatus</td>\n",
              "      <td>31</td>\n",
              "    </tr>\n",
              "    <tr>\n",
              "      <th>7</th>\n",
              "      <td>taskStatus</td>\n",
              "      <td>2</td>\n",
              "    </tr>\n",
              "    <tr>\n",
              "      <th>8</th>\n",
              "      <td>cod.received</td>\n",
              "      <td>2</td>\n",
              "    </tr>\n",
              "    <tr>\n",
              "      <th>9</th>\n",
              "      <td>UserVar.taskStatusLabel</td>\n",
              "      <td>2</td>\n",
              "    </tr>\n",
              "    <tr>\n",
              "      <th>11</th>\n",
              "      <td>UserVar.taskStatus</td>\n",
              "      <td>2</td>\n",
              "    </tr>\n",
              "    <tr>\n",
              "      <th>10</th>\n",
              "      <td>flow</td>\n",
              "      <td>1</td>\n",
              "    </tr>\n",
              "  </tbody>\n",
              "</table>\n",
              "</div>\n",
              "      <button class=\"colab-df-convert\" onclick=\"convertToInteractive('df-5084ec2d-d6a3-4689-a5e1-527d7aa271db')\"\n",
              "              title=\"Convert this dataframe to an interactive table.\"\n",
              "              style=\"display:none;\">\n",
              "        \n",
              "  <svg xmlns=\"http://www.w3.org/2000/svg\" height=\"24px\"viewBox=\"0 0 24 24\"\n",
              "       width=\"24px\">\n",
              "    <path d=\"M0 0h24v24H0V0z\" fill=\"none\"/>\n",
              "    <path d=\"M18.56 5.44l.94 2.06.94-2.06 2.06-.94-2.06-.94-.94-2.06-.94 2.06-2.06.94zm-11 1L8.5 8.5l.94-2.06 2.06-.94-2.06-.94L8.5 2.5l-.94 2.06-2.06.94zm10 10l.94 2.06.94-2.06 2.06-.94-2.06-.94-.94-2.06-.94 2.06-2.06.94z\"/><path d=\"M17.41 7.96l-1.37-1.37c-.4-.4-.92-.59-1.43-.59-.52 0-1.04.2-1.43.59L10.3 9.45l-7.72 7.72c-.78.78-.78 2.05 0 2.83L4 21.41c.39.39.9.59 1.41.59.51 0 1.02-.2 1.41-.59l7.78-7.78 2.81-2.81c.8-.78.8-2.07 0-2.86zM5.41 20L4 18.59l7.72-7.72 1.47 1.35L5.41 20z\"/>\n",
              "  </svg>\n",
              "      </button>\n",
              "      \n",
              "  <style>\n",
              "    .colab-df-container {\n",
              "      display:flex;\n",
              "      flex-wrap:wrap;\n",
              "      gap: 12px;\n",
              "    }\n",
              "\n",
              "    .colab-df-convert {\n",
              "      background-color: #E8F0FE;\n",
              "      border: none;\n",
              "      border-radius: 50%;\n",
              "      cursor: pointer;\n",
              "      display: none;\n",
              "      fill: #1967D2;\n",
              "      height: 32px;\n",
              "      padding: 0 0 0 0;\n",
              "      width: 32px;\n",
              "    }\n",
              "\n",
              "    .colab-df-convert:hover {\n",
              "      background-color: #E2EBFA;\n",
              "      box-shadow: 0px 1px 2px rgba(60, 64, 67, 0.3), 0px 1px 3px 1px rgba(60, 64, 67, 0.15);\n",
              "      fill: #174EA6;\n",
              "    }\n",
              "\n",
              "    [theme=dark] .colab-df-convert {\n",
              "      background-color: #3B4455;\n",
              "      fill: #D2E3FC;\n",
              "    }\n",
              "\n",
              "    [theme=dark] .colab-df-convert:hover {\n",
              "      background-color: #434B5C;\n",
              "      box-shadow: 0px 1px 3px 1px rgba(0, 0, 0, 0.15);\n",
              "      filter: drop-shadow(0px 1px 2px rgba(0, 0, 0, 0.3));\n",
              "      fill: #FFFFFF;\n",
              "    }\n",
              "  </style>\n",
              "\n",
              "      <script>\n",
              "        const buttonEl =\n",
              "          document.querySelector('#df-5084ec2d-d6a3-4689-a5e1-527d7aa271db button.colab-df-convert');\n",
              "        buttonEl.style.display =\n",
              "          google.colab.kernel.accessAllowed ? 'block' : 'none';\n",
              "\n",
              "        async function convertToInteractive(key) {\n",
              "          const element = document.querySelector('#df-5084ec2d-d6a3-4689-a5e1-527d7aa271db');\n",
              "          const dataTable =\n",
              "            await google.colab.kernel.invokeFunction('convertToInteractive',\n",
              "                                                     [key], {});\n",
              "          if (!dataTable) return;\n",
              "\n",
              "          const docLinkHtml = 'Like what you see? Visit the ' +\n",
              "            '<a target=\"_blank\" href=https://colab.research.google.com/notebooks/data_table.ipynb>data table notebook</a>'\n",
              "            + ' to learn more about interactive tables.';\n",
              "          element.innerHTML = '';\n",
              "          dataTable['output_type'] = 'display_data';\n",
              "          await google.colab.output.renderOutput(dataTable, element);\n",
              "          const docLink = document.createElement('div');\n",
              "          docLink.innerHTML = docLinkHtml;\n",
              "          element.appendChild(docLink);\n",
              "        }\n",
              "      </script>\n",
              "    </div>\n",
              "  </div>\n",
              "  "
            ]
          },
          "metadata": {},
          "execution_count": 12
        }
      ]
    },
    {
      "cell_type": "markdown",
      "source": [
        "Jika kita lihat dari hasil diatas, kolom **flow** hanya memiliki satu nilai. Maka nantinya kolom tersebut tidak akan kita sertakan dalam pemodelan."
      ],
      "metadata": {
        "id": "N1MuKfERybtU"
      }
    },
    {
      "cell_type": "markdown",
      "source": [
        "### Check Cardinality\n",
        "Pada tahap ini kita pastikan kembali bahwa tidak ada feature yang memiliki inconsistent data (khusus feature kategorikal)."
      ],
      "metadata": {
        "id": "m-yRt99_fVgo"
      }
    },
    {
      "cell_type": "code",
      "source": [
        "# List of categorical features\n",
        "cat_col = df.select_dtypes(include='object').columns\n",
        "\n",
        "# Repeat for each categorical features\n",
        "for col in cat_col:\n",
        "    # Print unique value\n",
        "    print(f'\\n{col} : ', df[col].unique())"
      ],
      "metadata": {
        "colab": {
          "base_uri": "https://localhost:8080/"
        },
        "id": "6DBKKX9ofWwi",
        "outputId": "9b58f972-e9f6-4eeb-f4a9-6aa81366ede7"
      },
      "execution_count": 13,
      "outputs": [
        {
          "output_type": "stream",
          "name": "stdout",
          "text": [
            "\n",
            "taskAssignedTo :  ['pacifiedLion0' 'peacefulTacos6' 'giddyCockatoo1' ... 'culturedPorpoise0'\n",
            " 'ferventBoa6' 'murkyThrushe3']\n",
            "\n",
            "taskStatus :  ['done' 'ongoing']\n",
            "\n",
            "flow :  ['Delivery']\n",
            "\n",
            "taskId :  ['4fe3b237c832ca4841a2' '08a4da25256affae8446' '2ff0dc469826158b7684' ...\n",
            " '1b136b5a3c60749eb571' 'e92e813c8539080c922e' 'cdb90c597655282306fd']\n",
            "\n",
            "cod.received :  [True nan False]\n",
            "\n",
            "UserVar.branch_dest :  ['SRG' 'MGL' 'PWT' 'CLG' 'PDG' 'BTJ' 'DTB' 'SMI' 'PKU' 'BDO' 'BTG' 'JBR'\n",
            " 'BKS' 'CXP' 'SOC' 'MES' 'TKG' 'JOG' 'MXG' 'PNK' 'CBN' 'TGL' 'DJB' 'BPN'\n",
            " 'BKI' 'GTO' 'MDN' 'MDC' 'KOE' 'PLM' 'SUB' 'CKR' 'UPG' 'DJJ' 'PLW' 'DPS'\n",
            " 'AMQ' 'BDJ' 'BOO' 'CGK' 'TTE' 'MJK' 'AMI' 'TGR' 'KDI' 'PGK' 'BTH' 'TSM'\n",
            " 'TIM' 'KDR' 'SOQ' 'PSR' 'MKQ' 'KRW' 'SMD' 'TRK' 'PBL' 'SDA' 'PKY' 'DPK'\n",
            " 'TJQ' 'TNJ']\n",
            "\n",
            "UserVar.taskStatusLabel :  ['Success' nan 'Failed']\n",
            "\n",
            "UserVar.receiver_city :  ['BATANG ,KAB BATANG' 'PURWODADI,PURWOREJO' 'BAGELEN,PURWOREJO' ...\n",
            " 'MEDAN KOTA,MEDAN' 'DENDANG,MUARASABAK' 'KOTA BANTUL']\n",
            "\n",
            "UserVar.taskDetailStatusLabel :  ['YANG BERSANGKUTAN' 'KELUARGA/SAUDARA' 'RECEPTIONIST'\n",
            " 'ATASAN/STAFF/KARYAWAN/BAWAHAN' 'SUAMI/ISTRI/ANAK' 'SECURITY'\n",
            " 'PENJAGA KOS' nan 'ALAMAT TIDAK LENGKAP service/ TIDAK DIKENAL'\n",
            " 'MISROUTE' 'DITOLAK OLEH PENERIMA' 'PENERIMA PINDAH ALAMAT'\n",
            " 'MAILING ROOM' 'DIAMBIL SENDIRI'\n",
            " 'RUMAH service/ KANTOR KOSONG (MASIH DIHUNI)' 'PENERIMA TIDAK DIKENAL'\n",
            " 'PEMBANTU' 'NEW ADDRESS' 'PENERIMA MENOLAK BAYAR (KIRIMAN COD)'\n",
            " 'MENUNGGU PEMBAYARAN COD'\n",
            " 'PENERIMA MENOLAK MENERIMA KIRIMAN COD (TDK PESAN)' 'OFFICE BOY'\n",
            " 'CRISS-CROSS' 'HOLD FOR FURTHER INSTRUCTI0N' 'SUPIR' 'DAMAGE CASE'\n",
            " 'SEKRETARIS' 'RUMAH service/ KANTOR TIDAK DIHUNI'\n",
            " 'TUTUP PADA AKHIR PEKAN service/ HARI LIBUR'\n",
            " 'TUTUP/LIBUR CUTI/DINAS LUAR KOTA (KIRIMAN COD)'\n",
            " 'MENUNGGU KONFIRMASI NILAI COD' 'FORCE MAJEURE']\n",
            "\n",
            "UserVar.taskDetailStatus :  ['D01' 'D09' 'D02' 'D10' 'D06' 'D04' 'D08' nan 'U01' 'U12' 'U06' 'U03'\n",
            " 'D05' 'CR3' 'U05' 'U02' 'D07' 'CR6' 'U08' 'U25' 'U21' 'D12' 'U13' 'CR5'\n",
            " 'D11' 'U11' 'D03' 'U07' 'U09' 'U22' 'U24' 'U10']\n",
            "\n",
            "UserVar.branch_origin :  ['CGK' None 'JOG' 'PDG' 'BDO' 'MES' 'CBN' 'DPK' 'SUB' 'CLG' 'UPG' 'TSM'\n",
            " 'TKG' 'SOC' 'PWT' 'TGR' 'BTJ' 'TGL' 'PKU' 'SRG' 'KOE' 'KDR' 'DJB' 'PNK'\n",
            " 'SMD' 'BOO' 'BKI' 'DPS' 'MDC' 'KDI' 'SMI' 'TJQ' 'BDJ' 'PLW' 'BTG' 'KRW'\n",
            " 'PLM' 'MGL' 'DJJ' 'TTE' 'PBL' 'PGK' 'MJK' 'TRK' 'MXG' 'BPN' 'BTH' 'AMI'\n",
            " 'PSR' 'MDN' 'CKR' 'JBR' 'CXP' 'GTO' 'BKS' 'AMQ' 'TNJ' 'SOQ' 'PKY' 'DTB']\n",
            "\n",
            "UserVar.taskStatus :  ['COLF01' nan 'COLF02']\n"
          ]
        }
      ]
    },
    {
      "cell_type": "markdown",
      "source": [
        "### Create New Column\n",
        "Pada tahap ini kita akan membuat beberapa kolom dari kolom yang sudah tersedia. "
      ],
      "metadata": {
        "id": "BKHZgYigaNcL"
      }
    },
    {
      "cell_type": "code",
      "source": [
        "df['taskCreatedDate'] = df['taskCreatedTime'].dt.date\n",
        "df['taskCompletedDate'] = df['taskCompletedTime'].dt.date\n",
        "\n",
        "df['taskCreatedDate'] = pd.to_datetime(df['taskCreatedDate'])\n",
        "df['taskCompletedDate'] = pd.to_datetime(df['taskCompletedDate'])\n",
        "\n",
        "df['taskCreatedHour'] = df['taskCreatedTime'].dt.hour\n",
        "df['taskCompletedHour'] = df['taskCompletedTime'].dt.hour\n",
        "\n",
        "df['diff_hours'] = (df['taskCompletedTime'] - df['taskCreatedTime']) / np.timedelta64(1, 'h')\n",
        "\n",
        "df = pd.concat([df, df['UserVar.receiver_city'].str.split(',', expand=True)], axis=1).rename(columns = {0:'kecamatan', 1:'kota/kab', 2:'provinsi'})"
      ],
      "metadata": {
        "id": "9ZdCy__xaPdt"
      },
      "execution_count": 14,
      "outputs": []
    },
    {
      "cell_type": "markdown",
      "source": [
        "## Exploratory Data Analysis"
      ],
      "metadata": {
        "id": "g9sJ8GUyZ0eM"
      }
    },
    {
      "cell_type": "code",
      "source": [
        "df.head()"
      ],
      "metadata": {
        "colab": {
          "base_uri": "https://localhost:8080/",
          "height": 357
        },
        "id": "xkIriO_nc3ji",
        "outputId": "73af2712-d926-4c75-d720-1bd1ee585224"
      },
      "execution_count": 15,
      "outputs": [
        {
          "output_type": "execute_result",
          "data": {
            "text/plain": [
              "            taskCreatedTime  taskAssignedTo         taskCompletedTime  \\\n",
              "0 2022-11-01 20:17:26+07:00   pacifiedLion0 2022-11-01 20:46:30+07:00   \n",
              "1 2022-11-01 08:41:07+07:00  peacefulTacos6 2022-11-01 12:33:48+07:00   \n",
              "2 2022-11-01 08:41:07+07:00  peacefulTacos6 2022-11-01 13:41:57+07:00   \n",
              "3 2022-11-01 08:41:07+07:00  peacefulTacos6 2022-11-01 18:18:19+07:00   \n",
              "4 2022-11-01 08:41:07+07:00  peacefulTacos6 2022-11-01 10:51:49+07:00   \n",
              "\n",
              "  taskStatus      flow                taskId  taskLocationDone.lon  \\\n",
              "0       done  Delivery  4fe3b237c832ca4841a2            109.762910   \n",
              "1       done  Delivery  08a4da25256affae8446            110.033986   \n",
              "2       done  Delivery  2ff0dc469826158b7684            109.999733   \n",
              "3       done  Delivery  331c172c2b383f774328            110.003708   \n",
              "4       done  Delivery  a9d53fa96c80baee8b23            110.013887   \n",
              "\n",
              "   taskLocationDone.lat  cod.amount cod.received UserVar.branch_dest  \\\n",
              "0             -6.926608    685000.0         True                 SRG   \n",
              "1             -7.876154     53500.0         True                 MGL   \n",
              "2             -7.849777    179500.0         True                 MGL   \n",
              "3             -7.710998     31815.0         True                 MGL   \n",
              "4             -7.829742    144562.0         True                 MGL   \n",
              "\n",
              "  UserVar.taskStatusLabel UserVar.receiver_city UserVar.taskDetailStatusLabel  \\\n",
              "0                 Success    BATANG ,KAB BATANG             YANG BERSANGKUTAN   \n",
              "1                 Success   PURWODADI,PURWOREJO             YANG BERSANGKUTAN   \n",
              "2                 Success   PURWODADI,PURWOREJO             YANG BERSANGKUTAN   \n",
              "3                 Success   PURWODADI,PURWOREJO             YANG BERSANGKUTAN   \n",
              "4                 Success     BAGELEN,PURWOREJO             YANG BERSANGKUTAN   \n",
              "\n",
              "  UserVar.taskDetailStatus  UserVar.weight UserVar.branch_origin  \\\n",
              "0                      D01          13.000                   CGK   \n",
              "1                      D01           1.300                   CGK   \n",
              "2                      D01           3.000                   CGK   \n",
              "3                      D01           0.625                   CGK   \n",
              "4                      D01           3.000                   CGK   \n",
              "\n",
              "  UserVar.taskStatus taskCreatedDate taskCompletedDate  taskCreatedHour  \\\n",
              "0             COLF01      2022-11-01        2022-11-01               20   \n",
              "1             COLF01      2022-11-01        2022-11-01                8   \n",
              "2             COLF01      2022-11-01        2022-11-01                8   \n",
              "3             COLF01      2022-11-01        2022-11-01                8   \n",
              "4             COLF01      2022-11-01        2022-11-01                8   \n",
              "\n",
              "   taskCompletedHour  diff_hours  kecamatan    kota/kab provinsi  \n",
              "0               20.0    0.484444    BATANG   KAB BATANG     None  \n",
              "1               12.0    3.878056  PURWODADI   PURWOREJO     None  \n",
              "2               13.0    5.013889  PURWODADI   PURWOREJO     None  \n",
              "3               18.0    9.620000  PURWODADI   PURWOREJO     None  \n",
              "4               10.0    2.178333    BAGELEN   PURWOREJO     None  "
            ],
            "text/html": [
              "\n",
              "  <div id=\"df-267143f0-b64b-4699-8843-598daf0ee7f9\">\n",
              "    <div class=\"colab-df-container\">\n",
              "      <div>\n",
              "<style scoped>\n",
              "    .dataframe tbody tr th:only-of-type {\n",
              "        vertical-align: middle;\n",
              "    }\n",
              "\n",
              "    .dataframe tbody tr th {\n",
              "        vertical-align: top;\n",
              "    }\n",
              "\n",
              "    .dataframe thead th {\n",
              "        text-align: right;\n",
              "    }\n",
              "</style>\n",
              "<table border=\"1\" class=\"dataframe\">\n",
              "  <thead>\n",
              "    <tr style=\"text-align: right;\">\n",
              "      <th></th>\n",
              "      <th>taskCreatedTime</th>\n",
              "      <th>taskAssignedTo</th>\n",
              "      <th>taskCompletedTime</th>\n",
              "      <th>taskStatus</th>\n",
              "      <th>flow</th>\n",
              "      <th>taskId</th>\n",
              "      <th>taskLocationDone.lon</th>\n",
              "      <th>taskLocationDone.lat</th>\n",
              "      <th>cod.amount</th>\n",
              "      <th>cod.received</th>\n",
              "      <th>UserVar.branch_dest</th>\n",
              "      <th>UserVar.taskStatusLabel</th>\n",
              "      <th>UserVar.receiver_city</th>\n",
              "      <th>UserVar.taskDetailStatusLabel</th>\n",
              "      <th>UserVar.taskDetailStatus</th>\n",
              "      <th>UserVar.weight</th>\n",
              "      <th>UserVar.branch_origin</th>\n",
              "      <th>UserVar.taskStatus</th>\n",
              "      <th>taskCreatedDate</th>\n",
              "      <th>taskCompletedDate</th>\n",
              "      <th>taskCreatedHour</th>\n",
              "      <th>taskCompletedHour</th>\n",
              "      <th>diff_hours</th>\n",
              "      <th>kecamatan</th>\n",
              "      <th>kota/kab</th>\n",
              "      <th>provinsi</th>\n",
              "    </tr>\n",
              "  </thead>\n",
              "  <tbody>\n",
              "    <tr>\n",
              "      <th>0</th>\n",
              "      <td>2022-11-01 20:17:26+07:00</td>\n",
              "      <td>pacifiedLion0</td>\n",
              "      <td>2022-11-01 20:46:30+07:00</td>\n",
              "      <td>done</td>\n",
              "      <td>Delivery</td>\n",
              "      <td>4fe3b237c832ca4841a2</td>\n",
              "      <td>109.762910</td>\n",
              "      <td>-6.926608</td>\n",
              "      <td>685000.0</td>\n",
              "      <td>True</td>\n",
              "      <td>SRG</td>\n",
              "      <td>Success</td>\n",
              "      <td>BATANG ,KAB BATANG</td>\n",
              "      <td>YANG BERSANGKUTAN</td>\n",
              "      <td>D01</td>\n",
              "      <td>13.000</td>\n",
              "      <td>CGK</td>\n",
              "      <td>COLF01</td>\n",
              "      <td>2022-11-01</td>\n",
              "      <td>2022-11-01</td>\n",
              "      <td>20</td>\n",
              "      <td>20.0</td>\n",
              "      <td>0.484444</td>\n",
              "      <td>BATANG</td>\n",
              "      <td>KAB BATANG</td>\n",
              "      <td>None</td>\n",
              "    </tr>\n",
              "    <tr>\n",
              "      <th>1</th>\n",
              "      <td>2022-11-01 08:41:07+07:00</td>\n",
              "      <td>peacefulTacos6</td>\n",
              "      <td>2022-11-01 12:33:48+07:00</td>\n",
              "      <td>done</td>\n",
              "      <td>Delivery</td>\n",
              "      <td>08a4da25256affae8446</td>\n",
              "      <td>110.033986</td>\n",
              "      <td>-7.876154</td>\n",
              "      <td>53500.0</td>\n",
              "      <td>True</td>\n",
              "      <td>MGL</td>\n",
              "      <td>Success</td>\n",
              "      <td>PURWODADI,PURWOREJO</td>\n",
              "      <td>YANG BERSANGKUTAN</td>\n",
              "      <td>D01</td>\n",
              "      <td>1.300</td>\n",
              "      <td>CGK</td>\n",
              "      <td>COLF01</td>\n",
              "      <td>2022-11-01</td>\n",
              "      <td>2022-11-01</td>\n",
              "      <td>8</td>\n",
              "      <td>12.0</td>\n",
              "      <td>3.878056</td>\n",
              "      <td>PURWODADI</td>\n",
              "      <td>PURWOREJO</td>\n",
              "      <td>None</td>\n",
              "    </tr>\n",
              "    <tr>\n",
              "      <th>2</th>\n",
              "      <td>2022-11-01 08:41:07+07:00</td>\n",
              "      <td>peacefulTacos6</td>\n",
              "      <td>2022-11-01 13:41:57+07:00</td>\n",
              "      <td>done</td>\n",
              "      <td>Delivery</td>\n",
              "      <td>2ff0dc469826158b7684</td>\n",
              "      <td>109.999733</td>\n",
              "      <td>-7.849777</td>\n",
              "      <td>179500.0</td>\n",
              "      <td>True</td>\n",
              "      <td>MGL</td>\n",
              "      <td>Success</td>\n",
              "      <td>PURWODADI,PURWOREJO</td>\n",
              "      <td>YANG BERSANGKUTAN</td>\n",
              "      <td>D01</td>\n",
              "      <td>3.000</td>\n",
              "      <td>CGK</td>\n",
              "      <td>COLF01</td>\n",
              "      <td>2022-11-01</td>\n",
              "      <td>2022-11-01</td>\n",
              "      <td>8</td>\n",
              "      <td>13.0</td>\n",
              "      <td>5.013889</td>\n",
              "      <td>PURWODADI</td>\n",
              "      <td>PURWOREJO</td>\n",
              "      <td>None</td>\n",
              "    </tr>\n",
              "    <tr>\n",
              "      <th>3</th>\n",
              "      <td>2022-11-01 08:41:07+07:00</td>\n",
              "      <td>peacefulTacos6</td>\n",
              "      <td>2022-11-01 18:18:19+07:00</td>\n",
              "      <td>done</td>\n",
              "      <td>Delivery</td>\n",
              "      <td>331c172c2b383f774328</td>\n",
              "      <td>110.003708</td>\n",
              "      <td>-7.710998</td>\n",
              "      <td>31815.0</td>\n",
              "      <td>True</td>\n",
              "      <td>MGL</td>\n",
              "      <td>Success</td>\n",
              "      <td>PURWODADI,PURWOREJO</td>\n",
              "      <td>YANG BERSANGKUTAN</td>\n",
              "      <td>D01</td>\n",
              "      <td>0.625</td>\n",
              "      <td>CGK</td>\n",
              "      <td>COLF01</td>\n",
              "      <td>2022-11-01</td>\n",
              "      <td>2022-11-01</td>\n",
              "      <td>8</td>\n",
              "      <td>18.0</td>\n",
              "      <td>9.620000</td>\n",
              "      <td>PURWODADI</td>\n",
              "      <td>PURWOREJO</td>\n",
              "      <td>None</td>\n",
              "    </tr>\n",
              "    <tr>\n",
              "      <th>4</th>\n",
              "      <td>2022-11-01 08:41:07+07:00</td>\n",
              "      <td>peacefulTacos6</td>\n",
              "      <td>2022-11-01 10:51:49+07:00</td>\n",
              "      <td>done</td>\n",
              "      <td>Delivery</td>\n",
              "      <td>a9d53fa96c80baee8b23</td>\n",
              "      <td>110.013887</td>\n",
              "      <td>-7.829742</td>\n",
              "      <td>144562.0</td>\n",
              "      <td>True</td>\n",
              "      <td>MGL</td>\n",
              "      <td>Success</td>\n",
              "      <td>BAGELEN,PURWOREJO</td>\n",
              "      <td>YANG BERSANGKUTAN</td>\n",
              "      <td>D01</td>\n",
              "      <td>3.000</td>\n",
              "      <td>CGK</td>\n",
              "      <td>COLF01</td>\n",
              "      <td>2022-11-01</td>\n",
              "      <td>2022-11-01</td>\n",
              "      <td>8</td>\n",
              "      <td>10.0</td>\n",
              "      <td>2.178333</td>\n",
              "      <td>BAGELEN</td>\n",
              "      <td>PURWOREJO</td>\n",
              "      <td>None</td>\n",
              "    </tr>\n",
              "  </tbody>\n",
              "</table>\n",
              "</div>\n",
              "      <button class=\"colab-df-convert\" onclick=\"convertToInteractive('df-267143f0-b64b-4699-8843-598daf0ee7f9')\"\n",
              "              title=\"Convert this dataframe to an interactive table.\"\n",
              "              style=\"display:none;\">\n",
              "        \n",
              "  <svg xmlns=\"http://www.w3.org/2000/svg\" height=\"24px\"viewBox=\"0 0 24 24\"\n",
              "       width=\"24px\">\n",
              "    <path d=\"M0 0h24v24H0V0z\" fill=\"none\"/>\n",
              "    <path d=\"M18.56 5.44l.94 2.06.94-2.06 2.06-.94-2.06-.94-.94-2.06-.94 2.06-2.06.94zm-11 1L8.5 8.5l.94-2.06 2.06-.94-2.06-.94L8.5 2.5l-.94 2.06-2.06.94zm10 10l.94 2.06.94-2.06 2.06-.94-2.06-.94-.94-2.06-.94 2.06-2.06.94z\"/><path d=\"M17.41 7.96l-1.37-1.37c-.4-.4-.92-.59-1.43-.59-.52 0-1.04.2-1.43.59L10.3 9.45l-7.72 7.72c-.78.78-.78 2.05 0 2.83L4 21.41c.39.39.9.59 1.41.59.51 0 1.02-.2 1.41-.59l7.78-7.78 2.81-2.81c.8-.78.8-2.07 0-2.86zM5.41 20L4 18.59l7.72-7.72 1.47 1.35L5.41 20z\"/>\n",
              "  </svg>\n",
              "      </button>\n",
              "      \n",
              "  <style>\n",
              "    .colab-df-container {\n",
              "      display:flex;\n",
              "      flex-wrap:wrap;\n",
              "      gap: 12px;\n",
              "    }\n",
              "\n",
              "    .colab-df-convert {\n",
              "      background-color: #E8F0FE;\n",
              "      border: none;\n",
              "      border-radius: 50%;\n",
              "      cursor: pointer;\n",
              "      display: none;\n",
              "      fill: #1967D2;\n",
              "      height: 32px;\n",
              "      padding: 0 0 0 0;\n",
              "      width: 32px;\n",
              "    }\n",
              "\n",
              "    .colab-df-convert:hover {\n",
              "      background-color: #E2EBFA;\n",
              "      box-shadow: 0px 1px 2px rgba(60, 64, 67, 0.3), 0px 1px 3px 1px rgba(60, 64, 67, 0.15);\n",
              "      fill: #174EA6;\n",
              "    }\n",
              "\n",
              "    [theme=dark] .colab-df-convert {\n",
              "      background-color: #3B4455;\n",
              "      fill: #D2E3FC;\n",
              "    }\n",
              "\n",
              "    [theme=dark] .colab-df-convert:hover {\n",
              "      background-color: #434B5C;\n",
              "      box-shadow: 0px 1px 3px 1px rgba(0, 0, 0, 0.15);\n",
              "      filter: drop-shadow(0px 1px 2px rgba(0, 0, 0, 0.3));\n",
              "      fill: #FFFFFF;\n",
              "    }\n",
              "  </style>\n",
              "\n",
              "      <script>\n",
              "        const buttonEl =\n",
              "          document.querySelector('#df-267143f0-b64b-4699-8843-598daf0ee7f9 button.colab-df-convert');\n",
              "        buttonEl.style.display =\n",
              "          google.colab.kernel.accessAllowed ? 'block' : 'none';\n",
              "\n",
              "        async function convertToInteractive(key) {\n",
              "          const element = document.querySelector('#df-267143f0-b64b-4699-8843-598daf0ee7f9');\n",
              "          const dataTable =\n",
              "            await google.colab.kernel.invokeFunction('convertToInteractive',\n",
              "                                                     [key], {});\n",
              "          if (!dataTable) return;\n",
              "\n",
              "          const docLinkHtml = 'Like what you see? Visit the ' +\n",
              "            '<a target=\"_blank\" href=https://colab.research.google.com/notebooks/data_table.ipynb>data table notebook</a>'\n",
              "            + ' to learn more about interactive tables.';\n",
              "          element.innerHTML = '';\n",
              "          dataTable['output_type'] = 'display_data';\n",
              "          await google.colab.output.renderOutput(dataTable, element);\n",
              "          const docLink = document.createElement('div');\n",
              "          docLink.innerHTML = docLinkHtml;\n",
              "          element.appendChild(docLink);\n",
              "        }\n",
              "      </script>\n",
              "    </div>\n",
              "  </div>\n",
              "  "
            ]
          },
          "metadata": {},
          "execution_count": 15
        }
      ]
    },
    {
      "cell_type": "markdown",
      "source": [
        "### Map Plotting"
      ],
      "metadata": {
        "id": "aQ2WMgqHeo9E"
      }
    },
    {
      "cell_type": "code",
      "source": [
        "# plotting map using plotly\n",
        "fig = px.scatter_geo(\n",
        "    df[(df['taskLocationDone.lat'] != 0) | (df['taskLocationDone.lon'] != 0)], \n",
        "    lat = 'taskLocationDone.lat', \n",
        "    lon = 'taskLocationDone.lon', \n",
        "    color = 'UserVar.branch_dest',\n",
        "    scope='asia'\n",
        "    )\n",
        "\n",
        "# setting title for the map\n",
        "fig.update_layout(title = 'Persebaran Tujuan Pengiriman Tugas', title_x = 1)\n",
        "\n",
        "# displaying the map\n",
        "fig.show()"
      ],
      "metadata": {
        "colab": {
          "base_uri": "https://localhost:8080/",
          "height": 542
        },
        "id": "sjIAEVaziIhs",
        "outputId": "748222e2-8eaa-4331-cc8c-b202954d6828"
      },
      "execution_count": 16,
      "outputs": [
        {
          "output_type": "display_data",
          "data": {
            "text/html": [
              "<html>\n",
              "<head><meta charset=\"utf-8\" /></head>\n",
              "<body>\n",
              "    <div>            <script src=\"https://cdnjs.cloudflare.com/ajax/libs/mathjax/2.7.5/MathJax.js?config=TeX-AMS-MML_SVG\"></script><script type=\"text/javascript\">if (window.MathJax && window.MathJax.Hub && window.MathJax.Hub.Config) {window.MathJax.Hub.Config({SVG: {font: \"STIX-Web\"}});}</script>                <script type=\"text/javascript\">window.PlotlyConfig = {MathJaxConfig: 'local'};</script>\n",
              "        <script src=\"https://cdn.plot.ly/plotly-2.18.2.min.js\"></script>                <div id=\"5db5eb55-e764-400b-b3a7-4a95a40b5819\" class=\"plotly-graph-div\" style=\"height:525px; width:100%;\"></div>            <script type=\"text/javascript\">                                    window.PLOTLYENV=window.PLOTLYENV || {};                                    if (document.getElementById(\"5db5eb55-e764-400b-b3a7-4a95a40b5819\")) {                    Plotly.newPlot(                        \"5db5eb55-e764-400b-b3a7-4a95a40b5819\",                        [{\"geo\":\"geo\",\"hovertemplate\":\"UserVar.branch_dest=SRG<br>taskLocationDone.lat=%{lat}<br>taskLocationDone.lon=%{lon}<extra></extra>\",\"lat\":[-6.9266078,-6.9266078,-6.9115881,-6.925801,-6.9066197,-6.909099,-6.918373,-6.9127064,-6.9300818,-6.9127064,-6.9066197,-6.9218415,-6.9205053,-7.0518696,-7.0209225,-7.0430324,-7.0430324,-7.0640372,-7.0633502,-7.016665,-7.0407528,-7.1377413,-7.1445629,-7.0050084,-7.0050089,-7.0049005,-6.9145547,-6.9205532,-6.9301487,-6.9080071,-6.9180598,-6.9185459,-6.9126171,-6.9145547,-6.9114807,-6.9188505,-6.9154823,-6.9188529,-6.9765853,-6.9717901,-6.9670253,-6.9687508,-6.9878805,-6.9748212,-6.9910913,-6.9687606,-7.0113471,-7.0109607,-6.9895772,-6.9698876,-7.0149208,-6.9632882,-6.9652689,-6.9658204,-6.967845,-6.9624767,-6.9648829,-6.9716889,-6.884653,-6.884653,-6.884653,-6.884653,-6.884653,-7.243953,-7.1025693,-7.2665791,-7.2665791,-7.2665791,-7.3207072,-6.7477203,-6.9231919,-7.0855405,-6.9397797,-7.0251143,-6.94607,-7.0855405,-6.7396768,-6.7396768,-6.7396768,-6.7396768,-6.7396768,-6.7396768,-6.7396768,-7.250474,-6.7396768,-6.7396768,-6.7396768,-6.7396768,-6.7396768,-6.7396768,-6.7396768,-6.7396768,-6.7396768,-6.7396768,-6.7396768,-6.7396768,-6.7396768,-6.7396768,-6.7396768,-6.7396768,-6.7396768,-6.7396768,-6.7396768,-6.7396768,-6.7396768,-6.7396768,-6.7396768,-6.9480715,-7.2581817,-7.2581817,-7.2581817,-7.2581817,-6.771335,-6.771335,-6.771335,-6.771335,-7.250474,-7.2971769,-7.2971769,-7.2971769,-7.2971769,-7.2971769,-7.2971769,-7.2971769,-7.2971769,-7.2971769,-6.832879,-6.771335,-6.8332776,-7.4304291,-7.4304291,-7.4304291,-6.9336068,-6.8373561,-7.2971769,-7.2971769,-7.2971769,-7.2971769,-6.9498453,-7.3207103,-7.3207562,-6.8261052,-6.9095373,-7.0815596,-7.4130036,-6.93289,-7.4130399,-7.4130399,-7.4130399,-7.4130399,-7.4130399,-7.4130399,-7.4130399,-6.9225347,-6.9246072,-7.0799167,-6.9094017,-7.0799167,-6.9113387,-7.4003802,-7.3206317,-6.9248734,-7.2339903,-7.2978388,-6.9233532,-6.9598307,-6.9379673,-7.2978388,-7.2978388,-7.2978388,-7.2978388,-7.2978388,-7.2978388,-7.2978388,-7.2978388,-7.2978388,-7.2978388,-7.2978388,-7.2978388,-7.2978388,-6.9559804,-7.3966932,-6.8917806,-7.2978388,-7.2978388,-6.8261844,-7.2978388,-7.3201662,-7.2978388,-7.108136,-7.1779699,-6.923649,-7.0181784,-6.569295,-6.8993952,-6.7115864,-7.1645092,-7.261854,-6.6533795,-6.5248562,-7.2293271,-7.0628852,-7.2605846,-6.9937029,-6.5756745,-7.1288263,-6.4812513,-6.9867795,-6.5490913,-6.9630122,-7.2605846,-6.9999477,-6.8894247,-7.3339436,-6.9837938,-6.9436672,-7.1711504,-6.8274317,-6.9863101,-7.0620192,-7.0029882,-7.0319378,-7.4130399,-7.4130399,-7.4083062,-7.2581888,null,-7.2581888,-7.2581888,-7.2581888,-7.2673734,-7.2673734,-7.2673734,-7.2673734,-7.2673734,-7.2673729,-7.2673729,-7.2673729,-7.2673729,-7.4510526,-7.4510526,-7.4510526,-7.4510526,-7.4510526,-6.9095457,-7.0602418,-7.0602418,-6.9025117,-6.9025117,-7.1021127,-6.90767,-6.9401293,-6.9402346,-6.937887,-6.9551038,-7.103612,-7.103612,-6.8436323,-7.413065,-7.413065,-7.4510526,-7.4510526,-7.4510526,-7.4130605,-7.4130605,-6.9186355,-7.4130605,-7.4130605,-7.4130605,-7.4130605,-7.4130605,-7.4130605,-7.4130605,-7.4130605,-7.4130605,-7.1434723,-6.7477163,-7.4130605,-7.4130605,-7.3207324,-7.4130605,-7.4130605,-7.4130605,-6.8598967,-7.2714752,-7.0022114,-7.0116069,-6.7441243,-6.7441243,-6.7434272,-6.73854,-6.7434272,-6.7564136,-6.7395516,-6.7403259,-6.8770785,-7.0134053,-6.73854,-7.1163415,-7.0677178,-7.0715417,-6.5740043,-7.0674805,-7.0674805,-7.0674805,-7.0674805,-7.0674805,-6.9594831,-6.9056024,-6.9056024,-6.9056024,-6.9056024,-6.9056024,-6.9056024,-6.9056024,-6.9056024,-6.9056024,-6.9056024],\"legendgroup\":\"SRG\",\"lon\":[109.7629103,109.7629103,109.7291414,109.728623,109.722736,109.7359203,109.7430474,109.7447638,109.7274887,109.7447638,109.722736,109.7286646,109.7277302,109.8277143,109.7850254,109.8188842,109.8188842,109.8270702,109.8281864,109.7876299,109.834512,110.4474517,110.4266072,110.4322131,110.4321904,110.4321996,109.7281237,109.7405019,109.7296944,109.7357948,109.7258751,109.7414644,109.7430555,109.7281237,109.7284548,109.7254492,109.728125,109.7254477,109.9755854,109.9416986,109.9639039,109.9516582,109.9635558,109.9760512,110.2531488,110.2475431,110.2469202,110.2413355,110.1055936,110.0931359,110.1080535,110.256491,110.2766496,110.2739362,110.2844558,110.2666032,110.2696663,110.270188,109.6346743,109.6346743,109.6346743,109.6346743,109.6346743,110.4218935,110.9108171,109.7417405,109.7417405,109.7417405,110.4942384,111.0380337,110.1479807,110.039569,110.121925,109.5913911,110.1057217,110.039569,111.5837851,111.5837851,111.5837851,111.5837851,111.5837851,111.5837851,111.5837851,110.4243371,111.5837851,111.5837851,111.5837851,111.5837851,111.5837851,111.5837851,111.5837851,111.5837851,111.5837851,111.5837851,111.5837851,111.5837851,111.5837851,111.5837851,111.5837851,111.5837851,111.5837851,111.5837851,111.5837851,111.5837851,111.5837851,111.5837851,111.5837851,110.1647578,109.7163921,109.7163921,109.7163921,109.7163921,110.902198,110.902198,110.902198,110.902198,110.4243371,109.7100805,109.7100805,109.7100805,109.7100805,109.7100805,109.7100805,109.7100805,109.7100805,109.7100805,110.8650793,110.902198,110.8694291,109.5926998,109.5926998,109.5926998,110.172268,110.8732692,109.7100805,109.7100805,109.7100805,109.7100805,110.2364954,110.494333,110.49411,110.8735038,110.6174766,110.9082409,109.5961219,110.1758411,109.5961306,109.5961306,109.5961306,109.5961306,109.5961306,109.5961306,109.5961306,110.2045161,110.201052,110.9084497,109.5320717,110.9084497,110.2047489,109.6274996,110.4946851,110.182046,110.4279754,109.7103747,110.1988835,110.4062372,110.1601757,109.7103747,109.7103747,109.7103747,109.7103747,109.7103747,109.7103747,109.7103747,109.7103747,109.7103747,109.7103747,109.7103747,109.7103747,109.7103747,110.2455215,109.6369551,109.627224,109.7103747,109.7103747,110.8699823,109.7103747,110.4954215,109.7103747,110.9118732,112.0004232,110.200085,111.3085713,111.0372851,109.3830372,111.342817,111.8943056,110.4061415,111.070708,110.7616828,111.019827,110.6103021,111.869714,110.4298855,110.6613173,111.1337844,110.8638894,110.3253089,111.0512731,110.3945431,111.869714,110.4677198,109.6274292,110.5084659,110.4310834,109.7366977,110.7824635,109.5114633,110.3853333,110.5982412,110.4161855,110.6809982,109.5961306,109.5961306,109.5990228,109.7163341,null,109.7163341,109.7163341,109.7163341,109.694324,109.694324,109.694324,109.694324,109.694324,109.6943243,109.6943243,109.6943243,109.6943243,109.5138545,109.5138545,109.5138545,109.5138545,109.5138545,110.6174839,110.6610438,110.6610438,109.73697,109.73697,110.9126351,110.1870283,109.4662732,109.4664404,110.2268154,110.186127,110.9108257,110.9108257,110.8572754,109.5961417,109.5961417,109.5138545,109.5138545,109.5138545,109.5961302,109.5961302,109.4599724,109.5961302,109.5961302,109.5961302,109.5961302,109.5961302,109.5961302,109.5961302,109.5961302,109.5961302,111.8909154,111.0380208,109.5961302,109.5961302,110.4944312,109.5961302,109.5961302,109.5961302,110.8325517,110.5172933,110.7133765,110.4510935,111.0261079,111.0261079,111.0275982,111.0294316,111.0275982,111.0331868,111.0425627,111.0264805,110.8180241,110.4527067,111.0294316,110.2554516,110.3168579,110.3101383,111.0325948,110.3170493,110.3170493,110.3170493,110.3170493,110.3170493,110.2534879,109.4117453,109.4117453,109.4117453,109.4117453,109.4117453,109.4117453,109.4117453,109.4117453,109.4117453,109.4117453],\"marker\":{\"color\":\"#636efa\",\"symbol\":\"circle\"},\"mode\":\"markers\",\"name\":\"SRG\",\"showlegend\":true,\"type\":\"scattergeo\"},{\"geo\":\"geo\",\"hovertemplate\":\"UserVar.branch_dest=MGL<br>taskLocationDone.lat=%{lat}<br>taskLocationDone.lon=%{lon}<extra></extra>\",\"lat\":[-7.8761542,-7.8497773,-7.710998,-7.8297416,-7.7066465,-7.6637309,-7.6632882,-7.6637309,-7.6637309,-7.6632882,-7.6632882,-7.6637309,-7.6637309,-7.6637309,-7.8071323,-7.8744655,-7.8111778,-7.8607985,-7.8211883,-7.7762706,-7.8486383,-7.8325282,-7.8346755,-7.8136556,-7.8254277,-7.7876783,-7.83066,-7.827977,-7.821645,-7.6637686,-7.6639076,-7.6636761,-7.6847543,-7.6636761,-7.6636761,-7.6639076,-7.6636761,-7.6636761,-7.6636761,-7.6636761,-7.6637686,-7.6637686,-7.6637686,-7.6636761,-7.6637686,-7.6639076,-7.6847543,-7.6847543,-7.6637686,-7.6847543,-7.6636761,-7.6637686,-7.6636761,-7.6637686,-7.6636761,-7.6636761,-7.6636761,-7.6636761,-7.6636761,-7.6604638,-7.6847704,-7.6847543,-7.6636761,-7.6637686,-7.6636761,-7.6604638,-7.6636761,-7.6636761,-7.6847704,-7.6637686,-7.663905,-7.6637686,-7.6637686,-7.6636761,-7.6637686,-7.6636761,-7.663905,-7.6610602,-7.2624017,-7.2568733,-7.2624017,-7.2433253,-7.2637754,-7.2624017,-7.2587604,-7.2624017,-7.2568733,-7.2568733,-7.2568733,-7.2298735,-7.2433253,-7.2433253,-7.2624017,-7.2568733,-7.2629763,-7.2587604,-7.2622628,-7.3189215,-7.3189215,-7.3166263,-7.3133011,-7.3133011,-7.3133011,-7.3133011,-7.578303,-7.578303,-7.7148839,-7.7196087,-7.7225349,-7.7148839,-7.7221209,-7.7245468,-7.7254985,-7.7221209,-7.7148839,-7.7232034,-7.7122117,-7.7186793,-7.7177327,-7.717717,-7.7231993,-7.7587329,-7.7593996,-7.7593996,-7.7593996,-7.7593996,-7.7208264,-7.7302016,-7.7587329,-7.7593996,-7.7302016,-7.7593996,-7.5349917,-7.5349917,-7.2828173,-7.534987,-7.2132552,-7.2921532,-7.2921532,-7.2921532,-7.2921532,-7.7283766,-7.579692,-7.484321,-7.8051594,-7.484321,-7.5661619,-7.4843453,-7.4843453,-7.5349883,-7.7211887,-7.2828684,-7.3661056,-7.5783683,-7.3959117,-7.7217221,-7.5382275,-7.5344614,-7.5344614,-7.6178665,-7.5382275,-7.6105804,-7.5957415,-7.2829268,-7.2829268,-7.2829268],\"legendgroup\":\"MGL\",\"lon\":[110.0339859,109.999733,110.0037077,110.0138869,110.0231309,109.7803235,109.780821,109.7803235,109.7803235,109.780821,109.780821,109.7803235,109.7803235,109.7803235,109.996768,110.0382645,109.9651308,109.9725743,109.923534,109.945218,109.91682,109.9647261,109.9653765,109.9638518,109.930892,109.9660767,109.9734635,109.9775045,109.918795,109.841924,109.8422558,109.841662,109.8439165,109.841662,109.841662,109.8422558,109.841662,109.841662,109.841662,109.841662,109.841924,109.841924,109.841924,109.841662,109.841924,109.8422558,109.8439165,109.8439165,109.841924,109.8439165,109.841662,109.841924,109.841662,109.841924,109.841662,109.841662,109.841662,109.841662,109.841662,109.8475155,109.8439112,109.8439165,109.841662,109.841924,109.841662,109.8475155,109.841662,109.841662,109.8439112,109.841924,109.8422567,109.841924,109.841924,109.841662,109.841924,109.841662,109.8422567,109.8453029,110.2324,110.242715,110.2324,110.1892135,110.2379782,110.2324,110.2110054,110.2324,110.242715,110.242715,110.242715,110.2307367,110.1892135,110.1892135,110.2324,110.242715,110.2243917,110.2110054,110.216317,110.2599513,110.2599513,110.2543665,110.2022437,110.2022437,110.2022437,110.2022437,110.2777796,110.2777796,109.9140206,109.9169345,109.9145578,109.9140206,109.9147689,109.9098029,109.9158151,109.9147689,109.9140206,109.9071065,110.0131425,109.9115977,109.9100218,109.910021,109.9071121,109.915783,109.8870738,109.8870738,109.8870738,109.8870738,109.9280842,109.8906601,109.915783,109.8870738,109.8906601,109.8870738,110.172215,110.172215,110.1664862,110.172215,109.9725525,110.0845815,110.0845815,110.0845815,110.0845815,109.9833175,110.2779961,110.2125314,109.7839092,110.2125314,110.2434848,110.2124681,110.2124681,110.172226,109.9300715,110.1664193,109.919,110.2778347,110.245279,109.9927229,110.295314,110.2979714,110.2979714,110.3099289,110.295314,110.3047729,110.2990064,110.1664182,110.1664182,110.1664182],\"marker\":{\"color\":\"#EF553B\",\"symbol\":\"circle\"},\"mode\":\"markers\",\"name\":\"MGL\",\"showlegend\":true,\"type\":\"scattergeo\"},{\"geo\":\"geo\",\"hovertemplate\":\"UserVar.branch_dest=PWT<br>taskLocationDone.lat=%{lat}<br>taskLocationDone.lon=%{lon}<extra></extra>\",\"lat\":[-6.6233649,-6.6246259,-6.5751243,-6.5751362,-6.5751359,-6.5751278,-6.5751309,-6.5450042,-6.2959186,-6.5743863,-6.5273759,-6.6894473,-6.6894473,-6.6894473,-6.4832697,-6.5798371,-6.5228886,-6.5648483,-6.3158202,-6.2842602,-6.2842602,-6.2842602,-6.6705213,-6.6416257,-6.3795349,-6.2777454,-6.6571079],\"legendgroup\":\"PWT\",\"lon\":[107.7302248,107.733458,107.7731012,107.7730639,107.7730797,107.7730769,107.7730686,107.4203472,107.8210916,107.7666931,107.4640769,107.5381262,107.5381262,107.5381262,107.8091876,107.7682642,107.4380192,107.4392356,107.6942427,107.8206321,107.8206321,107.8206321,107.6989673,107.3906213,107.7989694,107.823082,107.7134807],\"marker\":{\"color\":\"#00cc96\",\"symbol\":\"circle\"},\"mode\":\"markers\",\"name\":\"PWT\",\"showlegend\":true,\"type\":\"scattergeo\"},{\"geo\":\"geo\",\"hovertemplate\":\"UserVar.branch_dest=CLG<br>taskLocationDone.lat=%{lat}<br>taskLocationDone.lon=%{lon}<extra></extra>\",\"lat\":[-6.3590878,-6.3590878,-6.3590878,-6.392165,-6.392165,-6.3922967,-6.392165,-6.392165,-6.392165,-6.392165,-6.6620723,-6.662407,-6.6618762,-6.662148,-6.6620723,-6.662407,-6.662407,-6.6621694,-6.662407,-6.6617872,-6.662407,-6.662407,-6.6620723,-6.6617872,-6.6620723,-6.662407,-6.662407,-6.662407,-6.662407,-6.6620723,-6.6616132,-6.3552758,-5.9069126,-5.896655,-5.9033828,-5.9036747,-5.908709,-5.8894084,-5.9044039,-5.9044039,-5.8863311,-5.8894084,-5.9069126,-5.9036747,-5.8979956,-5.9143901,-5.9044039,-5.8979956,-5.896655,-5.8894675,-5.8936653,-5.8865617,-5.9151902,-5.9044039,-5.908709,-5.908709,-5.8979956,-5.8865617,-5.8979956,-5.9033828,-5.9036747,-5.9143901,-5.8894084,-5.908709,-5.9059676,-5.8865617,-5.914629,-5.8865617,-6.3643741,-6.3642963,-6.3643741,-6.5784084,-6.42865,-6.4598202,-6.5783206,-6.5784738,-6.6035328,-6.627116,-6.5993958,-6.5365821,-6.513787,-5.9747817,-5.9747817,-5.9747131,-5.9743434,-6.1244395,-6.2288968,-6.0383909,-6.0561412,-6.1094809,-6.0228855,-6.1104707,-6.3515909,-6.330131,-6.2310344,-6.1728458,-5.8869381,-5.9943465,-6.2141552,-6.0549656,-6.3544951,-6.0521592,-6.2091521,-6.2058961,-6.3636054,-6.0990127,-6.3377792,-6.124283,-6.254455,-6.2062341,-6.2062341,-6.2062341,-6.0679312,-6.1805186,-6.2091176,-6.1367185,-6.0989852,-5.9746213,-6.1239542,-6.2186281,-6.1394295,-6.1209556,-6.1209556,-6.0384192,-6.1239874,-6.1281702,-6.3395214,-6.1281702,-6.1030007,-6.2832047,-6.1024543],\"legendgroup\":\"CLG\",\"lon\":[106.403966,106.403966,106.403966,106.2330333,106.2330333,106.2330883,106.2330333,106.2330333,106.2330333,106.2330333,106.3417801,106.3414122,106.3453622,106.3394464,106.3417801,106.3414122,106.3414122,106.3394394,106.3414122,106.3406764,106.3414122,106.3414122,106.3417801,106.3406764,106.3417801,106.3414122,106.3414122,106.3414122,106.3414122,106.3417801,106.3458271,106.4028619,106.0833202,106.0531122,106.0864803,106.0857088,106.0849622,106.056119,106.0850779,106.0850779,106.0537112,106.056119,106.0833202,106.0857088,106.0535985,106.0950652,106.0850779,106.0535985,106.0531122,106.0542694,106.0547396,106.0539033,106.0893353,106.0850779,106.0849622,106.0849622,106.0535985,106.0539033,106.0535985,106.0864803,106.0857088,106.0950652,106.056119,106.0849622,106.0825292,106.0539033,106.0948006,106.0539033,106.4054991,106.4059834,106.4054991,105.9481714,106.005189,105.9869476,105.9486021,105.9485601,105.9047223,105.9167892,105.9266394,105.9653976,105.9622076,106.0080169,106.0080169,106.008037,106.0077737,106.187491,106.357083,106.0806453,106.0540959,106.1127313,106.0681047,106.1185773,106.2529094,106.0839612,106.3549189,106.3357405,106.0539102,106.0340775,106.3527648,106.0149768,106.2579144,106.1079265,106.3617517,106.3638491,105.8988185,106.1661807,106.1887758,106.1754828,106.0054183,106.0050167,106.0050167,106.0050167,106.1249288,106.3406649,106.3581192,106.1881515,106.1680817,106.008084,106.1722537,106.3477628,106.2904321,106.1721671,106.1721671,106.0806555,106.1722352,106.1724581,106.1641586,106.1724581,106.1724167,106.3424334,106.1724104],\"marker\":{\"color\":\"#ab63fa\",\"symbol\":\"circle\"},\"mode\":\"markers\",\"name\":\"CLG\",\"showlegend\":true,\"type\":\"scattergeo\"},{\"geo\":\"geo\",\"hovertemplate\":\"UserVar.branch_dest=PDG<br>taskLocationDone.lat=%{lat}<br>taskLocationDone.lon=%{lon}<extra></extra>\",\"lat\":[-0.20245,-0.1347667,-0.107262,-0.1354534,-0.120356,-0.0944749,-0.1669174,-0.1489404,-0.1530287,-0.1338771,-0.1195932,-0.1650771,-0.1489404,-0.136384,-0.107262,-0.1258288,-0.1136192,-0.143195,-0.1186635,-1.0995714,-1.0828464,-1.0828464,-1.0895008,-0.6211384,-0.6342173,-0.5656122,-1.0557644,-1.0554788,-1.0223309,-1.0494561,-0.159714,-0.2217116,-0.3215587,-0.3215587,-0.3215587,-0.3215587,-0.9633465,-0.304785,-0.3024784,-0.891954,-0.304785,-0.3211416,-0.8763555,-0.3213507,-0.3213507,-0.8833014,null],\"legendgroup\":\"PDG\",\"lon\":[100.6173417,100.5217322,100.5436705,100.5465114,100.5244858,100.5372374,100.579277,100.562095,100.5756253,100.5444494,100.5668303,100.537481,100.562095,100.5264265,100.5436705,100.5723361,100.5559926,100.4965517,100.5209986,100.8804509,100.8886064,100.8886064,100.8626096,100.1434608,100.2756117,100.2792375,100.7525943,100.7501275,100.7272245,100.7057359,100.6620695,100.6294981,100.0319649,100.0319649,100.0319649,100.0319649,100.3575331,100.3719667,100.3684611,100.3503157,100.3719667,100.0316674,100.3874393,100.0319583,100.0319583,100.375329,null],\"marker\":{\"color\":\"#FFA15A\",\"symbol\":\"circle\"},\"mode\":\"markers\",\"name\":\"PDG\",\"showlegend\":true,\"type\":\"scattergeo\"},{\"geo\":\"geo\",\"hovertemplate\":\"UserVar.branch_dest=BTJ<br>taskLocationDone.lat=%{lat}<br>taskLocationDone.lon=%{lon}<extra></extra>\",\"lat\":[4.1736393,4.1418636,5.5640306,5.5640305,5.5640398,5.564034,4.1791222,4.1498582,4.1545947,4.1545808,4.1195038,4.154866,4.1483771,4.1514988,4.1548726,4.1548726,4.1409657,4.1545947,4.1545947,4.1359972,4.1483773,4.9448509,5.5321526],\"legendgroup\":\"BTJ\",\"lon\":[96.1386157,96.1323254,95.319391,95.319392,95.3193918,95.3193896,96.141866,96.1497872,96.1316584,96.1305487,96.1850182,96.1305576,96.1188148,96.1335592,96.1305408,96.1305408,96.2134628,96.1316584,96.1316584,96.1674748,96.1188154,97.7759382,95.3254455],\"marker\":{\"color\":\"#19d3f3\",\"symbol\":\"circle\"},\"mode\":\"markers\",\"name\":\"BTJ\",\"showlegend\":true,\"type\":\"scattergeo\"},{\"geo\":\"geo\",\"hovertemplate\":\"UserVar.branch_dest=DTB<br>taskLocationDone.lat=%{lat}<br>taskLocationDone.lon=%{lon}<extra></extra>\",\"lat\":[1.7139167,0.5690775,0.5712675,0.5847234,0.5638928,0.5938257,0.5647531,0.5640966,0.5692432,0.5683433,0.5640945,0.5675851,0.5638876,0.5640967,1.6713036,1.6799696,1.6847354,1.6874853,1.6905166,1.7098519,1.6994913,1.6892121,1.686754,1.7102068,1.6829997,1.6893421,1.6868333,1.6893446,1.6893446,0.5695904,1.3657117,1.2822103,2.2069719,1.2821875,0.5640968,0.5702637,0.5705039,1.3951535,0.5714466,0.5698234,1.0503432],\"legendgroup\":\"DTB\",\"lon\":[98.8149147,97.8177443,97.795144,97.725885,97.8200247,97.7684115,97.8100434,97.8199777,97.8213398,97.8224613,97.8199579,97.8237169,97.8200188,97.8199661,98.841619,98.8324457,98.8304269,98.8174272,98.8292866,98.8311919,98.8348505,98.8249193,98.8312108,98.8313087,98.829937,98.8249307,98.8633286,98.8249184,98.8249184,97.8207324,99.2713692,97.6250876,98.9709446,97.6251063,97.819965,97.8229501,97.7920182,99.2589113,97.8001385,97.8206085,99.75276],\"marker\":{\"color\":\"#FF6692\",\"symbol\":\"circle\"},\"mode\":\"markers\",\"name\":\"DTB\",\"showlegend\":true,\"type\":\"scattergeo\"},{\"geo\":\"geo\",\"hovertemplate\":\"UserVar.branch_dest=SMI<br>taskLocationDone.lat=%{lat}<br>taskLocationDone.lon=%{lon}<extra></extra>\",\"lat\":[-6.7908954,-6.7921053,-6.7982325,-6.9416214,-7.2459717,-6.8644644,-6.9023529,-6.809198,-6.9180292,-6.8143559,-6.8945571,-6.9052347,-6.8376885,-6.826128,-6.826128,-6.8953813,-7.1226499,-7.2103954,-7.2103954,-7.2103954,-6.9899031,-6.9899031,null,-7.2542833,-6.7891642,-6.8405653,-7.2512833,-6.7841544,-7.2454933],\"legendgroup\":\"SMI\",\"lon\":[106.7628558,106.7640657,106.739689,106.926164,106.936845,106.7681844,106.8491234,106.6657128,106.879238,106.7673816,106.9371318,106.8873904,106.7597494,106.7580517,106.7580517,106.8114468,106.8755505,106.8823141,106.8823141,106.8823141,106.5565202,106.5565202,null,106.8379033,106.7827464,106.7603423,106.6473767,106.7902969,106.6417067],\"marker\":{\"color\":\"#B6E880\",\"symbol\":\"circle\"},\"mode\":\"markers\",\"name\":\"SMI\",\"showlegend\":true,\"type\":\"scattergeo\"},{\"geo\":\"geo\",\"hovertemplate\":\"UserVar.branch_dest=PKU<br>taskLocationDone.lat=%{lat}<br>taskLocationDone.lon=%{lon}<extra></extra>\",\"lat\":[1.6712129,1.6663674,1.6602855,1.661814,0.8328291,0.8106875,0.805837,0.8054485,0.8056488,0.8104128,0.8328065,0.8327873,0.8249346,0.8057125,0.808368,0.8327873,0.8327983,0.4748203,1.6910881,0.6780587,0.6780587,0.6780587,0.474768,0.6774158,0.8874049,0.4814446,-0.5151263,0.6774158,0.5250438,0.4746335,-0.3766787,-0.3766787,0.4369997,1.6291837,-0.3315881,0.3339962,-0.7158418,-0.5382669,1.6755116,2.1599774,1.1772092,0.4608739,1.3752578,0.4746945,0.4745415,0.5280348,0.5280348,-0.5176665,0.5145502,0.5104648,0.5253636,0.5253636,0.5253636,1.6835248,0.5094908,0.4828863,0.4958233,1.4761817,0.4746514,-0.5269767,0.4746482,-0.5174581,0.5250388,-0.5174582,-0.517442,0.5617672,0.5089746,1.4799047,1.4799047,0.4867128,0.4867128,0.5095182,0.4793417,0.449929,0.4996822,0.5002569,0.4769097,0.5786264,-0.3241652,0.5334049,0.5352017,0.5689054,0.4780232,0.479655,0.88741,0.47958],\"legendgroup\":\"PKU\",\"lon\":[101.4435336,101.4308699,101.4318121,101.4297919,101.140793,101.1529477,101.1481691,101.1544447,101.1545338,101.1532457,101.140792,101.1408447,101.1394417,101.1480363,101.1417415,101.1408447,101.1408077,101.4485521,100.4157888,101.5676728,101.5676728,101.5676728,101.4487038,101.584698,100.2997803,101.4536161,101.9815539,101.584698,101.4606669,101.4488659,102.5464082,102.5464082,101.4195302,101.3828605,103.1380497,100.9988878,102.9352571,102.0795049,101.4494652,100.8072624,100.2845137,101.3957721,100.3334898,101.4487607,101.4488079,101.4557533,101.4557533,102.9366603,101.4339504,101.4411204,101.4481242,101.4481242,101.4481242,100.7368169,101.4403875,101.4856208,101.4319804,102.1201768,101.448875,101.5697748,101.4488575,102.9363315,101.4537255,102.9363335,102.9363149,101.4493485,101.4367257,102.1061861,102.1061861,101.4816636,101.4816636,101.4437952,101.4295017,101.4565118,101.4573755,101.4706703,101.4740118,101.4407613,103.148686,101.4502878,101.4190333,101.4435604,101.4520546,101.4772412,100.2997938,101.4386635],\"marker\":{\"color\":\"#FF97FF\",\"symbol\":\"circle\"},\"mode\":\"markers\",\"name\":\"PKU\",\"showlegend\":true,\"type\":\"scattergeo\"},{\"geo\":\"geo\",\"hovertemplate\":\"UserVar.branch_dest=BDO<br>taskLocationDone.lat=%{lat}<br>taskLocationDone.lon=%{lon}<extra></extra>\",\"lat\":[-7.4932162,-7.4951281,-7.4934032,-7.4595027,-7.4932162,-7.496283,-7.4987607,-7.4841091,-7.489335,-7.4433437,-6.9557906,-6.9450268,-7.3672487,-7.3672487,-7.3691663,-6.9521109,-6.9492241,-6.9435853,-6.974752,-6.9446672,-6.9566841,-7.3672487,-7.3689151,-7.3490362,-7.3672487,-7.3689151,-7.3691663,-7.3672487,-7.3672487,-6.9589176,-6.974752,-6.9466761,-6.9557906,-7.3672487,-6.9389278,-6.9389278,-6.9505867,-6.945037,-6.9749873,-6.949357,-6.9412959,-6.9402157,-6.9517999,-6.949357,-6.9786902,-6.968502,-6.9709525,-6.9402157,-6.9495063,-6.94051,-6.9479923,-6.955454,-6.9692026,-6.9594928,-6.9707932,-7.4552289,-7.4552289,-7.4552289,-7.4551989,-7.4778374,-7.4551989,-7.4551989,-7.4551989,-7.4892111,-7.4870777,-7.4927099,-7.4892111,-7.4894301,-7.4927056,-7.4922551,-7.4892111,-7.4914717,-7.4896337,-7.4890733,-7.4914717,-7.4938592,-7.4785066,-7.4896337,-7.4893636,-7.492684,-7.4892111,-7.4912625,-7.4937317,-7.4937317,-7.491542,-7.4894486,-7.4900093,-7.4912625,-7.4927056,-7.469669,-7.4892111,-7.4872067,-7.4867678,-7.4781933,-7.493039,-7.4925666,-7.4781933,-7.486768,-7.493512,-7.4922063,-7.4882416,-7.4914916,-7.4906731,-7.4882642,-7.4798213,-7.4877417,-7.4926544,-7.489945,-7.4918106,-7.4918106,-7.4900151,-7.4900169,-7.4914717,-7.4912625,-7.4892111,-7.4930096,-7.4882065,-7.4867678,-7.4924136,-7.4943549,-7.3295636,-7.2223902,-7.202086,-7.0212067,-7.0570859,-7.0260714,-7.1801592,-7.198038,-7.19257,-7.1941894,-7.0570895,-7.0568938,-7.0568938,-7.0568938,null,null,null,null,null,null,null,null,null,null,null,-7.2022398,-7.1867085,-7.1978433,-7.1867085,-7.1867085,-7.1978433,-7.1867085,-6.7221114,-6.7221114,-7.1965164,-6.8389512,-6.8389512,-6.8389512,-7.226915,-7.1733214,-7.3691444,-6.8058283,-7.3691444,-6.9504071,-6.9208817,-7.2442333,-6.9504071,-6.8596307,-6.8596307,-7.1965164,-6.91783,-6.9494851,-6.8542918,-7.0696586,-6.91783,-6.9519733,-6.9224312,-6.9745722,-7.0045089,-6.8835916,-6.945318,-6.8979438,-6.9531327,-6.9030412,-6.8882977,-6.8700068,-6.8882977,-7.0822859,-6.943074,-6.8880728,-6.9391158,-6.8808556,-6.9521089,-6.8847034,-6.9330442,-6.9521089,-6.9107392,-6.8956763,-6.9356547,-6.942828,-6.9428086,-6.9356547,-6.877852,-7.4602026,-6.8809521,-6.8894479,-6.9038741,-6.8242664,-6.8884659,-7.2035502,-6.9154827,-6.8928531,-6.8034052,-7.2133603,-6.9345267,-6.9049352,-6.9447648,-6.8865618,-6.9377383,-6.937684,-6.937684,-6.8745123,-6.9004745,-7.1097292,-6.8216741,-6.9004745,-7.1887382,-7.1887382,-6.9098461,-6.9098474,-6.9098474,-6.9098474,-6.9098474,-6.9098456,-7.0570981,-6.945741,-6.945741,-6.945741,-6.945741,-7.1756995,-6.9464098,-6.9464098,-7.0571336,-7.1183935,-6.9444178,-6.942227,-6.909846,-6.9096541,-6.9398704,-6.9398704,-6.9398704,-7.1825217,-7.1825217,-7.1825217,-6.9447273,-7.1879085,-7.0570938,-6.86666,-7.0556795,-7.2028836,-6.9395578,-6.9395578,-6.9395578,-6.85929,-6.9379278,-7.1904718,-7.1904718,-7.1904718,-7.19118,-7.1899467,-6.8943652,-7.2036372,-7.2036372,-7.2036372,-7.2036372,-7.2007797,-6.8938137,-6.9503917,-7.2007797,-7.2009474,-7.2036102,-7.2008538,-7.2061975,-7.1987128,-7.1988815,-6.9378184,-6.937025,-7.1980107,-7.1980107,-7.2328823,-6.75978,-7.2328777,null,null,null,null,null,null,null,null,null,null,null,null,null,null,null,null,null,-7.2216485,-7.2410426,null,null,null,null,null,null,null,null,null,null,-7.0556768,-7.2020333,-7.0571057,-7.1825247,null,-7.1967734,-7.1977708,-7.1967734,-7.1980782,-7.1973287,-6.7141211,-6.886895,-6.8324362,-7.1903854,-7.1903854,-7.2037383,-7.199189,-7.199189,-7.1903854,-7.1906139,-7.1903854,-7.198091,-7.2037383,-7.1956809,-7.3570273,-7.3570273,-7.2269113,-7.1589517,-7.1589517,-6.8247292,-7.0211295,-7.2269113,-6.8047267,-7.2333936,-7.6228817,-7.0552123,-6.720115,-7.1573804,-6.8236359,-6.9042429,-6.9042429,-6.704525,-6.9143032,-6.7163066,-7.0213166,-6.7163066,-7.0275478,-7.227408,-7.2338054,-7.2338054,-7.2338054,-6.9202173,-7.2338054,-7.2338054,-7.2338054,-7.2338054,-6.9222446,-7.2027175,-6.9222446,-7.1666676,-6.8441743,-7.0305082,-7.0898747,-6.9244567],\"legendgroup\":\"BDO\",\"lon\":[107.3843287,107.3838846,107.4198124,107.4065054,107.3843287,107.4209213,107.3843725,107.2472455,107.3535584,107.3302548,107.3605469,107.4604426,107.3266782,107.3266782,107.3274172,107.4593676,107.4504949,107.4583678,107.4401438,107.459421,107.4438725,107.3266782,107.3255697,107.3277867,107.3266782,107.3255697,107.3274172,107.3266782,107.3266782,107.4412528,107.4401438,107.4492741,107.3605469,107.3266782,107.4775944,107.4775944,107.450435,107.4589979,107.4428967,107.458015,107.4585493,107.4416225,107.4559457,107.458015,107.4382954,107.4434709,107.4435834,107.4416225,107.4642716,107.4423618,107.4575191,107.4580504,107.4419921,107.4505311,107.4434284,107.3981104,107.3981104,107.3981104,107.3980787,107.3869159,107.3980787,107.3980787,107.3980787,107.3547627,107.3538128,107.329656,107.3547627,107.3534612,107.3296432,107.3349076,107.3547627,107.3463067,107.3684366,107.354715,107.3463067,107.3684366,107.3553692,107.3684366,107.3534923,107.3296587,107.3547627,107.3603061,107.369345,107.369345,107.3591285,107.353585,107.3598631,107.3603061,107.3296432,107.3477413,107.3547627,107.3568867,107.3549233,107.3549495,107.336809,107.3291292,107.3549495,107.354922,107.358319,107.3294201,107.3583796,107.3591968,107.3423445,107.3586052,107.3563279,107.3243567,107.3297497,107.35989,107.3623601,107.3623601,107.3597919,107.3597873,107.3463067,107.3603061,107.3547627,107.3367939,107.3571761,107.3549233,107.360546,107.3749922,107.7940905,107.8333966,107.8694285,107.543675,108.0623817,107.5428957,107.9123732,107.8988234,107.88344,107.8795023,108.0624248,108.062092,108.062092,108.062092,null,null,null,null,null,null,null,null,null,null,null,107.8666958,107.906805,107.878631,107.906805,107.906805,107.878631,107.906805,107.2123084,107.2123084,107.879048,107.9187681,107.9187681,107.9187681,107.822395,107.5728435,107.764731,107.4641243,107.764731,107.4625233,107.6149906,107.8912183,107.4625233,107.480274,107.480274,107.879048,107.6379973,108.0795322,107.483891,107.8991537,107.6379973,107.6230848,107.7375553,107.6064861,107.5591866,107.633794,107.6149828,107.6816214,107.6000546,107.6042407,107.5374046,107.5352184,107.5374046,108.0630151,107.607467,107.5479326,107.7213995,107.581934,107.7249353,107.0834261,107.6184965,107.7249353,107.7147387,107.6708794,107.5919839,107.7633727,107.6358274,107.5919839,107.6033975,107.904115,107.5512253,107.6160016,107.5218762,107.2019244,107.5999803,107.8726767,107.6850143,107.6351831,107.1771295,107.0454603,107.1240572,107.6083778,107.6137283,107.5294989,107.7596217,107.758052,107.758052,107.5894681,107.6026669,107.9010739,107.9226304,107.6026669,107.9007652,107.9007652,107.6867307,107.6867322,107.6867322,107.6867322,107.6867322,107.686731,108.0624337,107.6732017,107.6732017,107.6732017,107.6732017,107.8905417,107.6747246,107.6747246,108.0624644,107.8923326,107.6717799,107.6707337,107.6867306,107.6868018,107.6722503,107.6722503,107.6722503,107.8897983,107.8897983,107.8897983,107.671171,107.8916854,108.0624215,107.457068,108.0655828,107.8594914,107.6627486,107.6627486,107.6627486,107.5106642,107.682111,107.8893797,107.8893797,107.8893797,107.899817,107.9016637,107.6783575,107.9575068,107.9575068,107.9575068,107.9575068,107.8758508,107.6769237,107.6715341,107.8758508,107.8737001,107.957488,107.867045,107.7941573,107.8988897,107.89944,107.6154283,107.6173583,107.8956822,107.8956822,107.9069902,107.0462472,107.9069623,null,null,null,null,null,null,null,null,null,null,null,null,null,null,null,null,null,107.8515791,107.8909213,null,null,null,null,null,null,null,null,null,null,108.0655787,107.8705167,108.0624387,107.8897931,null,107.8793299,107.8791644,107.8793299,107.8988188,107.9144171,107.2216917,107.567255,107.1494631,107.8907845,107.8907845,107.8587574,107.8885629,107.8885629,107.8907845,107.8948141,107.8907845,107.8837493,107.8587574,107.9108498,107.8080277,107.8080277,107.9325188,108.0157767,108.0157767,107.1779151,107.5453866,107.9325188,107.1784767,107.9118124,107.6772839,107.5426297,107.1727983,107.9877478,107.9661988,107.6087355,107.6087355,107.1853509,107.5806609,107.2136328,107.5437502,107.2136328,107.5390549,107.9127948,107.9068134,107.9068134,107.9068134,107.5901171,107.9068134,107.9068134,107.9068134,107.9068134,107.6039996,107.9049894,107.6039996,107.9897043,107.0944527,107.5445119,107.8995839,107.6944467],\"marker\":{\"color\":\"#FECB52\",\"symbol\":\"circle\"},\"mode\":\"markers\",\"name\":\"BDO\",\"showlegend\":true,\"type\":\"scattergeo\"},{\"geo\":\"geo\",\"hovertemplate\":\"UserVar.branch_dest=BTG<br>taskLocationDone.lat=%{lat}<br>taskLocationDone.lon=%{lon}<extra></extra>\",\"lat\":[0.1359378,0.1359193,0.1359193,0.1298085,0.5308571,0.1320843,1.0905176,1.0905176,1.0905176,1.0897284,0.1472287,1.0920899,0.1472287,0.1460501,0.1460501,0.1460501,1.0905176,1.0920899,1.0905176,1.0920899,1.0905176,0.492902,1.0920899,0.4929052],\"legendgroup\":\"BTG\",\"lon\":[117.4712077,117.4711237,117.4711237,117.4766771,117.5178833,117.5072165,116.90042,116.90042,116.90042,116.8961547,117.464458,116.9041006,117.464458,117.4569157,117.4569157,117.4569157,116.90042,116.9041006,116.90042,116.9041006,116.90042,117.5401309,116.9041006,117.5401341],\"marker\":{\"color\":\"#636efa\",\"symbol\":\"circle\"},\"mode\":\"markers\",\"name\":\"BTG\",\"showlegend\":true,\"type\":\"scattergeo\"},{\"geo\":\"geo\",\"hovertemplate\":\"UserVar.branch_dest=JBR<br>taskLocationDone.lat=%{lat}<br>taskLocationDone.lon=%{lon}<extra></extra>\",\"lat\":[-8.3386203,-8.3719765,-8.5696783,-8.5652029,-8.5642436,-8.5611174,-8.5575559,-8.5625405,-8.5566064,-8.560699,-8.1636745,-8.2334615,-8.2001472,-7.9048967,-8.2717594,-7.96178,-7.8444953,-7.8320246,-8.2487995,-8.2487995,-8.3575506,-8.2044755,-8.358754,-8.1836983,-8.1836983,-7.9395825],\"legendgroup\":\"JBR\",\"lon\":[114.148732,114.130961,114.1013483,114.1052962,114.1090471,114.1159889,114.1111894,114.0983748,114.0709351,114.099997,113.7244072,114.3506522,113.3592577,113.8463717,113.5384794,114.41075,113.7655489,114.0299338,114.3473011,114.3473011,114.1610049,113.648136,114.1630184,113.6718633,113.6718633,113.8070743],\"marker\":{\"color\":\"#EF553B\",\"symbol\":\"circle\"},\"mode\":\"markers\",\"name\":\"JBR\",\"showlegend\":true,\"type\":\"scattergeo\"},{\"geo\":\"geo\",\"hovertemplate\":\"UserVar.branch_dest=BKS<br>taskLocationDone.lat=%{lat}<br>taskLocationDone.lon=%{lon}<extra></extra>\",\"lat\":[-3.247156,-3.8098267,-4.7908072,-3.0098611,-3.0098611,-3.0098611,-3.0098611,-3.0098611,-3.0098611,-3.0098611,-3.0098611,-3.8031072,-3.6053419,-3.0019166,-2.9982292,-3.7616169,-3.7432876,-3.7567518,-3.7432876,-3.8399278,-4.460307,-4.0763922,-3.4327982,-3.4327989,-4.4603929,-3.4328935,-3.8111801,-3.8485406,-3.799574,-3.8031148,-3.6447712,-2.9753344,-4.4622327,-4.4622327,-4.4630448],\"legendgroup\":\"BKS\",\"lon\":[101.6449746,102.3911714,103.3508657,101.4917562,101.4917562,101.4917562,101.4917562,101.4917562,101.4917562,101.4917562,101.4917562,102.2739555,102.1580903,101.4906587,101.4902925,102.3135166,102.3373193,102.3155115,102.3373193,102.3213398,102.9096059,102.5737151,102.2014727,102.2014749,102.90974,102.2013944,102.273816,102.319175,102.2589049,102.2738749,102.5812347,101.5968171,102.9029971,102.9029971,102.9027041],\"marker\":{\"color\":\"#00cc96\",\"symbol\":\"circle\"},\"mode\":\"markers\",\"name\":\"BKS\",\"showlegend\":true,\"type\":\"scattergeo\"},{\"geo\":\"geo\",\"hovertemplate\":\"UserVar.branch_dest=CXP<br>taskLocationDone.lat=%{lat}<br>taskLocationDone.lon=%{lon}<extra></extra>\",\"lat\":[-7.2266125,-7.226887,-7.2266412,-7.3717064,-7.3024747,-7.3024527,-7.2954278,-7.3003573,-7.328136,-7.3003573,-7.3003573,-7.3003573,-7.3003573,-7.3003573,-7.3003581,-7.3652889,-7.3003573,-7.3003573,-7.3003573,-7.3003573,-7.3003573,-7.3003573,-7.3003573,-7.3003581,-7.3439632,-7.3003573,-7.3003581,-7.3003581,-7.3003581,-7.3003581,-7.3003581,-7.7036901,-7.7035915,-7.7037841,-7.5541549,-7.5541549,-7.5553683,-7.703775,-7.4856937,-7.6262433,-7.6994786,-7.5401112,-7.6129962,-7.598629,-7.598629,-7.598629,-7.7242494,-7.714164,-7.715474,-7.723755,-7.7069705,-7.7222193,-7.7127146,-7.5597668,-7.7037251,-7.553877,-7.2990583,-7.7035291,-7.7038152,-7.7134291,-7.6434299,-7.7134291,-7.7020942,-7.7286333,-7.7026946,-7.7026946],\"legendgroup\":\"CXP\",\"lon\":[108.6991551,108.6999354,108.6995553,108.8679599,108.7629081,108.7629063,108.7703058,108.7793511,108.6294147,108.7793511,108.7793511,108.7793511,108.7793511,108.7793511,108.7793512,108.6838789,108.7793511,108.7793511,108.7793511,108.7793511,108.7793511,108.7793511,108.7793511,108.7793512,108.6214859,108.7793511,108.7793512,108.7793512,108.7793512,108.7793512,108.7793512,109.0271078,109.0270025,109.0270872,108.8856941,108.8856941,108.886528,109.0271121,108.7935147,109.1159583,109.0193765,108.8601422,109.2106717,109.1995588,109.1995588,109.1995588,109.0111612,109.0114848,109.0151846,109.0124092,109.015677,109.0115002,109.007047,108.8926862,109.0271057,108.8856207,108.7613236,109.0265589,109.027097,109.0166333,109.1250171,109.0166333,109.0268214,109.0174783,109.0165286,109.0165286],\"marker\":{\"color\":\"#ab63fa\",\"symbol\":\"circle\"},\"mode\":\"markers\",\"name\":\"CXP\",\"showlegend\":true,\"type\":\"scattergeo\"},{\"geo\":\"geo\",\"hovertemplate\":\"UserVar.branch_dest=SOC<br>taskLocationDone.lat=%{lat}<br>taskLocationDone.lon=%{lon}<extra></extra>\",\"lat\":[-7.3144407,-7.305378,-7.305378,-7.5601742,-7.5598302,-7.5598302,-7.5598302,-7.5601742,-7.5345799,-7.5214442,-7.5215252,-7.8148764,-7.5413695,-7.5413695,null,null,-7.8167814,-7.5196518,-7.5324412,-7.6260489,-7.6260489,-7.6260489,-7.8143742,-7.81675,-7.517945,-7.7045406,-8.0133601,-7.5441572,-7.5699283,-7.5987433,-7.8281783,-7.7537381,-7.827978,-7.5222667,-7.5164666,-7.4592188,-7.713663,-7.3715306,-7.8587065,-7.8024015,-7.5910554,-7.7148236,-7.5339217,-7.8031053,-7.7189118,null,-7.540545,-7.5390053,-7.7036937,-7.6405754,-7.7189118,-7.7189118,-7.3728283,-7.596828,-7.6044349,-7.70433],\"legendgroup\":\"SOC\",\"lon\":[110.7487644,110.7519087,110.7519087,110.6725263,110.6725176,110.6725176,110.6725176,110.6725263,110.7800493,110.6024435,110.6022452,110.9248221,110.6025523,110.6025523,null,null,110.9659234,110.600439,110.784326,110.956821,110.956821,110.956821,110.9534309,110.9286917,110.8126374,111.0068047,110.9219984,110.8457021,110.8034197,110.8126788,111.1788685,110.8006012,111.1752007,110.6033816,110.6004301,111.0461771,110.6230377,110.6372333,111.2909401,110.9205839,110.9269858,110.8566043,110.5921198,110.919569,110.603139,null,110.5932409,110.5935715,110.6018546,110.9631425,110.603139,110.603139,110.76842,110.934504,110.7841378,110.8547877],\"marker\":{\"color\":\"#FFA15A\",\"symbol\":\"circle\"},\"mode\":\"markers\",\"name\":\"SOC\",\"showlegend\":true,\"type\":\"scattergeo\"},{\"geo\":\"geo\",\"hovertemplate\":\"UserVar.branch_dest=MES<br>taskLocationDone.lat=%{lat}<br>taskLocationDone.lon=%{lon}<extra></extra>\",\"lat\":[3.325599,3.3432168,3.3397505,3.335423,3.5225181,3.5225181,3.104509,3.0957042,3.0918944,3.0971292,null,null,null,null,null,null,null,null,null,2.9614744,2.9614753,2.9614736,3.5904211,3.5904211,2.8869145,2.8869145,3.7348223,3.5641822,3.7655781,3.6031697,2.9548019,2.935395,3.5142612,3.6030625,3.5025807,3.5600382,3.6870536,3.6870536,3.6870536,3.6194278,3.6103757,3.5951124,3.6775436,3.5364944,3.5904216,3.5904216,2.9614342,2.9614277,3.6061985,2.6476574,3.5959825,3.5904237,3.7504106,2.6064795,3.4397623,2.6504478,3.5244454,3.5904222,3.5245058,3.5905942,3.5364183],\"legendgroup\":\"MES\",\"lon\":[99.1471719,99.1680668,99.1652705,99.1278023,99.1523609,99.1523609,98.4981901,98.4855122,98.473504,98.4801517,null,null,null,null,null,null,null,null,null,99.0724146,99.0724166,99.0724058,98.6253281,98.6253281,99.1761335,99.1761335,98.3820125,98.6679632,98.6812039,98.7087103,99.0814567,99.0443683,98.6763432,98.4867523,98.6890226,99.1137433,98.6672125,98.6672125,98.6672125,98.6548262,98.493479,98.7018544,98.6578983,98.7373474,98.6252962,98.6252962,99.0724142,99.0724165,98.6315544,98.6891134,98.6215983,98.6253113,98.4653578,98.6980556,98.8974599,98.6896119,98.7752621,98.6252972,98.7751565,98.6253749,98.7369244],\"marker\":{\"color\":\"#19d3f3\",\"symbol\":\"circle\"},\"mode\":\"markers\",\"name\":\"MES\",\"showlegend\":true,\"type\":\"scattergeo\"},{\"geo\":\"geo\",\"hovertemplate\":\"UserVar.branch_dest=TKG<br>taskLocationDone.lat=%{lat}<br>taskLocationDone.lon=%{lon}<extra></extra>\",\"lat\":[-5.043035,-4.7178125,-4.721257,-4.7235627,-5.4934834,-5.4770567,-5.3349353,null,null,null,-5.4991901,-5.4991901,-5.4974288,-5.4974288,-5.2987168,-5.359432,-5.4101535,-5.3997584,-5.3403,-5.3305509,-5.4763593,-5.4237036,-4.5991192,-5.3981972,-5.4107177,-5.5272269,-4.9561424,-4.3560705,-5.5521785,-5.3726909,-4.5301083,-5.2017652,-5.3542529,-5.1242409,-5.4511678,-5.4000337,-5.3557559,-5.5170148,-5.3762033,-4.928186,-5.4476101,-5.3762033,-5.5049667,-5.3572603,-5.4681234,-5.0391858,-5.0391858,-5.0391858,-5.0391858,-4.4434929,-4.4434929,-4.4434929,-5.6923944,-4.5990177,-5.0143077,null,-4.4462652,-5.0281995,-5.0281995,-5.0281995,-5.0281995,-4.8518239,-5.3599049,-5.3976416,-4.846799,-4.5990178,-5.4142489,-4.5990178,-4.8682891,-5.0439175,-4.846799,-4.5990178,-4.9268083,-5.414629,null,null,null,-5.4113084,-4.2097061,-4.8799941,-5.35663,-5.3590626,-5.3590626],\"legendgroup\":\"TKG\",\"lon\":[104.89435,105.3857739,105.383512,105.4056099,104.6241731,104.6831414,105.2125464,null,null,null,104.6293001,104.6293001,104.6302337,104.6302337,105.1922747,104.9782959,104.7278807,104.7235737,105.2132667,105.2078957,104.7007331,105.2536,105.8508323,105.2471069,105.8049967,105.7857219,104.7676667,105.0307198,105.4675817,105.2486595,105.0765567,105.2143364,105.2390471,105.3072277,105.2611109,105.2617671,105.2381655,105.6028415,105.2229546,105.2128234,105.2560739,105.2229546,105.6830017,104.9844782,104.5154629,104.4094254,104.4094254,104.4094254,104.4094254,105.5655735,105.5655735,105.5655735,105.5818514,105.8179419,104.4885462,null,105.5690477,104.0731167,104.0731167,104.0731167,104.0731167,104.8544004,104.9831056,104.757526,104.8963635,105.8179419,104.937923,105.8179419,104.8399871,105.5261734,104.8963635,105.8179419,104.792502,104.9543024,null,null,null,104.9585192,105.7386012,104.7759776,104.9816869,105.6648975,105.6648975],\"marker\":{\"color\":\"#FF6692\",\"symbol\":\"circle\"},\"mode\":\"markers\",\"name\":\"TKG\",\"showlegend\":true,\"type\":\"scattergeo\"},{\"geo\":\"geo\",\"hovertemplate\":\"UserVar.branch_dest=JOG<br>taskLocationDone.lat=%{lat}<br>taskLocationDone.lon=%{lon}<extra></extra>\",\"lat\":[-7.9216487,-7.9139844,-7.9333587,-7.9224857,-7.9362521,-7.8975667,-7.9333563,-7.9224857,-7.9334429,-7.92656,-7.900633,-7.8148498,-7.8187654,-7.8162527,-7.8350059,-7.8304575,-7.8182531,-7.8165081,-7.8324156,-7.8148498,-7.8170598,-7.843536,-7.8162999,-7.832448,-7.7970481,-7.8037704,-7.7631403,-7.8956681,-7.7760431,-7.7790913,-7.6889798,-7.8170357,-7.7812491,-7.9681608,-7.8170364,-7.8149653,-7.8171203,-7.8276509,-7.9633443,-7.8172124,-7.8160757,-7.7490988,-7.8152499,-7.8231839,-7.8925713],\"legendgroup\":\"JOG\",\"lon\":[110.3866727,110.3787142,110.3823585,110.3749052,110.381282,110.3895617,110.3823521,110.3749052,110.3823151,110.37618,110.3906647,110.3280228,110.3244674,110.3386681,110.3303282,110.341229,110.3349467,110.337115,110.3315749,110.3280228,110.3905759,110.4872102,110.3213793,110.3938763,110.3426106,110.3226648,110.3185586,110.3380584,110.4520983,110.3886346,110.4088386,110.390118,110.3990275,110.1991968,110.3901321,110.3893856,110.3904398,110.3893839,110.5998556,110.3905925,110.3900749,110.3831798,110.3915724,110.3890831,110.3520537],\"marker\":{\"color\":\"#B6E880\",\"symbol\":\"circle\"},\"mode\":\"markers\",\"name\":\"JOG\",\"showlegend\":true,\"type\":\"scattergeo\"},{\"geo\":\"geo\",\"hovertemplate\":\"UserVar.branch_dest=MXG<br>taskLocationDone.lat=%{lat}<br>taskLocationDone.lon=%{lon}<extra></extra>\",\"lat\":[-8.1018779,-8.0849551,-8.0931781,-8.0884916,-8.0884916,-7.9201578,-7.921668,-7.9225309,-7.921668,-7.9245514,-7.9270851,-7.9207682,-7.9197281,-7.9207682,-7.9225425,-7.9177494,-7.9225309,-7.9101472,-7.9197541,-7.9139699,-7.9228728,-7.912309,-7.9288582,-7.9227382,-7.9197281,-7.9111253,-7.9157022,-7.9178067,-7.9223179,-7.9223179,-7.9220293,-7.9542225,-7.966881,-8.1054332,-7.9807211,-8.1223903,-7.9493366,-8.1223913,-7.9752475,-8.0899641,-8.0955112,-8.0899518,-7.9752513,-7.9752513,-7.9752477,-7.9752477,-7.9752477,-7.9614078,-7.9752477,-8.0961983,-7.9614078,-7.9548675,-7.9605683,-8.0899781,-7.9752275,-7.9752474,-7.9545493,-8.1033361,-7.9515117,-8.0923498,-7.9610293,-8.0919583,-8.0919583,-8.0919583,-8.0919583,-8.0919583,-7.9610293,-7.9644026,-7.9621785,-7.9643853,-7.8779211,-8.1071733,-7.8779211,-7.9889652,-7.8779211,-7.8779211,-7.9415067,-7.9836498,-7.8788952,-7.9261789,-7.965735,-7.965735,-8.0884457,-7.965735,-8.0884464,-7.9546973,-7.965635,-7.9546973,-8.0899354,-8.0876774,-8.1086102,-7.975207,-7.9738562,-7.9753211,-8.1104732,-7.9752436,-7.9754012,-8.1354688,-7.9724974,-7.9622919,-7.9752494,-7.9752506,-8.0884606,-7.9762052,-7.9762052,-7.9755167,-7.9752453,-8.0899297,-8.0899297,-8.0884606,-7.9473256,-7.9534491,-7.9510208,-8.0660875,-7.9661933,-7.9937134,-8.1325134,-7.9480446,-7.9487581,-8.1126506,-7.972809,-7.972809,-8.0863364,-7.9510208,-7.9549391,-7.8692668,-7.8882157,-7.8882157,-7.9644634,-8.1104436,-8.1104436,-7.9754619,-8.1229783,-8.10421,-7.941562],\"legendgroup\":\"MXG\",\"lon\":[112.1611892,112.1691568,112.1660782,112.1744217,112.1744217,112.5885882,112.5695445,112.569368,112.5695445,112.5729091,112.5657327,112.5745446,112.5821632,112.5745446,112.5758736,112.5883013,112.569368,112.5839926,112.5821388,112.586408,112.587605,112.5850345,112.5741116,112.5738312,112.5821632,112.5838002,112.5839706,112.5756795,112.5703427,112.5703427,112.5724284,112.5878789,112.6125907,112.0530354,112.6375165,112.1645725,112.7448337,112.1645704,112.6358959,112.5863523,112.1854645,112.5861911,112.6358818,112.6358818,112.6358794,112.6358794,112.6358794,112.6700192,112.6358749,112.1774281,112.6700192,112.6397379,112.6705023,112.586438,112.6359159,112.6358798,112.6394005,112.177488,112.6443226,112.1857546,112.6365032,112.5589648,112.5589648,112.5589648,112.5589648,112.5589648,112.6365032,112.6710434,112.6725786,112.6348364,112.6763047,112.3787843,112.6763047,112.6553262,112.6763047,112.6763047,112.6235127,112.6248332,112.3520526,112.655117,112.6628425,112.6628425,112.1744992,112.6628425,112.1745007,112.6423869,112.662525,112.6423869,112.5862498,112.1734341,112.1798648,112.6359305,112.6340385,112.6357741,112.5769894,112.6358604,112.6357406,112.5785373,112.6336985,112.6402972,112.6358964,112.6359027,112.1743807,112.6296022,112.6296022,112.6295527,112.6358783,112.5862698,112.5862698,112.1743807,112.7404345,112.6200839,112.6411195,112.0875051,112.6492588,112.62778,112.4944731,112.6608761,112.6317779,112.1752688,112.6443812,112.6443812,112.3175497,112.6411195,112.6449593,112.524365,112.6697937,112.6697937,112.6080959,112.1968702,112.1968702,112.6358689,112.18518,112.1838815,112.6441525],\"marker\":{\"color\":\"#FF97FF\",\"symbol\":\"circle\"},\"mode\":\"markers\",\"name\":\"MXG\",\"showlegend\":true,\"type\":\"scattergeo\"},{\"geo\":\"geo\",\"hovertemplate\":\"UserVar.branch_dest=PNK<br>taskLocationDone.lat=%{lat}<br>taskLocationDone.lon=%{lon}<extra></extra>\",\"lat\":[0.0733232,0.0812969,0.0835197,0.0850428,0.0729967,0.0649503,-0.0871012,-0.0871012,-0.0871012,0.0629581,-0.2890695,1.3584581,-0.0871012,-0.0871012,-0.0871012,-0.0870716,-0.0870716,0.059224,-0.0870692,-0.0870692,0.0776032,-0.087119,-0.0870716,-0.2890699,-0.2890694,0.0625466,-0.0870716,-0.0870716,-0.0870716,-0.0870716,-0.0870716,-0.0870716,-0.0870716,-0.0870716,-0.0870716,0.071276,0.0757652,0.0757652,0.0646565,1.3644188,0.0633347,-0.2895975,0.0650006,0.063371,0.0649174,-0.086571,-0.086571,-0.086571,-0.086571,-0.086571,-0.086571,-0.086571,-0.086571,-0.086571,-0.086571,-0.086571,-0.086571,-0.086571,-0.086571,-0.086571,-0.086571,-0.086571,-0.086571,-0.086571,-0.086571,-0.086571,-0.086571,-0.086571,-0.086571,-0.086571,-0.086571,-0.086571,-0.086571,-0.086571,-0.086571,-0.086571,-0.086571,-0.086571,-0.086571,-0.086571,-0.086571,-0.086571,-0.086571,-0.086571,-0.086571,-0.086571,-0.086571,-0.086571,-0.086571,-0.086571,-0.086571,-0.086571,-0.086571,1.3620774,0.0704002,0.0704002,0.0704002,-0.0870822,0.0705139,0.8660894,1.3621715,0.0639252,0.0697141,1.3610729,0.0191831,0.0639252,-0.0870788,0.0626299,1.3634127,0.3820047,0.0626396,0.8678342,-1.8320228,0.5094498,1.1652125,-0.7430514,1.3644205,1.3644205,0.0722018,-0.0870812,0.0761331,0.064862,0.064808,0.0774184,0.0771967,1.3569086,1.3569086,0.0576036,-0.2970557,-0.2970397,1.1733904,1.1733904,1.1733904,0.0648259,0.0648689,-0.2936606,-0.2936551,-0.2936551,-0.2936551,-0.0858723,-0.0858723,-0.0858723,-0.0858723,0.0191916,-0.0858723,0.0754748,1.1786845,0.1405256,0.1222282,0.1222282,0.0754748,0.1405256,0.0756509,0.0648008,-0.0387792,0.0641911],\"legendgroup\":\"PNK\",\"lon\":[111.4836438,111.48486,111.4818455,111.4690818,111.4838627,111.4943035,109.3665454,109.3665454,109.3665454,111.4934884,111.6062086,109.2985251,109.3665454,109.3665454,109.3665454,109.3665561,109.3665561,111.4912338,109.3665258,109.3665258,111.5028549,109.36647,109.3665561,111.6062107,111.606202,111.4747379,109.3665561,109.3665561,109.3665561,109.3665561,109.3665561,109.3665561,109.3665561,109.3665561,109.3665561,111.4926943,111.4943677,111.4943677,111.4958607,109.2952438,111.4970428,109.5752189,111.4958152,111.4975645,111.4991442,109.3640071,109.3640071,109.3640071,109.3640071,109.3640071,109.3640071,109.3640071,109.3640071,109.3640071,109.3640071,109.3640071,109.3640071,109.3640071,109.3640071,109.3640071,109.3640071,109.3640071,109.3640071,109.3640071,109.3640071,109.3640071,109.3640071,109.3640071,109.3640071,109.3640071,109.3640071,109.3640071,109.3640071,109.3640071,109.3640071,109.3640071,109.3640071,109.3640071,109.3640071,109.3640071,109.3640071,109.3640071,109.3640071,109.3640071,109.3640071,109.3640071,109.3640071,109.3640071,109.3640071,109.3640071,109.3640071,109.3640071,109.3640071,109.303447,111.4967897,111.4967897,111.4967897,109.3665835,111.4968798,112.9231687,109.3058651,111.4793075,111.4917708,109.302212,110.8918536,111.4793075,109.3666065,111.2088164,109.3283162,109.9430251,111.2088239,108.932097,109.9847682,109.7511685,109.7658427,109.5375862,109.2952418,109.2952418,111.5012762,109.3665565,111.5005125,111.4944023,111.4944416,111.5039429,111.5062704,109.3058305,109.3058305,111.4909355,109.5672989,109.5672123,108.9691924,108.9691924,108.9691924,111.4944643,111.4944786,109.5704254,109.5704259,109.5704259,109.5704259,109.3683895,109.3683895,109.3683895,109.3683895,110.8918413,109.3683895,111.4840716,108.9741656,110.1058258,110.6032372,110.6032372,111.4840716,110.1058258,111.4840519,111.4944318,109.3334043,111.4918438],\"marker\":{\"color\":\"#FECB52\",\"symbol\":\"circle\"},\"mode\":\"markers\",\"name\":\"PNK\",\"showlegend\":true,\"type\":\"scattergeo\"},{\"geo\":\"geo\",\"hovertemplate\":\"UserVar.branch_dest=CBN<br>taskLocationDone.lat=%{lat}<br>taskLocationDone.lon=%{lon}<extra></extra>\",\"lat\":[-6.7388664,-6.738862,-6.7388545,-6.7388552,-6.7388567,-6.6971683,-6.6900667,-6.7313155,-7.0310588,-6.9268059,-6.9268059,-6.9549484,-6.9697607,-6.6651434,-7.0045891,-6.9925743,-6.9583786,-7.0044132,-6.9603245,-6.9644251,-6.9257071,-6.7753169,-6.9863646,-6.7835219,-6.9862938,-6.9799717,-6.9716336,-6.8869651,-6.9711364,-6.9901143,-7.0045624,-6.9249497,-6.9545071,-6.9864828,-6.9644251,-7.0278908,-6.8485664,-6.7533864,-6.9065418,-6.7688619,-6.7219763,-6.7350338,-6.3300822,-6.3534246,-6.7041307,-6.9339771,-6.9399493,-6.9990869,-6.7503768,-6.943105,-6.7158908,-6.8459619,-6.8459619,-6.8459619,-6.7601537,-6.8044548,-6.7286944,-6.7388611,-6.7048873,-6.4216651,-6.3309158,-6.3524037,-6.7190057,-6.6164483,-6.7601537,-6.9176479,-6.8314722,-6.9995951,-6.8272959,-6.9606364,-6.9830049,-6.9306139,-7.0080947,-6.9521991,-6.9788886,-6.9919501,-6.9648839,null,null,null,null,null,null,null,null,null,null,null,null,null,null,null,null,-7.0159976,-6.9814963,-6.9638145,-6.964429,-6.9690118,-7.01897,-6.9682085,-6.9978204,-6.9978204,-6.7497522,-6.9575002,-6.9495559,-6.9761109,-6.9695308,-7.0195363,-6.7025205,-7.0032856,-6.969609,-6.8397481,-6.9745608,-7.018915,-7.018915,-6.969609,-6.9612093,-6.9165088,-6.9324435,-6.7729036,-6.9686272,-6.9570131,-6.9805496,-6.9805496,-6.9957217,-6.3236486,-6.9678895,-6.9153201,-6.3230525,-6.9852271,-6.9919255,-6.9581329,-6.9670571,-6.9759714],\"legendgroup\":\"CBN\",\"lon\":[108.2542435,108.2542432,108.2542351,108.2542415,108.254236,108.3168967,108.35035,108.3495368,108.299488,108.5007165,108.5007165,108.2205675,108.502356,108.5392327,108.4528047,108.4610711,108.4885295,108.4560829,108.4904639,108.520251,108.4870231,108.3198721,108.6036078,108.3190909,108.6070881,108.3147117,108.5030202,108.7692707,108.5190463,108.6116352,108.4458721,108.4878829,108.4889835,108.3323336,108.520251,108.3055429,108.7565694,108.473237,108.4839227,108.4860813,108.5371244,108.5810714,108.3121648,108.3351568,108.5582043,108.4948554,108.2774312,108.528823,108.5155027,108.7578671,108.5277073,108.809057,108.809057,108.809057,108.5674811,108.618346,108.5650543,108.2542375,108.561265,108.2524244,108.0062043,108.3082691,108.5352024,108.3899321,108.5674811,108.7404073,108.215754,108.4569621,108.2832433,108.5104429,108.5918207,108.4904798,108.5995753,108.4855264,108.4859807,108.4443552,108.5930017,null,null,null,null,null,null,null,null,null,null,null,null,null,null,null,null,108.6302724,108.4767943,108.505864,108.5202523,108.5160782,108.6382317,108.5391124,108.5298556,108.5298556,108.2086096,108.4913694,108.5203803,108.4689656,108.5057571,108.6551897,108.3239267,108.3334316,108.5149657,108.6414608,108.4872678,108.6227029,108.6227029,108.5149657,108.4934988,108.4917327,108.5138611,108.3065372,108.5062127,108.4680628,108.4715655,108.4715655,108.4488703,108.3248914,108.4631824,108.4939069,108.3252115,108.4489339,108.5395421,108.4989754,108.5062791,108.6510109],\"marker\":{\"color\":\"#636efa\",\"symbol\":\"circle\"},\"mode\":\"markers\",\"name\":\"CBN\",\"showlegend\":true,\"type\":\"scattergeo\"},{\"geo\":\"geo\",\"hovertemplate\":\"UserVar.branch_dest=TGL<br>taskLocationDone.lat=%{lat}<br>taskLocationDone.lon=%{lon}<extra></extra>\",\"lat\":[-6.8772296,-6.9067175,-6.8957708,-6.8695457,-6.8691203,-6.8774052,-6.9071728,-6.9676663,-6.9886733,-6.9793835,null,null,null,null,null,null,-7.3882207,-6.9935945,-6.8731191,-6.8662763,-6.9730606,-7.5350396,-7.5350396,-7.5350396,-7.5350396,-7.5350396,-7.5350396,-7.5350396,-7.5350396,-7.5350396,-7.5350396,-7.5350396,-7.5350396,-7.5350396,-7.5350396,-6.8677553,-7.445095,-7.3803592,-7.3749997,null,null,null,null,null,null,null,null,null,null,null,null,null,null,null,null,null,null,null,null,null,null,null,null,-7.3673,-6.9225104,-6.873624,-7.1664027],\"legendgroup\":\"TGL\",\"lon\":[109.3003518,109.3326382,109.3439964,109.3346789,109.3336834,109.2984622,109.3271833,109.1341094,109.1357931,109.1259933,null,null,null,null,null,null,109.2366539,109.1262062,109.1376599,109.0157996,109.1111428,109.1815951,109.1815951,109.1815951,109.1815951,109.1815951,109.1815951,109.1815951,109.1815951,109.1815951,109.1815951,109.1815951,109.1815951,109.1815951,109.1815951,108.9804341,109.2425333,109.2604894,109.2608012,null,null,null,null,null,null,null,null,null,null,null,null,null,null,null,null,null,null,null,null,null,null,null,null,109.2674333,108.8334254,109.1372794,109.1593824],\"marker\":{\"color\":\"#EF553B\",\"symbol\":\"circle\"},\"mode\":\"markers\",\"name\":\"TGL\",\"showlegend\":true,\"type\":\"scattergeo\"},{\"geo\":\"geo\",\"hovertemplate\":\"UserVar.branch_dest=DJB<br>taskLocationDone.lat=%{lat}<br>taskLocationDone.lon=%{lon}<extra></extra>\",\"lat\":[-1.5770504,-1.5864341,-1.5850998,-1.5861467,-1.6146696,-1.535175,-1.5351805,-1.6047179,-1.6247539,-1.7656651,-2.0558367,-0.8217657,-0.8231708,-2.0558408],\"legendgroup\":\"DJB\",\"lon\":[103.6008012,103.5902936,103.5840063,103.586875,102.3450251,102.715637,102.7156391,103.5514353,103.603365,102.4727846,101.401599,103.4610243,103.4692028,101.4016052],\"marker\":{\"color\":\"#00cc96\",\"symbol\":\"circle\"},\"mode\":\"markers\",\"name\":\"DJB\",\"showlegend\":true,\"type\":\"scattergeo\"},{\"geo\":\"geo\",\"hovertemplate\":\"UserVar.branch_dest=BPN<br>taskLocationDone.lat=%{lat}<br>taskLocationDone.lon=%{lon}<extra></extra>\",\"lat\":[-1.2465589,-1.2454093,-1.2484911,-1.2484911,-1.2547343,-1.2440844,-1.2623888,-1.2543362,2.1565598,-1.9136441,-1.2543362,-1.2440844,2.1474644,-1.2030217,-1.3361459,-1.2731532,-1.2154035,-1.2154035,-1.2731532,-1.2731532,-1.4991477,-1.2543362,-1.2731532,-1.2514348,-1.2514348,-1.2514348,null,-1.2487615,-1.2623888,-1.2444044,-1.2543362,-1.9136473,-1.9136473,-1.2154035,-1.2733234,2.146081,-1.2733234,2.1470706,2.1474772,2.1474772,2.1472854,-1.2498507,null,-1.2549416,-1.2549416,-1.2549416,-1.2709068,-1.2717972,-1.2574049,-1.2582862,-1.2582862,-1.2569297,-1.2569297,-1.9136402,-1.9136402,-1.9136402,-1.24335,-1.9136428,-1.2733191,-1.2513072,2.1474763,-1.2731231,-1.2513091,-1.9136428,-1.2709763,-1.2520643,-1.9136335,-1.2524818,-1.2524818,-1.2524818,-1.2529152,-1.2512451,-0.8267793,-1.2511021,-1.2444494,2.1474798,-1.917652,-1.2467529,-1.2467529,-1.2583995,-1.9136684,-1.2583995,-1.9136684,-1.2455243,-1.039139,-1.2767158,-1.2487221,-1.2487221,-1.2487221,-1.2487221,-1.2487221,-1.2487221,2.1587577,-1.2311729,-1.2421377,-1.2557175,-1.9051877,2.1403905,2.0591397,-1.2047971,-1.2047971,-1.2047971,-1.2036937,-1.2035316,-1.2707275,-1.2037509,2.0591968,-1.2744741,-1.2162691,-1.9136326,2.1465468,-1.2513841,-1.2385119,2.150162,2.1506707,-1.2312908,2.1477473,2.1744268,2.1474814,2.1753244,2.1753244,-1.3361191,2.1474979,2.1753244,-1.2739008,-1.2381712,2.150609,-1.8681515,2.1270175,-1.2440813,-1.9063231,-1.2510896,2.1467748,-1.2474983,-1.2510896,2.1467748,-1.2606097,-1.2702169,-1.2550812,-1.2550812,-1.2746648,2.1585363,null,2.1474918,2.1474918,-1.2097178,-1.2530203,-1.2555581,-1.8986021],\"legendgroup\":\"BPN\",\"lon\":[116.7750037,116.7770663,116.7761168,116.7761168,116.7721895,116.8722957,116.8368098,116.8705949,117.4276284,116.1940813,116.8705949,116.8722957,117.4983246,116.8655117,116.6900446,116.8509776,116.8572776,116.8572776,116.8509776,116.8509776,116.3836333,116.8705949,116.8509776,116.829239,116.829239,116.829239,null,116.8884202,116.8368098,116.8728708,116.8705949,116.1940787,116.1940787,116.8572776,116.851106,117.4991753,116.851106,117.4983833,117.4983221,117.4983221,117.498274,116.8339548,null,116.8311636,116.8311636,116.8311636,116.8554716,116.8538939,116.8361077,116.828235,116.828235,116.8312377,116.8312377,116.1940757,116.1940757,116.1940757,116.8687677,116.1940787,116.8511041,116.8712539,117.4983158,116.8509105,116.8712505,116.1940787,116.8528051,116.8250051,116.1940813,116.8256899,116.8256899,116.8256899,116.8705907,116.8294458,117.2423078,116.8286013,116.8737676,117.4983091,116.1979272,116.8281139,116.8281139,116.8330607,116.1940689,116.8330607,116.1940689,116.87421,117.0126127,116.8451963,116.8280605,116.8280605,116.8280605,116.8280605,116.8280605,116.8280605,117.4203185,116.8736622,116.8642766,116.8739177,116.2016542,117.5008377,117.3044167,116.8681248,116.8681248,116.8681248,116.8686422,116.8681601,116.8569459,116.8693153,117.3166554,116.8490125,116.8622931,116.1940821,117.4999051,116.8367738,116.8266505,117.5051558,117.5077813,116.8754686,117.502587,117.5484224,117.4983127,117.5332574,117.5332574,116.6901086,117.4982751,117.5332574,116.8616797,116.8276755,117.5077344,116.1750322,117.4907582,116.8304763,116.1940983,116.8704867,117.498772,116.8298036,116.8704867,117.498772,116.8190727,116.8586261,116.840983,116.840983,116.8696679,117.491752,null,117.4983028,117.4983028,116.8620628,116.839072,116.7706433,116.1922096],\"marker\":{\"color\":\"#ab63fa\",\"symbol\":\"circle\"},\"mode\":\"markers\",\"name\":\"BPN\",\"showlegend\":true,\"type\":\"scattergeo\"},{\"geo\":\"geo\",\"hovertemplate\":\"UserVar.branch_dest=BKI<br>taskLocationDone.lat=%{lat}<br>taskLocationDone.lon=%{lon}<extra></extra>\",\"lat\":[null,null,null,null,null,null,-6.2215187,-6.270999,-6.270999,null,-6.2278024,-6.2717745,-6.2754987,null,-6.2267406,-6.2245162,-6.3040907,-6.227242,-6.226335,-6.2737085,-6.2269247,-6.2461542,-6.2390035,-6.2978104,-6.2461413,-6.2225985,-6.1574016,-6.2902056,-6.318851,-6.318851,-6.318851,-6.2494375,-6.2644683,-6.2621511,-6.3063139,-6.2585492,-6.318851,-6.2742329,-6.2584464,-6.2584464,-6.3468689,-6.2130622,-6.2584464,-6.2584464,-6.296934,-6.2770354,-6.2584464,-6.318851,-6.296934,-6.2566562,-6.225913,-6.3135768,-6.270999,-6.2888847,-6.3000491,-6.3010929,-6.3002521,-6.297753,-6.2332163,-6.2333952,-6.2332206,-6.2336862,-6.2354789,-6.2394538,-6.2386312,null,null,-6.2362674,-6.2409205,-6.2384578,-6.2139458,-6.2473279,-6.2330582,-6.1967624,-6.2154583,-6.2267239,-6.2284673,null,-6.2284673,-6.2138371],\"legendgroup\":\"BKI\",\"lon\":[null,null,null,null,null,null,107.0470636,106.9723936,106.9723936,null,107.0154999,106.9744196,106.9164105,null,107.0218714,107.0229598,106.9273565,107.0218911,107.0224377,106.9618631,107.0117677,107.0362781,106.9711754,106.9061646,106.9491223,106.9778801,107.0439047,107.0040374,107.0111484,107.0111484,107.0111484,107.0271517,106.959245,106.9713421,106.9608705,106.9437922,107.0111484,106.9712261,106.9774305,106.9774305,106.9815843,107.0456387,106.9774305,106.9774305,106.9416167,106.9729996,106.9774305,107.0111484,106.9416167,107.0106158,107.0035843,106.9555298,106.989289,106.9156331,106.9240352,106.9231066,106.9243769,106.9279259,107.0165711,107.0149753,107.0165603,107.013773,107.0106964,107.0081378,107.0073652,null,null,107.0325261,107.0188189,107.0072527,107.0240404,106.9885461,106.9893126,107.0043427,106.97301,106.9958195,106.9947116,null,106.9947116,107.0252774],\"marker\":{\"color\":\"#FFA15A\",\"symbol\":\"circle\"},\"mode\":\"markers\",\"name\":\"BKI\",\"showlegend\":true,\"type\":\"scattergeo\"},{\"geo\":\"geo\",\"hovertemplate\":\"UserVar.branch_dest=GTO<br>taskLocationDone.lat=%{lat}<br>taskLocationDone.lon=%{lon}<extra></extra>\",\"lat\":[0.5322025,0.5319726,0.5319726,0.5270518,0.5270518,0.5544477,0.5444817,0.5779591,0.5633467,null,null,null,null,null,null,null,null,null,null,null,null,null,null,null,null,null,null,null,0.5778779,0.5779563,0.5779546,0.5648567,0.5648567,0.5648567,0.555874,0.4674438,0.5826752],\"legendgroup\":\"GTO\",\"lon\":[122.3556305,122.3552834,122.3552834,122.3448554,122.3448554,123.0814762,123.050895,123.0605611,123.0645138,null,null,null,null,null,null,null,null,null,null,null,null,null,null,null,null,null,null,null,123.0605069,123.0605582,123.0605616,123.0515187,123.0515187,123.0515187,123.056919,121.9321659,123.0683445],\"marker\":{\"color\":\"#19d3f3\",\"symbol\":\"circle\"},\"mode\":\"markers\",\"name\":\"GTO\",\"showlegend\":true,\"type\":\"scattergeo\"},{\"geo\":\"geo\",\"hovertemplate\":\"UserVar.branch_dest=MDN<br>taskLocationDone.lat=%{lat}<br>taskLocationDone.lon=%{lon}<extra></extra>\",\"lat\":[-7.6805601,-7.6553092,-8.2036504,-8.1945712,-7.422017,-7.9792771,-7.8618555,-7.9224671,-8.1393361,-7.4415703,-8.1164655,-7.8776169,-8.1956052,-7.7506062,-7.7506062,-7.7506062,-7.7506062,-7.5692505,-7.7741471,-8.1945778,-7.5509151,-8.194575,-8.194575,-7.8650498,-7.825802,-8.2515812,-7.8603205,-7.8499714,-7.6497976,-7.8646749,-7.8591242,-7.8591264,-7.9633114,-7.9633114,-7.6484807,-7.9633114,-7.8475578],\"legendgroup\":\"MDN\",\"lon\":[111.3358809,111.4787293,111.33066,111.1085871,111.4412231,111.4905625,111.337453,111.4796599,111.0167936,111.3869951,111.1265955,111.4749477,111.1159475,111.6081281,111.6081281,111.6081281,111.6081281,111.5972163,111.5307088,111.1086072,111.6487816,111.108599,111.108599,111.4662098,111.3798133,111.1904416,111.4748129,111.3853654,111.7146884,111.4766918,111.4691742,111.4691626,111.4349335,111.4349335,111.3238619,111.4349335,111.4591217],\"marker\":{\"color\":\"#FF6692\",\"symbol\":\"circle\"},\"mode\":\"markers\",\"name\":\"MDN\",\"showlegend\":true,\"type\":\"scattergeo\"},{\"geo\":\"geo\",\"hovertemplate\":\"UserVar.branch_dest=MDC<br>taskLocationDone.lat=%{lat}<br>taskLocationDone.lon=%{lon}<extra></extra>\",\"lat\":[1.4704722,1.4978158,1.5006984,1.500001,1.4926884,1.4967444,1.4904752,1.5000581,1.5028739,0.8785254,0.8812506,1.4873369,1.4873369,1.4970304,1.4698362,1.4867653,1.4362287,0.7106972,1.5192548,1.4931732,1.4946657,1.4924279,0.8952445,1.489686,1.4931016,null,null,0.8801654,1.2980513,1.3013714,1.4928977,1.4928977,1.4928977,1.4928977,1.4930167,1.4513127,null],\"legendgroup\":\"MDC\",\"lon\":[124.8505849,124.8456829,124.8637763,124.8588968,124.8523297,124.8503005,124.8499254,124.8594384,124.8572676,123.6510786,123.6460036,124.861365,124.861365,124.86423,124.8862213,124.8553616,125.1305529,124.3831516,124.8954466,124.8613761,124.872935,124.8584502,123.5873217,124.8619795,124.861494,null,null,123.647473,124.9115491,124.9074659,124.8406844,124.8406844,124.8406844,124.8406844,124.8406844,124.7668649,null],\"marker\":{\"color\":\"#B6E880\",\"symbol\":\"circle\"},\"mode\":\"markers\",\"name\":\"MDC\",\"showlegend\":true,\"type\":\"scattergeo\"},{\"geo\":\"geo\",\"hovertemplate\":\"UserVar.branch_dest=KOE<br>taskLocationDone.lat=%{lat}<br>taskLocationDone.lon=%{lon}<extra></extra>\",\"lat\":[-8.93106,-8.9337396,-8.93106,-8.93106,-8.8323873,-10.1472642,-10.1875349,-9.5693159,-9.5693159,-10.1371943,-10.1628897,-9.8647574,-8.7889716,-8.7870851,-8.2144481,-9.6096723,-9.4962335,-10.2078491,-10.2078491,-10.2078491,-8.7638901,-10.2078491,-8.3019831,-8.7638901,-10.1715001,-10.1372301,-9.1161322,-8.7638901,-10.1561172,-10.1372301,-8.7625658,-8.7635787,-10.1629314,-10.1780539,-8.3154952,-10.1792128,-8.5674585,-10.1875488,-9.6528726,-10.1472179,-9.6338986,-8.5677216,-8.7652862,-10.1567553,-8.5052488,-10.1780597,-8.4984863,-9.4693861,-10.1562014,-10.1562014,-10.1561534,-9.647751,-8.619881,-9.442577,-10.1618625,-8.84454,-9.647751,-9.4695965,-10.1594885,-8.6087523,-8.609845,-8.84454,-10.1855039,-9.563648,-9.647751,-10.1618993,-10.4916617,-10.1558931,-8.7855381,-8.6319278,-8.6372787,-10.1816549,-8.63046,-8.613057,-8.6086467,-9.6477504,-10.1560985,-10.1868802,-10.1617992,-10.1997317,-9.646013,-10.1858986,-8.4985052,-8.8908072,-10.1570095,-10.1570095,-10.1565747,-8.6087619,-10.20456,-9.6477504,-8.5032801,-9.6513583,-8.8150816,-9.6477504,-10.1920175,-8.4985042,-8.4985042,-8.2121686,-10.1715511,-10.1542894,-8.6056112,-8.6102454,-8.6096594,-8.6050563,-9.466147,-8.6091495,-8.6063024,-8.6080391,-8.6080391,-8.6080391,-8.6117404,-10.4911922,-10.190424,-10.1809953,-10.1461456,-10.1724629,-8.344578,-10.1652032,-9.5135617,-10.1521116,-10.1777398,-10.1455177,-10.1796368,-10.1469795,-10.1469795,-10.1455177,-10.1809953,-10.1540869,-8.6018906,-10.1469795,-8.6132819,-10.1501615,-9.4661298,-9.4661298,-9.4661298,-10.1920175,-10.1652603,-8.6260356,-8.3161389,-9.6477508,-9.4424467,-8.842951,-10.1681972,-8.7899043,-8.342056666666668,-8.4984262,-8.8989913,-8.8453847,-8.2166141,-8.8155697,-10.1472895,-10.1854848,-10.1854848,-10.1854848,-10.1854598,-10.1854598,-10.1839725,-10.197931,-9.6336976,-10.1533282,-10.1839725,-9.6539505,-10.1479115,-10.1866665,-10.1470043,-9.6324134,-9.6324134,-9.6324134,-9.6580628,-8.4984694,-10.1839725,-9.6405642,-8.4984694,-10.1565399,-10.2061237,-8.321386666666665,-9.6336282,-9.620957,-10.1537264,-10.1573462,-10.1860758,-8.3277947,-10.1542534,-8.5469448,-10.1581895,-10.1784031,-10.1525479,-10.1604895,-9.4716319,-9.4657302,-8.3315169,null,null,null,null,null,null,null,null,null,null,null,null,null,null,null,null,null,null,null,null,null,null,null,null,null,null,null,null,null,null,null,null,null,null,null,null,null,null,null,null,null,null,null,null,null,null,null,-8.2144769,-8.2144769,-10.4936577,-8.214575,-8.5575018,-8.3056633,-8.3886297,-8.6131868,-8.3419911,-9.6321605,-9.8655587,-8.3402156,-10.4918598,-10.4918598,-10.4918598,-10.1474937,-10.1474937,-9.1189237,-10.1491795,-9.4582605,-8.3900131,-8.3802515,null,null,null,null,null,null,null,null,null,null,null,null,null,null,null,-10.1851062,-10.2014286,-10.160804,-9.6525293,-9.1160274,-10.1601754,-8.4983221,-8.4983221,-9.4693874,-8.4985106,-9.4651573,-8.3165354,-9.4693874,-9.4693874,-8.5216381,-9.4579344,-9.460856,-8.3020941,-10.1643219,-10.1643219,-10.1643219,-8.2166412,-8.8600022,-9.460856,-8.3246271,-9.4586809,-8.8582974,-8.5098674,-10.1540122,-10.1800449,-9.628565,-10.1703822,-10.1674507,-10.1616661,-10.1705601,-8.3707971,-8.3707971,-10.1713503,-8.6082267,-10.1435057,-9.1204754,-10.1723059,-10.1435057,-10.146025,-9.1144208,-10.1479811,-10.1479811,null,null,-10.1722553,-8.2170448,-8.6031164,-8.78857,-10.1602082,-10.1578453,-10.1592395,-10.1592395,-10.1592395,-8.5133055],\"legendgroup\":\"KOE\",\"lon\":[120.9370517,120.9394057,120.9370517,120.9370517,120.8494229,123.6249528,123.6645981,124.9066266,124.9066266,123.6655875,123.6536464,124.2801383,120.9746741,120.9702158,124.5610516,124.8156712,124.4586528,123.5825514,123.5825514,123.5825514,121.1893748,123.5825514,123.0186447,121.1893748,123.6078231,123.6655588,124.8872379,121.1893748,123.6683392,123.6655588,121.1904156,121.1898978,123.6533415,123.6470855,123.0168336,123.5920661,121.2710424,123.6125575,120.2662363,123.6494447,119.4190241,121.2739025,121.1885178,123.6200032,119.8837003,123.6470685,119.8860488,124.4817344,123.6107455,123.6107455,123.6111254,120.2578528,120.4607859,119.2306881,123.5844622,121.669567,120.2578529,124.4802946,123.609136,120.464552,120.46296,121.669567,123.6049487,124.9056022,120.2578529,123.6089324,121.8413575,123.6135916,121.1247505,122.2100567,122.2067073,123.615414,122.2052885,122.2028058,120.4725738,120.2578517,123.5950507,123.6060017,123.5845724,123.5792617,120.2606626,123.6023598,119.8860563,121.1266862,123.6195544,123.6195544,123.6185705,120.4716131,123.580018,120.2578517,119.8853963,120.2725683,120.6113407,120.2578514,123.6072598,119.8860635,119.8860635,112.9421876,123.6076923,123.6002765,120.4658205,120.46637,120.4634525,120.4662488,124.4774206,120.4639823,120.4666876,120.4669947,120.4669947,120.4669947,120.463359,121.8507961,123.6132054,123.6034124,123.6191132,123.6091729,122.9819677,123.6238414,119.2576834,123.6035662,123.6203918,123.6257257,123.5977811,123.6236968,123.6236968,123.6257257,123.6034124,123.6600612,120.4622915,123.6236968,120.4665186,123.6158732,124.4774326,124.4774326,124.4774326,123.6072598,123.6238605,122.211985,120.4827444,120.2578527,124.4320583,121.662632,123.6208998,120.9749629,122.98814166666668,119.8860295,121.1359914,121.6662744,124.5257827,120.6067033,123.6523674,123.6048608,123.6048608,123.6048608,123.6048748,123.6048748,123.6037622,123.5805404,119.4118807,123.5991106,123.6037622,120.2723915,123.6181655,123.6065603,123.6129516,119.4122784,119.4122784,119.4122784,120.2700112,119.8859561,123.6037622,119.4074009,119.8859561,123.5957172,123.5792753,123.008655,119.4131711,119.4027471,123.6268923,123.6031297,123.6110807,123.0034375,123.6334427,119.9160531,123.663489,123.594039,123.6253225,123.6724571,124.480641,124.481455,123.0006939,null,null,null,null,null,null,null,null,null,null,null,null,null,null,null,null,null,null,null,null,null,null,null,null,null,null,null,null,null,null,null,null,null,null,null,null,null,null,null,null,null,null,null,null,null,null,null,124.5312502,124.5312502,121.8439849,124.5284332,121.264589,123.0168717,123.1673071,120.4663691,122.9838632,119.4140867,124.2830436,122.9854976,121.8478926,121.8478926,121.8478926,123.6522894,123.6522894,124.8793149,123.6518711,124.4775193,123.1638928,123.1735108,null,null,null,null,null,null,null,null,null,null,null,null,null,null,null,123.6023075,123.6253547,123.6533876,120.2665968,124.8872034,123.6565309,119.8859865,119.8859865,124.4816959,119.8860657,124.4793145,123.0151428,124.4816959,124.4816959,119.8908107,124.4753936,124.4770279,123.0187873,123.6564463,123.6564463,123.6564463,124.5257818,121.0949519,124.4770279,123.0055133,124.4792211,121.1003243,119.8780852,123.6403929,123.5887064,119.3882808,123.5870581,123.6047144,123.6708113,123.5871635,123.4210001,123.4210001,123.5858037,120.4628667,123.6642526,124.8871127,123.5915849,123.6642526,123.658305,124.9091362,123.6750878,123.6750878,null,null,123.6001167,124.5674212,120.4778324,120.9696855,123.6680585,123.6259343,123.6327498,123.6327498,123.6327498,119.8771726],\"marker\":{\"color\":\"#FF97FF\",\"symbol\":\"circle\"},\"mode\":\"markers\",\"name\":\"KOE\",\"showlegend\":true,\"type\":\"scattergeo\"},{\"geo\":\"geo\",\"hovertemplate\":\"UserVar.branch_dest=PLM<br>taskLocationDone.lat=%{lat}<br>taskLocationDone.lon=%{lon}<extra></extra>\",\"lat\":[-3.3133867,-3.1958065,-3.1958065,-3.7005884,-3.6456452,-2.8935382,-2.8935385,-3.8761343,-2.9616609,-2.9616609,-3.6517321,null,-2.593567,-2.593567,-2.9152213,-3.7005884,-3.65523,-3.65523,-2.9154503,-3.6926915,-2.9609202,-2.9609202,-2.7295316,-2.7295316,-2.7295316,-2.7295316,-2.7295316,-2.7295316,-2.7295316,-2.7295316,-2.7295316,-2.7295316,-2.7295316,-2.7295316,-2.7295316,-2.7295316,-2.7295307,-2.7295307,-2.7295307,-2.7295307,-2.7295307,-2.7295307,-2.7295307,-2.7295307,-2.7295307,-3.195809,-2.7295307,-2.7295307,-2.7295307,-2.7295307,-2.7295307,-2.7295307,-2.7295307,-2.7295307,-2.7295307,-2.7295307,-3.6559434,-3.7365784,-2.9611225,-2.9611225,-2.9611225,-3.6643554,-2.9611225,-2.9611225,-3.7365784,-2.9611225,-2.9733831,-2.9733831,-2.9733831,-2.9733831,-2.9733831,-2.9733831,-2.9733831,-2.9733831,-2.9733831,-2.9733831,-2.9733831,-2.9733831,-2.9733831,-2.9733831,-2.9733831,-2.9733831,-2.9733831,-2.9733831,-2.9733831,-2.9733831,-2.9733831,-2.9733831,-2.9733831,-2.9733831,-2.9733831,-2.9733831,-2.9611414,-2.9611414,-3.6755838,-3.2825059,-2.9605038,-2.9605038,-3.2825059,-3.2825059,-3.2825059,-3.6586417,-2.5583478,-3.6772171,-3.6416253,-3.6416253,-3.8726684,-2.8894036,-2.8894036,-2.8894036,-3.6767437,-2.9610899,-2.8935452,-2.8894036,-2.9609797,-2.8701717,-3.8919947,-3.8919947,-2.9262627,-2.8890894,-2.9967161,-2.9623233,-4.1447236,-2.9969669,-2.9979751,-4.1242773,-2.9277874,-3.7877837,-3.2821999,-3.2821999,-3.2821999,-3.2821999,-3.2821999,-2.8479858,-2.9610749,-3.2264414,null,null,null,null,null,null,null,null,null,null,null,null,null,null,null,null,null,null,null,null,null,null,-2.8893977,-2.8935274,-2.8935274,-2.8935274,-2.8935274,-2.8935274,-2.8935274,-2.8935274,-2.8935274,-2.8935274,-2.8935274,-2.8935274,-2.8935274,-2.8935274,-2.8935274,-2.888646,null,null,null,-2.8880731,null,null,-2.8887158,-2.9263196,-2.7299434,null,null,-2.9220846,-2.8935703,-2.9182704,-4.1119506,-4.1119506,-4.1119506,-4.1119506,-4.1119506,null,null,null,null,null,null,null,null,null,null,null,null,null,null,null,null,null,null,null,null,null,null,null,null,null,null,null,null,null,null,null,null,null,-2.8935271,-2.8935259,-2.8935259,-2.8935259,-2.8935259,-2.8762425,-4.0622541,-3.3154433,-2.9241835,-2.8957297,-2.879253,-3.2960379,-2.9236827,-2.8470379,-2.9261336,-3.3912204,null,null,null,null,-2.8913878,-2.8913878,-2.8913878],\"legendgroup\":\"PLM\",\"lon\":[102.8382289,102.9459483,102.9459483,103.3693785,103.7849655,103.8471163,103.8471097,104.38125,104.7107163,104.7107163,103.7697996,null,104.1120015,104.1120015,104.6326977,103.3693785,103.7679083,103.7679083,104.6390396,103.2602913,104.7090684,104.7090684,102.9085071,102.9085071,102.9085071,102.9085071,102.9085071,102.9085071,102.9085071,102.9085071,102.9085071,102.9085071,102.9085071,102.9085071,102.9085071,102.9085071,102.9085123,102.9085123,102.9085123,102.9085123,102.9085123,102.9085123,102.9085123,102.9085123,102.9085123,102.9459487,102.9085123,102.9085123,102.9085123,102.9085123,102.9085123,102.9085123,102.9085123,102.9085123,102.9085123,102.9085123,103.7835366,103.7988681,104.7087505,104.7087505,104.7087505,103.7694147,104.7087505,104.7087505,103.7988681,104.7087505,104.695043,104.695043,104.695043,104.695043,104.695043,104.695043,104.695043,104.695043,104.695043,104.695043,104.695043,104.695043,104.695043,104.695043,104.695043,104.695043,104.695043,104.695043,104.695043,104.695043,104.695043,104.695043,104.695043,104.695043,104.695043,104.695043,104.7087745,104.7087745,103.778218,103.8315889,104.7086066,104.7086066,103.8315889,103.8315889,103.8315889,103.7710037,105.0270445,103.7746409,103.7898312,103.7898312,103.5266868,104.395884,104.395884,104.395884,103.7749802,104.7086512,103.8471202,104.395884,104.7089225,103.8383218,103.5196194,103.5196194,104.6870858,104.3959632,104.7621309,104.8121464,104.1787682,104.7666709,104.767478,104.1820405,104.7665306,103.5407947,103.8315889,103.8315889,103.8315889,103.8315889,103.8315889,104.2257412,104.7089157,104.4634138,null,null,null,null,null,null,null,null,null,null,null,null,null,null,null,null,null,null,null,null,null,null,104.3958951,103.8471098,103.8471098,103.8471098,103.8471098,103.8471098,103.8471098,103.8471098,103.8471098,103.8471098,103.8471098,103.8471098,103.8471098,103.8471098,103.8471098,104.3945464,null,null,null,104.3937412,null,null,104.3942855,104.6871168,102.9080752,null,null,104.4303011,103.8469556,104.4208417,104.1751041,104.1751041,104.1751041,104.1751041,104.1751041,null,null,null,null,null,null,null,null,null,null,null,null,null,null,null,null,null,null,null,null,null,null,null,null,null,null,null,null,null,null,null,null,null,103.84711,103.8471115,103.8471115,103.8471115,103.8471115,103.8547444,103.4478893,104.8409233,104.455044,103.8461689,103.860461,102.8695026,104.4470385,104.2284491,104.6712587,104.8295933,null,null,null,null,103.8569457,103.8569457,103.8569457],\"marker\":{\"color\":\"#FECB52\",\"symbol\":\"circle\"},\"mode\":\"markers\",\"name\":\"PLM\",\"showlegend\":true,\"type\":\"scattergeo\"},{\"geo\":\"geo\",\"hovertemplate\":\"UserVar.branch_dest=SUB<br>taskLocationDone.lat=%{lat}<br>taskLocationDone.lon=%{lon}<extra></extra>\",\"lat\":[-8.0926852,-8.0960872,-6.8958325,-7.042685,-6.8342042,-7.1924464,-7.1285491,-8.0556487,-7.1148643,-8.0556487,-7.16399,-7.2077578,-7.2018144,-7.2882201,-6.8942922,-6.8942922,-6.8942922,-7.1928273,-7.3031502,-7.1928273,-7.1209914,-7.0756508,-7.1588081,-7.105405,-7.1274733,-7.3029123,-7.2511589,-7.06534,-7.2283512,-7.3157571,-8.0531223,-7.2688895,-7.2441457,-7.2538442,-7.3942485,-7.3244022,-7.3153344,-7.2524291,-7.2903489,-7.2936563,-7.2936563,-7.2936563,-7.2936563,-7.2345948,-8.0936065,-7.2742531,-7.332496,-8.002621,-8.0404308,-7.0398062,-7.9817112,-7.3941482,-7.3941482,-7.2026002,-7.0398424,-7.0398374,-7.0456847,-7.1178217,-6.8760257,-6.8760257,-7.1034566,-7.05069,-7.1178217,-7.103446,-7.0398181,-7.150865,-7.1178217,-7.0263012,-7.025715,-7.0448906,-7.1579093,-7.1323529,-7.1579261,-7.1752334,-7.1221878,-7.1534906,-7.2399545,-7.1032721,-7.0398009,-7.1354788,-7.174003,-7.0637256,-7.1896375,-7.1776483,-7.1914891,-8.118073,-7.3486539,-7.0918045,-7.1453187,-8.0556267,-7.2566012,-7.0918045,-7.0506205,-7.1614483,-8.0556267,-7.0315834,-7.1170411,-8.1163706,-7.0832995,-6.9771336,-7.042013,-7.3246981,-6.9460145,-7.1268088,-7.0996097,-7.0327186,-7.348539,-8.0550585,-7.1657029,-7.1043069,-7.1455587,-8.0556267,-6.8927243,-7.2679578,-7.0329376,-7.1579941,-6.8935103,-7.2018193,-8.0547241,-7.065029,-7.0271775,-7.1807013,-7.323998,-7.2657261,-6.8939959,-7.3306253,-7.0709453,-6.89089,-6.8908708,-7.2678817,-7.2523728,-7.029804,-6.896721,-7.0699044,-7.1597015,-6.8854506,-7.0222977,-7.0283724,-7.0186191,-8.0796744,-7.0334044,-8.050176,-7.1272932],\"legendgroup\":\"SUB\",\"lon\":[111.7444403,111.7482377,113.2719988,112.7627733,112.0042331,112.6454982,112.9914822,111.9193952,112.4259799,111.9193952,113.4787451,113.4667449,113.2407218,112.2550548,112.0189721,112.0189721,112.0189721,113.2507198,112.7761723,113.2507198,112.4171684,112.4842827,112.6182608,112.34199,112.4179113,112.6976622,112.7482686,112.6974767,112.7523813,112.7898179,111.849195,112.7360539,112.7469838,112.7154158,112.7787105,112.6742927,112.6692048,112.7708516,112.7747665,112.719081,112.719081,112.719081,112.719081,112.6268141,111.9189203,112.8066906,112.7405107,111.9361811,111.9127644,112.7619809,111.7024041,112.5415175,112.5415175,112.7337733,112.7620416,112.762052,112.7812748,112.3924522,112.4022565,112.4022565,112.1744767,112.7852238,112.3924522,112.1744288,112.7620274,112.6127186,112.3924522,112.7504326,112.7591209,112.7810316,113.4763582,113.0414446,113.4760798,113.4791023,112.9250565,113.4690065,112.5868705,112.1744633,112.761847,112.4264785,112.611221,112.4526701,112.6334276,112.6202905,112.6450836,111.9527329,112.6297286,112.4236307,112.4891833,111.7175531,112.7220277,112.4236307,112.7311559,113.4796548,111.7175531,112.3800567,112.414059,111.9486361,112.9430026,111.9393466,112.7220082,112.6877903,112.8378084,112.4136865,112.4043732,112.745193,112.6291008,111.7065659,112.6333216,112.9313864,112.6150602,111.7175531,112.0511767,112.4486943,112.7438069,113.4727059,112.0416107,113.2407307,111.7066342,112.2162336,112.0965381,112.4820851,112.6403711,112.6590446,112.0128272,112.6989919,112.5055745,113.4338908,113.4342629,112.6673535,112.5893867,112.759345,112.0456736,112.8222528,112.6458728,112.0505437,112.7528178,112.7571331,112.7580048,111.6794381,112.7452289,111.9087553,112.4089429],\"marker\":{\"color\":\"#636efa\",\"symbol\":\"circle\"},\"mode\":\"markers\",\"name\":\"SUB\",\"showlegend\":true,\"type\":\"scattergeo\"},{\"geo\":\"geo\",\"hovertemplate\":\"UserVar.branch_dest=CKR<br>taskLocationDone.lat=%{lat}<br>taskLocationDone.lon=%{lon}<extra></extra>\",\"lat\":[-6.2690692,-6.2562804,-6.2569738,-6.3318352,null,-6.2310713,-6.2310713,-6.268075,-6.2680805,-6.2681161,-6.2310592,-6.3499198,-6.3499198,-6.3499198,-6.2680739,-6.2331992,-6.354161,-6.2689715,-6.2689715,-6.2682617,-6.2682617,-6.2689715,-6.3539929,-6.268297,-6.3629933,-6.2689334,-6.2925657,-6.2925657,-6.2973322,-6.2690988,-6.3073226,-6.2556383,-6.266958,-6.266958,-6.266958,-6.324103,-6.2698756,-6.2568991,-6.2568991,-6.2568991,-6.2677947,-6.3859739,-6.2953541,-6.3366512,null,-6.2680746,-6.2681216,-6.2710457,-6.2684176,null,null,null,null,null,null,null,null,null,null,null,null,null,-6.2681028,null,null,null,null,null,-6.2670752,-6.2700936,-6.2700936,-6.3847847,-6.2355482,-6.2795115,-6.358712,-6.3057468,-6.2718826,-6.2797775,-6.2676134,-6.270209,-6.2718826,-6.3057468,-6.2739936,-6.4063337,-6.2692498,-6.2692498,-6.3501308,-6.3096365,-6.3099479,-6.2681315,-6.2842695,-6.2842695,-6.2842695,-6.2842695,-6.2598858,-6.3084186,-6.311401666666666,-6.3105843,-6.3105843,-6.3105843,-6.3083507,-6.339628,-6.2746127,-6.3109541,-6.3109541],\"legendgroup\":\"CKR\",\"lon\":[107.120611,107.066441,107.0692377,107.1401441,null,107.1589628,107.1589628,107.1205917,107.1203332,107.1203883,107.1589781,107.1815019,107.1815019,107.1815019,107.1203107,107.1197704,107.1789168,107.0700685,107.0700685,107.1204595,107.1204595,107.0700685,107.1556525,107.1202223,107.158338,107.1217177,107.0796712,107.0796712,107.080946,107.0692203,107.1567602,107.0248537,107.1319513,107.1319513,107.1319513,107.0993954,107.0958667,107.2369455,107.2369455,107.2369455,107.124798,107.0705514,107.2191154,107.1523065,null,107.1203267,107.1203252,107.1519596,107.1209854,null,null,null,null,null,null,null,null,null,null,null,null,null,107.120331,null,null,null,null,null,107.035683,107.0290303,107.0290303,107.1147912,107.1535872,107.167469,107.1879003,107.1656226,107.0298107,107.1848784,107.0364117,107.1545789,107.0298107,107.1656226,107.1512214,107.0760507,107.0701712,107.0701712,107.10184,107.1833263,107.163321,107.2306605,107.1708221,107.1708221,107.1708221,107.1708221,107.0744271,107.1749518,107.15583833333334,107.1229478,107.1229478,107.1229478,107.1641455,107.0990355,107.027554,107.1233785,107.1233785],\"marker\":{\"color\":\"#EF553B\",\"symbol\":\"circle\"},\"mode\":\"markers\",\"name\":\"CKR\",\"showlegend\":true,\"type\":\"scattergeo\"},{\"geo\":\"geo\",\"hovertemplate\":\"UserVar.branch_dest=UPG<br>taskLocationDone.lat=%{lat}<br>taskLocationDone.lon=%{lon}<extra></extra>\",\"lat\":[-5.114087,null,null,-4.5571126,-4.540467,-4.5402105,-4.5402105,-2.5327213,-2.5327213,-2.5327213,-1.1794966,-5.1649134,-2.5259763,-5.1643185,-3.0907022,-5.1666523,-4.482855,-4.7897653,-4.7897653,-4.7897653,-4.7897653,-4.7897653,-4.7897653,-4.7897653,-4.7897653,-4.7897653,-2.5843271,-2.5843271,-2.5843271,-2.5843271,-1.1860213,-2.9638313,-4.8847119,-4.5402122,-5.1901851,-3.3983991,-5.5451323,-5.5451323,-5.5451323,-5.5451323,-2.9955214,-1.7015883,-1.7117749,-1.7117749,-1.7117749,-1.7117749,-1.7117749,-3.0145334,-5.1411831,-5.1433108,-2.841493,-5.2104633,-5.1666498,-4.7887159,-4.7887159,-4.7887159,-4.7887159,-4.7887159,-4.7887159,-4.7887159,-4.7887159,-4.7887159,-3.0929545,-2.9717581,-3.3727348,-5.1956454,-4.1907945,-5.1555298,-4.0179395,-5.1646135,-5.1436625,-5.1646135,-5.1257492,-2.5502471,-1.1795425,-3.844423,-5.5590227,-2.6087566,-1.1787114,-5.1832377,-1.8307117,-5.5471532,-5.5496169,-5.5496169,-3.3219583,-3.3219583,-3.3219583,-3.3219583,-3.3219583,-3.3219583,-3.3219583,-3.3219583,-3.3219583,-4.13809,-5.5438556,-2.5529443,-3.0506261,-3.0506261,-3.0506261,-4.5422235,-1.6953683,-3.0079593,-4.5429259,-3.0506261,-6.1204717,-4.7036164,-1.7165183,-4.5402049,-4.5402048,-4.5402048,-2.5536117,-4.5402053,-2.9955032,-5.2417757,-5.1111993,-5.196015,-4.8293834,null,null,null,null,null,null,null,null,null,null,null,null,null,null,null,null,null,null,null,-5.4245371,-5.196015,-5.5524994,-5.1875037,-2.6873388,-5.53491,-5.1585026,-3.5681213,-6.1219485,-2.9956201,-3.8966605,-5.4253348,-5.2015346,-5.5588695,-2.5529265,-1.1758008,-5.5585173,-5.5585173],\"legendgroup\":\"UPG\",\"lon\":[119.488295,null,null,120.3320876,120.3145406,120.3140551,120.3140551,121.3634338,121.3634338,121.3634338,119.3641314,119.4395153,121.3592587,119.439878,119.853495,119.4403748,120.3024052,119.538502,119.538502,119.538502,119.538502,119.538502,119.538502,119.538502,119.538502,119.538502,121.2808432,121.2808432,121.2808432,121.2808432,119.3599594,119.9033338,119.5870639,120.3140566,119.4421435,119.2125697,119.9461579,119.9461579,119.9461579,119.9461579,120.1962626,119.2983933,119.339378,119.339378,119.339378,119.339378,119.339378,120.2163649,119.4242806,119.4248456,120.1217695,119.48028,119.440378,119.5231733,119.5231733,119.5231733,119.5231733,119.5231733,119.5231733,119.5231733,119.5231733,119.5231733,119.8516867,119.8995435,120.3659518,119.445032,120.0926223,119.4135745,119.6238476,119.4719851,119.4247076,119.4719851,120.2485684,120.329677,119.3641783,119.8180019,120.1847277,121.1096293,119.3647541,119.4378217,119.3976305,119.949692,119.9523303,119.9523303,119.8247285,119.8247285,119.8247285,119.8247285,119.8247285,119.8247285,119.8247285,119.8247285,119.8247285,120.0323514,119.944893,120.3270655,120.2094009,120.2094009,120.2094009,120.3096005,119.3595883,120.1946034,120.3102155,120.2094009,120.4664041,119.9972964,119.3294133,120.3140415,120.3140412,120.3140415,120.3454665,120.3140414,120.1960495,119.4317637,120.2546216,119.4556459,119.5434785,null,null,null,null,null,null,null,null,null,null,null,null,null,null,null,null,null,null,null,119.441378,119.4556459,120.1909732,119.466198,118.8680402,119.940385,119.4306975,119.7748663,120.4576046,120.1959759,119.996285,119.4402721,119.446315,120.1849436,120.3270615,119.3695134,120.1908776,120.1908776],\"marker\":{\"color\":\"#00cc96\",\"symbol\":\"circle\"},\"mode\":\"markers\",\"name\":\"UPG\",\"showlegend\":true,\"type\":\"scattergeo\"},{\"geo\":\"geo\",\"hovertemplate\":\"UserVar.branch_dest=DJJ<br>taskLocationDone.lat=%{lat}<br>taskLocationDone.lon=%{lon}<extra></extra>\",\"lat\":[-3.378995,-2.5426931,-2.5657703,-2.5589984,-3.378995,null,-2.6662386,-2.6662386,-2.6662386,null,null,null,null,-2.566559,-1.1811051,-4.0898327,-3.3873686,-3.3873686,null,-2.5913195,-2.5730012,-2.5730012,-2.5358415,-3.3536104,-2.6187417,-2.566461,-2.6725832,null,null,null,null,null,null,null,null,null,null,null,null,null,null,null,null,null,null,null,-2.5665897,-2.5665892,null,null,null,null,null,null,null,null,null,null,null,null,null,null,null,null,null,null,null,null,null,null,-2.663565,-2.5571912,-2.5790353,-3.3790014,-3.3789989,-3.3789989,-3.379007,-2.5941517,null,null,-2.6063228,-1.1811101,-2.5432615,-2.6024536,-4.0935799],\"legendgroup\":\"DJJ\",\"lon\":[135.5044181,140.7028771,140.6999349,140.7029666,135.5044178,null,140.8047277,140.8047277,140.8047277,null,null,null,null,140.6993377,136.0900749,138.9373491,135.497354,135.497354,null,140.6746324,140.5396011,140.5396011,140.7047905,135.5091866,140.7878033,140.6992833,140.8064238,null,null,null,null,null,null,null,null,null,null,null,null,null,null,null,null,null,null,null,140.6993293,140.6993332,null,null,null,null,null,null,null,null,null,null,null,null,null,null,null,null,null,null,null,null,null,null,140.8046458,140.7062378,140.6296232,135.5044272,135.5044229,135.5044229,135.5044159,140.6304483,null,null,140.6690316,136.0900598,140.7046541,140.6697698,138.9435351],\"marker\":{\"color\":\"#ab63fa\",\"symbol\":\"circle\"},\"mode\":\"markers\",\"name\":\"DJJ\",\"showlegend\":true,\"type\":\"scattergeo\"},{\"geo\":\"geo\",\"hovertemplate\":\"UserVar.branch_dest=PLW<br>taskLocationDone.lat=%{lat}<br>taskLocationDone.lon=%{lon}<extra></extra>\",\"lat\":[-0.9384018,-0.9384018,-0.9384018,-0.8948191,-0.9384058,-0.8910968,-0.9383931,-1.3090784,-0.8935985,null,0.5383488,-1.9830014,-0.9383991,-0.8976608,-0.9383983,-0.92059,-0.8980079,-0.8980079,-0.8980079,-0.8959409,-0.9384334,-0.9383867,-0.8799728,-0.8799728,-0.9383983,-0.8989078,0.5394421,-0.6655818,1.1591763,-0.894882,-0.894882,1.0469789,-0.9384364,-0.9384364,0.5339973,0.5339973,-0.9384582,-0.28375,-0.8893706,-0.9319833,-0.9344623,-0.8490082,-0.888099,-2.4749647,-0.9383826,-0.8436081,-0.8709083,-0.8709083,-2.4749711,-2.4749202,-2.4749202,-0.8889659,-0.8889659,-0.9333269,-0.9556623,null,null,null,null,null,null,null,null,null,null,null,-0.9585269,-0.9585269,-0.9383033,-0.9191268,-0.8904102,-0.71262,-0.9190183,-0.9190183,-0.8960408,-0.850512,-0.8930818,-0.9270241,-1.3977961,-0.9511649,-0.889372,-0.9221626,-1.3940915],\"legendgroup\":\"PLW\",\"lon\":[119.9009147,119.9009147,119.9009147,119.8801387,119.9009481,119.888328,119.900953,123.2906306,119.8866092,null,120.7157748,121.3383349,119.900948,119.8934285,119.9009352,119.857529,119.8975714,119.8975714,119.8975714,119.8678974,119.9009282,119.900971,122.156022,122.156022,119.9009352,119.8957322,120.7269282,119.7398736,121.4360754,119.8838856,119.8838856,120.8142328,119.9008717,119.9008717,120.7220906,120.7220906,119.9007482,119.7785033,119.8709482,119.9005719,119.8982782,119.8885709,119.8809104,121.9319261,119.9009185,123.07556,123.1529004,123.1529004,121.9319294,121.9319008,121.9319008,119.8806775,119.8806775,119.8891163,119.9164473,null,null,null,null,null,null,null,null,null,null,null,122.7930486,122.7930486,119.9008933,119.8821844,119.8665139,120.0901151,119.8815432,119.8815432,119.8901459,119.8918643,119.8905842,119.887888,120.7555931,122.789507,119.8989305,119.8974324,120.7585171],\"marker\":{\"color\":\"#FFA15A\",\"symbol\":\"circle\"},\"mode\":\"markers\",\"name\":\"PLW\",\"showlegend\":true,\"type\":\"scattergeo\"},{\"geo\":\"geo\",\"hovertemplate\":\"UserVar.branch_dest=DPS<br>taskLocationDone.lat=%{lat}<br>taskLocationDone.lon=%{lon}<extra></extra>\",\"lat\":[-8.7109224,-8.6746203,-8.7052253,-8.106152,-8.6714314,-8.673973,-8.6847746,-8.7052371,-8.738285,-8.6714314,-8.7034086,-8.7186939,-8.685298,-8.0986002,-8.6748591,-8.6748591,-8.6789876,-8.6780023,-8.7395118,-8.6780023,-8.7395118,-8.6791595,-8.6780023,-8.6654376,-8.7395118,-8.7084193,-8.7057925,-8.6477491,-8.673973,-8.7062171,-8.704923,-8.7381698,-8.6955227,-8.7381698,-8.7383298,-8.6264799,-8.2493157,-8.7073667,-8.7381698,-8.6806217,-8.7379317,-8.7379317,-8.7379317,-8.7379317,-8.7379317,-8.7379317,-8.6803029,-8.7379317,-8.7379317,-8.7053041,-8.7106549,-8.7071002,-8.6303499,-8.738245,-8.738245,-8.7365086,-8.7365086,-8.7365086,-8.7365086,-8.7365086,-8.6793539,-8.6401964,-8.6401964,-8.100585,-8.6628324,-8.686715,-8.7383778,-8.7081224,-8.7081224,-8.7383778,-8.6663417,-8.6402043,-8.1156727,-8.1136951,-8.707181,-8.1194515,-8.699385,-8.7017979,-8.7051583,-8.2007234,-8.7051583,-8.672149,-8.7051583,-8.7043296,-8.7063209,-8.5650623,-8.5352341,-8.6918992,-8.7974301,-8.7383644,-8.7383644,-8.7382332,-8.7382131,-8.7383824,-8.7368251,-8.2364337,-8.7383683,-8.6916012,-8.7383462,-8.7383462,-8.6896883,-8.1175373,-8.7046235,-8.6502563,-8.6800062,-8.0969971,-8.6935982,-8.7036998,-8.7036998,-8.6998135,-8.0969984,-8.7029779,-8.699794,-8.6760666,-8.7064428,null,-8.6942185,-8.6738143,-8.6568878,-8.6619873,-8.6869105,-8.0952993,-8.6568878,-8.682118,-8.6751481,-8.6751297,-8.6571679,-8.623745,-8.6865094,-8.6817547,-8.1160818,-8.7146771,-8.1011016,-8.6401868,-8.0975692,-8.0975692,-8.0975692,-8.696591,-8.1061764,-8.7029615,-8.7382365,-8.6479492,-8.1203777,-8.6401915,-8.097044,-8.1966168,-8.0974733,-8.6486893,-8.6486893,-8.2017837,-8.7043963,-8.6357203,-8.6357203,-8.6357203,-8.6914129,-8.7847983,-8.6890659,-8.6697109,-8.6668803,-8.5416207,-8.1217019,-8.6343727,-8.6946241,-8.6749448,-8.6740187,-8.6571178,-8.6374304,-8.6374304,-8.6374304,-8.6104217,-8.6562215,-8.6465491,-8.6562215,-8.6450808,-8.114636,-8.6944508,-8.6944508,null,-8.6447691,-8.5677883,-8.6943661,-8.650435],\"legendgroup\":\"DPS\",\"lon\":[115.2337653,115.2076434,115.2420831,115.0826062,115.210404,115.2098504,115.2437266,115.2559404,115.1740755,115.210404,115.224823,115.1806876,115.2437533,115.1020237,115.2429488,115.2429488,115.2383818,115.2380079,115.1687211,115.2380079,115.1687211,115.2370736,115.2380079,115.2239995,115.1687211,115.2519842,115.2531194,115.2251471,115.2098504,115.2397973,115.2486566,115.1742794,115.2420956,115.1742794,115.1741206,115.1883601,114.9307344,115.2508183,115.1742794,115.2444833,115.1731678,115.1731678,115.1731678,115.1731678,115.1731678,115.1731678,115.2440775,115.1731678,115.1731678,115.2326562,115.2274455,115.2269659,115.1872485,115.173935,115.173935,115.1753911,115.1753911,115.1753911,115.1753911,115.1753911,115.2429654,115.1973373,115.1973373,115.1435753,115.2248097,115.2381479,115.1740792,115.2536647,115.2536647,115.1740792,115.2377429,115.1973396,115.0842659,115.0824785,115.2391093,115.0760503,115.2283876,115.2540566,115.2575265,114.9630002,115.2575265,115.2090071,115.2575265,115.2525295,115.257526,115.213813,115.3345029,115.2579831,115.1894815,115.1740601,115.1740601,115.1740588,115.1740946,115.1740755,115.1753911,114.9294611,115.1740809,115.2424536,115.174058,115.174058,115.2403822,115.0856822,115.2238908,115.2219507,115.2422189,115.1086673,115.2407868,115.2397405,115.2397405,115.2409035,115.1086665,115.2397361,115.240953,115.2438509,115.2384015,null,115.244049,115.2360358,115.1993473,115.2246172,115.1909697,115.1135032,115.1993473,115.2346094,115.2370112,115.2370306,115.2013911,115.2219454,115.2339326,115.2286229,115.104581,115.1859384,115.0975343,115.1973266,115.1075732,115.1075732,115.1075732,115.1755963,115.0825742,115.24175,115.1738936,115.2250298,115.0950412,115.1973301,115.1086271,114.8849021,115.1073585,115.2329937,115.2329937,114.8901343,115.2575397,115.2111858,115.2111858,115.2111858,115.1904055,115.1940356,115.1919204,115.2165195,115.2381533,115.3235836,115.0732444,115.1888643,115.2370091,115.2320479,115.2162268,115.2346239,115.2207627,115.2207627,115.2207627,115.1747317,115.2198179,115.1822427,115.2198179,115.216149,115.0858099,115.16762,115.16762,null,115.1967665,115.1315166,115.1670137,115.2317691],\"marker\":{\"color\":\"#19d3f3\",\"symbol\":\"circle\"},\"mode\":\"markers\",\"name\":\"DPS\",\"showlegend\":true,\"type\":\"scattergeo\"},{\"geo\":\"geo\",\"hovertemplate\":\"UserVar.branch_dest=AMQ<br>taskLocationDone.lat=%{lat}<br>taskLocationDone.lon=%{lon}<extra></extra>\",\"lat\":[-3.6560516,-3.2655845,-3.2655879,-3.2655879,-3.2655878,-3.2655809,-3.2257618,null,null,null,-7.9914519,-3.3763656,-7.9914532,-3.6274272,-3.6274272,-3.6533567,null,null,null,null,null,null,null,null,null,null,null,null,null,null,null,null,null,null,null,null,null,null,null,null,null,null,null,null,null,null,null,null,null,null,null,null,null,null,null,null,null,null,null,null,null,null,null,null,null,null,null,-3.7082806,-3.7081304],\"legendgroup\":\"AMQ\",\"lon\":[128.2236247,127.09153,127.0915287,127.0915287,127.0915296,127.0915303,129.0628828,null,null,null,131.3044172,126.9880923,131.3044177,128.252136,128.252136,128.2274255,null,null,null,null,null,null,null,null,null,null,null,null,null,null,null,null,null,null,null,null,null,null,null,null,null,null,null,null,null,null,null,null,null,null,null,null,null,null,null,null,null,null,null,null,null,null,null,null,null,null,null,128.1656066,128.1685849],\"marker\":{\"color\":\"#FF6692\",\"symbol\":\"circle\"},\"mode\":\"markers\",\"name\":\"AMQ\",\"showlegend\":true,\"type\":\"scattergeo\"},{\"geo\":\"geo\",\"hovertemplate\":\"UserVar.branch_dest=BDJ<br>taskLocationDone.lat=%{lat}<br>taskLocationDone.lon=%{lon}<extra></extra>\",\"lat\":[-3.3536059,-3.4412309,-3.3204039,-3.3204039,-3.4398153,-3.4245446,-3.3536059,-3.4386006,-3.3292688,-3.3292628,-3.3292628,-3.3292628,-3.4351112,-2.2771458,-3.4398153,-3.3512494,-3.3512494,-3.3480159,-3.4245449,-3.4470252,-3.3480159,-3.4412277,-3.4470252,-3.4470252,-3.4245449,-3.3292666,-3.3480159,-2.9830617,null,-3.3470955,-3.3480159,-3.3515135,-3.4244673,-3.3543716,-3.4433313,-3.4433313,-3.4371236,-1.7390853,-3.3301201,-3.353415,-3.3292642,-3.4384553,-3.329264,-3.329264,-3.4374738,-3.329264,-3.329264,-3.4389906,-3.4389906,-3.4389906,-3.4389906,-3.4389906,-3.4389906,-3.3298031,-3.3298031,-3.4412485,-3.4389906,-2.4196832,-3.40964,-3.40964,-3.7797582,-3.3347043,-3.4148542,-3.3634608,-3.4374067,-3.4374067,-3.7772431,-3.7772321,null,null,null,null,null,null,null,null,null,null,null,null,null,null,null,null,-3.7772418,-3.3292635,-3.3230051,-3.3114152,-3.3113555,-3.4412483,-3.4412483,-3.4412483,-3.4491234,-3.7618838,-3.3292632,-3.4469272,-3.4469272,-3.4469272,-3.3292648,-3.2750304,-3.2694288,-3.2750304,-3.3471297,-3.2757638,-3.3230059,null,-3.2820998,-3.2820998,-2.7864518,-3.4446209,-3.4433999,-3.7866615,-3.4536083,-2.5801299,-3.4287431,-3.3148908,-3.2448818,-3.4427526,-3.4427526,-3.8021617,null,null,-3.7482699,null,null,null,null,null,-3.8002557,-3.8002572,-3.7111459,-3.7111459,-3.7111459,-3.3254841,-0.6143576],\"legendgroup\":\"BDJ\",\"lon\":[114.6107495,114.8227578,114.6088155,114.6088155,114.8209285,115.999118,114.6107495,114.8213235,114.6166071,114.6165984,114.6165984,114.6165984,114.8432349,115.2988669,114.8209285,114.6168268,114.6168268,114.6243881,115.9991124,114.6619708,114.6243881,114.8227409,114.6619708,114.6619708,115.9991124,114.6165983,114.6243881,114.77028,null,114.6220203,114.6243881,114.6191059,115.9991069,114.6018877,114.8366882,114.8366882,114.8225563,114.8458357,114.6165062,114.5980311,114.6166152,114.821851,114.6165693,114.6165693,114.8206977,114.6165693,114.6165693,114.8231185,114.8231185,114.8231185,114.8231185,114.8231185,114.8231185,114.5916591,114.5916591,114.8226836,114.8231185,115.2500088,115.984595,115.984595,115.3925643,114.617464,114.8499937,114.6228881,114.82248,114.82248,115.4009039,115.4009031,null,null,null,null,null,null,null,null,null,null,null,null,null,null,null,null,115.4009031,114.6166111,114.6215777,114.6153928,114.616047,114.8227345,114.8227345,114.8227345,114.8495418,115.4273664,114.616586,114.6616278,114.6616278,114.6616278,114.6165378,114.5968347,114.6019314,114.5968347,114.6247389,114.6045418,114.5912671,null,114.5896035,114.5896035,115.2661484,114.8704724,114.826041,114.8071733,114.8287117,115.384026,114.812101,114.5886569,116.2247095,114.824573,114.824573,114.7710617,null,null,115.4797929,null,null,null,null,null,114.7697353,114.7697361,115.6001174,115.6001174,115.6001174,114.5938658,114.5721119],\"marker\":{\"color\":\"#B6E880\",\"symbol\":\"circle\"},\"mode\":\"markers\",\"name\":\"BDJ\",\"showlegend\":true,\"type\":\"scattergeo\"},{\"geo\":\"geo\",\"hovertemplate\":\"UserVar.branch_dest=BOO<br>taskLocationDone.lat=%{lat}<br>taskLocationDone.lon=%{lon}<extra></extra>\",\"lat\":[-6.5299712,-6.5693108,-6.6069823,-6.7090311,-6.579462,-6.574438,-6.579462,-6.5723982,-6.568444,-6.5362485,-6.568444,-6.5370667,-6.4288659,-6.5339096,-6.5339096,-6.5339096,-6.5339517,-6.5970072,-6.4974705,-6.4974705,-6.5370667,-6.5339408,-6.5299712,-6.5885396,-6.5695995,-6.5340376,-6.5305454,-6.5370667,-6.5339328,-6.5794628,-6.5694661,-6.5338771,-6.5533849,-6.5533849,-6.5533849,-6.5533849,-6.533854,-6.533854,-6.5338714,-6.5569221,-6.5923801,-6.4970809,-6.5936743,-6.5338082,-6.4955829,-6.5340198,-6.5337416,-6.5337416,-6.5337416,-6.5591356,null,null,-6.5339301,null,-6.5923801,null,-6.5936743,-6.5936743,-6.6033066,-6.5339616,-6.4294104,-6.5664748,-6.5905339,-6.606423,-6.606423,-6.606423,-6.606423,-6.606423,-6.5338945,-6.5840211,-6.5338612,-6.5339083,-6.5339083,-6.5339083,-6.4168457,null,null,null,null,-6.5947303,-6.494892,-6.5874141,-6.7035098,-6.5934754,-6.533916,-6.5666238,-6.5340121,-6.4912767,-6.5339137,-6.5349693,-6.5349693,-6.4918563,-6.5339324,-6.5554733,-6.5339473,-6.5934754,-6.5339579,-6.4918157,-6.5707672,-6.4064023,-6.5742191,-6.5716685,-6.5338662,-6.5339651,-6.4037118,-6.5970472,-6.4569753,-6.4025714,-6.5919837,-6.5956263,-6.5919837,-6.4912799,-6.561682,-6.4573866,null,null,null,null,null,null,null,null,null,null,null,-6.6574667,-6.5860545,-6.3994462,-6.4590403,-6.4818983,-6.4840321,-6.4840321,-6.5100897,-6.5409648,-6.5254059,-6.3751526,-6.3507438,-6.452435,-6.568159,-6.5671133,-6.7537686,-6.4428863,-6.341908,-6.3847757,-6.6574667,-6.404296,-6.6562325,-6.4709139,-6.5548957,-6.5349444,-6.561654,-6.6438266,-6.3764674,-6.6152885,-6.5340363,-6.5340214,-6.533906,-6.40661,-6.533921,-6.5358945,-6.4063735,-6.5339849,-6.5339849,null,-6.5339625,-6.5339625,-6.5339625,null,-6.5339357,-6.5794556,-6.5937765,-6.5340052,-6.4891811,-6.4917951,-6.7033781,-6.5338308,-6.57947,null,null,null,null,null,null,null,null,null,null,null,-6.4226715,-6.5794717,-6.40628,-6.40628,null,null,null,null,null,-6.5437704,-6.4913199,-6.4969233,-6.4914832,-6.5339254,-6.4925639,-6.5317468,-6.5923415,null,-6.4062804,-6.4062804,-6.5923415,-6.4361272,-6.6519942,-6.5415428,-6.7405959,-6.4361272,-6.5741364,-6.5741364,-6.5401881,-6.4805306,-6.5863713,-6.572713,-6.513039,-6.5685554,-6.5559039,-6.5970862,-6.4446293,-6.3717029,-6.5720965,-6.5579876,-6.7033239,-6.5197399,-6.5641649,-6.5547616,-6.6395361,-6.5764775,-6.5695573,-6.479273,-6.4439896,-6.6010005,-6.5401881,-6.4234763,-6.5546272,-6.5547616,-6.6004431,-6.6168012,-6.5547616,-6.5125725,-6.5628867,-6.5897993,-6.5922972,-6.4675318,-6.5591219,-6.5718958,-6.7187044,-6.6123102,-6.533807,-6.533807,-6.5728868,-6.5994527,-6.4258218,-6.4730922,-6.4704714,-6.5753688,-6.4915761,-6.5652272,-6.5470193,-6.4967744,-6.4967744,-6.6103243,-6.6770378,-6.6179879],\"legendgroup\":\"BOO\",\"lon\":[106.8029228,106.812608,106.8029108,106.8209718,106.6553199,106.8637486,106.6553199,106.7791524,106.813454,106.787083,106.813454,106.7866129,106.7288082,106.8060533,106.8060533,106.8060533,106.8060911,106.8098487,106.7991529,106.7991529,106.7866129,106.8060665,106.8029228,106.7948469,106.8112435,106.8060837,106.8035162,106.7866129,106.8060456,106.6553273,106.8126252,106.8060714,106.8076363,106.8076363,106.8076363,106.8076363,106.8060462,106.8060462,106.8064204,106.7741716,106.8111995,106.8019686,106.8118722,106.8062679,106.8000382,106.8061473,106.8064013,106.8064013,106.8064013,106.7742713,null,null,106.8060496,null,106.8111995,null,106.8118722,106.8118722,106.8002892,106.8060816,106.7309497,106.8109212,106.7934753,106.8036655,106.8036655,106.8036655,106.8036655,106.8036655,106.8060579,106.8256408,106.8060339,106.8060601,106.8060601,106.8060601,107.0231503,null,null,null,null,106.8135808,106.8006086,106.7969795,106.8176714,106.8127122,106.8060906,106.8106998,106.8062129,106.8033733,106.806041,106.8069605,106.8069605,106.8052817,106.8060653,106.8109194,106.8060244,106.8127122,106.8060678,106.805334,106.7781427,106.975513,106.7802763,106.8107088,106.8060389,106.8060692,106.9796789,106.8123668,106.7919953,106.9773303,106.7928508,106.8102234,106.7928508,106.8026252,106.7548058,106.7926929,null,null,null,null,null,null,null,null,null,null,null,106.8462791,106.7738408,106.6242266,107.0383707,106.7936904,106.8425982,106.8425982,106.8551422,106.8609464,106.7272428,106.709027,106.5653272,106.7805167,106.7838472,106.7910576,106.7988234,106.9975676,106.9726233,106.5402222,106.8462791,106.9756874,106.796958,106.7275678,106.7594023,106.8610244,106.6929144,107.1656226,106.7199737,106.8540087,106.8063371,106.8063156,106.8062685,106.9738117,106.8061372,106.8080666,106.9739478,106.8061358,106.8061358,null,106.8060825,106.8060825,106.8060825,null,106.8060578,106.6553174,106.8065933,106.8061904,106.8455113,106.8045783,106.8178136,106.8061819,106.6553312,null,null,null,null,null,null,null,null,null,null,null,106.9220184,106.6553352,106.9740454,106.9740454,null,null,null,null,null,106.8380165,106.8023779,106.7983936,106.8047077,106.8061066,106.8066684,106.8073292,106.8108879,null,106.9740499,106.9740499,106.8108879,106.8502339,106.8696495,106.8234907,106.8095788,106.8502339,106.8252174,106.8252174,106.8319046,106.8416217,106.7562574,106.8115143,106.7860832,106.5844666,106.5438219,106.7539427,106.9670384,106.94608,106.8120152,106.8095466,106.8178997,106.8038611,106.5631249,106.8076879,106.7757971,106.6498664,106.7793656,106.8173987,106.9720538,106.8101328,106.8319046,106.9932339,106.7012488,106.8076879,106.8163191,106.667412,106.8076879,106.7856112,106.6915033,106.6665551,106.8088904,106.831862,106.8126916,106.808182,106.8052578,106.7903693,106.8061651,106.8061651,106.794502,106.7565474,106.9165237,106.8301662,106.8319713,106.6475451,106.7842823,106.7994683,106.8243447,106.7990351,106.7990351,106.8786915,106.8599712,106.7748853],\"marker\":{\"color\":\"#FF97FF\",\"symbol\":\"circle\"},\"mode\":\"markers\",\"name\":\"BOO\",\"showlegend\":true,\"type\":\"scattergeo\"},{\"geo\":\"geo\",\"hovertemplate\":\"UserVar.branch_dest=CGK<br>taskLocationDone.lat=%{lat}<br>taskLocationDone.lon=%{lon}<extra></extra>\",\"lat\":[-6.1373572,-6.153325,-6.2413311,-6.2284397,-6.155826,-6.16641,-6.2361756,-6.2173133,-6.1921994,-6.2284397,-6.1572078,-6.1558861,-6.1561676,-6.1561676,-6.16641,-6.1572078,-6.16641,-6.222039,-6.158012,-6.158012,-6.1576874,-6.1576874,-6.2213066,-6.1576874,-6.1576874,-6.1578114,-6.2213066,-6.157904,-6.1578114,-6.1554497,-6.2209544,-6.2207547,-6.1578114,-6.2209544,-6.2331684,-6.2174981,-6.2331684,-6.1554497,-6.2264463,-6.2294744,-6.2294744,-6.2294744,-6.2294744,-6.3387655,-6.2211824,-6.2248162,-6.145774,-6.1935172,-6.1935172,-6.166582,-6.1935172,-6.2306334,-6.2306334,-6.1613463,-6.1396416,-6.220382,-6.2279271,-6.1371417,-6.1371417,-6.1371417,-6.1371417,-6.1371417,-6.1371417,-6.2279271,-6.2279271,-6.1935172,-6.1935172,-6.2180816,-6.2273043,-6.166582,-6.2197677,-6.145774,-6.2273043,-6.2236407,-6.2402286,-6.2236407,-6.2236407,-6.1450013,-6.2288843,-6.166582,-6.2394316,-6.1866429,-6.2279902,-6.1984448,-6.2181179,-6.2268963,-6.1091216,-6.2175012,-6.1450013,-6.2303021,-6.3761538,-6.166582,-6.2303021,-6.2409222,-6.1797493,-6.2178274,-6.2096507,-6.2961632,-6.161958,-6.3370464,-6.142867,-6.1850146,-6.1291182,-6.1690972,-6.3392052,-6.1956983,-6.2429469,-6.1987033,-6.1724529,-6.2476972,-6.1496412,-6.1291182,-6.1497551,-6.1489534,-6.1997503,-6.1939866,-6.1092834,-6.1526024,-6.1027492,-6.1526024,-6.3096642,-6.1987033,-6.1987033,-6.3543923,-6.1291182,-6.3088757,-6.127485,-6.3328122,-6.2800571,-6.3543923,-6.161958,-6.1614441,-6.138896,-6.1331687,-6.3133796,-6.1326002,-6.2181145,-6.2090359,-6.1577853,-6.1378857,-6.1617978,-6.1774645,-6.1326002,-6.1291182,-6.1061964,-6.2197065,-6.19988,-6.1355073,-6.2146962,-6.159104,-6.1355073,-6.200559,-6.147246,-6.2122659,-6.2038717,-6.1454352,-6.1571507,-6.2021836,-6.2106804,-6.1542036,-6.1898388,-6.1756936,-6.1756936,-6.2206334,-6.1756936,-6.2243419,-6.1763468,-6.1729145,-6.1477497,-6.1701737,-6.3359502,-6.1532529,-6.2005125,-6.1534177,-6.1584264,-6.1584264,-6.1584264,-6.1584264,-6.1584264,-6.1584264,-6.1584264,-6.1584264,-6.1584264,-6.1584264,-6.1584264,-6.1584264,-6.1961133,-6.2012597,-6.2012597,-6.2012597,-6.1584264,-6.1584264,-6.1584264,-6.1584264,-6.1507594,-6.1959468,-6.1973732,-6.1971855,-6.19931,-6.19931,-6.2156342,-6.2130385,-6.2132288,-6.21356,-6.1479789,-6.1692367,-6.2048084,-6.3292923,-6.1784692,-6.1602532,-6.209705,-6.206565,-6.1535772,-6.1545769,-6.1534529,-6.1549394,-6.204243,-6.1475797,-6.1475797,-6.3198057,-6.1475797,-6.1475797,-6.1968167,-6.2282329,-6.1740544,-6.1740544,-6.1416285],\"legendgroup\":\"CGK\",\"lon\":[106.8722421,106.8468333,106.8340736,106.8319757,106.7860905,106.8430968,106.8517224,106.8425309,106.7414008,106.8319757,106.8416217,106.7868766,106.8442031,106.8442031,106.8430968,106.8416217,106.8430968,106.8529104,106.8457428,106.8457428,106.8428819,106.8428819,106.8536829,106.8428819,106.8428819,106.8424441,106.8536829,106.8723957,106.8424441,106.8402749,106.8540285,106.8429698,106.8424441,106.8540285,106.8308189,106.8497227,106.8308189,106.8402749,106.8322559,106.8496999,106.8496999,106.8496999,106.8496999,106.7997232,106.8533048,106.8511451,106.7484807,106.7400483,106.7400483,106.8433741,106.7400483,106.8519287,106.8519287,106.8206827,106.7546851,106.8529908,106.8317088,106.887285,106.887285,106.887285,106.887285,106.887285,106.887285,106.8317088,106.8317088,106.7400483,106.7400483,106.830243,106.8282839,106.8433741,106.8435202,106.7484807,106.8282839,106.7783992,106.8342098,106.7783992,106.7783992,106.7477373,106.8467891,106.8433741,106.8252951,106.7964591,106.7841205,106.7420611,106.85309,106.7841997,106.9247824,106.8411537,106.7477373,106.8496439,106.8277529,106.8433741,106.8496439,106.8321835,106.7428577,106.8410661,106.8367203,106.7902369,106.8935024,106.8123924,106.9097547,106.8136147,106.8431642,106.8376807,106.810179,106.9039514,106.8050138,106.7931619,106.7760798,106.9176578,106.8995463,106.8431642,106.774343,106.8056084,106.7385957,106.7556561,106.7490883,106.8965342,106.7397906,106.8965342,106.8614496,106.7931619,106.7931619,106.8951001,106.8431642,106.8396546,106.8156781,106.864464,106.7956661,106.8951001,106.8935024,106.8282706,106.8055367,106.7708295,106.8793254,106.8721633,106.826141,106.94403,106.8192819,106.8313225,106.7424497,106.8563727,106.8721633,106.8431642,106.753556,106.8887021,106.9435641,106.7314797,106.8481681,106.9257354,106.7314797,106.9537051,106.7877189,106.8831097,106.9556491,106.8331157,106.8191221,106.8449657,106.9350339,106.7931959,106.892514,106.7889924,106.7889924,106.8879647,106.7889924,106.8418838,106.791686,106.8402588,106.8530676,106.7641129,106.915204,106.7897841,106.9218011,106.7903532,106.7851594,106.7851594,106.7851594,106.7851594,106.7851594,106.7851594,106.7851594,106.7851594,106.7851594,106.7851594,106.7851594,106.7851594,106.936405,106.9351376,106.9351376,106.9351376,106.7851594,106.7851594,106.7851594,106.7851594,106.7874937,106.9362716,106.9371826,106.9370279,106.9398867,106.9398867,106.9263471,106.9267496,106.9261852,106.9260546,106.8048726,106.7079383,106.9320882,106.9005752,106.9685722,106.8081914,106.8145133,106.8146333,106.7893906,106.7899466,106.7897577,106.7803229,106.8044394,106.929619,106.929619,106.871873,106.929619,106.929619,106.8283883,106.8634211,106.8322506,106.8322506,106.8087338],\"marker\":{\"color\":\"#FECB52\",\"symbol\":\"circle\"},\"mode\":\"markers\",\"name\":\"CGK\",\"showlegend\":true,\"type\":\"scattergeo\"},{\"geo\":\"geo\",\"hovertemplate\":\"UserVar.branch_dest=TTE<br>taskLocationDone.lat=%{lat}<br>taskLocationDone.lon=%{lon}<extra></extra>\",\"lat\":[0.7886312,0.7886996,0.7875404,0.786234,0.786234,0.786234,0.786234,0.786234,0.7875404,0.7886084,0.7886996,0.7928667,0.7396583,0.7396666,0.7396582,0.6717304,0.8149329,0.7847297,0.7396611,0.7341191,-0.6537691,0.7800886,0.7800886,0.739644,0.73924,0.7915611,0.73924,0.768239,0.768239,null,0.7687488,0.7687488,0.7687488,0.768239,0.7687488,0.7967625,0.768239,0.768239,0.768239,0.768239,0.768239,0.768239,0.7877524,null,null,null,null,1.7273749,1.7273749,0.6730685,0.7880946,0.7880946,0.8252608,null,0.7876507,0.8161162,0.7874119,0.8230941],\"legendgroup\":\"TTE\",\"lon\":[127.388645,127.3857821,127.3859509,127.3850983,127.3850983,127.3850983,127.3850983,127.3850983,127.3859509,127.3876673,127.3857821,127.3878817,127.5680254,127.5680098,127.5680199,127.4481918,127.3859021,127.384995,127.5680306,127.5802874,127.4799829,127.3839288,127.3839288,127.5679976,127.5716016,127.3862995,127.5716016,127.3673786,127.3673786,null,127.3670983,127.3670983,127.3670983,127.3673786,127.3670983,127.3867826,127.3673786,127.3673786,127.3673786,127.3673786,127.3673786,127.3673786,127.3883774,null,null,null,null,128.0102739,128.0102739,127.4548687,127.3835638,127.3835638,127.381835,null,127.3825633,127.3832037,127.3874687,127.3785706],\"marker\":{\"color\":\"#636efa\",\"symbol\":\"circle\"},\"mode\":\"markers\",\"name\":\"TTE\",\"showlegend\":true,\"type\":\"scattergeo\"},{\"geo\":\"geo\",\"hovertemplate\":\"UserVar.branch_dest=MJK<br>taskLocationDone.lat=%{lat}<br>taskLocationDone.lon=%{lon}<extra></extra>\",\"lat\":[-7.5695852,-7.5489782,-7.5362802,-7.5329616,-7.5524833,-7.5484432,-7.6182494,-7.556855,-7.5932487,-7.5932487,-7.5639608,-7.5932566,-7.5932538,-7.5932538,-7.5932538,-7.5932538,-7.5932538,-7.5639608,-7.5946082,-7.5636097,-7.5508568,-7.5824373,-7.5918329,-7.5507842,-7.5624783,-7.5507842,-7.5932525,-7.5932533,-7.5932533,-7.5932533,-7.5932525,-7.5932525,-7.5932525,-7.4690545,-7.4690545,-7.4690545,-7.5932527,-7.5529667,-7.4710717,-7.5331602,-7.6033135,-7.5576802,-7.5507163,-7.5039584,-7.5276065,-7.4720011,-7.5932077,-7.4899263,-7.5544371,-7.5544371,-7.456477,-7.5544371,-7.456477,-7.456477,-7.456477,-7.6077514,-7.5932632,-7.5508622,-7.5932767,-7.5932767,-7.5509586,-7.5932767,-7.5043871,-7.5954728,-7.5508987,-7.5932493,-7.5046615,-7.5509567,-7.5467688,-7.5845465,-7.5450396,-7.5645902,-7.5518315,-7.5607142,-7.5533522,-7.520217,-7.578573,-7.4704217,-7.6021367,-7.5530999,-7.6018807,-7.4715473,-7.5932286,-7.594182,-7.5932286,-7.5934981,-7.5928715,-7.5928715,-7.5928715,-7.5928715,-7.59319,-7.59319,-7.59319,-7.59319,-7.59319,-7.59319,-7.59319,-7.59319,-7.59319,-7.59319,-7.59319,-7.59319,-7.6160586,-7.6160586,-7.5934963,null,null,-7.595155,-7.5932503,-7.5932503,-7.5932503,-7.5932503,-7.5932503,-7.5934996,-7.59326,-7.5932317,-7.5932317,-7.59326,-7.5509011,-7.59326,-7.4133316,-7.4799039,-7.4962892,-7.5222383,-7.5022398,-7.5222322,-7.5814805,-7.4837322,-7.580334,-7.5843729,-7.6020387,-7.5823452,-7.6147346,-7.6147346,-7.4545695,-7.547146,-7.4561706],\"legendgroup\":\"MJK\",\"lon\":[112.1965553,112.2236786,112.219342,112.2188233,112.2242553,112.2227761,111.9244892,112.1945574,111.9042553,111.9042553,112.2242875,111.9042508,111.9042536,111.9042536,111.9042536,111.9042536,111.9042536,112.2242875,111.9144569,112.2208459,112.223406,111.911026,111.9046483,112.2250113,112.225065,112.2250113,111.9042525,111.9042514,111.9042514,111.9042514,111.9042525,111.9042525,111.9042525,112.4390471,112.4390471,112.4390471,111.9042525,112.2240022,112.4370317,112.2219454,111.944048,112.2041536,112.2147248,112.164774,112.2220888,112.4387363,111.9041414,112.4241279,112.2296257,112.2296257,112.4004548,112.2296257,112.4004548,112.4004548,112.4004548,112.5309349,111.904246,112.2234059,111.9042167,111.9042167,112.2235601,111.9042167,112.3914755,111.9043678,112.2232799,111.9042572,112.3932946,112.22342,112.2199504,111.887647,112.2220532,112.2239682,112.188551,112.2007767,112.2341715,112.235348,112.2141045,112.4387983,111.9066513,112.2413794,111.9104091,112.4384959,111.9047404,111.9047404,111.9047404,111.904621,111.9054856,111.9054856,111.9054856,111.9054856,111.9044339,111.9044339,111.9044339,111.9044339,111.9044339,111.9044339,111.9044339,111.9044339,111.9044339,111.9044339,111.9044339,111.9044339,111.875676,111.875676,111.904605,null,null,111.9043678,111.9042433,111.9042433,111.9042433,111.9042433,111.9042433,111.9046196,111.9042429,111.9042017,111.9042017,111.9042429,112.2233389,111.9042429,112.366002,112.4222546,112.1789464,112.2370195,112.4541662,112.2370459,112.148024,112.4345222,112.1585397,112.2213816,112.3124548,112.1433633,112.1773217,112.1773217,112.318235,112.2239233,112.3186373],\"marker\":{\"color\":\"#EF553B\",\"symbol\":\"circle\"},\"mode\":\"markers\",\"name\":\"MJK\",\"showlegend\":true,\"type\":\"scattergeo\"},{\"geo\":\"geo\",\"hovertemplate\":\"UserVar.branch_dest=AMI<br>taskLocationDone.lat=%{lat}<br>taskLocationDone.lon=%{lon}<extra></extra>\",\"lat\":[-8.5918798,-8.6174603,-8.5886158,-8.6176239,-8.5895345,-8.5895345,-8.5895345,-8.6188895,-8.6654449,-8.7014158,-8.7310723,-8.3585923,-8.6180567,-8.5206343,-8.6136383,-8.5908983,-8.4697829,-8.6150096,-8.614517,-8.3585939,-8.4707786,-8.6439176,-8.6439176,-8.5858461,-8.5899629,-8.4498864,-8.5037106,-8.5895705,-8.5895705,-8.5895705,-8.5551925,-8.5399243,-8.5555634,-8.5555634,-8.7078245,-8.4552947,-8.5871479,-8.5021291,-8.5400489,-8.6197725,-8.5155987,-8.5835567,-8.6145539,-8.6145539,-8.6145559,-8.623809,-8.5934059,-8.5934059,-8.5934059,-8.593085,-8.6145559,-8.5912184,null,-8.3560151,-8.3560151,-8.5937347,-8.4650308,-8.4559718,-8.4777007,-8.5928697,-8.5928697,-8.5997201,-8.5997201,-8.6022509,-8.5892184,-8.5928697,-8.5944655,-8.4600441,-8.4596058,-8.5948124,-8.5981569,-8.5927781,-8.461475,-8.4542956,-8.362468,-8.7412054,-8.7412054,-8.4562,-8.5134683,-8.5870657,-8.5948124,-8.6288412,-8.6145687,-8.6145687,-8.7408738,-8.6480929,-8.4559607,-8.5923173,-8.5923173,-8.5923173,-8.457325,-8.5922884,-8.6000369,-8.5972243,-8.5895231,-8.7424853,-8.7472929,-8.61375,-8.62422,-8.5839355,-8.5752983,-8.6256321,-8.615167,-8.3512668,-8.590027,-8.4520994,-8.6377049,-8.45919,-8.5949726,-8.5785264,-8.57624,-8.5969395,-8.5881499,-8.5934082,-8.560586,-8.4531679,-8.4531679,-8.5873634,-8.5943399,-8.5960879,-8.5934082],\"legendgroup\":\"AMI\",\"lon\":[116.1292803,116.0814948,116.1270334,116.0817922,116.12632,116.12632,116.12632,116.0833147,116.1360568,116.2652503,116.8303329,116.1488425,116.0993777,116.9951856,116.1259561,119.0123751,118.7589965,116.1146266,116.124547,116.1488368,118.7428736,116.5192261,116.5192261,116.1259397,116.1136415,118.7215902,117.4175949,116.1269283,116.1269283,116.1269283,116.0945387,118.4539686,116.0949029,116.0949029,117.7331222,118.729954,116.129021,117.4293918,118.4592658,116.1142988,118.4588399,116.1037366,116.1420713,116.1420713,116.142074,116.134944,116.1293941,116.1293941,116.1293941,116.129838,116.142074,116.1272647,null,116.1557994,116.1557994,116.1294119,118.7535188,118.7481564,118.7604942,116.1125512,116.1125512,116.1135754,116.1135754,116.1264338,116.116721,116.1125512,116.1248832,118.7423638,118.7431633,116.1086453,116.1442703,116.1201409,118.7446267,118.724195,116.1402683,116.77917,116.77917,118.724165,118.7031705,116.120522,116.1086453,116.5122893,116.1420356,116.1420356,116.8559707,116.121642,118.7481558,116.1296552,116.1296552,116.1296552,118.7581978,116.1295712,116.1138323,116.1291572,116.1272687,116.8525261,116.8566158,116.1265533,116.134685,116.1058224,116.1043154,116.2239287,116.1338522,116.1593993,116.1161584,118.7266617,116.4828701,117.4120133,116.103007,116.1240072,116.1101126,116.109941,116.1093518,116.1026907,116.1145273,118.7335488,118.7335488,116.1155808,116.1175067,116.1115547,116.1026907],\"marker\":{\"color\":\"#00cc96\",\"symbol\":\"circle\"},\"mode\":\"markers\",\"name\":\"AMI\",\"showlegend\":true,\"type\":\"scattergeo\"},{\"geo\":\"geo\",\"hovertemplate\":\"UserVar.branch_dest=TGR<br>taskLocationDone.lat=%{lat}<br>taskLocationDone.lon=%{lon}<extra></extra>\",\"lat\":[-6.1560622,-6.1932986,-6.1926051,-6.1991804,-6.2197208,-6.167176,-6.294963,-6.2228145,-6.1606769,-6.2338631,-6.2944474,-6.1889668,-6.2227654,-6.2952633,-6.2951924,-6.2953428,-6.1523635,-6.1657181,-6.1841348,-6.2715186,-6.1827055,-6.1851451,-6.1631217,-6.120135,-6.120135,-6.2700609,-6.2723255,null,-6.1631217,-6.2723255,-6.1843672,-6.170524,-6.2056902,-6.2056902,-6.149795,-6.1597552,-6.2627182,-6.183012,-6.303375,-6.3386711,-6.0503924,-6.270823,-6.1935195,-6.2887311,-6.286128,-6.286128,-6.205042,-6.2851144,-6.286128,-6.0503924,-6.2526294,-6.3064964,-6.2027984,-6.1912036,-6.1946634,-6.0587639,-6.2342048,-6.2949638,-6.235581716490907,-6.235581716490907,-6.235581716490907,-6.235581716490907,-6.235581716490907,-6.251428536935443,-6.251428536935443,-6.1980467,null,-6.2629849,-6.2945729,-6.1523437,-6.3344574,-6.1302298,-6.237269,-6.224609,-6.2435697,-6.2172246,-6.1750741,-6.1705961,-6.2780626,-6.2185746,-6.2778679,-6.1665537,-6.2908362,null,-6.2969852,-6.2757056,-6.2249365,-6.2778679,-6.2380809,-6.2768168,-6.2773869,-6.2126808,-6.2778679,-6.2630455,-6.2386302,-6.2789629,-6.1759284,null,null,-6.2917342,-6.2108983,-6.2707293,-6.2869405,-6.2867045,-6.2510966,-6.1850123,-6.2402416,-6.3128898,-6.1713022,-6.2817796,-6.3081017,-6.2462273,-6.2648883,-6.29588,-6.2580267,-6.29588,-6.29588,-6.29588,-6.2705874,-6.2736892,-6.2736892,-6.2736892,-6.2736892,-6.2498952,-6.2736892,-6.2719363,-6.2560499,-6.2963882,-6.1761932,-6.1660257],\"legendgroup\":\"TGR\",\"lon\":[106.6456044,106.6836872,106.6833149,106.6801583,106.7032263,106.5974042,106.6846736,106.7109236,106.642521,106.7295971,106.6847073,106.6824806,106.7109474,106.6847653,106.6845654,106.6849892,106.6394585,106.594991,106.6580177,106.6156837,106.6772754,106.6787354,106.5961228,106.6344067,106.6344067,106.6901108,106.6105264,null,106.5961228,106.6105264,106.6788311,106.590366,106.5699501,106.5699501,106.6800967,106.6293936,106.4232385,106.7100186,106.7386,106.7336875,106.656373,106.6593093,106.6518871,106.754054,106.7554964,106.7554964,106.61103,106.7546166,106.7554964,106.656373,106.5720228,106.7689869,106.6962616,106.677074,106.585919,106.6182778,106.5803764,106.6846842,106.52114387601614,106.52114387601614,106.52114387601614,106.52114387601614,106.52114387601614,106.51894714683294,106.51894714683294,106.6810067,null,106.4614848,106.6838462,106.6394029,106.6225598,106.5267648,106.5808962,106.6537117,106.5174934,106.4967792,106.6612581,106.6627177,106.4923093,106.4160743,106.4932537,106.6748582,106.6748504,null,106.6716828,106.4652612,106.5233518,106.4932537,106.5831849,106.4713244,106.4934139,106.7131823,106.4932537,106.7288082,106.6722831,106.4941726,106.5770321,null,null,106.6740586,106.6951754,106.7238741,106.5939499,106.7063074,106.7288221,106.6992837,106.6765975,106.5813651,106.6634459,106.4877087,106.460945,106.5310384,106.4257604,106.6658248,106.7043267,106.6658248,106.6658248,106.6658248,106.7171493,106.742767,106.742767,106.742767,106.742767,106.5084379,106.742767,106.7240727,106.4715272,106.6791047,106.5771392,106.6668441],\"marker\":{\"color\":\"#ab63fa\",\"symbol\":\"circle\"},\"mode\":\"markers\",\"name\":\"TGR\",\"showlegend\":true,\"type\":\"scattergeo\"},{\"geo\":\"geo\",\"hovertemplate\":\"UserVar.branch_dest=KDI<br>taskLocationDone.lat=%{lat}<br>taskLocationDone.lon=%{lon}<extra></extra>\",\"lat\":[-4.296959,-3.8628989,-3.8628989,-4.0612666,-3.9910344,-4.7947898,-4.001903,-4.0216065,-4.0216065,-4.0216065,-4.0216065,-4.0216065,-4.0216065,-4.0216065,-4.0216065,-4.0216065,-4.0216065,-4.0216065,-4.0216065,-4.0216065,-4.0577467,-5.4598939,-4.0577461,-4.0577467,-3.8758436,-3.9856747,-5.4598939,-4.0577467,-4.0577461,-4.0577461,-3.9856747,-3.9856747,-4.0577467,-5.4608129,-4.7730963,-3.990913,-3.9866614,-4.0425327,null,null,null,null,null,null,null,null,null,null,null,null,-4.7730963,-4.0577317,-3.5277514,-3.5277514,-4.0302075,-3.9886613,-4.7728498,-3.967585,-4.0014502,-3.5140307,-3.527783,null,null,null,null,null,-3.9961604,-5.4608091,-5.4571956,null,null,null,null,null,null,null,null,null,null,null,null,null,null,null,null,null,null,null,null,null,-5.4631766,-5.4690102,-4.769294,-4.769294,-4.769294,-4.769294,-4.769294,-4.769294,-4.769294,-4.769294,-4.769294,-4.769294,-4.769294,-4.769294,-4.769294,null,null,null,null,null,null,null,null,null,null,null,null,null,null,-5.4608167,-4.0588876,null,null,null,null,null,null,null,null,null,null,null,null,null,null,-4.0584594,-4.0578607,-4.0578607,-4.0578607,-5.4582676,-5.4582676,null,null,null,-5.4592346,-5.4702504,-5.4738969,-4.0422819,-4.0765835,-5.4664141],\"legendgroup\":\"KDI\",\"lon\":[121.5589426,122.0514446,122.0514446,121.6134194,122.5041503,121.6263812,122.5354133,122.992509,122.992509,122.992509,122.992509,122.992509,122.992509,122.992509,122.992509,122.992509,122.992509,122.992509,122.992509,122.992509,121.6054207,122.6074551,121.6054485,121.6054207,122.4140624,122.49468,122.6074551,121.6054207,121.6054485,121.6054485,122.49468,122.49468,121.6054207,122.617171,123.1827958,122.5144272,122.5017891,122.5561877,null,null,null,null,null,null,null,null,null,null,null,null,123.1827958,121.6054482,122.1284421,122.1284421,122.5415884,122.5175222,123.1778714,122.5034092,122.5335616,120.9029949,122.1282972,null,null,null,null,null,122.5047896,122.6104146,122.6094619,null,null,null,null,null,null,null,null,null,null,null,null,null,null,null,null,null,null,null,null,null,122.5993001,122.6105874,123.1773961,123.1773961,123.1773961,123.1773961,123.1773961,123.1773961,123.1773961,123.1773961,123.1773961,123.1773961,123.1773961,123.1773961,123.1773961,null,null,null,null,null,null,null,null,null,null,null,null,null,null,122.6105622,121.6074506,null,null,null,null,null,null,null,null,null,null,null,null,null,null,121.6045978,121.6056676,121.6056676,121.6056676,122.5930045,122.5930045,null,null,null,122.6015959,122.5943169,122.5953382,122.4870932,122.4213045,122.5951187],\"marker\":{\"color\":\"#FFA15A\",\"symbol\":\"circle\"},\"mode\":\"markers\",\"name\":\"KDI\",\"showlegend\":true,\"type\":\"scattergeo\"},{\"geo\":\"geo\",\"hovertemplate\":\"UserVar.branch_dest=PGK<br>taskLocationDone.lat=%{lat}<br>taskLocationDone.lon=%{lon}<extra></extra>\",\"lat\":[-2.1295905,-2.1289091,-2.4205001,-2.1295905,-2.127751,-2.0217614,-2.1296242,-2.1296276,-2.9922544,-2.1295747,-2.1295747,-2.1296205,-2.1296205,-2.1295956,-2.129636,-2.129636,-2.129636,-2.129636,-2.129552,-2.129636,-2.1297953,-2.1297953,-2.1297953,-2.1309966,-2.1294904,-2.1295418,-2.1295418,-2.1295636,-2.1295636,-2.1295636,-2.1295636,-2.1295636,-2.1297953,-2.1297953,-2.1297953,-2.1297953,-2.1297953,-2.1297953,-2.1297953,-2.1297953,-2.1297953,-2.1297953,-2.1297953,-2.1296372,-1.6457805,-2.1295994,null,-2.1051832,-2.1387924,-2.1295994,-2.0986796,-1.920415,-2.1296396,-2.1296396,-2.1295387,-2.1295387,-2.1295795,-2.1295795,-2.1295792,-2.129605,-2.1295795,-2.1295795,-2.1296213,-2.1296213,-2.1296213,-2.1296213,-2.1295895,-2.1295563,-2.1296042,-2.1286256,-2.1286256,-2.1286256,-2.1298515,-2.1315716,-2.1315716,-2.1315716,-2.1315716,-2.1315716,null,-2.1295963,-2.1295963,-2.1315716,-2.1315716,null,null,null,null,null,null,null,null,null,null,-2.1295628,null,null,null,null,null,null,null,null,-2.1296196,-2.1295956,-2.1295956,-2.1295956,-2.1295709,-2.1020435,-2.1020435,-2.1295869,-2.1020435,-2.1295687,-2.1295687,-2.1295687,-2.1295687,-2.1295687,-2.1295687,-2.1295508,-2.129653,null,null,null,null,-2.1295657,-2.1295657,-2.1295657,-2.1295657,-2.1295657,-2.1295657,null,null,null,null,null,null,null,null,null,null,null,null,null,null,null,null,-2.1295657,-2.1295657,-2.1295657,-2.1295657,-2.1295657,-2.1295657,-2.1295657,-2.1295657,-2.1295657,-2.1293757,-2.1295802,-2.1295914,-2.1295917,-2.1345711,-2.1345711,-2.1134332,-2.1308452,-2.1012358,-2.1265032,-2.13064,-2.1005008,-3.0024085],\"legendgroup\":\"PGK\",\"lon\":[106.1080225,106.1078636,106.0254048,106.1080225,106.1066266,106.1453622,106.1081766,106.1081954,106.7829958,106.1080489,106.1080489,106.1079627,106.1079627,106.1081501,106.1081699,106.1081699,106.1081699,106.1081699,106.1080224,106.1081699,106.1086614,106.1086614,106.1086614,106.106824,106.107944,106.1079582,106.1079582,106.1080228,106.1080228,106.1080228,106.1080228,106.1080228,106.1086614,106.1086614,106.1086614,106.1086614,106.1086614,106.1086614,106.1086614,106.1086614,106.1086614,106.1086614,106.1086614,106.1081565,105.7783319,106.1078882,null,106.1114284,106.1304269,106.1078882,106.0806526,105.3760633,106.1077338,106.1077338,106.107955,106.107955,106.1080094,106.1080094,106.1080065,106.1081113,106.1080094,106.1080094,106.1081848,106.1081848,106.1081848,106.1081848,106.1079821,106.1079442,106.1080692,106.107559,106.107559,106.107559,106.1079162,106.108294,106.108294,106.108294,106.108294,106.108294,null,106.1080257,106.1080257,106.108294,106.108294,null,null,null,null,null,null,null,null,null,null,106.1079466,null,null,null,null,null,null,null,null,106.1079844,106.1079026,106.1079026,106.1079026,106.1079932,106.1136555,106.1136555,106.1079662,106.1136555,106.1079355,106.1079355,106.1079355,106.1079355,106.1079355,106.1079355,106.1079545,106.1081097,null,null,null,null,106.1079528,106.1079528,106.1079528,106.1079528,106.1079528,106.1079528,null,null,null,null,null,null,null,null,null,null,null,null,null,null,null,null,106.1079528,106.1079528,106.1079528,106.1079528,106.1079528,106.1079528,106.1079528,106.1079528,106.1079528,106.1080111,106.1080229,106.1080026,106.1080168,106.1224609,106.1224609,106.1082724,106.1246758,106.1156523,106.1226637,106.1054633,106.1205939,106.4609358],\"marker\":{\"color\":\"#19d3f3\",\"symbol\":\"circle\"},\"mode\":\"markers\",\"name\":\"PGK\",\"showlegend\":true,\"type\":\"scattergeo\"},{\"geo\":\"geo\",\"hovertemplate\":\"UserVar.branch_dest=BTH<br>taskLocationDone.lat=%{lat}<br>taskLocationDone.lon=%{lon}<extra></extra>\",\"lat\":[1.0412279,1.0408916,1.0408916,1.0403823,1.0381975,1.1151076,1.126658,1.1273197,1.1028539,1.0548617,1.1239886,1.1068183,1.1067631,1.0997143,1.1054316,1.127471],\"legendgroup\":\"BTH\",\"lon\":[103.9650074,103.9914669,103.9914669,104.0042875,103.9989506,104.0651805,103.9274421,104.0087354,104.03412,104.0379724,104.0105186,104.0758778,104.0660307,104.0367645,104.0730223,104.0121188],\"marker\":{\"color\":\"#FF6692\",\"symbol\":\"circle\"},\"mode\":\"markers\",\"name\":\"BTH\",\"showlegend\":true,\"type\":\"scattergeo\"},{\"geo\":\"geo\",\"hovertemplate\":\"UserVar.branch_dest=TSM<br>taskLocationDone.lat=%{lat}<br>taskLocationDone.lon=%{lon}<extra></extra>\",\"lat\":[-7.3101408,-7.3101408,-7.1762267,-7.3715317,-7.4130465,-7.3484099,-7.2049316,-7.5414067,-7.7224924,-7.3715224,-7.661585,-7.661585,-7.6233434,-7.7579315,-7.1317984,-7.3695909,-7.6291799,-7.3722765,-7.3465772,-7.3501227,-7.1712885,null,-7.3992317,-7.3700972,-7.3492741,-7.2119117],\"legendgroup\":\"TSM\",\"lon\":[108.2383079,108.2383079,108.160375,108.0870686,108.269362,108.2309608,108.1968037,108.725666,108.2748423,108.5958533,108.6522371,108.6522371,108.1250907,108.1385255,108.218073,108.535371,108.110502,108.5253535,108.0763532,108.116949,108.1533989,null,108.5948361,108.5234984,108.120447,108.3832837],\"marker\":{\"color\":\"#B6E880\",\"symbol\":\"circle\"},\"mode\":\"markers\",\"name\":\"TSM\",\"showlegend\":true,\"type\":\"scattergeo\"},{\"geo\":\"geo\",\"hovertemplate\":\"UserVar.branch_dest=TIM<br>taskLocationDone.lat=%{lat}<br>taskLocationDone.lon=%{lon}<extra></extra>\",\"lat\":[-4.5638853,-4.5638886,-4.5638886,null,null,null,null,null,null,null,null,null,null,null,null,null,null,null,null,null,null,null,null,null,null,null,null,null,null,null,null,null,null,null,null,null,null,null,null,null,null,null,null,null,null,null,null,-4.5638805,-4.563936,-4.563936,-4.563936,-4.563936,-4.5639329,-4.5639227,-4.5621493,-4.5639228,-4.5639112,-4.5639327,-4.5639311],\"legendgroup\":\"TIM\",\"lon\":[136.8806185,136.8805957,136.8805957,null,null,null,null,null,null,null,null,null,null,null,null,null,null,null,null,null,null,null,null,null,null,null,null,null,null,null,null,null,null,null,null,null,null,null,null,null,null,null,null,null,null,null,null,136.8806047,136.8806208,136.8806208,136.8806208,136.8806208,136.8806339,136.880648,136.8808669,136.8806445,136.8806861,136.880661,136.8806383],\"marker\":{\"color\":\"#FF97FF\",\"symbol\":\"circle\"},\"mode\":\"markers\",\"name\":\"TIM\",\"showlegend\":true,\"type\":\"scattergeo\"},{\"geo\":\"geo\",\"hovertemplate\":\"UserVar.branch_dest=KDR<br>taskLocationDone.lat=%{lat}<br>taskLocationDone.lon=%{lon}<extra></extra>\",\"lat\":[-7.9282436,-7.9014243,-7.9269289,-7.9290957,-7.928503,-7.930169,-7.9290054,-7.9290054,-7.9290054,-7.7975061,-7.8130826,-7.9125112,-7.9535807,-7.7504374,-7.7887993,-7.697958,-7.9110191,null,null,null,null,null,null,null,null,null,null,null,null,null,null,null,null,null,null,null,null,null,null,null,null,null,null,null,null,null,null,null,-7.9460734,-7.8137894,-7.813876,-7.7154935,-7.9921087,-7.7215312,-7.9906724,-7.7994143,-7.7972532,-7.7772344,-7.7293545,-7.8637471,-7.7714054,-7.6913272,-7.8483076,-7.7658384],\"legendgroup\":\"KDR\",\"lon\":[112.0316263,112.04681,112.0206675,111.9539868,111.9528391,111.9552635,111.9549948,111.9549948,111.9549948,112.1035446,112.0122574,112.0252503,112.0277354,112.1308292,112.1924498,112.1347484,112.0232312,null,null,null,null,null,null,null,null,null,null,null,null,null,null,null,null,null,null,null,null,null,null,null,null,null,null,null,null,null,null,null,112.0732287,112.0204653,112.0180147,112.2010436,112.0380951,112.2044342,112.0410324,112.0470781,112.2062392,112.1977821,112.0580465,112.0619079,112.1994524,112.1167314,112.1543172,112.1850299],\"marker\":{\"color\":\"#FECB52\",\"symbol\":\"circle\"},\"mode\":\"markers\",\"name\":\"KDR\",\"showlegend\":true,\"type\":\"scattergeo\"},{\"geo\":\"geo\",\"hovertemplate\":\"UserVar.branch_dest=SOQ<br>taskLocationDone.lat=%{lat}<br>taskLocationDone.lon=%{lon}<extra></extra>\",\"lat\":[-0.8834294,-0.8834036,-0.8755911,-0.8755911,-0.8834816,-0.8861568,-0.8729307,-0.8834321,-0.8878997,-0.8789104,-0.8789104,-0.8789094,-0.8716406,-0.8836694,-0.8878797,-0.8878797,-0.8878797,-0.8878797,-0.8878797,-0.8878797,-0.8878797,-0.8878797,-0.8878797,-0.8878797,-0.8878797,-0.8810161,-0.8928628,null,-0.8838467],\"legendgroup\":\"SOQ\",\"lon\":[131.279877,131.2799662,131.297016,131.297016,131.2799313,131.2966835,131.2960824,131.2799962,131.2932056,133.8267721,133.8267721,133.8267717,131.3122626,131.2785364,131.3075346,131.3075346,131.3075346,131.3075346,131.3075346,131.3075346,131.3075346,131.3075346,131.3075346,131.3075346,131.3075346,131.3027171,131.3088359,null,131.2800864],\"marker\":{\"color\":\"#636efa\",\"symbol\":\"circle\"},\"mode\":\"markers\",\"name\":\"SOQ\",\"showlegend\":true,\"type\":\"scattergeo\"},{\"geo\":\"geo\",\"hovertemplate\":\"UserVar.branch_dest=PSR<br>taskLocationDone.lat=%{lat}<br>taskLocationDone.lon=%{lon}<extra></extra>\",\"lat\":[-7.6698206,-7.6701096,-7.6701096,-7.6701096,-7.6701096,-7.6739574,-7.6701378,-7.6556697,-7.6455549,-7.6701686,-7.6717408,-7.6585424,-7.6785711,-7.6687981,-7.5922531,-7.6416997,-7.6699889,-7.6726584,-7.6726584,-7.6726584,-7.6726584,-7.6701764,-7.6726584,-7.6726584,-7.6726584,-7.6726584,-7.6726584,-7.6701706,-7.6701706,-7.6701629,-7.6701629,-7.6701629,-7.6699932,-7.662809,-7.6465101,-7.6626138,-7.6626138,-7.6626138,-7.6596468,-7.6586827,-7.6701553,-7.6701553,-7.6701553,-7.6701553,-7.6720071,null,-7.6687348,-7.6824586,-7.6701493,-7.6701506,-7.6701506,-7.6701588,-7.670076,-7.670076,-7.6584291,-7.6584291,-7.5684677,-7.6145953,-7.5904605,-7.593373,-7.5934494,-7.593373,-7.5922797,-7.636697,-7.6230614,-7.6337853,-7.6806121,-7.6243141,-7.6147563,-7.6578255],\"legendgroup\":\"PSR\",\"lon\":[112.9045513,112.9039321,112.9039321,112.9039321,112.9039321,112.8863268,112.9039869,112.9012972,112.9136264,112.904067,112.9003637,112.6906895,112.8580308,112.9060189,112.7891838,112.9054744,112.9039868,112.900481,112.900481,112.900481,112.900481,112.9040867,112.900481,112.900481,112.900481,112.900481,112.900481,112.9040662,112.9040662,112.9040663,112.9040663,112.9040663,112.903824,112.8956402,112.9166657,112.9131564,112.9131564,112.9131564,112.8956402,112.913824,112.9040554,112.9040554,112.9040554,112.9040554,112.8898412,null,112.9060732,112.9552592,112.903989,112.9040603,112.9040603,112.9040675,112.9040573,112.9040573,112.6908063,112.6908063,112.7954689,112.8180362,112.7320434,112.7884001,112.7871396,112.7884001,112.7892546,112.897589,112.8173686,112.9064462,112.7086244,112.7087433,112.8160325,112.9112794],\"marker\":{\"color\":\"#EF553B\",\"symbol\":\"circle\"},\"mode\":\"markers\",\"name\":\"PSR\",\"showlegend\":true,\"type\":\"scattergeo\"},{\"geo\":\"geo\",\"hovertemplate\":\"UserVar.branch_dest=MKQ<br>taskLocationDone.lat=%{lat}<br>taskLocationDone.lon=%{lon}<extra></extra>\",\"lat\":[-8.4859844,-8.4856386,-8.4863017,-8.4906623,-8.5251015,-8.4901824,-8.4851922,-8.5139343,-8.4895991,-8.494495,-8.4997136,-8.504365,-8.504365,-8.4983785,-8.4963539,-8.4963539,-8.4963333,-8.4877548,-8.5098366,-8.4964707,-8.4845486,-8.4942864,-8.5015624,-8.494214],\"legendgroup\":\"MKQ\",\"lon\":[140.3975084,140.3850891,140.38685,140.399939,140.4157767,140.3983157,140.398098,140.406188,140.3803326,140.399475,140.3973945,140.3842383,140.3842383,140.4006084,140.3987376,140.3987376,140.3987369,140.3964564,140.4083781,140.3941414,140.4005287,140.3996273,140.397453,140.3997006],\"marker\":{\"color\":\"#00cc96\",\"symbol\":\"circle\"},\"mode\":\"markers\",\"name\":\"MKQ\",\"showlegend\":true,\"type\":\"scattergeo\"},{\"geo\":\"geo\",\"hovertemplate\":\"UserVar.branch_dest=KRW<br>taskLocationDone.lat=%{lat}<br>taskLocationDone.lon=%{lon}<extra></extra>\",\"lat\":[-6.3988591,-6.3718596,-6.3718596,-6.3832889,-6.3718596,-6.4045478,-6.3718596,-6.3894567,-6.3862712,-6.3718596,-6.3635394,-6.3718596,-6.3718596,-6.3126926,-6.3048753,-6.3485193,-6.403853,-6.3485193,-6.3364314,-6.3873518,-6.3081597,-6.3436281,-6.3485193,-6.3873518,-6.3902512,-6.2958571,-6.3902512,-6.4680857,-6.3954287,-6.2716128,-6.1562775,-6.301807,-6.299218,-6.299218,-6.3161005],\"legendgroup\":\"KRW\",\"lon\":[107.4410326,107.2924476,107.2924476,107.4649132,107.2924476,107.4920479,107.2924476,107.4416545,107.4659655,107.2924476,107.3857703,107.2924476,107.2924476,107.4682471,107.3074287,107.3132258,107.4187495,107.3132258,107.295982,107.3223212,107.3035455,107.2504433,107.3132258,107.3223212,107.4522306,107.3047477,107.4522306,107.1859335,107.446735,107.335121,107.3007847,107.3080701,107.2857524,107.2857524,107.2939238],\"marker\":{\"color\":\"#ab63fa\",\"symbol\":\"circle\"},\"mode\":\"markers\",\"name\":\"KRW\",\"showlegend\":true,\"type\":\"scattergeo\"},{\"geo\":\"geo\",\"hovertemplate\":\"UserVar.branch_dest=SMD<br>taskLocationDone.lat=%{lat}<br>taskLocationDone.lon=%{lon}<extra></extra>\",\"lat\":[-0.4817586,-0.467145,-0.467145,-0.4682929,-0.4674241,-0.4688201,-0.486986,-0.4220053,-0.420838,-0.4890163,-0.4185011,-0.4890163,-0.4383106,-0.5224452,-0.5224452,-0.5224452,-0.5224452,-0.5224452,-0.5224452,-0.5224452,-0.5224452,-0.4524041,-0.4566757,-0.5165541,-0.5165541,-0.517358,-0.4674183,-0.46736,-0.467291,-0.467291,null,null,null,null,null,null,null,null,null,null,null,null,null,null,null,null,null,null,null,null,-0.4673702,null,null,null,null,null,null,null,null,null,null,null,null,null,null,null,null,null,null,null,null,null,null,null,null,null,null,null,null,null,null,null,null,null,null,null,null,null,null,null,null,null,null,null,null,null,null,null,null,null,null,-0.4673308,-0.3292884,-0.4342783,-0.4204542,-0.5657233,-0.5428448,-0.2327446,-0.7449234],\"legendgroup\":\"SMD\",\"lon\":[117.1597843,117.1381267,117.1381267,117.1387918,117.1380011,117.1384241,117.1454768,116.9868784,116.987102,117.1401335,116.987155,117.1401335,117.0115467,117.0236789,117.0236789,117.0236789,117.0236789,117.0236789,117.0236789,117.0236789,117.0236789,117.140542,117.1463734,117.144818,117.144818,117.1236009,117.1381617,117.138225,117.1380354,117.1380354,null,null,null,null,null,null,null,null,null,null,null,null,null,null,null,null,null,null,null,null,117.1381478,null,null,null,null,null,null,null,null,null,null,null,null,null,null,null,null,null,null,null,null,null,null,null,null,null,null,null,null,null,null,null,null,null,null,null,null,null,null,null,null,null,null,null,null,null,null,null,null,null,null,117.1384299,117.4348976,117.0064975,116.98259,117.1804198,117.1120481,115.7999,116.2614467],\"marker\":{\"color\":\"#FFA15A\",\"symbol\":\"circle\"},\"mode\":\"markers\",\"name\":\"SMD\",\"showlegend\":true,\"type\":\"scattergeo\"},{\"geo\":\"geo\",\"hovertemplate\":\"UserVar.branch_dest=TRK<br>taskLocationDone.lat=%{lat}<br>taskLocationDone.lon=%{lon}<extra></extra>\",\"lat\":[3.656859,3.656859,3.656859,3.656859,3.656859,3.656859,3.656859,3.656859,3.656859,3.656859,3.656859,3.656859,3.656859,3.656859,3.656859,3.656859,3.656859,3.656859,3.656859,3.5897726,3.5897707,3.3153085,2.8444957,2.8444957,2.8444957,3.3067261,2.8453889,2.8453889,2.8453889,2.8453889,2.8453889,2.8496486,3.2958632,3.3209871],\"legendgroup\":\"TRK\",\"lon\":[116.6738854,116.6738854,116.6738854,116.6738854,116.6738854,116.6738854,116.6738854,116.6738854,116.6738854,116.6738854,116.6738854,116.6738854,116.6738854,116.6738854,116.6738854,116.6738854,116.6738854,116.6738854,116.6738854,116.6228395,116.6228345,117.6006519,117.3645587,117.3645587,117.3645587,117.5841204,117.3656973,117.3656973,117.3656973,117.3656973,117.3656973,117.3364198,117.6163857,117.5989329],\"marker\":{\"color\":\"#19d3f3\",\"symbol\":\"circle\"},\"mode\":\"markers\",\"name\":\"TRK\",\"showlegend\":true,\"type\":\"scattergeo\"},{\"geo\":\"geo\",\"hovertemplate\":\"UserVar.branch_dest=PBL<br>taskLocationDone.lat=%{lat}<br>taskLocationDone.lon=%{lon}<extra></extra>\",\"lat\":[-7.7347299,-7.7347299,-7.7305338,-7.7529079,-7.7304287,-8.1070382,-7.7324087,-7.7324087,-8.1420384,-7.7469945,-7.7663068,-7.6670212,-7.7221829,-7.7126873,-7.8437093,-8.1318766,-8.1111294,-7.7532807,-7.7562868,-7.6990172,-7.7338344,-7.7338344],\"legendgroup\":\"PBL\",\"lon\":[113.6939912,113.6939912,113.6935672,113.1930517,113.6906871,113.2321632,113.6893647,113.6893647,113.1851926,114.2223217,113.4182951,113.995649,113.495087,113.5736879,113.2189469,113.2213022,113.2339895,113.193515,113.1963318,113.9943839,113.219102,113.219102],\"marker\":{\"color\":\"#FF6692\",\"symbol\":\"circle\"},\"mode\":\"markers\",\"name\":\"PBL\",\"showlegend\":true,\"type\":\"scattergeo\"},{\"geo\":\"geo\",\"hovertemplate\":\"UserVar.branch_dest=SDA<br>taskLocationDone.lat=%{lat}<br>taskLocationDone.lon=%{lon}<extra></extra>\",\"lat\":[-7.4335277,-7.4243367,-7.4243367,-7.456233,-7.367194,-7.4437209,-7.367194,-7.367194,-7.3652394,-7.367194,-7.367194,-7.3551083,-7.367194,-7.4527287,-7.4532799,-7.4532799,-7.3711475,-7.4107721,-7.4254204,-7.447055,-7.4242533,-7.42508,-7.4392377,-7.4088574,-7.4464299,-7.4195164,-7.4386877,-7.4325986,-7.4380486],\"legendgroup\":\"SDA\",\"lon\":[112.7400077,112.7408199,112.7408199,112.6496418,112.6593878,112.4698504,112.6593878,112.6593878,112.6955066,112.6593878,112.6593878,112.6861417,112.6593878,112.6833249,112.6973614,112.6973614,112.6559736,112.6680692,112.7377389,112.7407523,112.7410633,112.7562372,112.6052522,112.7554743,112.584169,112.7288718,112.602545,112.5954924,112.7288173],\"marker\":{\"color\":\"#B6E880\",\"symbol\":\"circle\"},\"mode\":\"markers\",\"name\":\"SDA\",\"showlegend\":true,\"type\":\"scattergeo\"},{\"geo\":\"geo\",\"hovertemplate\":\"UserVar.branch_dest=PKY<br>taskLocationDone.lat=%{lat}<br>taskLocationDone.lon=%{lon}<extra></extra>\",\"lat\":[-2.7166111,-2.2140464,-2.2186689,-2.2636133,-2.2636133,-2.2636133,-2.2636133,-2.7166038,-2.7166038,-2.7166038,-2.222049,-2.6946687,-2.7457237,-2.209189,-2.2276833,-2.2309437,-2.2318678,-2.2260225,-2.2287572,-2.2023697,-2.2161943,-2.199042,-2.2068928],\"legendgroup\":\"PKY\",\"lon\":[111.1674238,113.9084306,113.9010629,113.9404689,113.9404689,113.9404689,113.9404689,111.1673918,111.1673918,111.1673918,113.8921922,111.627505,112.904525,113.9363541,113.9146167,113.9134688,113.9362565,113.9397155,113.9311861,113.8780098,113.9259615,113.8723715,113.9065712],\"marker\":{\"color\":\"#FF97FF\",\"symbol\":\"circle\"},\"mode\":\"markers\",\"name\":\"PKY\",\"showlegend\":true,\"type\":\"scattergeo\"},{\"geo\":\"geo\",\"hovertemplate\":\"UserVar.branch_dest=DPK<br>taskLocationDone.lat=%{lat}<br>taskLocationDone.lon=%{lon}<extra></extra>\",\"lat\":[-6.3954576,-6.3933613,-6.4474534,-6.3781766,-6.3843615,-6.3771551,-6.3765091,-6.406565,-6.3765091,-6.3765091,-6.3633271,-6.4302904,-6.3728956,-6.3750683,-6.3878024,null],\"legendgroup\":\"DPK\",\"lon\":[106.8400433,106.8397542,106.8521779,106.7215399,106.7277024,106.800214,106.752473,106.8735538,106.752473,106.752473,106.7630542,106.8307735,106.7376875,106.8692353,106.7687732,null],\"marker\":{\"color\":\"#FECB52\",\"symbol\":\"circle\"},\"mode\":\"markers\",\"name\":\"DPK\",\"showlegend\":true,\"type\":\"scattergeo\"},{\"geo\":\"geo\",\"hovertemplate\":\"UserVar.branch_dest=TJQ<br>taskLocationDone.lat=%{lat}<br>taskLocationDone.lon=%{lon}<extra></extra>\",\"lat\":[-2.7329481,-2.7329481,-2.963246,-2.963246,-2.963246,null,-3.0720765,-2.7332396,-2.9798182,-2.8657931,-2.7386471,-2.7308426,-2.718903],\"legendgroup\":\"TJQ\",\"lon\":[107.6490139,107.6490139,108.169985,108.169985,108.169985,null,108.0372778,107.6572324,108.1537125,108.2742678,107.6369836,107.6305062,107.6381754],\"marker\":{\"color\":\"#636efa\",\"symbol\":\"circle\"},\"mode\":\"markers\",\"name\":\"TJQ\",\"showlegend\":true,\"type\":\"scattergeo\"},{\"geo\":\"geo\",\"hovertemplate\":\"UserVar.branch_dest=TNJ<br>taskLocationDone.lat=%{lat}<br>taskLocationDone.lon=%{lon}<extra></extra>\",\"lat\":[1.1288076,0.9110685,0.9087505,0.9084362,0.9091715,0.9093418,0.9052564,0.9083869,0.9094797,0.923018,0.9621378,0.9171699,0.90795,0.8973297,0.9203674,0.8397994,0.9172836,0.8941009,0.9006843,1.0699627],\"legendgroup\":\"TNJ\",\"lon\":[104.3065958,104.4913921,104.4954419,104.5016299,104.4714172,104.4921659,104.4690077,104.5136427,104.4919443,104.4902634,104.5414243,104.5048167,104.5496869,104.4824652,104.5078802,104.4999924,104.5081091,104.478694,104.4670571,104.2333475],\"marker\":{\"color\":\"#EF553B\",\"symbol\":\"circle\"},\"mode\":\"markers\",\"name\":\"TNJ\",\"showlegend\":true,\"type\":\"scattergeo\"}],                        {\"template\":{\"data\":{\"histogram2dcontour\":[{\"type\":\"histogram2dcontour\",\"colorbar\":{\"outlinewidth\":0,\"ticks\":\"\"},\"colorscale\":[[0.0,\"#0d0887\"],[0.1111111111111111,\"#46039f\"],[0.2222222222222222,\"#7201a8\"],[0.3333333333333333,\"#9c179e\"],[0.4444444444444444,\"#bd3786\"],[0.5555555555555556,\"#d8576b\"],[0.6666666666666666,\"#ed7953\"],[0.7777777777777778,\"#fb9f3a\"],[0.8888888888888888,\"#fdca26\"],[1.0,\"#f0f921\"]]}],\"choropleth\":[{\"type\":\"choropleth\",\"colorbar\":{\"outlinewidth\":0,\"ticks\":\"\"}}],\"histogram2d\":[{\"type\":\"histogram2d\",\"colorbar\":{\"outlinewidth\":0,\"ticks\":\"\"},\"colorscale\":[[0.0,\"#0d0887\"],[0.1111111111111111,\"#46039f\"],[0.2222222222222222,\"#7201a8\"],[0.3333333333333333,\"#9c179e\"],[0.4444444444444444,\"#bd3786\"],[0.5555555555555556,\"#d8576b\"],[0.6666666666666666,\"#ed7953\"],[0.7777777777777778,\"#fb9f3a\"],[0.8888888888888888,\"#fdca26\"],[1.0,\"#f0f921\"]]}],\"heatmap\":[{\"type\":\"heatmap\",\"colorbar\":{\"outlinewidth\":0,\"ticks\":\"\"},\"colorscale\":[[0.0,\"#0d0887\"],[0.1111111111111111,\"#46039f\"],[0.2222222222222222,\"#7201a8\"],[0.3333333333333333,\"#9c179e\"],[0.4444444444444444,\"#bd3786\"],[0.5555555555555556,\"#d8576b\"],[0.6666666666666666,\"#ed7953\"],[0.7777777777777778,\"#fb9f3a\"],[0.8888888888888888,\"#fdca26\"],[1.0,\"#f0f921\"]]}],\"heatmapgl\":[{\"type\":\"heatmapgl\",\"colorbar\":{\"outlinewidth\":0,\"ticks\":\"\"},\"colorscale\":[[0.0,\"#0d0887\"],[0.1111111111111111,\"#46039f\"],[0.2222222222222222,\"#7201a8\"],[0.3333333333333333,\"#9c179e\"],[0.4444444444444444,\"#bd3786\"],[0.5555555555555556,\"#d8576b\"],[0.6666666666666666,\"#ed7953\"],[0.7777777777777778,\"#fb9f3a\"],[0.8888888888888888,\"#fdca26\"],[1.0,\"#f0f921\"]]}],\"contourcarpet\":[{\"type\":\"contourcarpet\",\"colorbar\":{\"outlinewidth\":0,\"ticks\":\"\"}}],\"contour\":[{\"type\":\"contour\",\"colorbar\":{\"outlinewidth\":0,\"ticks\":\"\"},\"colorscale\":[[0.0,\"#0d0887\"],[0.1111111111111111,\"#46039f\"],[0.2222222222222222,\"#7201a8\"],[0.3333333333333333,\"#9c179e\"],[0.4444444444444444,\"#bd3786\"],[0.5555555555555556,\"#d8576b\"],[0.6666666666666666,\"#ed7953\"],[0.7777777777777778,\"#fb9f3a\"],[0.8888888888888888,\"#fdca26\"],[1.0,\"#f0f921\"]]}],\"surface\":[{\"type\":\"surface\",\"colorbar\":{\"outlinewidth\":0,\"ticks\":\"\"},\"colorscale\":[[0.0,\"#0d0887\"],[0.1111111111111111,\"#46039f\"],[0.2222222222222222,\"#7201a8\"],[0.3333333333333333,\"#9c179e\"],[0.4444444444444444,\"#bd3786\"],[0.5555555555555556,\"#d8576b\"],[0.6666666666666666,\"#ed7953\"],[0.7777777777777778,\"#fb9f3a\"],[0.8888888888888888,\"#fdca26\"],[1.0,\"#f0f921\"]]}],\"mesh3d\":[{\"type\":\"mesh3d\",\"colorbar\":{\"outlinewidth\":0,\"ticks\":\"\"}}],\"scatter\":[{\"fillpattern\":{\"fillmode\":\"overlay\",\"size\":10,\"solidity\":0.2},\"type\":\"scatter\"}],\"parcoords\":[{\"type\":\"parcoords\",\"line\":{\"colorbar\":{\"outlinewidth\":0,\"ticks\":\"\"}}}],\"scatterpolargl\":[{\"type\":\"scatterpolargl\",\"marker\":{\"colorbar\":{\"outlinewidth\":0,\"ticks\":\"\"}}}],\"bar\":[{\"error_x\":{\"color\":\"#2a3f5f\"},\"error_y\":{\"color\":\"#2a3f5f\"},\"marker\":{\"line\":{\"color\":\"#E5ECF6\",\"width\":0.5},\"pattern\":{\"fillmode\":\"overlay\",\"size\":10,\"solidity\":0.2}},\"type\":\"bar\"}],\"scattergeo\":[{\"type\":\"scattergeo\",\"marker\":{\"colorbar\":{\"outlinewidth\":0,\"ticks\":\"\"}}}],\"scatterpolar\":[{\"type\":\"scatterpolar\",\"marker\":{\"colorbar\":{\"outlinewidth\":0,\"ticks\":\"\"}}}],\"histogram\":[{\"marker\":{\"pattern\":{\"fillmode\":\"overlay\",\"size\":10,\"solidity\":0.2}},\"type\":\"histogram\"}],\"scattergl\":[{\"type\":\"scattergl\",\"marker\":{\"colorbar\":{\"outlinewidth\":0,\"ticks\":\"\"}}}],\"scatter3d\":[{\"type\":\"scatter3d\",\"line\":{\"colorbar\":{\"outlinewidth\":0,\"ticks\":\"\"}},\"marker\":{\"colorbar\":{\"outlinewidth\":0,\"ticks\":\"\"}}}],\"scattermapbox\":[{\"type\":\"scattermapbox\",\"marker\":{\"colorbar\":{\"outlinewidth\":0,\"ticks\":\"\"}}}],\"scatterternary\":[{\"type\":\"scatterternary\",\"marker\":{\"colorbar\":{\"outlinewidth\":0,\"ticks\":\"\"}}}],\"scattercarpet\":[{\"type\":\"scattercarpet\",\"marker\":{\"colorbar\":{\"outlinewidth\":0,\"ticks\":\"\"}}}],\"carpet\":[{\"aaxis\":{\"endlinecolor\":\"#2a3f5f\",\"gridcolor\":\"white\",\"linecolor\":\"white\",\"minorgridcolor\":\"white\",\"startlinecolor\":\"#2a3f5f\"},\"baxis\":{\"endlinecolor\":\"#2a3f5f\",\"gridcolor\":\"white\",\"linecolor\":\"white\",\"minorgridcolor\":\"white\",\"startlinecolor\":\"#2a3f5f\"},\"type\":\"carpet\"}],\"table\":[{\"cells\":{\"fill\":{\"color\":\"#EBF0F8\"},\"line\":{\"color\":\"white\"}},\"header\":{\"fill\":{\"color\":\"#C8D4E3\"},\"line\":{\"color\":\"white\"}},\"type\":\"table\"}],\"barpolar\":[{\"marker\":{\"line\":{\"color\":\"#E5ECF6\",\"width\":0.5},\"pattern\":{\"fillmode\":\"overlay\",\"size\":10,\"solidity\":0.2}},\"type\":\"barpolar\"}],\"pie\":[{\"automargin\":true,\"type\":\"pie\"}]},\"layout\":{\"autotypenumbers\":\"strict\",\"colorway\":[\"#636efa\",\"#EF553B\",\"#00cc96\",\"#ab63fa\",\"#FFA15A\",\"#19d3f3\",\"#FF6692\",\"#B6E880\",\"#FF97FF\",\"#FECB52\"],\"font\":{\"color\":\"#2a3f5f\"},\"hovermode\":\"closest\",\"hoverlabel\":{\"align\":\"left\"},\"paper_bgcolor\":\"white\",\"plot_bgcolor\":\"#E5ECF6\",\"polar\":{\"bgcolor\":\"#E5ECF6\",\"angularaxis\":{\"gridcolor\":\"white\",\"linecolor\":\"white\",\"ticks\":\"\"},\"radialaxis\":{\"gridcolor\":\"white\",\"linecolor\":\"white\",\"ticks\":\"\"}},\"ternary\":{\"bgcolor\":\"#E5ECF6\",\"aaxis\":{\"gridcolor\":\"white\",\"linecolor\":\"white\",\"ticks\":\"\"},\"baxis\":{\"gridcolor\":\"white\",\"linecolor\":\"white\",\"ticks\":\"\"},\"caxis\":{\"gridcolor\":\"white\",\"linecolor\":\"white\",\"ticks\":\"\"}},\"coloraxis\":{\"colorbar\":{\"outlinewidth\":0,\"ticks\":\"\"}},\"colorscale\":{\"sequential\":[[0.0,\"#0d0887\"],[0.1111111111111111,\"#46039f\"],[0.2222222222222222,\"#7201a8\"],[0.3333333333333333,\"#9c179e\"],[0.4444444444444444,\"#bd3786\"],[0.5555555555555556,\"#d8576b\"],[0.6666666666666666,\"#ed7953\"],[0.7777777777777778,\"#fb9f3a\"],[0.8888888888888888,\"#fdca26\"],[1.0,\"#f0f921\"]],\"sequentialminus\":[[0.0,\"#0d0887\"],[0.1111111111111111,\"#46039f\"],[0.2222222222222222,\"#7201a8\"],[0.3333333333333333,\"#9c179e\"],[0.4444444444444444,\"#bd3786\"],[0.5555555555555556,\"#d8576b\"],[0.6666666666666666,\"#ed7953\"],[0.7777777777777778,\"#fb9f3a\"],[0.8888888888888888,\"#fdca26\"],[1.0,\"#f0f921\"]],\"diverging\":[[0,\"#8e0152\"],[0.1,\"#c51b7d\"],[0.2,\"#de77ae\"],[0.3,\"#f1b6da\"],[0.4,\"#fde0ef\"],[0.5,\"#f7f7f7\"],[0.6,\"#e6f5d0\"],[0.7,\"#b8e186\"],[0.8,\"#7fbc41\"],[0.9,\"#4d9221\"],[1,\"#276419\"]]},\"xaxis\":{\"gridcolor\":\"white\",\"linecolor\":\"white\",\"ticks\":\"\",\"title\":{\"standoff\":15},\"zerolinecolor\":\"white\",\"automargin\":true,\"zerolinewidth\":2},\"yaxis\":{\"gridcolor\":\"white\",\"linecolor\":\"white\",\"ticks\":\"\",\"title\":{\"standoff\":15},\"zerolinecolor\":\"white\",\"automargin\":true,\"zerolinewidth\":2},\"scene\":{\"xaxis\":{\"backgroundcolor\":\"#E5ECF6\",\"gridcolor\":\"white\",\"linecolor\":\"white\",\"showbackground\":true,\"ticks\":\"\",\"zerolinecolor\":\"white\",\"gridwidth\":2},\"yaxis\":{\"backgroundcolor\":\"#E5ECF6\",\"gridcolor\":\"white\",\"linecolor\":\"white\",\"showbackground\":true,\"ticks\":\"\",\"zerolinecolor\":\"white\",\"gridwidth\":2},\"zaxis\":{\"backgroundcolor\":\"#E5ECF6\",\"gridcolor\":\"white\",\"linecolor\":\"white\",\"showbackground\":true,\"ticks\":\"\",\"zerolinecolor\":\"white\",\"gridwidth\":2}},\"shapedefaults\":{\"line\":{\"color\":\"#2a3f5f\"}},\"annotationdefaults\":{\"arrowcolor\":\"#2a3f5f\",\"arrowhead\":0,\"arrowwidth\":1},\"geo\":{\"bgcolor\":\"white\",\"landcolor\":\"#E5ECF6\",\"subunitcolor\":\"white\",\"showland\":true,\"showlakes\":true,\"lakecolor\":\"white\"},\"title\":{\"x\":0.05},\"mapbox\":{\"style\":\"light\"}}},\"geo\":{\"domain\":{\"x\":[0.0,1.0],\"y\":[0.0,1.0]},\"center\":{},\"scope\":\"asia\"},\"legend\":{\"title\":{\"text\":\"UserVar.branch_dest\"},\"tracegroupgap\":0},\"margin\":{\"t\":60},\"title\":{\"text\":\"Persebaran Tujuan Pengiriman Tugas\",\"x\":1}},                        {\"responsive\": true}                    ).then(function(){\n",
              "                            \n",
              "var gd = document.getElementById('5db5eb55-e764-400b-b3a7-4a95a40b5819');\n",
              "var x = new MutationObserver(function (mutations, observer) {{\n",
              "        var display = window.getComputedStyle(gd).display;\n",
              "        if (!display || display === 'none') {{\n",
              "            console.log([gd, 'removed!']);\n",
              "            Plotly.purge(gd);\n",
              "            observer.disconnect();\n",
              "        }}\n",
              "}});\n",
              "\n",
              "// Listen for the removal of the full notebook cells\n",
              "var notebookContainer = gd.closest('#notebook-container');\n",
              "if (notebookContainer) {{\n",
              "    x.observe(notebookContainer, {childList: true});\n",
              "}}\n",
              "\n",
              "// Listen for the clearing of the current output cell\n",
              "var outputEl = gd.closest('.output');\n",
              "if (outputEl) {{\n",
              "    x.observe(outputEl, {childList: true});\n",
              "}}\n",
              "\n",
              "                        })                };                            </script>        </div>\n",
              "</body>\n",
              "</html>"
            ]
          },
          "metadata": {}
        }
      ]
    },
    {
      "cell_type": "markdown",
      "source": [
        "Pada peta diatas, kita bisa melihat persebaran pengiriman dari berbagai daerah di Indonesia sesuai dengan kode cabang tujuan."
      ],
      "metadata": {
        "id": "XSp1E-WHy3zn"
      }
    },
    {
      "cell_type": "code",
      "source": [
        "df.groupby('cod.received')['taskId'].nunique().plot(kind='bar')\n",
        "plt.title('Distribusi Pengiriman dengan Metode COD', fontsize=15, pad=20, fontweight='bold') \n",
        "plt.xticks(rotation=0)\n",
        "plt.show()"
      ],
      "metadata": {
        "colab": {
          "base_uri": "https://localhost:8080/",
          "height": 502
        },
        "id": "IRtUDP9wpSgU",
        "outputId": "a8ad82cf-f87f-450c-a16a-51240b07dae8"
      },
      "execution_count": 17,
      "outputs": [
        {
          "output_type": "display_data",
          "data": {
            "text/plain": [
              "<Figure size 640x480 with 1 Axes>"
            ],
            "image/png": "[encoded data removed]"
          },
          "metadata": {}
        }
      ]
    },
    {
      "cell_type": "markdown",
      "source": [
        "Pada grafik diatas, dapat dilihat bahwa sebagian besar pengiriman dengan metode Cash On Delivery (COD) gagal (tidak diterima), dengan lebih dari 1600 pengiriman."
      ],
      "metadata": {
        "id": "-OBifY6IzWwD"
      }
    },
    {
      "cell_type": "code",
      "source": [
        "df.groupby('taskStatus')['taskId'].nunique().plot(kind='bar')\n",
        "plt.title('Distribusi Status Pengiriman', fontsize=15, pad=20, fontweight='bold')\n",
        "plt.xticks(rotation=0)\n",
        "plt.show()"
      ],
      "metadata": {
        "colab": {
          "base_uri": "https://localhost:8080/",
          "height": 502
        },
        "id": "b0q_XOBynxbd",
        "outputId": "6ee2abd6-8b01-4690-c068-371834cd43e7"
      },
      "execution_count": 18,
      "outputs": [
        {
          "output_type": "display_data",
          "data": {
            "text/plain": [
              "<Figure size 640x480 with 1 Axes>"
            ],
            "image/png": "[encoded data removed]"
          },
          "metadata": {}
        }
      ]
    },
    {
      "cell_type": "code",
      "source": [
        "print(df.groupby('UserVar.taskStatusLabel')['taskId'].nunique())\n",
        "df.groupby('UserVar.taskStatusLabel')['taskId'].nunique().plot(kind='bar')\n",
        "plt.title('Distribusi Status Pengiriman', fontsize=15, pad=20, fontweight='bold') \n",
        "plt.xticks(rotation=0)\n",
        "plt.show()"
      ],
      "metadata": {
        "colab": {
          "base_uri": "https://localhost:8080/",
          "height": 571
        },
        "id": "kAYsurXQpf9Z",
        "outputId": "e9774e2e-fa93-445a-ac2a-f3d4c8e128ee"
      },
      "execution_count": 19,
      "outputs": [
        {
          "output_type": "stream",
          "name": "stdout",
          "text": [
            "UserVar.taskStatusLabel\n",
            "Failed     2145\n",
            "Success    5427\n",
            "Name: taskId, dtype: int64\n"
          ]
        },
        {
          "output_type": "display_data",
          "data": {
            "text/plain": [
              "<Figure size 640x480 with 1 Axes>"
            ],
            "image/png": "[encoded data removed]"
          },
          "metadata": {}
        }
      ]
    },
    {
      "cell_type": "code",
      "source": [
        "plt.figure(figsize=(12,6))\n",
        "sns.displot(df, x='diff_hours', hue='UserVar.taskStatusLabel', bins=24)\n",
        "plt.title('Distribusi Lamanya Pengiriman Tugas (Dalam Jam)', fontsize=15, pad=20, fontweight='bold') \n",
        "plt.xlabel('Lama Pengiriman (Jam)')\n",
        "plt.ylabel('Jumlah Pengiriman')\n",
        "plt.show()"
      ],
      "metadata": {
        "colab": {
          "base_uri": "https://localhost:8080/",
          "height": 561
        },
        "id": "Bx5vnXvUqfFe",
        "outputId": "b7e04e60-3fd1-4ba5-9585-6e06461f286f"
      },
      "execution_count": 20,
      "outputs": [
        {
          "output_type": "display_data",
          "data": {
            "text/plain": [
              "<Figure size 1200x600 with 0 Axes>"
            ]
          },
          "metadata": {}
        },
        {
          "output_type": "display_data",
          "data": {
            "text/plain": [
              "<Figure size 713.972x500 with 1 Axes>"
            ],
            "image/png": "[encoded data removed]"
          },
          "metadata": {}
        }
      ]
    },
    {
      "cell_type": "code",
      "source": [
        "plt.figure(figsize=(10,4))\n",
        "sns.lineplot(data=df.groupby('taskCreatedDate')['taskId'].nunique().reset_index(), y=\"taskId\", x=\"taskCreatedDate\", marker=\"o\", markerfacecolor='red', color='blue')\n",
        "plt.title('Tren Tugas Terbuat (Dalam Hari)', fontsize=15, pad=20, fontweight='bold')\n",
        "plt.xlabel('Tanggal Tugas Terbuat', fontsize=10)\n",
        "plt.ylabel('Jumlah Tugas Terbuat', fontsize=10)\n",
        "plt.tight_layout()\n",
        "plt.xticks(rotation=45, fontsize=7)\n",
        "plt.show()"
      ],
      "metadata": {
        "colab": {
          "base_uri": "https://localhost:8080/",
          "height": 433
        },
        "id": "36CWWb_Zt-wd",
        "outputId": "171189ed-b52d-4704-f0b7-af1941cb1b74"
      },
      "execution_count": 21,
      "outputs": [
        {
          "output_type": "display_data",
          "data": {
            "text/plain": [
              "<Figure size 1000x400 with 1 Axes>"
            ],
            "image/png": "[encoded data removed]"
          },
          "metadata": {}
        }
      ]
    },
    {
      "cell_type": "code",
      "source": [
        "plt.figure(figsize=(10,4))\n",
        "sns.lineplot(data=df.groupby('taskCreatedHour')['taskId'].nunique().reset_index(), y=\"taskId\", x=\"taskCreatedHour\", marker=\"o\", markerfacecolor='red', color='blue')\n",
        "plt.title('Tren Tugas Terbuat (Dalam Jam)', fontsize=15, pad=20, fontweight='bold')\n",
        "plt.xlabel('Jam Tugas Terbuat', fontsize=10)\n",
        "plt.ylabel('Jumlah Tugas Terbuat', fontsize=10)\n",
        "plt.tight_layout()\n",
        "plt.xticks(rotation=0, fontsize=10)\n",
        "plt.show()"
      ],
      "metadata": {
        "colab": {
          "base_uri": "https://localhost:8080/",
          "height": 400
        },
        "id": "cOwL9s3exjzm",
        "outputId": "d502fecf-6de4-423d-9897-6b62c8e659bd"
      },
      "execution_count": 22,
      "outputs": [
        {
          "output_type": "display_data",
          "data": {
            "text/plain": [
              "<Figure size 1000x400 with 1 Axes>"
            ],
            "image/png": "[encoded data removed]"
          },
          "metadata": {}
        }
      ]
    },
    {
      "cell_type": "code",
      "source": [
        "df.head()"
      ],
      "metadata": {
        "colab": {
          "base_uri": "https://localhost:8080/",
          "height": 357
        },
        "id": "R6jG-O0mjBHu",
        "outputId": "bb15cc58-4cc4-426f-c990-a17c069986e7"
      },
      "execution_count": 23,
      "outputs": [
        {
          "output_type": "execute_result",
          "data": {
            "text/plain": [
              "            taskCreatedTime  taskAssignedTo         taskCompletedTime  \\\n",
              "0 2022-11-01 20:17:26+07:00   pacifiedLion0 2022-11-01 20:46:30+07:00   \n",
              "1 2022-11-01 08:41:07+07:00  peacefulTacos6 2022-11-01 12:33:48+07:00   \n",
              "2 2022-11-01 08:41:07+07:00  peacefulTacos6 2022-11-01 13:41:57+07:00   \n",
              "3 2022-11-01 08:41:07+07:00  peacefulTacos6 2022-11-01 18:18:19+07:00   \n",
              "4 2022-11-01 08:41:07+07:00  peacefulTacos6 2022-11-01 10:51:49+07:00   \n",
              "\n",
              "  taskStatus      flow                taskId  taskLocationDone.lon  \\\n",
              "0       done  Delivery  4fe3b237c832ca4841a2            109.762910   \n",
              "1       done  Delivery  08a4da25256affae8446            110.033986   \n",
              "2       done  Delivery  2ff0dc469826158b7684            109.999733   \n",
              "3       done  Delivery  331c172c2b383f774328            110.003708   \n",
              "4       done  Delivery  a9d53fa96c80baee8b23            110.013887   \n",
              "\n",
              "   taskLocationDone.lat  cod.amount cod.received UserVar.branch_dest  \\\n",
              "0             -6.926608    685000.0         True                 SRG   \n",
              "1             -7.876154     53500.0         True                 MGL   \n",
              "2             -7.849777    179500.0         True                 MGL   \n",
              "3             -7.710998     31815.0         True                 MGL   \n",
              "4             -7.829742    144562.0         True                 MGL   \n",
              "\n",
              "  UserVar.taskStatusLabel UserVar.receiver_city UserVar.taskDetailStatusLabel  \\\n",
              "0                 Success    BATANG ,KAB BATANG             YANG BERSANGKUTAN   \n",
              "1                 Success   PURWODADI,PURWOREJO             YANG BERSANGKUTAN   \n",
              "2                 Success   PURWODADI,PURWOREJO             YANG BERSANGKUTAN   \n",
              "3                 Success   PURWODADI,PURWOREJO             YANG BERSANGKUTAN   \n",
              "4                 Success     BAGELEN,PURWOREJO             YANG BERSANGKUTAN   \n",
              "\n",
              "  UserVar.taskDetailStatus  UserVar.weight UserVar.branch_origin  \\\n",
              "0                      D01          13.000                   CGK   \n",
              "1                      D01           1.300                   CGK   \n",
              "2                      D01           3.000                   CGK   \n",
              "3                      D01           0.625                   CGK   \n",
              "4                      D01           3.000                   CGK   \n",
              "\n",
              "  UserVar.taskStatus taskCreatedDate taskCompletedDate  taskCreatedHour  \\\n",
              "0             COLF01      2022-11-01        2022-11-01               20   \n",
              "1             COLF01      2022-11-01        2022-11-01                8   \n",
              "2             COLF01      2022-11-01        2022-11-01                8   \n",
              "3             COLF01      2022-11-01        2022-11-01                8   \n",
              "4             COLF01      2022-11-01        2022-11-01                8   \n",
              "\n",
              "   taskCompletedHour  diff_hours  kecamatan    kota/kab provinsi  \n",
              "0               20.0    0.484444    BATANG   KAB BATANG     None  \n",
              "1               12.0    3.878056  PURWODADI   PURWOREJO     None  \n",
              "2               13.0    5.013889  PURWODADI   PURWOREJO     None  \n",
              "3               18.0    9.620000  PURWODADI   PURWOREJO     None  \n",
              "4               10.0    2.178333    BAGELEN   PURWOREJO     None  "
            ],
            "text/html": [
              "\n",
              "  <div id=\"df-09834282-13f9-4140-aec1-4612407ab34e\">\n",
              "    <div class=\"colab-df-container\">\n",
              "      <div>\n",
              "<style scoped>\n",
              "    .dataframe tbody tr th:only-of-type {\n",
              "        vertical-align: middle;\n",
              "    }\n",
              "\n",
              "    .dataframe tbody tr th {\n",
              "        vertical-align: top;\n",
              "    }\n",
              "\n",
              "    .dataframe thead th {\n",
              "        text-align: right;\n",
              "    }\n",
              "</style>\n",
              "<table border=\"1\" class=\"dataframe\">\n",
              "  <thead>\n",
              "    <tr style=\"text-align: right;\">\n",
              "      <th></th>\n",
              "      <th>taskCreatedTime</th>\n",
              "      <th>taskAssignedTo</th>\n",
              "      <th>taskCompletedTime</th>\n",
              "      <th>taskStatus</th>\n",
              "      <th>flow</th>\n",
              "      <th>taskId</th>\n",
              "      <th>taskLocationDone.lon</th>\n",
              "      <th>taskLocationDone.lat</th>\n",
              "      <th>cod.amount</th>\n",
              "      <th>cod.received</th>\n",
              "      <th>UserVar.branch_dest</th>\n",
              "      <th>UserVar.taskStatusLabel</th>\n",
              "      <th>UserVar.receiver_city</th>\n",
              "      <th>UserVar.taskDetailStatusLabel</th>\n",
              "      <th>UserVar.taskDetailStatus</th>\n",
              "      <th>UserVar.weight</th>\n",
              "      <th>UserVar.branch_origin</th>\n",
              "      <th>UserVar.taskStatus</th>\n",
              "      <th>taskCreatedDate</th>\n",
              "      <th>taskCompletedDate</th>\n",
              "      <th>taskCreatedHour</th>\n",
              "      <th>taskCompletedHour</th>\n",
              "      <th>diff_hours</th>\n",
              "      <th>kecamatan</th>\n",
              "      <th>kota/kab</th>\n",
              "      <th>provinsi</th>\n",
              "    </tr>\n",
              "  </thead>\n",
              "  <tbody>\n",
              "    <tr>\n",
              "      <th>0</th>\n",
              "      <td>2022-11-01 20:17:26+07:00</td>\n",
              "      <td>pacifiedLion0</td>\n",
              "      <td>2022-11-01 20:46:30+07:00</td>\n",
              "      <td>done</td>\n",
              "      <td>Delivery</td>\n",
              "      <td>4fe3b237c832ca4841a2</td>\n",
              "      <td>109.762910</td>\n",
              "      <td>-6.926608</td>\n",
              "      <td>685000.0</td>\n",
              "      <td>True</td>\n",
              "      <td>SRG</td>\n",
              "      <td>Success</td>\n",
              "      <td>BATANG ,KAB BATANG</td>\n",
              "      <td>YANG BERSANGKUTAN</td>\n",
              "      <td>D01</td>\n",
              "      <td>13.000</td>\n",
              "      <td>CGK</td>\n",
              "      <td>COLF01</td>\n",
              "      <td>2022-11-01</td>\n",
              "      <td>2022-11-01</td>\n",
              "      <td>20</td>\n",
              "      <td>20.0</td>\n",
              "      <td>0.484444</td>\n",
              "      <td>BATANG</td>\n",
              "      <td>KAB BATANG</td>\n",
              "      <td>None</td>\n",
              "    </tr>\n",
              "    <tr>\n",
              "      <th>1</th>\n",
              "      <td>2022-11-01 08:41:07+07:00</td>\n",
              "      <td>peacefulTacos6</td>\n",
              "      <td>2022-11-01 12:33:48+07:00</td>\n",
              "      <td>done</td>\n",
              "      <td>Delivery</td>\n",
              "      <td>08a4da25256affae8446</td>\n",
              "      <td>110.033986</td>\n",
              "      <td>-7.876154</td>\n",
              "      <td>53500.0</td>\n",
              "      <td>True</td>\n",
              "      <td>MGL</td>\n",
              "      <td>Success</td>\n",
              "      <td>PURWODADI,PURWOREJO</td>\n",
              "      <td>YANG BERSANGKUTAN</td>\n",
              "      <td>D01</td>\n",
              "      <td>1.300</td>\n",
              "      <td>CGK</td>\n",
              "      <td>COLF01</td>\n",
              "      <td>2022-11-01</td>\n",
              "      <td>2022-11-01</td>\n",
              "      <td>8</td>\n",
              "      <td>12.0</td>\n",
              "      <td>3.878056</td>\n",
              "      <td>PURWODADI</td>\n",
              "      <td>PURWOREJO</td>\n",
              "      <td>None</td>\n",
              "    </tr>\n",
              "    <tr>\n",
              "      <th>2</th>\n",
              "      <td>2022-11-01 08:41:07+07:00</td>\n",
              "      <td>peacefulTacos6</td>\n",
              "      <td>2022-11-01 13:41:57+07:00</td>\n",
              "      <td>done</td>\n",
              "      <td>Delivery</td>\n",
              "      <td>2ff0dc469826158b7684</td>\n",
              "      <td>109.999733</td>\n",
              "      <td>-7.849777</td>\n",
              "      <td>179500.0</td>\n",
              "      <td>True</td>\n",
              "      <td>MGL</td>\n",
              "      <td>Success</td>\n",
              "      <td>PURWODADI,PURWOREJO</td>\n",
              "      <td>YANG BERSANGKUTAN</td>\n",
              "      <td>D01</td>\n",
              "      <td>3.000</td>\n",
              "      <td>CGK</td>\n",
              "      <td>COLF01</td>\n",
              "      <td>2022-11-01</td>\n",
              "      <td>2022-11-01</td>\n",
              "      <td>8</td>\n",
              "      <td>13.0</td>\n",
              "      <td>5.013889</td>\n",
              "      <td>PURWODADI</td>\n",
              "      <td>PURWOREJO</td>\n",
              "      <td>None</td>\n",
              "    </tr>\n",
              "    <tr>\n",
              "      <th>3</th>\n",
              "      <td>2022-11-01 08:41:07+07:00</td>\n",
              "      <td>peacefulTacos6</td>\n",
              "      <td>2022-11-01 18:18:19+07:00</td>\n",
              "      <td>done</td>\n",
              "      <td>Delivery</td>\n",
              "      <td>331c172c2b383f774328</td>\n",
              "      <td>110.003708</td>\n",
              "      <td>-7.710998</td>\n",
              "      <td>31815.0</td>\n",
              "      <td>True</td>\n",
              "      <td>MGL</td>\n",
              "      <td>Success</td>\n",
              "      <td>PURWODADI,PURWOREJO</td>\n",
              "      <td>YANG BERSANGKUTAN</td>\n",
              "      <td>D01</td>\n",
              "      <td>0.625</td>\n",
              "      <td>CGK</td>\n",
              "      <td>COLF01</td>\n",
              "      <td>2022-11-01</td>\n",
              "      <td>2022-11-01</td>\n",
              "      <td>8</td>\n",
              "      <td>18.0</td>\n",
              "      <td>9.620000</td>\n",
              "      <td>PURWODADI</td>\n",
              "      <td>PURWOREJO</td>\n",
              "      <td>None</td>\n",
              "    </tr>\n",
              "    <tr>\n",
              "      <th>4</th>\n",
              "      <td>2022-11-01 08:41:07+07:00</td>\n",
              "      <td>peacefulTacos6</td>\n",
              "      <td>2022-11-01 10:51:49+07:00</td>\n",
              "      <td>done</td>\n",
              "      <td>Delivery</td>\n",
              "      <td>a9d53fa96c80baee8b23</td>\n",
              "      <td>110.013887</td>\n",
              "      <td>-7.829742</td>\n",
              "      <td>144562.0</td>\n",
              "      <td>True</td>\n",
              "      <td>MGL</td>\n",
              "      <td>Success</td>\n",
              "      <td>BAGELEN,PURWOREJO</td>\n",
              "      <td>YANG BERSANGKUTAN</td>\n",
              "      <td>D01</td>\n",
              "      <td>3.000</td>\n",
              "      <td>CGK</td>\n",
              "      <td>COLF01</td>\n",
              "      <td>2022-11-01</td>\n",
              "      <td>2022-11-01</td>\n",
              "      <td>8</td>\n",
              "      <td>10.0</td>\n",
              "      <td>2.178333</td>\n",
              "      <td>BAGELEN</td>\n",
              "      <td>PURWOREJO</td>\n",
              "      <td>None</td>\n",
              "    </tr>\n",
              "  </tbody>\n",
              "</table>\n",
              "</div>\n",
              "      <button class=\"colab-df-convert\" onclick=\"convertToInteractive('df-09834282-13f9-4140-aec1-4612407ab34e')\"\n",
              "              title=\"Convert this dataframe to an interactive table.\"\n",
              "              style=\"display:none;\">\n",
              "        \n",
              "  <svg xmlns=\"http://www.w3.org/2000/svg\" height=\"24px\"viewBox=\"0 0 24 24\"\n",
              "       width=\"24px\">\n",
              "    <path d=\"M0 0h24v24H0V0z\" fill=\"none\"/>\n",
              "    <path d=\"M18.56 5.44l.94 2.06.94-2.06 2.06-.94-2.06-.94-.94-2.06-.94 2.06-2.06.94zm-11 1L8.5 8.5l.94-2.06 2.06-.94-2.06-.94L8.5 2.5l-.94 2.06-2.06.94zm10 10l.94 2.06.94-2.06 2.06-.94-2.06-.94-.94-2.06-.94 2.06-2.06.94z\"/><path d=\"M17.41 7.96l-1.37-1.37c-.4-.4-.92-.59-1.43-.59-.52 0-1.04.2-1.43.59L10.3 9.45l-7.72 7.72c-.78.78-.78 2.05 0 2.83L4 21.41c.39.39.9.59 1.41.59.51 0 1.02-.2 1.41-.59l7.78-7.78 2.81-2.81c.8-.78.8-2.07 0-2.86zM5.41 20L4 18.59l7.72-7.72 1.47 1.35L5.41 20z\"/>\n",
              "  </svg>\n",
              "      </button>\n",
              "      \n",
              "  <style>\n",
              "    .colab-df-container {\n",
              "      display:flex;\n",
              "      flex-wrap:wrap;\n",
              "      gap: 12px;\n",
              "    }\n",
              "\n",
              "    .colab-df-convert {\n",
              "      background-color: #E8F0FE;\n",
              "      border: none;\n",
              "      border-radius: 50%;\n",
              "      cursor: pointer;\n",
              "      display: none;\n",
              "      fill: #1967D2;\n",
              "      height: 32px;\n",
              "      padding: 0 0 0 0;\n",
              "      width: 32px;\n",
              "    }\n",
              "\n",
              "    .colab-df-convert:hover {\n",
              "      background-color: #E2EBFA;\n",
              "      box-shadow: 0px 1px 2px rgba(60, 64, 67, 0.3), 0px 1px 3px 1px rgba(60, 64, 67, 0.15);\n",
              "      fill: #174EA6;\n",
              "    }\n",
              "\n",
              "    [theme=dark] .colab-df-convert {\n",
              "      background-color: #3B4455;\n",
              "      fill: #D2E3FC;\n",
              "    }\n",
              "\n",
              "    [theme=dark] .colab-df-convert:hover {\n",
              "      background-color: #434B5C;\n",
              "      box-shadow: 0px 1px 3px 1px rgba(0, 0, 0, 0.15);\n",
              "      filter: drop-shadow(0px 1px 2px rgba(0, 0, 0, 0.3));\n",
              "      fill: #FFFFFF;\n",
              "    }\n",
              "  </style>\n",
              "\n",
              "      <script>\n",
              "        const buttonEl =\n",
              "          document.querySelector('#df-09834282-13f9-4140-aec1-4612407ab34e button.colab-df-convert');\n",
              "        buttonEl.style.display =\n",
              "          google.colab.kernel.accessAllowed ? 'block' : 'none';\n",
              "\n",
              "        async function convertToInteractive(key) {\n",
              "          const element = document.querySelector('#df-09834282-13f9-4140-aec1-4612407ab34e');\n",
              "          const dataTable =\n",
              "            await google.colab.kernel.invokeFunction('convertToInteractive',\n",
              "                                                     [key], {});\n",
              "          if (!dataTable) return;\n",
              "\n",
              "          const docLinkHtml = 'Like what you see? Visit the ' +\n",
              "            '<a target=\"_blank\" href=https://colab.research.google.com/notebooks/data_table.ipynb>data table notebook</a>'\n",
              "            + ' to learn more about interactive tables.';\n",
              "          element.innerHTML = '';\n",
              "          dataTable['output_type'] = 'display_data';\n",
              "          await google.colab.output.renderOutput(dataTable, element);\n",
              "          const docLink = document.createElement('div');\n",
              "          docLink.innerHTML = docLinkHtml;\n",
              "          element.appendChild(docLink);\n",
              "        }\n",
              "      </script>\n",
              "    </div>\n",
              "  </div>\n",
              "  "
            ]
          },
          "metadata": {},
          "execution_count": 23
        }
      ]
    },
    {
      "cell_type": "code",
      "source": [
        "top5_worker_task = df.groupby('taskAssignedTo')['taskId'].nunique().sort_values(ascending=False).reset_index().head()\n",
        "\n",
        "plt.figure(figsize=(12, 6))\n",
        "sns.barplot(data=top5_worker_task, x='taskId', y='taskAssignedTo', color='lightblue')\n",
        "\n",
        "# function to add value labels\n",
        "def addlabels(x,y):\n",
        "    for i in range(len(x)):\n",
        "        plt.text(x[i],i, round(x[i], 4), fontsize=10, fontweight='bold')\n",
        "\n",
        "x = list(top5_worker_task['taskId'])\n",
        "y = list(top5_worker_task['taskAssignedTo'])\n",
        "\n",
        "plt.title('Top 5 Pekerja dengan Tugas Pengiriman Terbanyak', fontsize=15, color='black', pad=15, fontweight='bold')\n",
        "plt.yticks(fontsize=10)\n",
        "addlabels(x, y)\n",
        "plt.show()"
      ],
      "metadata": {
        "colab": {
          "base_uri": "https://localhost:8080/",
          "height": 587
        },
        "id": "WeTPgIq5SiCp",
        "outputId": "b22f8212-140b-4ba7-c7e8-aaab3556d14e"
      },
      "execution_count": 24,
      "outputs": [
        {
          "output_type": "display_data",
          "data": {
            "text/plain": [
              "<Figure size 1200x600 with 1 Axes>"
            ],
            "image/png": "[encoded data removed]"
          },
          "metadata": {}
        }
      ]
    },
    {
      "cell_type": "markdown",
      "source": [
        "## Feature Engineering"
      ],
      "metadata": {
        "id": "2a2wustyndko"
      }
    },
    {
      "cell_type": "markdown",
      "source": [
        "### Remove Features\n",
        "Kita akah menghapus feature yang dirasa tidak terlalu penting. Ada juga yang hanya mempunyai sayu nilai sehingga itu tidak akan berpengaruh pada model yang akan kita buat. "
      ],
      "metadata": {
        "id": "drUHWULHngQo"
      }
    },
    {
      "cell_type": "code",
      "source": [
        "df.drop(['taskCreatedTime', 'taskAssignedTo', 'taskCompletedTime', 'flow', 'taskId', 'taskLocationDone.lon', 'taskLocationDone.lat', 'taskLocationDone.lon', 'cod.amount', 'cod.received',\n",
        "'UserVar.branch_dest', 'UserVar.receiver_city', 'UserVar.taskDetailStatusLabel', 'UserVar.taskDetailStatus', 'UserVar.branch_origin', 'UserVar.taskStatus',\n",
        "'taskCreatedDate', 'taskCompletedDate', 'kecamatan', 'kota/kab', 'provinsi'], axis=1, inplace=True)"
      ],
      "metadata": {
        "id": "bQQZ15GJnhLB"
      },
      "execution_count": 25,
      "outputs": []
    },
    {
      "cell_type": "markdown",
      "source": [
        "### Feature Encoding\n",
        "Karena tidak semua model machine learning dapat menangani data kategorikal, maka kita akan rubah data kategorikal menjadi numerik. Pada step ini akan melakukan encoding pada beberapa kolom, seperti kolom **taskStatus** dan **UserVar.taskStatusLabel**. Karena dua kolom tersebut hanya memiliki dua nilai unik, kita bisa mengubah menggunakan LabelEncoding ataupun replace kedua nilai tersebut."
      ],
      "metadata": {
        "id": "ulvA6Yc8pC8i"
      }
    },
    {
      "cell_type": "code",
      "source": [
        "df['taskStatus'] = df['taskStatus'].replace({'done': 1, 'ongoing':0})\n",
        "df['UserVar.taskStatusLabel'] = df['UserVar.taskStatusLabel'].replace({'Success': 1, 'Failed':0})"
      ],
      "metadata": {
        "id": "DZBOhCYcpfDH"
      },
      "execution_count": 26,
      "outputs": []
    },
    {
      "cell_type": "code",
      "source": [
        "# Plot distribution data using boxplot\n",
        "num_col = df.select_dtypes('number').columns\n",
        "plt.figure(figsize=(15, 15))\n",
        "pos = 1\n",
        "\n",
        "for i in num_col:\n",
        "    plt.subplot(3, 3, pos)\n",
        "    sns.boxplot(data=df, x=i)\n",
        "    pos += 1"
      ],
      "metadata": {
        "colab": {
          "base_uri": "https://localhost:8080/",
          "height": 836
        },
        "id": "MYxaC_aIqFoo",
        "outputId": "cd3c6378-b2f9-4c6c-ae77-d1d10bd44fb6"
      },
      "execution_count": 27,
      "outputs": [
        {
          "output_type": "display_data",
          "data": {
            "text/plain": [
              "<Figure size 1500x1500 with 6 Axes>"
            ],
            "image/png": "[encoded data removed]"
          },
          "metadata": {}
        }
      ]
    },
    {
      "cell_type": "code",
      "source": [
        "df.head()"
      ],
      "metadata": {
        "colab": {
          "base_uri": "https://localhost:8080/",
          "height": 206
        },
        "id": "bFmdidfWSebG",
        "outputId": "1daf5f2a-6f38-40cb-b488-c045d886e143"
      },
      "execution_count": 28,
      "outputs": [
        {
          "output_type": "execute_result",
          "data": {
            "text/plain": [
              "   taskStatus  UserVar.taskStatusLabel  UserVar.weight  taskCreatedHour  \\\n",
              "0           1                      1.0          13.000               20   \n",
              "1           1                      1.0           1.300                8   \n",
              "2           1                      1.0           3.000                8   \n",
              "3           1                      1.0           0.625                8   \n",
              "4           1                      1.0           3.000                8   \n",
              "\n",
              "   taskCompletedHour  diff_hours  \n",
              "0               20.0    0.484444  \n",
              "1               12.0    3.878056  \n",
              "2               13.0    5.013889  \n",
              "3               18.0    9.620000  \n",
              "4               10.0    2.178333  "
            ],
            "text/html": [
              "\n",
              "  <div id=\"df-a20f3ec4-e87f-4615-8dcb-9a043e98da9d\">\n",
              "    <div class=\"colab-df-container\">\n",
              "      <div>\n",
              "<style scoped>\n",
              "    .dataframe tbody tr th:only-of-type {\n",
              "        vertical-align: middle;\n",
              "    }\n",
              "\n",
              "    .dataframe tbody tr th {\n",
              "        vertical-align: top;\n",
              "    }\n",
              "\n",
              "    .dataframe thead th {\n",
              "        text-align: right;\n",
              "    }\n",
              "</style>\n",
              "<table border=\"1\" class=\"dataframe\">\n",
              "  <thead>\n",
              "    <tr style=\"text-align: right;\">\n",
              "      <th></th>\n",
              "      <th>taskStatus</th>\n",
              "      <th>UserVar.taskStatusLabel</th>\n",
              "      <th>UserVar.weight</th>\n",
              "      <th>taskCreatedHour</th>\n",
              "      <th>taskCompletedHour</th>\n",
              "      <th>diff_hours</th>\n",
              "    </tr>\n",
              "  </thead>\n",
              "  <tbody>\n",
              "    <tr>\n",
              "      <th>0</th>\n",
              "      <td>1</td>\n",
              "      <td>1.0</td>\n",
              "      <td>13.000</td>\n",
              "      <td>20</td>\n",
              "      <td>20.0</td>\n",
              "      <td>0.484444</td>\n",
              "    </tr>\n",
              "    <tr>\n",
              "      <th>1</th>\n",
              "      <td>1</td>\n",
              "      <td>1.0</td>\n",
              "      <td>1.300</td>\n",
              "      <td>8</td>\n",
              "      <td>12.0</td>\n",
              "      <td>3.878056</td>\n",
              "    </tr>\n",
              "    <tr>\n",
              "      <th>2</th>\n",
              "      <td>1</td>\n",
              "      <td>1.0</td>\n",
              "      <td>3.000</td>\n",
              "      <td>8</td>\n",
              "      <td>13.0</td>\n",
              "      <td>5.013889</td>\n",
              "    </tr>\n",
              "    <tr>\n",
              "      <th>3</th>\n",
              "      <td>1</td>\n",
              "      <td>1.0</td>\n",
              "      <td>0.625</td>\n",
              "      <td>8</td>\n",
              "      <td>18.0</td>\n",
              "      <td>9.620000</td>\n",
              "    </tr>\n",
              "    <tr>\n",
              "      <th>4</th>\n",
              "      <td>1</td>\n",
              "      <td>1.0</td>\n",
              "      <td>3.000</td>\n",
              "      <td>8</td>\n",
              "      <td>10.0</td>\n",
              "      <td>2.178333</td>\n",
              "    </tr>\n",
              "  </tbody>\n",
              "</table>\n",
              "</div>\n",
              "      <button class=\"colab-df-convert\" onclick=\"convertToInteractive('df-a20f3ec4-e87f-4615-8dcb-9a043e98da9d')\"\n",
              "              title=\"Convert this dataframe to an interactive table.\"\n",
              "              style=\"display:none;\">\n",
              "        \n",
              "  <svg xmlns=\"http://www.w3.org/2000/svg\" height=\"24px\"viewBox=\"0 0 24 24\"\n",
              "       width=\"24px\">\n",
              "    <path d=\"M0 0h24v24H0V0z\" fill=\"none\"/>\n",
              "    <path d=\"M18.56 5.44l.94 2.06.94-2.06 2.06-.94-2.06-.94-.94-2.06-.94 2.06-2.06.94zm-11 1L8.5 8.5l.94-2.06 2.06-.94-2.06-.94L8.5 2.5l-.94 2.06-2.06.94zm10 10l.94 2.06.94-2.06 2.06-.94-2.06-.94-.94-2.06-.94 2.06-2.06.94z\"/><path d=\"M17.41 7.96l-1.37-1.37c-.4-.4-.92-.59-1.43-.59-.52 0-1.04.2-1.43.59L10.3 9.45l-7.72 7.72c-.78.78-.78 2.05 0 2.83L4 21.41c.39.39.9.59 1.41.59.51 0 1.02-.2 1.41-.59l7.78-7.78 2.81-2.81c.8-.78.8-2.07 0-2.86zM5.41 20L4 18.59l7.72-7.72 1.47 1.35L5.41 20z\"/>\n",
              "  </svg>\n",
              "      </button>\n",
              "      \n",
              "  <style>\n",
              "    .colab-df-container {\n",
              "      display:flex;\n",
              "      flex-wrap:wrap;\n",
              "      gap: 12px;\n",
              "    }\n",
              "\n",
              "    .colab-df-convert {\n",
              "      background-color: #E8F0FE;\n",
              "      border: none;\n",
              "      border-radius: 50%;\n",
              "      cursor: pointer;\n",
              "      display: none;\n",
              "      fill: #1967D2;\n",
              "      height: 32px;\n",
              "      padding: 0 0 0 0;\n",
              "      width: 32px;\n",
              "    }\n",
              "\n",
              "    .colab-df-convert:hover {\n",
              "      background-color: #E2EBFA;\n",
              "      box-shadow: 0px 1px 2px rgba(60, 64, 67, 0.3), 0px 1px 3px 1px rgba(60, 64, 67, 0.15);\n",
              "      fill: #174EA6;\n",
              "    }\n",
              "\n",
              "    [theme=dark] .colab-df-convert {\n",
              "      background-color: #3B4455;\n",
              "      fill: #D2E3FC;\n",
              "    }\n",
              "\n",
              "    [theme=dark] .colab-df-convert:hover {\n",
              "      background-color: #434B5C;\n",
              "      box-shadow: 0px 1px 3px 1px rgba(0, 0, 0, 0.15);\n",
              "      filter: drop-shadow(0px 1px 2px rgba(0, 0, 0, 0.3));\n",
              "      fill: #FFFFFF;\n",
              "    }\n",
              "  </style>\n",
              "\n",
              "      <script>\n",
              "        const buttonEl =\n",
              "          document.querySelector('#df-a20f3ec4-e87f-4615-8dcb-9a043e98da9d button.colab-df-convert');\n",
              "        buttonEl.style.display =\n",
              "          google.colab.kernel.accessAllowed ? 'block' : 'none';\n",
              "\n",
              "        async function convertToInteractive(key) {\n",
              "          const element = document.querySelector('#df-a20f3ec4-e87f-4615-8dcb-9a043e98da9d');\n",
              "          const dataTable =\n",
              "            await google.colab.kernel.invokeFunction('convertToInteractive',\n",
              "                                                     [key], {});\n",
              "          if (!dataTable) return;\n",
              "\n",
              "          const docLinkHtml = 'Like what you see? Visit the ' +\n",
              "            '<a target=\"_blank\" href=https://colab.research.google.com/notebooks/data_table.ipynb>data table notebook</a>'\n",
              "            + ' to learn more about interactive tables.';\n",
              "          element.innerHTML = '';\n",
              "          dataTable['output_type'] = 'display_data';\n",
              "          await google.colab.output.renderOutput(dataTable, element);\n",
              "          const docLink = document.createElement('div');\n",
              "          docLink.innerHTML = docLinkHtml;\n",
              "          element.appendChild(docLink);\n",
              "        }\n",
              "      </script>\n",
              "    </div>\n",
              "  </div>\n",
              "  "
            ]
          },
          "metadata": {},
          "execution_count": 28
        }
      ]
    },
    {
      "cell_type": "markdown",
      "source": [
        "Karena pada data kita terdapat nilai outliers, maka lakukan scaling menggunakan RobustScaler."
      ],
      "metadata": {
        "id": "65tvdgvGSWkK"
      }
    },
    {
      "cell_type": "code",
      "source": [
        "# Feature scaling using RobustScaler\n",
        "cols = ['taskStatus', 'UserVar.weight', 'taskCreatedHour', 'taskCompletedHour', 'diff_hours']\n",
        "df[cols] = RobustScaler().fit_transform(df[cols])"
      ],
      "metadata": {
        "id": "iwylgDI9qasO"
      },
      "execution_count": 29,
      "outputs": []
    },
    {
      "cell_type": "code",
      "source": [
        "for col in df.columns:\n",
        "  df[col] = df[col].fillna(df[col].median())\n",
        "\n",
        "df['UserVar.taskStatusLabel'] = df['UserVar.taskStatusLabel'].astype('int64')"
      ],
      "metadata": {
        "id": "9ZthMOV1sUUn"
      },
      "execution_count": 30,
      "outputs": []
    },
    {
      "cell_type": "code",
      "source": [
        "df.head()"
      ],
      "metadata": {
        "colab": {
          "base_uri": "https://localhost:8080/",
          "height": 206
        },
        "id": "DJJ8U259s5la",
        "outputId": "aae6269e-5108-48d5-d430-810bf0a5896f"
      },
      "execution_count": 31,
      "outputs": [
        {
          "output_type": "execute_result",
          "data": {
            "text/plain": [
              "   taskStatus  UserVar.taskStatusLabel  UserVar.weight  taskCreatedHour  \\\n",
              "0         0.0                        1       20.000000             13.0   \n",
              "1         0.0                        1        0.500000              1.0   \n",
              "2         0.0                        1        3.333333              1.0   \n",
              "3         0.0                        1       -0.625000              1.0   \n",
              "4         0.0                        1        3.333333              1.0   \n",
              "\n",
              "   taskCompletedHour  diff_hours  \n",
              "0                6.0   -0.113576  \n",
              "1                2.0    2.709532  \n",
              "2                2.5    3.654419  \n",
              "3                5.0    7.486193  \n",
              "4                1.0    1.295552  "
            ],
            "text/html": [
              "\n",
              "  <div id=\"df-7a4ed6e6-41c6-45ef-99e1-1620435983a5\">\n",
              "    <div class=\"colab-df-container\">\n",
              "      <div>\n",
              "<style scoped>\n",
              "    .dataframe tbody tr th:only-of-type {\n",
              "        vertical-align: middle;\n",
              "    }\n",
              "\n",
              "    .dataframe tbody tr th {\n",
              "        vertical-align: top;\n",
              "    }\n",
              "\n",
              "    .dataframe thead th {\n",
              "        text-align: right;\n",
              "    }\n",
              "</style>\n",
              "<table border=\"1\" class=\"dataframe\">\n",
              "  <thead>\n",
              "    <tr style=\"text-align: right;\">\n",
              "      <th></th>\n",
              "      <th>taskStatus</th>\n",
              "      <th>UserVar.taskStatusLabel</th>\n",
              "      <th>UserVar.weight</th>\n",
              "      <th>taskCreatedHour</th>\n",
              "      <th>taskCompletedHour</th>\n",
              "      <th>diff_hours</th>\n",
              "    </tr>\n",
              "  </thead>\n",
              "  <tbody>\n",
              "    <tr>\n",
              "      <th>0</th>\n",
              "      <td>0.0</td>\n",
              "      <td>1</td>\n",
              "      <td>20.000000</td>\n",
              "      <td>13.0</td>\n",
              "      <td>6.0</td>\n",
              "      <td>-0.113576</td>\n",
              "    </tr>\n",
              "    <tr>\n",
              "      <th>1</th>\n",
              "      <td>0.0</td>\n",
              "      <td>1</td>\n",
              "      <td>0.500000</td>\n",
              "      <td>1.0</td>\n",
              "      <td>2.0</td>\n",
              "      <td>2.709532</td>\n",
              "    </tr>\n",
              "    <tr>\n",
              "      <th>2</th>\n",
              "      <td>0.0</td>\n",
              "      <td>1</td>\n",
              "      <td>3.333333</td>\n",
              "      <td>1.0</td>\n",
              "      <td>2.5</td>\n",
              "      <td>3.654419</td>\n",
              "    </tr>\n",
              "    <tr>\n",
              "      <th>3</th>\n",
              "      <td>0.0</td>\n",
              "      <td>1</td>\n",
              "      <td>-0.625000</td>\n",
              "      <td>1.0</td>\n",
              "      <td>5.0</td>\n",
              "      <td>7.486193</td>\n",
              "    </tr>\n",
              "    <tr>\n",
              "      <th>4</th>\n",
              "      <td>0.0</td>\n",
              "      <td>1</td>\n",
              "      <td>3.333333</td>\n",
              "      <td>1.0</td>\n",
              "      <td>1.0</td>\n",
              "      <td>1.295552</td>\n",
              "    </tr>\n",
              "  </tbody>\n",
              "</table>\n",
              "</div>\n",
              "      <button class=\"colab-df-convert\" onclick=\"convertToInteractive('df-7a4ed6e6-41c6-45ef-99e1-1620435983a5')\"\n",
              "              title=\"Convert this dataframe to an interactive table.\"\n",
              "              style=\"display:none;\">\n",
              "        \n",
              "  <svg xmlns=\"http://www.w3.org/2000/svg\" height=\"24px\"viewBox=\"0 0 24 24\"\n",
              "       width=\"24px\">\n",
              "    <path d=\"M0 0h24v24H0V0z\" fill=\"none\"/>\n",
              "    <path d=\"M18.56 5.44l.94 2.06.94-2.06 2.06-.94-2.06-.94-.94-2.06-.94 2.06-2.06.94zm-11 1L8.5 8.5l.94-2.06 2.06-.94-2.06-.94L8.5 2.5l-.94 2.06-2.06.94zm10 10l.94 2.06.94-2.06 2.06-.94-2.06-.94-.94-2.06-.94 2.06-2.06.94z\"/><path d=\"M17.41 7.96l-1.37-1.37c-.4-.4-.92-.59-1.43-.59-.52 0-1.04.2-1.43.59L10.3 9.45l-7.72 7.72c-.78.78-.78 2.05 0 2.83L4 21.41c.39.39.9.59 1.41.59.51 0 1.02-.2 1.41-.59l7.78-7.78 2.81-2.81c.8-.78.8-2.07 0-2.86zM5.41 20L4 18.59l7.72-7.72 1.47 1.35L5.41 20z\"/>\n",
              "  </svg>\n",
              "      </button>\n",
              "      \n",
              "  <style>\n",
              "    .colab-df-container {\n",
              "      display:flex;\n",
              "      flex-wrap:wrap;\n",
              "      gap: 12px;\n",
              "    }\n",
              "\n",
              "    .colab-df-convert {\n",
              "      background-color: #E8F0FE;\n",
              "      border: none;\n",
              "      border-radius: 50%;\n",
              "      cursor: pointer;\n",
              "      display: none;\n",
              "      fill: #1967D2;\n",
              "      height: 32px;\n",
              "      padding: 0 0 0 0;\n",
              "      width: 32px;\n",
              "    }\n",
              "\n",
              "    .colab-df-convert:hover {\n",
              "      background-color: #E2EBFA;\n",
              "      box-shadow: 0px 1px 2px rgba(60, 64, 67, 0.3), 0px 1px 3px 1px rgba(60, 64, 67, 0.15);\n",
              "      fill: #174EA6;\n",
              "    }\n",
              "\n",
              "    [theme=dark] .colab-df-convert {\n",
              "      background-color: #3B4455;\n",
              "      fill: #D2E3FC;\n",
              "    }\n",
              "\n",
              "    [theme=dark] .colab-df-convert:hover {\n",
              "      background-color: #434B5C;\n",
              "      box-shadow: 0px 1px 3px 1px rgba(0, 0, 0, 0.15);\n",
              "      filter: drop-shadow(0px 1px 2px rgba(0, 0, 0, 0.3));\n",
              "      fill: #FFFFFF;\n",
              "    }\n",
              "  </style>\n",
              "\n",
              "      <script>\n",
              "        const buttonEl =\n",
              "          document.querySelector('#df-7a4ed6e6-41c6-45ef-99e1-1620435983a5 button.colab-df-convert');\n",
              "        buttonEl.style.display =\n",
              "          google.colab.kernel.accessAllowed ? 'block' : 'none';\n",
              "\n",
              "        async function convertToInteractive(key) {\n",
              "          const element = document.querySelector('#df-7a4ed6e6-41c6-45ef-99e1-1620435983a5');\n",
              "          const dataTable =\n",
              "            await google.colab.kernel.invokeFunction('convertToInteractive',\n",
              "                                                     [key], {});\n",
              "          if (!dataTable) return;\n",
              "\n",
              "          const docLinkHtml = 'Like what you see? Visit the ' +\n",
              "            '<a target=\"_blank\" href=https://colab.research.google.com/notebooks/data_table.ipynb>data table notebook</a>'\n",
              "            + ' to learn more about interactive tables.';\n",
              "          element.innerHTML = '';\n",
              "          dataTable['output_type'] = 'display_data';\n",
              "          await google.colab.output.renderOutput(dataTable, element);\n",
              "          const docLink = document.createElement('div');\n",
              "          docLink.innerHTML = docLinkHtml;\n",
              "          element.appendChild(docLink);\n",
              "        }\n",
              "      </script>\n",
              "    </div>\n",
              "  </div>\n",
              "  "
            ]
          },
          "metadata": {},
          "execution_count": 31
        }
      ]
    },
    {
      "cell_type": "markdown",
      "source": [
        "## Sampling Dataset"
      ],
      "metadata": {
        "id": "gg97v3f2nAT3"
      }
    },
    {
      "cell_type": "markdown",
      "source": [
        "### Separating Train and Test Set"
      ],
      "metadata": {
        "id": "sSmqxbyenOvI"
      }
    },
    {
      "cell_type": "code",
      "source": [
        "# Separate feature and target\n",
        "X = df.drop('UserVar.taskStatusLabel', axis=1)\n",
        "y = df['UserVar.taskStatusLabel']"
      ],
      "metadata": {
        "id": "feOOCk1MDAKz"
      },
      "execution_count": 32,
      "outputs": []
    },
    {
      "cell_type": "code",
      "source": [
        "# Separate train and test set for modelling\n",
        "X_train, X_test, y_train, y_test = train_test_split(X, y, test_size=0.2, random_state=42)\n",
        "\n",
        "# Train and test set dimension\n",
        "print('Shape of X_train', X_train.shape)\n",
        "print('Shape of y_train', y_train.shape)\n",
        "print('Shape of X_test', X_test.shape)\n",
        "print('Shape of y_test', y_test.shape)"
      ],
      "metadata": {
        "colab": {
          "base_uri": "https://localhost:8080/"
        },
        "id": "oFaM_zGztEJl",
        "outputId": "82331f33-11d8-4160-cecc-2c2df3f55b3c"
      },
      "execution_count": 33,
      "outputs": [
        {
          "output_type": "stream",
          "name": "stdout",
          "text": [
            "Shape of X_train (6667, 5)\n",
            "Shape of y_train (6667,)\n",
            "Shape of X_test (1667, 5)\n",
            "Shape of y_test (1667,)\n"
          ]
        }
      ]
    },
    {
      "cell_type": "markdown",
      "source": [
        "### Oversampling Using SMOTE\n",
        "Karena pada target yang kita miliki terdapat imbalanced class, maka kita akan melakukan oversampling menggunakan metode SMOTE. Oversampling hanya dilakukan pada data training."
      ],
      "metadata": {
        "id": "_jBWi-UMtMft"
      }
    },
    {
      "cell_type": "code",
      "source": [
        "# Distribution of training target\n",
        "plt.figure(figsize=(6,6))\n",
        "plt.pie(\n",
        "        y_train.value_counts(),\n",
        "        autopct='%.2f',\n",
        "        explode=[0.1,0],\n",
        "        labels=[\"Success\",\"Failed\"], \n",
        "        shadow=True, \n",
        "        textprops={'fontsize': 14},\n",
        "        colors=[\"blue\",\"red\"], \n",
        "        startangle=35)\n",
        "\n",
        "plt.title(\"Proportion of Class Target\",fontsize=15, fontweight='bold', pad=20)\n",
        "plt.legend(fontsize=12, loc=\"best\")\n",
        "plt.show()"
      ],
      "metadata": {
        "colab": {
          "base_uri": "https://localhost:8080/",
          "height": 542
        },
        "id": "RqTQ26SltJPN",
        "outputId": "1dbda422-0cc8-414b-8dc1-a5ca3aa7cb91"
      },
      "execution_count": 34,
      "outputs": [
        {
          "output_type": "display_data",
          "data": {
            "text/plain": [
              "<Figure size 600x600 with 1 Axes>"
            ],
            "image/png": "[encoded data removed]"
          },
          "metadata": {}
        }
      ]
    },
    {
      "cell_type": "code",
      "source": [
        "# oversampling\n",
        "X_train_over, y_train_over = SMOTE().fit_resample(X_train, y_train)\n",
        "\n",
        "# distribution target after oversampling\n",
        "pd.Series(y_train_over).value_counts()"
      ],
      "metadata": {
        "colab": {
          "base_uri": "https://localhost:8080/"
        },
        "id": "1uStBBRTtT_z",
        "outputId": "19568c45-0c50-40c0-d7b4-52cc5ae321ff"
      },
      "execution_count": 35,
      "outputs": [
        {
          "output_type": "execute_result",
          "data": {
            "text/plain": [
              "1    4937\n",
              "0    4937\n",
              "Name: UserVar.taskStatusLabel, dtype: int64"
            ]
          },
          "metadata": {},
          "execution_count": 35
        }
      ]
    },
    {
      "cell_type": "markdown",
      "source": [
        "## Modeling\n",
        "Pada tahap modelling kita akan membandingkan beberapa metode yang nantinya kita akan pilih mana model yang menghasilkan performa terbaik. Model dengan performa terbaik yang nantinya akan kita pilih dalam tahap selanjutnya."
      ],
      "metadata": {
        "id": "H2mAufzOtgrW"
      }
    },
    {
      "cell_type": "markdown",
      "source": [
        "### Choose the Best Classifier"
      ],
      "metadata": {
        "id": "ML1-bLVEtlCj"
      }
    },
    {
      "cell_type": "code",
      "source": [
        "# Model assignment\n",
        "dtc = DecisionTreeClassifier()\n",
        "rfc = RandomForestClassifier()\n",
        "abc = AdaBoostClassifier()\n",
        "etc = ExtraTreesClassifier() \n",
        "gbc = GradientBoostingClassifier()\n",
        "bgc = BaggingClassifier()\n",
        "knn = KNeighborsClassifier() \n",
        "logreg = LogisticRegression()\n",
        "nb = GaussianNB()\n",
        "svm = SVC()\n",
        "xgb = XGBClassifier(eval_metric='error')\n",
        "mlp = MLPClassifier()\n",
        "\n",
        "# Assign model to a list\n",
        "models = [dtc, rfc, abc, etc, gbc, bgc, knn, logreg, nb, svm, xgb, mlp]\n",
        "\n",
        "model_name = []\n",
        "\n",
        "# Get Classifier names for every model\n",
        "for name in models:\n",
        "    names = str(type(name)).split('.')[-1][:-2]\n",
        "    # Append classifier names to model_name list\n",
        "    model_name.append(names)"
      ],
      "metadata": {
        "id": "Hdah6eu6tc4C"
      },
      "execution_count": 36,
      "outputs": []
    },
    {
      "cell_type": "markdown",
      "source": [
        "#### Cross Validation\n",
        "Pada tahap ini kita lakukan training pada seluruh data menggunakan cross validation."
      ],
      "metadata": {
        "id": "dMM4yZ89tsNs"
      }
    },
    {
      "cell_type": "code",
      "source": [
        "# Cross validation for each model \n",
        "dtc_score = cross_val_score(models[0], X, y, scoring='accuracy', cv=5, n_jobs=-1, verbose=1)\n",
        "rfc_score = cross_val_score(models[1], X, y, scoring='accuracy', cv=5, n_jobs=-1, verbose=1)\n",
        "abc_score = cross_val_score(models[2], X, y, scoring='accuracy', cv=5, n_jobs=-1, verbose=1)\n",
        "etc_score = cross_val_score(models[3], X, y, scoring='accuracy', cv=5, n_jobs=-1, verbose=1)\n",
        "gbc_score = cross_val_score(models[4], X, y, scoring='accuracy', cv=5, n_jobs=-1, verbose=1)\n",
        "bgc_score = cross_val_score(models[5], X, y, scoring='accuracy', cv=5, n_jobs=-1, verbose=1)\n",
        "knn_score = cross_val_score(models[6], X, y, scoring='accuracy', cv=5, n_jobs=-1, verbose=1)\n",
        "logreg_score = cross_val_score(models[7], X, y, scoring='accuracy', cv=5, n_jobs=-1, verbose=1)\n",
        "nb_score = cross_val_score(models[8], X, y, scoring='accuracy', cv=5, n_jobs=-1, verbose=1)\n",
        "svm_score = cross_val_score(models[9], X, y, scoring='accuracy', cv=5, n_jobs=-1, verbose=1)\n",
        "xgb_score = cross_val_score(models[10], X, y, scoring='accuracy', cv=5, n_jobs=-1, verbose=1)\n",
        "mlp_score = cross_val_score(models[11], X, y, scoring='accuracy', cv=5, n_jobs=-1, verbose=1)"
      ],
      "metadata": {
        "colab": {
          "base_uri": "https://localhost:8080/"
        },
        "id": "3AuAfSSHtun2",
        "outputId": "637eee4b-e405-4de9-c480-b23dc6b0985e"
      },
      "execution_count": 37,
      "outputs": [
        {
          "output_type": "stream",
          "name": "stderr",
          "text": [
            "[Parallel(n_jobs=-1)]: Using backend LokyBackend with 2 concurrent workers.\n",
            "[Parallel(n_jobs=-1)]: Done   5 out of   5 | elapsed:    2.1s finished\n",
            "[Parallel(n_jobs=-1)]: Using backend LokyBackend with 2 concurrent workers.\n",
            "[Parallel(n_jobs=-1)]: Done   5 out of   5 | elapsed:    3.3s finished\n",
            "[Parallel(n_jobs=-1)]: Using backend LokyBackend with 2 concurrent workers.\n",
            "[Parallel(n_jobs=-1)]: Done   5 out of   5 | elapsed:    1.8s finished\n",
            "[Parallel(n_jobs=-1)]: Using backend LokyBackend with 2 concurrent workers.\n",
            "[Parallel(n_jobs=-1)]: Done   5 out of   5 | elapsed:    2.6s finished\n",
            "[Parallel(n_jobs=-1)]: Using backend LokyBackend with 2 concurrent workers.\n",
            "[Parallel(n_jobs=-1)]: Done   5 out of   5 | elapsed:    2.2s finished\n",
            "[Parallel(n_jobs=-1)]: Using backend LokyBackend with 2 concurrent workers.\n",
            "[Parallel(n_jobs=-1)]: Done   5 out of   5 | elapsed:    0.5s finished\n",
            "[Parallel(n_jobs=-1)]: Using backend LokyBackend with 2 concurrent workers.\n",
            "[Parallel(n_jobs=-1)]: Done   5 out of   5 | elapsed:    0.3s finished\n",
            "[Parallel(n_jobs=-1)]: Using backend LokyBackend with 2 concurrent workers.\n",
            "[Parallel(n_jobs=-1)]: Done   5 out of   5 | elapsed:    0.1s finished\n",
            "[Parallel(n_jobs=-1)]: Using backend LokyBackend with 2 concurrent workers.\n",
            "[Parallel(n_jobs=-1)]: Done   5 out of   5 | elapsed:    0.0s finished\n",
            "[Parallel(n_jobs=-1)]: Using backend LokyBackend with 2 concurrent workers.\n",
            "[Parallel(n_jobs=-1)]: Done   5 out of   5 | elapsed:    7.3s finished\n",
            "[Parallel(n_jobs=-1)]: Using backend LokyBackend with 2 concurrent workers.\n",
            "[Parallel(n_jobs=-1)]: Done   5 out of   5 | elapsed:    2.5s finished\n",
            "[Parallel(n_jobs=-1)]: Using backend LokyBackend with 2 concurrent workers.\n",
            "[Parallel(n_jobs=-1)]: Done   5 out of   5 | elapsed:   11.0s finished\n"
          ]
        }
      ]
    },
    {
      "cell_type": "code",
      "source": [
        "# List of score per model\n",
        "cv_result = [\n",
        "    dtc_score, rfc_score, abc_score, etc_score, gbc_score, bgc_score, \n",
        "    knn_score, logreg_score, nb_score, svm_score, xgb_score, mlp_score]\n",
        "\n",
        "# Create dataframe for score every k-fold\n",
        "df_cv_result = pd.DataFrame(cv_result, index=model_name)\n",
        "df_cv_result"
      ],
      "metadata": {
        "colab": {
          "base_uri": "https://localhost:8080/",
          "height": 426
        },
        "id": "J5SEXcFWtxeX",
        "outputId": "39737eb7-a36b-4c25-aaea-b9e14bd342ec"
      },
      "execution_count": 38,
      "outputs": [
        {
          "output_type": "execute_result",
          "data": {
            "text/plain": [
              "                                   0         1         2         3         4\n",
              "DecisionTreeClassifier      0.727055  0.773245  0.745051  0.752250  0.823529\n",
              "RandomForestClassifier      0.803239  0.789442  0.762448  0.776245  0.827131\n",
              "AdaBoostClassifier          0.862627  0.851230  0.790042  0.857828  0.839736\n",
              "ExtraTreesClassifier        0.818236  0.794841  0.753449  0.773845  0.825930\n",
              "GradientBoostingClassifier  0.839832  0.836233  0.793641  0.861428  0.844538\n",
              "BaggingClassifier           0.770846  0.782843  0.765447  0.762448  0.827131\n",
              "KNeighborsClassifier        0.824235  0.811038  0.771446  0.823035  0.816327\n",
              "LogisticRegression          0.865627  0.844631  0.761848  0.848230  0.834934\n",
              "GaussianNB                  0.644871  0.631674  0.509298  0.477504  0.282713\n",
              "SVC                         0.794841  0.850030  0.749850  0.854829  0.836134\n",
              "XGBClassifier               0.833233  0.818836  0.793041  0.818836  0.835534\n",
              "MLPClassifier               0.865627  0.840432  0.794241  0.855429  0.842737"
            ],
            "text/html": [
              "\n",
              "  <div id=\"df-2347d310-99c5-4d92-b2fb-c5fd5a4a48b1\">\n",
              "    <div class=\"colab-df-container\">\n",
              "      <div>\n",
              "<style scoped>\n",
              "    .dataframe tbody tr th:only-of-type {\n",
              "        vertical-align: middle;\n",
              "    }\n",
              "\n",
              "    .dataframe tbody tr th {\n",
              "        vertical-align: top;\n",
              "    }\n",
              "\n",
              "    .dataframe thead th {\n",
              "        text-align: right;\n",
              "    }\n",
              "</style>\n",
              "<table border=\"1\" class=\"dataframe\">\n",
              "  <thead>\n",
              "    <tr style=\"text-align: right;\">\n",
              "      <th></th>\n",
              "      <th>0</th>\n",
              "      <th>1</th>\n",
              "      <th>2</th>\n",
              "      <th>3</th>\n",
              "      <th>4</th>\n",
              "    </tr>\n",
              "  </thead>\n",
              "  <tbody>\n",
              "    <tr>\n",
              "      <th>DecisionTreeClassifier</th>\n",
              "      <td>0.727055</td>\n",
              "      <td>0.773245</td>\n",
              "      <td>0.745051</td>\n",
              "      <td>0.752250</td>\n",
              "      <td>0.823529</td>\n",
              "    </tr>\n",
              "    <tr>\n",
              "      <th>RandomForestClassifier</th>\n",
              "      <td>0.803239</td>\n",
              "      <td>0.789442</td>\n",
              "      <td>0.762448</td>\n",
              "      <td>0.776245</td>\n",
              "      <td>0.827131</td>\n",
              "    </tr>\n",
              "    <tr>\n",
              "      <th>AdaBoostClassifier</th>\n",
              "      <td>0.862627</td>\n",
              "      <td>0.851230</td>\n",
              "      <td>0.790042</td>\n",
              "      <td>0.857828</td>\n",
              "      <td>0.839736</td>\n",
              "    </tr>\n",
              "    <tr>\n",
              "      <th>ExtraTreesClassifier</th>\n",
              "      <td>0.818236</td>\n",
              "      <td>0.794841</td>\n",
              "      <td>0.753449</td>\n",
              "      <td>0.773845</td>\n",
              "      <td>0.825930</td>\n",
              "    </tr>\n",
              "    <tr>\n",
              "      <th>GradientBoostingClassifier</th>\n",
              "      <td>0.839832</td>\n",
              "      <td>0.836233</td>\n",
              "      <td>0.793641</td>\n",
              "      <td>0.861428</td>\n",
              "      <td>0.844538</td>\n",
              "    </tr>\n",
              "    <tr>\n",
              "      <th>BaggingClassifier</th>\n",
              "      <td>0.770846</td>\n",
              "      <td>0.782843</td>\n",
              "      <td>0.765447</td>\n",
              "      <td>0.762448</td>\n",
              "      <td>0.827131</td>\n",
              "    </tr>\n",
              "    <tr>\n",
              "      <th>KNeighborsClassifier</th>\n",
              "      <td>0.824235</td>\n",
              "      <td>0.811038</td>\n",
              "      <td>0.771446</td>\n",
              "      <td>0.823035</td>\n",
              "      <td>0.816327</td>\n",
              "    </tr>\n",
              "    <tr>\n",
              "      <th>LogisticRegression</th>\n",
              "      <td>0.865627</td>\n",
              "      <td>0.844631</td>\n",
              "      <td>0.761848</td>\n",
              "      <td>0.848230</td>\n",
              "      <td>0.834934</td>\n",
              "    </tr>\n",
              "    <tr>\n",
              "      <th>GaussianNB</th>\n",
              "      <td>0.644871</td>\n",
              "      <td>0.631674</td>\n",
              "      <td>0.509298</td>\n",
              "      <td>0.477504</td>\n",
              "      <td>0.282713</td>\n",
              "    </tr>\n",
              "    <tr>\n",
              "      <th>SVC</th>\n",
              "      <td>0.794841</td>\n",
              "      <td>0.850030</td>\n",
              "      <td>0.749850</td>\n",
              "      <td>0.854829</td>\n",
              "      <td>0.836134</td>\n",
              "    </tr>\n",
              "    <tr>\n",
              "      <th>XGBClassifier</th>\n",
              "      <td>0.833233</td>\n",
              "      <td>0.818836</td>\n",
              "      <td>0.793041</td>\n",
              "      <td>0.818836</td>\n",
              "      <td>0.835534</td>\n",
              "    </tr>\n",
              "    <tr>\n",
              "      <th>MLPClassifier</th>\n",
              "      <td>0.865627</td>\n",
              "      <td>0.840432</td>\n",
              "      <td>0.794241</td>\n",
              "      <td>0.855429</td>\n",
              "      <td>0.842737</td>\n",
              "    </tr>\n",
              "  </tbody>\n",
              "</table>\n",
              "</div>\n",
              "      <button class=\"colab-df-convert\" onclick=\"convertToInteractive('df-2347d310-99c5-4d92-b2fb-c5fd5a4a48b1')\"\n",
              "              title=\"Convert this dataframe to an interactive table.\"\n",
              "              style=\"display:none;\">\n",
              "        \n",
              "  <svg xmlns=\"http://www.w3.org/2000/svg\" height=\"24px\"viewBox=\"0 0 24 24\"\n",
              "       width=\"24px\">\n",
              "    <path d=\"M0 0h24v24H0V0z\" fill=\"none\"/>\n",
              "    <path d=\"M18.56 5.44l.94 2.06.94-2.06 2.06-.94-2.06-.94-.94-2.06-.94 2.06-2.06.94zm-11 1L8.5 8.5l.94-2.06 2.06-.94-2.06-.94L8.5 2.5l-.94 2.06-2.06.94zm10 10l.94 2.06.94-2.06 2.06-.94-2.06-.94-.94-2.06-.94 2.06-2.06.94z\"/><path d=\"M17.41 7.96l-1.37-1.37c-.4-.4-.92-.59-1.43-.59-.52 0-1.04.2-1.43.59L10.3 9.45l-7.72 7.72c-.78.78-.78 2.05 0 2.83L4 21.41c.39.39.9.59 1.41.59.51 0 1.02-.2 1.41-.59l7.78-7.78 2.81-2.81c.8-.78.8-2.07 0-2.86zM5.41 20L4 18.59l7.72-7.72 1.47 1.35L5.41 20z\"/>\n",
              "  </svg>\n",
              "      </button>\n",
              "      \n",
              "  <style>\n",
              "    .colab-df-container {\n",
              "      display:flex;\n",
              "      flex-wrap:wrap;\n",
              "      gap: 12px;\n",
              "    }\n",
              "\n",
              "    .colab-df-convert {\n",
              "      background-color: #E8F0FE;\n",
              "      border: none;\n",
              "      border-radius: 50%;\n",
              "      cursor: pointer;\n",
              "      display: none;\n",
              "      fill: #1967D2;\n",
              "      height: 32px;\n",
              "      padding: 0 0 0 0;\n",
              "      width: 32px;\n",
              "    }\n",
              "\n",
              "    .colab-df-convert:hover {\n",
              "      background-color: #E2EBFA;\n",
              "      box-shadow: 0px 1px 2px rgba(60, 64, 67, 0.3), 0px 1px 3px 1px rgba(60, 64, 67, 0.15);\n",
              "      fill: #174EA6;\n",
              "    }\n",
              "\n",
              "    [theme=dark] .colab-df-convert {\n",
              "      background-color: #3B4455;\n",
              "      fill: #D2E3FC;\n",
              "    }\n",
              "\n",
              "    [theme=dark] .colab-df-convert:hover {\n",
              "      background-color: #434B5C;\n",
              "      box-shadow: 0px 1px 3px 1px rgba(0, 0, 0, 0.15);\n",
              "      filter: drop-shadow(0px 1px 2px rgba(0, 0, 0, 0.3));\n",
              "      fill: #FFFFFF;\n",
              "    }\n",
              "  </style>\n",
              "\n",
              "      <script>\n",
              "        const buttonEl =\n",
              "          document.querySelector('#df-2347d310-99c5-4d92-b2fb-c5fd5a4a48b1 button.colab-df-convert');\n",
              "        buttonEl.style.display =\n",
              "          google.colab.kernel.accessAllowed ? 'block' : 'none';\n",
              "\n",
              "        async function convertToInteractive(key) {\n",
              "          const element = document.querySelector('#df-2347d310-99c5-4d92-b2fb-c5fd5a4a48b1');\n",
              "          const dataTable =\n",
              "            await google.colab.kernel.invokeFunction('convertToInteractive',\n",
              "                                                     [key], {});\n",
              "          if (!dataTable) return;\n",
              "\n",
              "          const docLinkHtml = 'Like what you see? Visit the ' +\n",
              "            '<a target=\"_blank\" href=https://colab.research.google.com/notebooks/data_table.ipynb>data table notebook</a>'\n",
              "            + ' to learn more about interactive tables.';\n",
              "          element.innerHTML = '';\n",
              "          dataTable['output_type'] = 'display_data';\n",
              "          await google.colab.output.renderOutput(dataTable, element);\n",
              "          const docLink = document.createElement('div');\n",
              "          docLink.innerHTML = docLinkHtml;\n",
              "          element.appendChild(docLink);\n",
              "        }\n",
              "      </script>\n",
              "    </div>\n",
              "  </div>\n",
              "  "
            ]
          },
          "metadata": {},
          "execution_count": 38
        }
      ]
    },
    {
      "cell_type": "code",
      "source": [
        "# Calculate average for every k-fold validation\n",
        "cv_mean = []\n",
        "i = 0\n",
        "for mean in cv_result:\n",
        "    mean = cv_result[i].mean()\n",
        "    cv_mean.append(mean)\n",
        "    i += 1"
      ],
      "metadata": {
        "id": "9yIrvpY-t0SF"
      },
      "execution_count": 39,
      "outputs": []
    },
    {
      "cell_type": "code",
      "source": [
        "# Calculate standard deviation for every k-fold validation\n",
        "cv_std = []\n",
        "i = 0 \n",
        "for std in cv_result:\n",
        "    std = cv_result[i].std()\n",
        "    cv_std.append(std)\n",
        "    i += 1"
      ],
      "metadata": {
        "id": "d3HNy2OKt2c8"
      },
      "execution_count": 40,
      "outputs": []
    },
    {
      "cell_type": "code",
      "source": [
        "# Average and standard deviation score for each model\n",
        "df_cv = pd.DataFrame({'score_mean':cv_mean, 'score_std':cv_std}, index=model_name).sort_values(['score_mean', 'score_std'], ascending=[False, True])\n",
        "df_cv"
      ],
      "metadata": {
        "colab": {
          "base_uri": "https://localhost:8080/",
          "height": 426
        },
        "id": "OAepn4QXt38J",
        "outputId": "a8bb650e-fb14-4226-a353-ef1899c27c24"
      },
      "execution_count": 41,
      "outputs": [
        {
          "output_type": "execute_result",
          "data": {
            "text/plain": [
              "                            score_mean  score_std\n",
              "AdaBoostClassifier            0.840293   0.026273\n",
              "MLPClassifier                 0.839693   0.024478\n",
              "GradientBoostingClassifier    0.835134   0.022471\n",
              "LogisticRegression            0.831054   0.035998\n",
              "XGBClassifier                 0.819896   0.015138\n",
              "SVC                           0.817137   0.039719\n",
              "KNeighborsClassifier          0.809216   0.019478\n",
              "ExtraTreesClassifier          0.793260   0.027039\n",
              "RandomForestClassifier        0.791701   0.022308\n",
              "BaggingClassifier             0.781743   0.023740\n",
              "DecisionTreeClassifier        0.764226   0.033139\n",
              "GaussianNB                    0.509212   0.130925"
            ],
            "text/html": [
              "\n",
              "  <div id=\"df-bfe2ba3a-a7e1-49ab-82e4-cc97cb225ed5\">\n",
              "    <div class=\"colab-df-container\">\n",
              "      <div>\n",
              "<style scoped>\n",
              "    .dataframe tbody tr th:only-of-type {\n",
              "        vertical-align: middle;\n",
              "    }\n",
              "\n",
              "    .dataframe tbody tr th {\n",
              "        vertical-align: top;\n",
              "    }\n",
              "\n",
              "    .dataframe thead th {\n",
              "        text-align: right;\n",
              "    }\n",
              "</style>\n",
              "<table border=\"1\" class=\"dataframe\">\n",
              "  <thead>\n",
              "    <tr style=\"text-align: right;\">\n",
              "      <th></th>\n",
              "      <th>score_mean</th>\n",
              "      <th>score_std</th>\n",
              "    </tr>\n",
              "  </thead>\n",
              "  <tbody>\n",
              "    <tr>\n",
              "      <th>AdaBoostClassifier</th>\n",
              "      <td>0.840293</td>\n",
              "      <td>0.026273</td>\n",
              "    </tr>\n",
              "    <tr>\n",
              "      <th>MLPClassifier</th>\n",
              "      <td>0.839693</td>\n",
              "      <td>0.024478</td>\n",
              "    </tr>\n",
              "    <tr>\n",
              "      <th>GradientBoostingClassifier</th>\n",
              "      <td>0.835134</td>\n",
              "      <td>0.022471</td>\n",
              "    </tr>\n",
              "    <tr>\n",
              "      <th>LogisticRegression</th>\n",
              "      <td>0.831054</td>\n",
              "      <td>0.035998</td>\n",
              "    </tr>\n",
              "    <tr>\n",
              "      <th>XGBClassifier</th>\n",
              "      <td>0.819896</td>\n",
              "      <td>0.015138</td>\n",
              "    </tr>\n",
              "    <tr>\n",
              "      <th>SVC</th>\n",
              "      <td>0.817137</td>\n",
              "      <td>0.039719</td>\n",
              "    </tr>\n",
              "    <tr>\n",
              "      <th>KNeighborsClassifier</th>\n",
              "      <td>0.809216</td>\n",
              "      <td>0.019478</td>\n",
              "    </tr>\n",
              "    <tr>\n",
              "      <th>ExtraTreesClassifier</th>\n",
              "      <td>0.793260</td>\n",
              "      <td>0.027039</td>\n",
              "    </tr>\n",
              "    <tr>\n",
              "      <th>RandomForestClassifier</th>\n",
              "      <td>0.791701</td>\n",
              "      <td>0.022308</td>\n",
              "    </tr>\n",
              "    <tr>\n",
              "      <th>BaggingClassifier</th>\n",
              "      <td>0.781743</td>\n",
              "      <td>0.023740</td>\n",
              "    </tr>\n",
              "    <tr>\n",
              "      <th>DecisionTreeClassifier</th>\n",
              "      <td>0.764226</td>\n",
              "      <td>0.033139</td>\n",
              "    </tr>\n",
              "    <tr>\n",
              "      <th>GaussianNB</th>\n",
              "      <td>0.509212</td>\n",
              "      <td>0.130925</td>\n",
              "    </tr>\n",
              "  </tbody>\n",
              "</table>\n",
              "</div>\n",
              "      <button class=\"colab-df-convert\" onclick=\"convertToInteractive('df-bfe2ba3a-a7e1-49ab-82e4-cc97cb225ed5')\"\n",
              "              title=\"Convert this dataframe to an interactive table.\"\n",
              "              style=\"display:none;\">\n",
              "        \n",
              "  <svg xmlns=\"http://www.w3.org/2000/svg\" height=\"24px\"viewBox=\"0 0 24 24\"\n",
              "       width=\"24px\">\n",
              "    <path d=\"M0 0h24v24H0V0z\" fill=\"none\"/>\n",
              "    <path d=\"M18.56 5.44l.94 2.06.94-2.06 2.06-.94-2.06-.94-.94-2.06-.94 2.06-2.06.94zm-11 1L8.5 8.5l.94-2.06 2.06-.94-2.06-.94L8.5 2.5l-.94 2.06-2.06.94zm10 10l.94 2.06.94-2.06 2.06-.94-2.06-.94-.94-2.06-.94 2.06-2.06.94z\"/><path d=\"M17.41 7.96l-1.37-1.37c-.4-.4-.92-.59-1.43-.59-.52 0-1.04.2-1.43.59L10.3 9.45l-7.72 7.72c-.78.78-.78 2.05 0 2.83L4 21.41c.39.39.9.59 1.41.59.51 0 1.02-.2 1.41-.59l7.78-7.78 2.81-2.81c.8-.78.8-2.07 0-2.86zM5.41 20L4 18.59l7.72-7.72 1.47 1.35L5.41 20z\"/>\n",
              "  </svg>\n",
              "      </button>\n",
              "      \n",
              "  <style>\n",
              "    .colab-df-container {\n",
              "      display:flex;\n",
              "      flex-wrap:wrap;\n",
              "      gap: 12px;\n",
              "    }\n",
              "\n",
              "    .colab-df-convert {\n",
              "      background-color: #E8F0FE;\n",
              "      border: none;\n",
              "      border-radius: 50%;\n",
              "      cursor: pointer;\n",
              "      display: none;\n",
              "      fill: #1967D2;\n",
              "      height: 32px;\n",
              "      padding: 0 0 0 0;\n",
              "      width: 32px;\n",
              "    }\n",
              "\n",
              "    .colab-df-convert:hover {\n",
              "      background-color: #E2EBFA;\n",
              "      box-shadow: 0px 1px 2px rgba(60, 64, 67, 0.3), 0px 1px 3px 1px rgba(60, 64, 67, 0.15);\n",
              "      fill: #174EA6;\n",
              "    }\n",
              "\n",
              "    [theme=dark] .colab-df-convert {\n",
              "      background-color: #3B4455;\n",
              "      fill: #D2E3FC;\n",
              "    }\n",
              "\n",
              "    [theme=dark] .colab-df-convert:hover {\n",
              "      background-color: #434B5C;\n",
              "      box-shadow: 0px 1px 3px 1px rgba(0, 0, 0, 0.15);\n",
              "      filter: drop-shadow(0px 1px 2px rgba(0, 0, 0, 0.3));\n",
              "      fill: #FFFFFF;\n",
              "    }\n",
              "  </style>\n",
              "\n",
              "      <script>\n",
              "        const buttonEl =\n",
              "          document.querySelector('#df-bfe2ba3a-a7e1-49ab-82e4-cc97cb225ed5 button.colab-df-convert');\n",
              "        buttonEl.style.display =\n",
              "          google.colab.kernel.accessAllowed ? 'block' : 'none';\n",
              "\n",
              "        async function convertToInteractive(key) {\n",
              "          const element = document.querySelector('#df-bfe2ba3a-a7e1-49ab-82e4-cc97cb225ed5');\n",
              "          const dataTable =\n",
              "            await google.colab.kernel.invokeFunction('convertToInteractive',\n",
              "                                                     [key], {});\n",
              "          if (!dataTable) return;\n",
              "\n",
              "          const docLinkHtml = 'Like what you see? Visit the ' +\n",
              "            '<a target=\"_blank\" href=https://colab.research.google.com/notebooks/data_table.ipynb>data table notebook</a>'\n",
              "            + ' to learn more about interactive tables.';\n",
              "          element.innerHTML = '';\n",
              "          dataTable['output_type'] = 'display_data';\n",
              "          await google.colab.output.renderOutput(dataTable, element);\n",
              "          const docLink = document.createElement('div');\n",
              "          docLink.innerHTML = docLinkHtml;\n",
              "          element.appendChild(docLink);\n",
              "        }\n",
              "      </script>\n",
              "    </div>\n",
              "  </div>\n",
              "  "
            ]
          },
          "metadata": {},
          "execution_count": 41
        }
      ]
    },
    {
      "cell_type": "markdown",
      "source": [
        "Pada eksperimen diatas didapatkan nilai rata-rata akurasi dan standard deviasi nya dari setiap k-fold validation. XGBClassifier memiliki performa terbaik dengan rata-rata akurasi mencapai 81.98% dengan standard deviasi 0.015138.\n",
        "\n",
        "#### Fit and Evaluation\n",
        "Selain dengan menggunakan Cross Validation, saya juga melakukan uji nilai akurasi pada data training dan testing yang bertujuan untuk melihat akurasi saat data training dan testing dan perbedaaannya. Maka di dapatkan hasil sebagai berikut :\n",
        "\n"
      ],
      "metadata": {
        "id": "BwM8wW96uWCI"
      }
    },
    {
      "cell_type": "code",
      "source": [
        "# Create a list to assign a model score\n",
        "train_score = []\n",
        "test_score = []\n",
        "\n",
        "# Create dataframe\n",
        "df_train_test = pd.DataFrame()\n",
        "for i in models:\n",
        "    # Fit each model\n",
        "    model = i.fit(X_train_over, y_train_over)\n",
        "    # accuracy for training set\n",
        "    train_score.append(model.score(X_train_over, y_train_over))\n",
        "    # accuracy for testing set\n",
        "    test_score.append(model.score(X_test, y_test))"
      ],
      "metadata": {
        "id": "nGPnaABhuXr6"
      },
      "execution_count": 42,
      "outputs": []
    },
    {
      "cell_type": "code",
      "source": [
        "# Create a dataframe to store accuracy score\n",
        "df_avg_score = pd.DataFrame({\n",
        "    'train score':train_score,\n",
        "    'test score':test_score},\n",
        "    index=model_name)\n",
        "\n",
        "# Create a new column for the difference in accuracy score \n",
        "df_avg_score['difference'] = abs(df_avg_score['train score'] - df_avg_score['test score'])\n",
        "# Sort accuracy by smallest difference\n",
        "df_avg_score = df_avg_score.sort_values(['train score', 'test score','difference'], ascending=[False, False, True])\n",
        "df_avg_score"
      ],
      "metadata": {
        "colab": {
          "base_uri": "https://localhost:8080/",
          "height": 426
        },
        "id": "Gwc-VyY5ukcY",
        "outputId": "e875f2ca-ee95-4bd8-90f6-bbd06444a62b"
      },
      "execution_count": 43,
      "outputs": [
        {
          "output_type": "execute_result",
          "data": {
            "text/plain": [
              "                            train score  test score  difference\n",
              "ExtraTreesClassifier           0.994227    0.815837    0.178390\n",
              "RandomForestClassifier         0.994227    0.815237    0.178990\n",
              "DecisionTreeClassifier         0.994227    0.798440    0.195787\n",
              "BaggingClassifier              0.978732    0.806839    0.171893\n",
              "XGBClassifier                  0.908548    0.832034    0.076514\n",
              "KNeighborsClassifier           0.884140    0.796641    0.087499\n",
              "GradientBoostingClassifier     0.835224    0.839232    0.004008\n",
              "AdaBoostClassifier             0.826717    0.838632    0.011916\n",
              "MLPClassifier                  0.807677    0.829634    0.021957\n",
              "SVC                            0.787219    0.772046    0.015173\n",
              "LogisticRegression             0.770205    0.700660    0.069545\n",
              "GaussianNB                     0.650192    0.521296    0.128897"
            ],
            "text/html": [
              "\n",
              "  <div id=\"df-18da50d1-f4b6-4d95-a308-dfdbccd6dacc\">\n",
              "    <div class=\"colab-df-container\">\n",
              "      <div>\n",
              "<style scoped>\n",
              "    .dataframe tbody tr th:only-of-type {\n",
              "        vertical-align: middle;\n",
              "    }\n",
              "\n",
              "    .dataframe tbody tr th {\n",
              "        vertical-align: top;\n",
              "    }\n",
              "\n",
              "    .dataframe thead th {\n",
              "        text-align: right;\n",
              "    }\n",
              "</style>\n",
              "<table border=\"1\" class=\"dataframe\">\n",
              "  <thead>\n",
              "    <tr style=\"text-align: right;\">\n",
              "      <th></th>\n",
              "      <th>train score</th>\n",
              "      <th>test score</th>\n",
              "      <th>difference</th>\n",
              "    </tr>\n",
              "  </thead>\n",
              "  <tbody>\n",
              "    <tr>\n",
              "      <th>ExtraTreesClassifier</th>\n",
              "      <td>0.994227</td>\n",
              "      <td>0.815837</td>\n",
              "      <td>0.178390</td>\n",
              "    </tr>\n",
              "    <tr>\n",
              "      <th>RandomForestClassifier</th>\n",
              "      <td>0.994227</td>\n",
              "      <td>0.815237</td>\n",
              "      <td>0.178990</td>\n",
              "    </tr>\n",
              "    <tr>\n",
              "      <th>DecisionTreeClassifier</th>\n",
              "      <td>0.994227</td>\n",
              "      <td>0.798440</td>\n",
              "      <td>0.195787</td>\n",
              "    </tr>\n",
              "    <tr>\n",
              "      <th>BaggingClassifier</th>\n",
              "      <td>0.978732</td>\n",
              "      <td>0.806839</td>\n",
              "      <td>0.171893</td>\n",
              "    </tr>\n",
              "    <tr>\n",
              "      <th>XGBClassifier</th>\n",
              "      <td>0.908548</td>\n",
              "      <td>0.832034</td>\n",
              "      <td>0.076514</td>\n",
              "    </tr>\n",
              "    <tr>\n",
              "      <th>KNeighborsClassifier</th>\n",
              "      <td>0.884140</td>\n",
              "      <td>0.796641</td>\n",
              "      <td>0.087499</td>\n",
              "    </tr>\n",
              "    <tr>\n",
              "      <th>GradientBoostingClassifier</th>\n",
              "      <td>0.835224</td>\n",
              "      <td>0.839232</td>\n",
              "      <td>0.004008</td>\n",
              "    </tr>\n",
              "    <tr>\n",
              "      <th>AdaBoostClassifier</th>\n",
              "      <td>0.826717</td>\n",
              "      <td>0.838632</td>\n",
              "      <td>0.011916</td>\n",
              "    </tr>\n",
              "    <tr>\n",
              "      <th>MLPClassifier</th>\n",
              "      <td>0.807677</td>\n",
              "      <td>0.829634</td>\n",
              "      <td>0.021957</td>\n",
              "    </tr>\n",
              "    <tr>\n",
              "      <th>SVC</th>\n",
              "      <td>0.787219</td>\n",
              "      <td>0.772046</td>\n",
              "      <td>0.015173</td>\n",
              "    </tr>\n",
              "    <tr>\n",
              "      <th>LogisticRegression</th>\n",
              "      <td>0.770205</td>\n",
              "      <td>0.700660</td>\n",
              "      <td>0.069545</td>\n",
              "    </tr>\n",
              "    <tr>\n",
              "      <th>GaussianNB</th>\n",
              "      <td>0.650192</td>\n",
              "      <td>0.521296</td>\n",
              "      <td>0.128897</td>\n",
              "    </tr>\n",
              "  </tbody>\n",
              "</table>\n",
              "</div>\n",
              "      <button class=\"colab-df-convert\" onclick=\"convertToInteractive('df-18da50d1-f4b6-4d95-a308-dfdbccd6dacc')\"\n",
              "              title=\"Convert this dataframe to an interactive table.\"\n",
              "              style=\"display:none;\">\n",
              "        \n",
              "  <svg xmlns=\"http://www.w3.org/2000/svg\" height=\"24px\"viewBox=\"0 0 24 24\"\n",
              "       width=\"24px\">\n",
              "    <path d=\"M0 0h24v24H0V0z\" fill=\"none\"/>\n",
              "    <path d=\"M18.56 5.44l.94 2.06.94-2.06 2.06-.94-2.06-.94-.94-2.06-.94 2.06-2.06.94zm-11 1L8.5 8.5l.94-2.06 2.06-.94-2.06-.94L8.5 2.5l-.94 2.06-2.06.94zm10 10l.94 2.06.94-2.06 2.06-.94-2.06-.94-.94-2.06-.94 2.06-2.06.94z\"/><path d=\"M17.41 7.96l-1.37-1.37c-.4-.4-.92-.59-1.43-.59-.52 0-1.04.2-1.43.59L10.3 9.45l-7.72 7.72c-.78.78-.78 2.05 0 2.83L4 21.41c.39.39.9.59 1.41.59.51 0 1.02-.2 1.41-.59l7.78-7.78 2.81-2.81c.8-.78.8-2.07 0-2.86zM5.41 20L4 18.59l7.72-7.72 1.47 1.35L5.41 20z\"/>\n",
              "  </svg>\n",
              "      </button>\n",
              "      \n",
              "  <style>\n",
              "    .colab-df-container {\n",
              "      display:flex;\n",
              "      flex-wrap:wrap;\n",
              "      gap: 12px;\n",
              "    }\n",
              "\n",
              "    .colab-df-convert {\n",
              "      background-color: #E8F0FE;\n",
              "      border: none;\n",
              "      border-radius: 50%;\n",
              "      cursor: pointer;\n",
              "      display: none;\n",
              "      fill: #1967D2;\n",
              "      height: 32px;\n",
              "      padding: 0 0 0 0;\n",
              "      width: 32px;\n",
              "    }\n",
              "\n",
              "    .colab-df-convert:hover {\n",
              "      background-color: #E2EBFA;\n",
              "      box-shadow: 0px 1px 2px rgba(60, 64, 67, 0.3), 0px 1px 3px 1px rgba(60, 64, 67, 0.15);\n",
              "      fill: #174EA6;\n",
              "    }\n",
              "\n",
              "    [theme=dark] .colab-df-convert {\n",
              "      background-color: #3B4455;\n",
              "      fill: #D2E3FC;\n",
              "    }\n",
              "\n",
              "    [theme=dark] .colab-df-convert:hover {\n",
              "      background-color: #434B5C;\n",
              "      box-shadow: 0px 1px 3px 1px rgba(0, 0, 0, 0.15);\n",
              "      filter: drop-shadow(0px 1px 2px rgba(0, 0, 0, 0.3));\n",
              "      fill: #FFFFFF;\n",
              "    }\n",
              "  </style>\n",
              "\n",
              "      <script>\n",
              "        const buttonEl =\n",
              "          document.querySelector('#df-18da50d1-f4b6-4d95-a308-dfdbccd6dacc button.colab-df-convert');\n",
              "        buttonEl.style.display =\n",
              "          google.colab.kernel.accessAllowed ? 'block' : 'none';\n",
              "\n",
              "        async function convertToInteractive(key) {\n",
              "          const element = document.querySelector('#df-18da50d1-f4b6-4d95-a308-dfdbccd6dacc');\n",
              "          const dataTable =\n",
              "            await google.colab.kernel.invokeFunction('convertToInteractive',\n",
              "                                                     [key], {});\n",
              "          if (!dataTable) return;\n",
              "\n",
              "          const docLinkHtml = 'Like what you see? Visit the ' +\n",
              "            '<a target=\"_blank\" href=https://colab.research.google.com/notebooks/data_table.ipynb>data table notebook</a>'\n",
              "            + ' to learn more about interactive tables.';\n",
              "          element.innerHTML = '';\n",
              "          dataTable['output_type'] = 'display_data';\n",
              "          await google.colab.output.renderOutput(dataTable, element);\n",
              "          const docLink = document.createElement('div');\n",
              "          docLink.innerHTML = docLinkHtml;\n",
              "          element.appendChild(docLink);\n",
              "        }\n",
              "      </script>\n",
              "    </div>\n",
              "  </div>\n",
              "  "
            ]
          },
          "metadata": {},
          "execution_count": 43
        }
      ]
    },
    {
      "cell_type": "markdown",
      "source": [
        "Pada hasil percobaan antara cross validation dan pelatihan pada data training dan testing, saya simpulkan bahwa model XGBClassifier karena nilai akurasi pada kedua data cukup sedikit perbedaannya dan performanya yang paling stabil."
      ],
      "metadata": {
        "id": "nDCZ9Pgxq-c7"
      }
    },
    {
      "cell_type": "markdown",
      "source": [
        "### XBGClassifier\n",
        "Pada tahap ini kita akan melakukan perbandingan performa model sebelum dan sesudah dilakukan feature selection."
      ],
      "metadata": {
        "id": "aNxd7wM8u9kW"
      }
    },
    {
      "cell_type": "markdown",
      "source": [
        "#### Default Parameter"
      ],
      "metadata": {
        "id": "NITqnqNDvGs0"
      }
    },
    {
      "cell_type": "code",
      "source": [
        "# Fit classifier\n",
        "xgb.fit(X_train_over, y_train_over)\n",
        "\n",
        "# predict test set\n",
        "y_pred_def = xgb.predict(X_test)\n",
        "\n",
        "# Calculate accuracy, precision, recall, and f1-score\n",
        "train_score_def = round((xgb.score(X_train_over, y_train_over) * 100), 2)\n",
        "test_score_def = round((xgb.score(X_test, y_test) * 100), 2)\n",
        "prec_score_def = round((precision_score(y_test, y_pred_def)) * 100, 2)\n",
        "recall_score_def = round((recall_score(y_test, y_pred_def)) * 100, 2)\n",
        "f1_def = round(f1_score(y_test, y_pred_def)*100, 2)\n",
        "\n",
        "print('Training Accuracy : {}%'.format(train_score_def))\n",
        "print('Test Accuracy : {}%'.format(test_score_def))\n",
        "print('Precision Score : {}%'.format(prec_score_def))\n",
        "print('Recall Score : {}%'.format(recall_score_def))\n",
        "print('F1 Score : {}%'.format(f1_def))"
      ],
      "metadata": {
        "colab": {
          "base_uri": "https://localhost:8080/"
        },
        "id": "ZXyZzznXvCr4",
        "outputId": "7079062b-c88f-4b2b-ead6-456716ce7bc8"
      },
      "execution_count": 44,
      "outputs": [
        {
          "output_type": "stream",
          "name": "stdout",
          "text": [
            "Training Accuracy : 90.85%\n",
            "Test Accuracy : 83.2%\n",
            "Precision Score : 92.19%\n",
            "Recall Score : 84.82%\n",
            "F1 Score : 88.35%\n"
          ]
        }
      ]
    },
    {
      "cell_type": "markdown",
      "source": [
        "#### Hyperparameter Tuning\n",
        "Lakukan tuning parameter untuk memilih parameter terbaik yang akan digunakan. Metode tuning yang digunakan yaitu Random Search CV. Random Search CV dipilih karena lebih mudah dan murah pada sisi komputasi."
      ],
      "metadata": {
        "id": "ChmfSCUSvORF"
      }
    },
    {
      "cell_type": "code",
      "source": [
        "params = {\n",
        "    'booster':['gbtree', 'gblinear', 'dart'],\n",
        "    'eta':[0.1, 0.01, 0.001, 0.0001],\n",
        "    'gamma':[0.1, 0.01, 0.001, 0.0001],\n",
        "    'max_depth':range(10, 101, 5),\n",
        "    'min_child_weight':range(0, 51, 5),\n",
        "    'tree_method':['gpu_hist', 'auto', 'approx', 'exact', 'hist'],\n",
        "    'scale_pos_weight':range(0, 31, 3),\n",
        "    'max_delta_step':range(10, 201, 5),\n",
        "    'max_leaves':range(0, 51, 5),\n",
        "    'eval_metric':['logloss', 'error', 'auc'],\n",
        "    'sampling_method':['gradient_based', 'uniform'],\n",
        "}\n",
        "\n",
        "xgb_tuned = RandomizedSearchCV(\n",
        "    estimator=XGBClassifier(), \n",
        "    param_distributions=params, \n",
        "    n_iter=100,\n",
        "    scoring='accuracy', cv=5, \n",
        "    n_jobs=-1)"
      ],
      "metadata": {
        "id": "Wpo18bJ0vRBu"
      },
      "execution_count": 45,
      "outputs": []
    },
    {
      "cell_type": "code",
      "source": [
        "xgb_tuned.fit(X_train_over, y_train_over)"
      ],
      "metadata": {
        "colab": {
          "base_uri": "https://localhost:8080/",
          "height": 711
        },
        "id": "B8oBvIhQvSOC",
        "outputId": "5355620b-583f-417e-bfd5-7513f7bd6cd0"
      },
      "execution_count": 46,
      "outputs": [
        {
          "output_type": "execute_result",
          "data": {
            "text/plain": [
              "RandomizedSearchCV(cv=5,\n",
              "                   estimator=XGBClassifier(base_score=None, booster=None,\n",
              "                                           callbacks=None,\n",
              "                                           colsample_bylevel=None,\n",
              "                                           colsample_bynode=None,\n",
              "                                           colsample_bytree=None,\n",
              "                                           early_stopping_rounds=None,\n",
              "                                           enable_categorical=False,\n",
              "                                           eval_metric=None, feature_types=None,\n",
              "                                           gamma=None, gpu_id=None,\n",
              "                                           grow_policy=None,\n",
              "                                           importance_type=None,\n",
              "                                           interaction_constraints=None,\n",
              "                                           learning_rate...\n",
              "                                        'eval_metric': ['logloss', 'error',\n",
              "                                                        'auc'],\n",
              "                                        'gamma': [0.1, 0.01, 0.001, 0.0001],\n",
              "                                        'max_delta_step': range(10, 201, 5),\n",
              "                                        'max_depth': range(10, 101, 5),\n",
              "                                        'max_leaves': range(0, 51, 5),\n",
              "                                        'min_child_weight': range(0, 51, 5),\n",
              "                                        'sampling_method': ['gradient_based',\n",
              "                                                            'uniform'],\n",
              "                                        'scale_pos_weight': range(0, 31, 3),\n",
              "                                        'tree_method': ['gpu_hist', 'auto',\n",
              "                                                        'approx', 'exact',\n",
              "                                                        'hist']},\n",
              "                   scoring='accuracy')"
            ],
            "text/html": [
              "<style>#sk-container-id-1 {color: black;background-color: white;}#sk-container-id-1 pre{padding: 0;}#sk-container-id-1 div.sk-toggleable {background-color: white;}#sk-container-id-1 label.sk-toggleable__label {cursor: pointer;display: block;width: 100%;margin-bottom: 0;padding: 0.3em;box-sizing: border-box;text-align: center;}#sk-container-id-1 label.sk-toggleable__label-arrow:before {content: \"▸\";float: left;margin-right: 0.25em;color: #696969;}#sk-container-id-1 label.sk-toggleable__label-arrow:hover:before {color: black;}#sk-container-id-1 div.sk-estimator:hover label.sk-toggleable__label-arrow:before {color: black;}#sk-container-id-1 div.sk-toggleable__content {max-height: 0;max-width: 0;overflow: hidden;text-align: left;background-color: #f0f8ff;}#sk-container-id-1 div.sk-toggleable__content pre {margin: 0.2em;color: black;border-radius: 0.25em;background-color: #f0f8ff;}#sk-container-id-1 input.sk-toggleable__control:checked~div.sk-toggleable__content {max-height: 200px;max-width: 100%;overflow: auto;}#sk-container-id-1 input.sk-toggleable__control:checked~label.sk-toggleable__label-arrow:before {content: \"▾\";}#sk-container-id-1 div.sk-estimator input.sk-toggleable__control:checked~label.sk-toggleable__label {background-color: #d4ebff;}#sk-container-id-1 div.sk-label input.sk-toggleable__control:checked~label.sk-toggleable__label {background-color: #d4ebff;}#sk-container-id-1 input.sk-hidden--visually {border: 0;clip: rect(1px 1px 1px 1px);clip: rect(1px, 1px, 1px, 1px);height: 1px;margin: -1px;overflow: hidden;padding: 0;position: absolute;width: 1px;}#sk-container-id-1 div.sk-estimator {font-family: monospace;background-color: #f0f8ff;border: 1px dotted black;border-radius: 0.25em;box-sizing: border-box;margin-bottom: 0.5em;}#sk-container-id-1 div.sk-estimator:hover {background-color: #d4ebff;}#sk-container-id-1 div.sk-parallel-item::after {content: \"\";width: 100%;border-bottom: 1px solid gray;flex-grow: 1;}#sk-container-id-1 div.sk-label:hover label.sk-toggleable__label {background-color: #d4ebff;}#sk-container-id-1 div.sk-serial::before {content: \"\";position: absolute;border-left: 1px solid gray;box-sizing: border-box;top: 0;bottom: 0;left: 50%;z-index: 0;}#sk-container-id-1 div.sk-serial {display: flex;flex-direction: column;align-items: center;background-color: white;padding-right: 0.2em;padding-left: 0.2em;position: relative;}#sk-container-id-1 div.sk-item {position: relative;z-index: 1;}#sk-container-id-1 div.sk-parallel {display: flex;align-items: stretch;justify-content: center;background-color: white;position: relative;}#sk-container-id-1 div.sk-item::before, #sk-container-id-1 div.sk-parallel-item::before {content: \"\";position: absolute;border-left: 1px solid gray;box-sizing: border-box;top: 0;bottom: 0;left: 50%;z-index: -1;}#sk-container-id-1 div.sk-parallel-item {display: flex;flex-direction: column;z-index: 1;position: relative;background-color: white;}#sk-container-id-1 div.sk-parallel-item:first-child::after {align-self: flex-end;width: 50%;}#sk-container-id-1 div.sk-parallel-item:last-child::after {align-self: flex-start;width: 50%;}#sk-container-id-1 div.sk-parallel-item:only-child::after {width: 0;}#sk-container-id-1 div.sk-dashed-wrapped {border: 1px dashed gray;margin: 0 0.4em 0.5em 0.4em;box-sizing: border-box;padding-bottom: 0.4em;background-color: white;}#sk-container-id-1 div.sk-label label {font-family: monospace;font-weight: bold;display: inline-block;line-height: 1.2em;}#sk-container-id-1 div.sk-label-container {text-align: center;}#sk-container-id-1 div.sk-container {/* jupyter's `normalize.less` sets `[hidden] { display: none; }` but bootstrap.min.css set `[hidden] { display: none !important; }` so we also need the `!important` here to be able to override the default hidden behavior on the sphinx rendered scikit-learn.org. See: https://github.com/scikit-learn/scikit-learn/issues/21755 */display: inline-block !important;position: relative;}#sk-container-id-1 div.sk-text-repr-fallback {display: none;}</style><div id=\"sk-container-id-1\" class=\"sk-top-container\"><div class=\"sk-text-repr-fallback\"><pre>RandomizedSearchCV(cv=5,\n",
              "                   estimator=XGBClassifier(base_score=None, booster=None,\n",
              "                                           callbacks=None,\n",
              "                                           colsample_bylevel=None,\n",
              "                                           colsample_bynode=None,\n",
              "                                           colsample_bytree=None,\n",
              "                                           early_stopping_rounds=None,\n",
              "                                           enable_categorical=False,\n",
              "                                           eval_metric=None, feature_types=None,\n",
              "                                           gamma=None, gpu_id=None,\n",
              "                                           grow_policy=None,\n",
              "                                           importance_type=None,\n",
              "                                           interaction_constraints=None,\n",
              "                                           learning_rate...\n",
              "                                        &#x27;eval_metric&#x27;: [&#x27;logloss&#x27;, &#x27;error&#x27;,\n",
              "                                                        &#x27;auc&#x27;],\n",
              "                                        &#x27;gamma&#x27;: [0.1, 0.01, 0.001, 0.0001],\n",
              "                                        &#x27;max_delta_step&#x27;: range(10, 201, 5),\n",
              "                                        &#x27;max_depth&#x27;: range(10, 101, 5),\n",
              "                                        &#x27;max_leaves&#x27;: range(0, 51, 5),\n",
              "                                        &#x27;min_child_weight&#x27;: range(0, 51, 5),\n",
              "                                        &#x27;sampling_method&#x27;: [&#x27;gradient_based&#x27;,\n",
              "                                                            &#x27;uniform&#x27;],\n",
              "                                        &#x27;scale_pos_weight&#x27;: range(0, 31, 3),\n",
              "                                        &#x27;tree_method&#x27;: [&#x27;gpu_hist&#x27;, &#x27;auto&#x27;,\n",
              "                                                        &#x27;approx&#x27;, &#x27;exact&#x27;,\n",
              "                                                        &#x27;hist&#x27;]},\n",
              "                   scoring=&#x27;accuracy&#x27;)</pre><b>In a Jupyter environment, please rerun this cell to show the HTML representation or trust the notebook. <br />On GitHub, the HTML representation is unable to render, please try loading this page with nbviewer.org.</b></div><div class=\"sk-container\" hidden><div class=\"sk-item sk-dashed-wrapped\"><div class=\"sk-label-container\"><div class=\"sk-label sk-toggleable\"><input class=\"sk-toggleable__control sk-hidden--visually\" id=\"sk-estimator-id-1\" type=\"checkbox\" ><label for=\"sk-estimator-id-1\" class=\"sk-toggleable__label sk-toggleable__label-arrow\">RandomizedSearchCV</label><div class=\"sk-toggleable__content\"><pre>RandomizedSearchCV(cv=5,\n",
              "                   estimator=XGBClassifier(base_score=None, booster=None,\n",
              "                                           callbacks=None,\n",
              "                                           colsample_bylevel=None,\n",
              "                                           colsample_bynode=None,\n",
              "                                           colsample_bytree=None,\n",
              "                                           early_stopping_rounds=None,\n",
              "                                           enable_categorical=False,\n",
              "                                           eval_metric=None, feature_types=None,\n",
              "                                           gamma=None, gpu_id=None,\n",
              "                                           grow_policy=None,\n",
              "                                           importance_type=None,\n",
              "                                           interaction_constraints=None,\n",
              "                                           learning_rate...\n",
              "                                        &#x27;eval_metric&#x27;: [&#x27;logloss&#x27;, &#x27;error&#x27;,\n",
              "                                                        &#x27;auc&#x27;],\n",
              "                                        &#x27;gamma&#x27;: [0.1, 0.01, 0.001, 0.0001],\n",
              "                                        &#x27;max_delta_step&#x27;: range(10, 201, 5),\n",
              "                                        &#x27;max_depth&#x27;: range(10, 101, 5),\n",
              "                                        &#x27;max_leaves&#x27;: range(0, 51, 5),\n",
              "                                        &#x27;min_child_weight&#x27;: range(0, 51, 5),\n",
              "                                        &#x27;sampling_method&#x27;: [&#x27;gradient_based&#x27;,\n",
              "                                                            &#x27;uniform&#x27;],\n",
              "                                        &#x27;scale_pos_weight&#x27;: range(0, 31, 3),\n",
              "                                        &#x27;tree_method&#x27;: [&#x27;gpu_hist&#x27;, &#x27;auto&#x27;,\n",
              "                                                        &#x27;approx&#x27;, &#x27;exact&#x27;,\n",
              "                                                        &#x27;hist&#x27;]},\n",
              "                   scoring=&#x27;accuracy&#x27;)</pre></div></div></div><div class=\"sk-parallel\"><div class=\"sk-parallel-item\"><div class=\"sk-item\"><div class=\"sk-label-container\"><div class=\"sk-label sk-toggleable\"><input class=\"sk-toggleable__control sk-hidden--visually\" id=\"sk-estimator-id-2\" type=\"checkbox\" ><label for=\"sk-estimator-id-2\" class=\"sk-toggleable__label sk-toggleable__label-arrow\">estimator: XGBClassifier</label><div class=\"sk-toggleable__content\"><pre>XGBClassifier(base_score=None, booster=None, callbacks=None,\n",
              "              colsample_bylevel=None, colsample_bynode=None,\n",
              "              colsample_bytree=None, early_stopping_rounds=None,\n",
              "              enable_categorical=False, eval_metric=None, feature_types=None,\n",
              "              gamma=None, gpu_id=None, grow_policy=None, importance_type=None,\n",
              "              interaction_constraints=None, learning_rate=None, max_bin=None,\n",
              "              max_cat_threshold=None, max_cat_to_onehot=None,\n",
              "              max_delta_step=None, max_depth=None, max_leaves=None,\n",
              "              min_child_weight=None, missing=nan, monotone_constraints=None,\n",
              "              n_estimators=100, n_jobs=None, num_parallel_tree=None,\n",
              "              predictor=None, random_state=None, ...)</pre></div></div></div><div class=\"sk-serial\"><div class=\"sk-item\"><div class=\"sk-estimator sk-toggleable\"><input class=\"sk-toggleable__control sk-hidden--visually\" id=\"sk-estimator-id-3\" type=\"checkbox\" ><label for=\"sk-estimator-id-3\" class=\"sk-toggleable__label sk-toggleable__label-arrow\">XGBClassifier</label><div class=\"sk-toggleable__content\"><pre>XGBClassifier(base_score=None, booster=None, callbacks=None,\n",
              "              colsample_bylevel=None, colsample_bynode=None,\n",
              "              colsample_bytree=None, early_stopping_rounds=None,\n",
              "              enable_categorical=False, eval_metric=None, feature_types=None,\n",
              "              gamma=None, gpu_id=None, grow_policy=None, importance_type=None,\n",
              "              interaction_constraints=None, learning_rate=None, max_bin=None,\n",
              "              max_cat_threshold=None, max_cat_to_onehot=None,\n",
              "              max_delta_step=None, max_depth=None, max_leaves=None,\n",
              "              min_child_weight=None, missing=nan, monotone_constraints=None,\n",
              "              n_estimators=100, n_jobs=None, num_parallel_tree=None,\n",
              "              predictor=None, random_state=None, ...)</pre></div></div></div></div></div></div></div></div></div></div>"
            ]
          },
          "metadata": {},
          "execution_count": 46
        }
      ]
    },
    {
      "cell_type": "code",
      "source": [
        "# best estimator for xgboost\n",
        "xgb_tuned.best_estimator_"
      ],
      "metadata": {
        "colab": {
          "base_uri": "https://localhost:8080/",
          "height": 248
        },
        "id": "ZFe7ViiNvDWx",
        "outputId": "4016c8b8-4eda-4094-d3c7-e1d9631f70e0"
      },
      "execution_count": 47,
      "outputs": [
        {
          "output_type": "execute_result",
          "data": {
            "text/plain": [
              "XGBClassifier(base_score=None, booster='dart', callbacks=None,\n",
              "              colsample_bylevel=None, colsample_bynode=None,\n",
              "              colsample_bytree=None, early_stopping_rounds=None,\n",
              "              enable_categorical=False, eta=0.01, eval_metric='auc',\n",
              "              feature_types=None, gamma=0.01, gpu_id=None, grow_policy=None,\n",
              "              importance_type=None, interaction_constraints=None,\n",
              "              learning_rate=None, max_bin=None, max_cat_threshold=None,\n",
              "              max_cat_to_onehot=None, max_delta_step=185, max_depth=25,\n",
              "              max_leaves=35, min_child_weight=5, missing=nan,\n",
              "              monotone_constraints=None, n_estimators=100, n_jobs=None,\n",
              "              num_parallel_tree=None, predictor=None, ...)"
            ],
            "text/html": [
              "<style>#sk-container-id-2 {color: black;background-color: white;}#sk-container-id-2 pre{padding: 0;}#sk-container-id-2 div.sk-toggleable {background-color: white;}#sk-container-id-2 label.sk-toggleable__label {cursor: pointer;display: block;width: 100%;margin-bottom: 0;padding: 0.3em;box-sizing: border-box;text-align: center;}#sk-container-id-2 label.sk-toggleable__label-arrow:before {content: \"▸\";float: left;margin-right: 0.25em;color: #696969;}#sk-container-id-2 label.sk-toggleable__label-arrow:hover:before {color: black;}#sk-container-id-2 div.sk-estimator:hover label.sk-toggleable__label-arrow:before {color: black;}#sk-container-id-2 div.sk-toggleable__content {max-height: 0;max-width: 0;overflow: hidden;text-align: left;background-color: #f0f8ff;}#sk-container-id-2 div.sk-toggleable__content pre {margin: 0.2em;color: black;border-radius: 0.25em;background-color: #f0f8ff;}#sk-container-id-2 input.sk-toggleable__control:checked~div.sk-toggleable__content {max-height: 200px;max-width: 100%;overflow: auto;}#sk-container-id-2 input.sk-toggleable__control:checked~label.sk-toggleable__label-arrow:before {content: \"▾\";}#sk-container-id-2 div.sk-estimator input.sk-toggleable__control:checked~label.sk-toggleable__label {background-color: #d4ebff;}#sk-container-id-2 div.sk-label input.sk-toggleable__control:checked~label.sk-toggleable__label {background-color: #d4ebff;}#sk-container-id-2 input.sk-hidden--visually {border: 0;clip: rect(1px 1px 1px 1px);clip: rect(1px, 1px, 1px, 1px);height: 1px;margin: -1px;overflow: hidden;padding: 0;position: absolute;width: 1px;}#sk-container-id-2 div.sk-estimator {font-family: monospace;background-color: #f0f8ff;border: 1px dotted black;border-radius: 0.25em;box-sizing: border-box;margin-bottom: 0.5em;}#sk-container-id-2 div.sk-estimator:hover {background-color: #d4ebff;}#sk-container-id-2 div.sk-parallel-item::after {content: \"\";width: 100%;border-bottom: 1px solid gray;flex-grow: 1;}#sk-container-id-2 div.sk-label:hover label.sk-toggleable__label {background-color: #d4ebff;}#sk-container-id-2 div.sk-serial::before {content: \"\";position: absolute;border-left: 1px solid gray;box-sizing: border-box;top: 0;bottom: 0;left: 50%;z-index: 0;}#sk-container-id-2 div.sk-serial {display: flex;flex-direction: column;align-items: center;background-color: white;padding-right: 0.2em;padding-left: 0.2em;position: relative;}#sk-container-id-2 div.sk-item {position: relative;z-index: 1;}#sk-container-id-2 div.sk-parallel {display: flex;align-items: stretch;justify-content: center;background-color: white;position: relative;}#sk-container-id-2 div.sk-item::before, #sk-container-id-2 div.sk-parallel-item::before {content: \"\";position: absolute;border-left: 1px solid gray;box-sizing: border-box;top: 0;bottom: 0;left: 50%;z-index: -1;}#sk-container-id-2 div.sk-parallel-item {display: flex;flex-direction: column;z-index: 1;position: relative;background-color: white;}#sk-container-id-2 div.sk-parallel-item:first-child::after {align-self: flex-end;width: 50%;}#sk-container-id-2 div.sk-parallel-item:last-child::after {align-self: flex-start;width: 50%;}#sk-container-id-2 div.sk-parallel-item:only-child::after {width: 0;}#sk-container-id-2 div.sk-dashed-wrapped {border: 1px dashed gray;margin: 0 0.4em 0.5em 0.4em;box-sizing: border-box;padding-bottom: 0.4em;background-color: white;}#sk-container-id-2 div.sk-label label {font-family: monospace;font-weight: bold;display: inline-block;line-height: 1.2em;}#sk-container-id-2 div.sk-label-container {text-align: center;}#sk-container-id-2 div.sk-container {/* jupyter's `normalize.less` sets `[hidden] { display: none; }` but bootstrap.min.css set `[hidden] { display: none !important; }` so we also need the `!important` here to be able to override the default hidden behavior on the sphinx rendered scikit-learn.org. See: https://github.com/scikit-learn/scikit-learn/issues/21755 */display: inline-block !important;position: relative;}#sk-container-id-2 div.sk-text-repr-fallback {display: none;}</style><div id=\"sk-container-id-2\" class=\"sk-top-container\"><div class=\"sk-text-repr-fallback\"><pre>XGBClassifier(base_score=None, booster=&#x27;dart&#x27;, callbacks=None,\n",
              "              colsample_bylevel=None, colsample_bynode=None,\n",
              "              colsample_bytree=None, early_stopping_rounds=None,\n",
              "              enable_categorical=False, eta=0.01, eval_metric=&#x27;auc&#x27;,\n",
              "              feature_types=None, gamma=0.01, gpu_id=None, grow_policy=None,\n",
              "              importance_type=None, interaction_constraints=None,\n",
              "              learning_rate=None, max_bin=None, max_cat_threshold=None,\n",
              "              max_cat_to_onehot=None, max_delta_step=185, max_depth=25,\n",
              "              max_leaves=35, min_child_weight=5, missing=nan,\n",
              "              monotone_constraints=None, n_estimators=100, n_jobs=None,\n",
              "              num_parallel_tree=None, predictor=None, ...)</pre><b>In a Jupyter environment, please rerun this cell to show the HTML representation or trust the notebook. <br />On GitHub, the HTML representation is unable to render, please try loading this page with nbviewer.org.</b></div><div class=\"sk-container\" hidden><div class=\"sk-item\"><div class=\"sk-estimator sk-toggleable\"><input class=\"sk-toggleable__control sk-hidden--visually\" id=\"sk-estimator-id-4\" type=\"checkbox\" checked><label for=\"sk-estimator-id-4\" class=\"sk-toggleable__label sk-toggleable__label-arrow\">XGBClassifier</label><div class=\"sk-toggleable__content\"><pre>XGBClassifier(base_score=None, booster=&#x27;dart&#x27;, callbacks=None,\n",
              "              colsample_bylevel=None, colsample_bynode=None,\n",
              "              colsample_bytree=None, early_stopping_rounds=None,\n",
              "              enable_categorical=False, eta=0.01, eval_metric=&#x27;auc&#x27;,\n",
              "              feature_types=None, gamma=0.01, gpu_id=None, grow_policy=None,\n",
              "              importance_type=None, interaction_constraints=None,\n",
              "              learning_rate=None, max_bin=None, max_cat_threshold=None,\n",
              "              max_cat_to_onehot=None, max_delta_step=185, max_depth=25,\n",
              "              max_leaves=35, min_child_weight=5, missing=nan,\n",
              "              monotone_constraints=None, n_estimators=100, n_jobs=None,\n",
              "              num_parallel_tree=None, predictor=None, ...)</pre></div></div></div></div></div>"
            ]
          },
          "metadata": {},
          "execution_count": 47
        }
      ]
    },
    {
      "cell_type": "code",
      "source": [
        "# Predict test set\n",
        "y_pred_tuned = xgb_tuned.predict(X_test)\n",
        "\n",
        "#Calculate accuracy, precision, recall, and f1-score\n",
        "train_score_tuned = round((xgb_tuned.score(X_train_over, y_train_over) * 100), 2)\n",
        "test_score_tuned = round((xgb_tuned.score(X_test, y_test) * 100), 2)\n",
        "prec_score_tuned = round((precision_score(y_test, y_pred_tuned)) * 100, 2)\n",
        "recall_score_tuned = round((recall_score(y_test, y_pred_tuned)) * 100, 2)\n",
        "f1_tuned = round(f1_score(y_test, y_pred_tuned)*100, 2)\n",
        "\n",
        "print('Training Accuracy : {}%'.format(train_score_tuned))\n",
        "print('Test Accuracy : {}%'.format(test_score_tuned))\n",
        "print('Precision Score : {}%'.format(prec_score_tuned))\n",
        "print('Recall Score : {}%'.format(recall_score_tuned))\n",
        "print('F1 Score : {}%'.format(f1_tuned))"
      ],
      "metadata": {
        "colab": {
          "base_uri": "https://localhost:8080/"
        },
        "id": "MciehXecz5Ny",
        "outputId": "d9dedb04-8631-49b2-ad51-94f2e46635f7"
      },
      "execution_count": 48,
      "outputs": [
        {
          "output_type": "stream",
          "name": "stdout",
          "text": [
            "Training Accuracy : 85.45%\n",
            "Test Accuracy : 85.9%\n",
            "Precision Score : 88.85%\n",
            "Recall Score : 92.89%\n",
            "F1 Score : 90.82%\n"
          ]
        }
      ]
    },
    {
      "cell_type": "code",
      "source": [
        "pd.DataFrame({\n",
        "    'train_acc':[train_score_def, train_score_tuned],\n",
        "    'test_acc':[test_score_def, test_score_tuned],\n",
        "    'precision':[prec_score_def, prec_score_tuned],\n",
        "    'recall':[recall_score_def, recall_score_tuned],\n",
        "    'f1-score':[f1_def, f1_tuned]}, index=['xgb_rfe', 'xgb_rfe_tuned'])"
      ],
      "metadata": {
        "colab": {
          "base_uri": "https://localhost:8080/",
          "height": 112
        },
        "id": "qokRjisqz7NY",
        "outputId": "fcc9be5e-8d25-4ba7-ed3b-e549f0c88999"
      },
      "execution_count": 49,
      "outputs": [
        {
          "output_type": "execute_result",
          "data": {
            "text/plain": [
              "               train_acc  test_acc  precision  recall  f1-score\n",
              "xgb_rfe            90.85      83.2      92.19   84.82     88.35\n",
              "xgb_rfe_tuned      85.45      85.9      88.85   92.89     90.82"
            ],
            "text/html": [
              "\n",
              "  <div id=\"df-82a56319-8b8c-46df-8d4c-94133668ee0b\">\n",
              "    <div class=\"colab-df-container\">\n",
              "      <div>\n",
              "<style scoped>\n",
              "    .dataframe tbody tr th:only-of-type {\n",
              "        vertical-align: middle;\n",
              "    }\n",
              "\n",
              "    .dataframe tbody tr th {\n",
              "        vertical-align: top;\n",
              "    }\n",
              "\n",
              "    .dataframe thead th {\n",
              "        text-align: right;\n",
              "    }\n",
              "</style>\n",
              "<table border=\"1\" class=\"dataframe\">\n",
              "  <thead>\n",
              "    <tr style=\"text-align: right;\">\n",
              "      <th></th>\n",
              "      <th>train_acc</th>\n",
              "      <th>test_acc</th>\n",
              "      <th>precision</th>\n",
              "      <th>recall</th>\n",
              "      <th>f1-score</th>\n",
              "    </tr>\n",
              "  </thead>\n",
              "  <tbody>\n",
              "    <tr>\n",
              "      <th>xgb_rfe</th>\n",
              "      <td>90.85</td>\n",
              "      <td>83.2</td>\n",
              "      <td>92.19</td>\n",
              "      <td>84.82</td>\n",
              "      <td>88.35</td>\n",
              "    </tr>\n",
              "    <tr>\n",
              "      <th>xgb_rfe_tuned</th>\n",
              "      <td>85.45</td>\n",
              "      <td>85.9</td>\n",
              "      <td>88.85</td>\n",
              "      <td>92.89</td>\n",
              "      <td>90.82</td>\n",
              "    </tr>\n",
              "  </tbody>\n",
              "</table>\n",
              "</div>\n",
              "      <button class=\"colab-df-convert\" onclick=\"convertToInteractive('df-82a56319-8b8c-46df-8d4c-94133668ee0b')\"\n",
              "              title=\"Convert this dataframe to an interactive table.\"\n",
              "              style=\"display:none;\">\n",
              "        \n",
              "  <svg xmlns=\"http://www.w3.org/2000/svg\" height=\"24px\"viewBox=\"0 0 24 24\"\n",
              "       width=\"24px\">\n",
              "    <path d=\"M0 0h24v24H0V0z\" fill=\"none\"/>\n",
              "    <path d=\"M18.56 5.44l.94 2.06.94-2.06 2.06-.94-2.06-.94-.94-2.06-.94 2.06-2.06.94zm-11 1L8.5 8.5l.94-2.06 2.06-.94-2.06-.94L8.5 2.5l-.94 2.06-2.06.94zm10 10l.94 2.06.94-2.06 2.06-.94-2.06-.94-.94-2.06-.94 2.06-2.06.94z\"/><path d=\"M17.41 7.96l-1.37-1.37c-.4-.4-.92-.59-1.43-.59-.52 0-1.04.2-1.43.59L10.3 9.45l-7.72 7.72c-.78.78-.78 2.05 0 2.83L4 21.41c.39.39.9.59 1.41.59.51 0 1.02-.2 1.41-.59l7.78-7.78 2.81-2.81c.8-.78.8-2.07 0-2.86zM5.41 20L4 18.59l7.72-7.72 1.47 1.35L5.41 20z\"/>\n",
              "  </svg>\n",
              "      </button>\n",
              "      \n",
              "  <style>\n",
              "    .colab-df-container {\n",
              "      display:flex;\n",
              "      flex-wrap:wrap;\n",
              "      gap: 12px;\n",
              "    }\n",
              "\n",
              "    .colab-df-convert {\n",
              "      background-color: #E8F0FE;\n",
              "      border: none;\n",
              "      border-radius: 50%;\n",
              "      cursor: pointer;\n",
              "      display: none;\n",
              "      fill: #1967D2;\n",
              "      height: 32px;\n",
              "      padding: 0 0 0 0;\n",
              "      width: 32px;\n",
              "    }\n",
              "\n",
              "    .colab-df-convert:hover {\n",
              "      background-color: #E2EBFA;\n",
              "      box-shadow: 0px 1px 2px rgba(60, 64, 67, 0.3), 0px 1px 3px 1px rgba(60, 64, 67, 0.15);\n",
              "      fill: #174EA6;\n",
              "    }\n",
              "\n",
              "    [theme=dark] .colab-df-convert {\n",
              "      background-color: #3B4455;\n",
              "      fill: #D2E3FC;\n",
              "    }\n",
              "\n",
              "    [theme=dark] .colab-df-convert:hover {\n",
              "      background-color: #434B5C;\n",
              "      box-shadow: 0px 1px 3px 1px rgba(0, 0, 0, 0.15);\n",
              "      filter: drop-shadow(0px 1px 2px rgba(0, 0, 0, 0.3));\n",
              "      fill: #FFFFFF;\n",
              "    }\n",
              "  </style>\n",
              "\n",
              "      <script>\n",
              "        const buttonEl =\n",
              "          document.querySelector('#df-82a56319-8b8c-46df-8d4c-94133668ee0b button.colab-df-convert');\n",
              "        buttonEl.style.display =\n",
              "          google.colab.kernel.accessAllowed ? 'block' : 'none';\n",
              "\n",
              "        async function convertToInteractive(key) {\n",
              "          const element = document.querySelector('#df-82a56319-8b8c-46df-8d4c-94133668ee0b');\n",
              "          const dataTable =\n",
              "            await google.colab.kernel.invokeFunction('convertToInteractive',\n",
              "                                                     [key], {});\n",
              "          if (!dataTable) return;\n",
              "\n",
              "          const docLinkHtml = 'Like what you see? Visit the ' +\n",
              "            '<a target=\"_blank\" href=https://colab.research.google.com/notebooks/data_table.ipynb>data table notebook</a>'\n",
              "            + ' to learn more about interactive tables.';\n",
              "          element.innerHTML = '';\n",
              "          dataTable['output_type'] = 'display_data';\n",
              "          await google.colab.output.renderOutput(dataTable, element);\n",
              "          const docLink = document.createElement('div');\n",
              "          docLink.innerHTML = docLinkHtml;\n",
              "          element.appendChild(docLink);\n",
              "        }\n",
              "      </script>\n",
              "    </div>\n",
              "  </div>\n",
              "  "
            ]
          },
          "metadata": {},
          "execution_count": 49
        }
      ]
    },
    {
      "cell_type": "markdown",
      "source": [
        "Setelah dilakukan hyperparameter tuning, ternyata model mengalami kenaikan nilai akurasi pada data training, tetapi memgalami penurunan pada data testing. Ini mengindikasikan bahwa model overfitting dengan perbedaan nilai akurasi sekitar 16% setelah hyperparameter tuning. Karena secara keseluruhan model mengalami penurunan performa, maka kita akan menggunakan default parameter."
      ],
      "metadata": {
        "id": "Fzt0l_Vy1wxI"
      }
    },
    {
      "cell_type": "markdown",
      "source": [
        "## Model Evaluation\n",
        "Lakukan evaluasi terhadap model, seperti melihat confusion matrix, classification report dan feature importance hasil training."
      ],
      "metadata": {
        "id": "WbmVqvA42Rnv"
      }
    },
    {
      "cell_type": "markdown",
      "source": [
        "### Confusion Matrix"
      ],
      "metadata": {
        "id": "q02JrDW32TxI"
      }
    },
    {
      "cell_type": "code",
      "source": [
        "# Confusion Matrix\n",
        "cm = confusion_matrix(y_test, y_pred_def)\n",
        "print(cm)\n",
        "ConfusionMatrixDisplay(cm).plot()\n",
        "plt.show()"
      ],
      "metadata": {
        "colab": {
          "base_uri": "https://localhost:8080/",
          "height": 493
        },
        "id": "KI7_9cYe0izk",
        "outputId": "fc1f40a7-4a44-4968-d737-1ae29beb05f6"
      },
      "execution_count": 50,
      "outputs": [
        {
          "output_type": "stream",
          "name": "stdout",
          "text": [
            "[[ 325   90]\n",
            " [ 190 1062]]\n"
          ]
        },
        {
          "output_type": "display_data",
          "data": {
            "text/plain": [
              "<Figure size 640x480 with 2 Axes>"
            ],
            "image/png": "[encoded data removed]"
          },
          "metadata": {}
        }
      ]
    },
    {
      "cell_type": "markdown",
      "source": [
        "### Classification Report"
      ],
      "metadata": {
        "id": "iVZyELz42eUY"
      }
    },
    {
      "cell_type": "code",
      "source": [
        "# Classification report model\n",
        "cr = classification_report(y_test, y_pred_def)\n",
        "print(cr)"
      ],
      "metadata": {
        "colab": {
          "base_uri": "https://localhost:8080/"
        },
        "id": "K6jFUjkA2ZPv",
        "outputId": "8153a794-f01a-4432-92d0-db5854ed322c"
      },
      "execution_count": 51,
      "outputs": [
        {
          "output_type": "stream",
          "name": "stdout",
          "text": [
            "              precision    recall  f1-score   support\n",
            "\n",
            "           0       0.63      0.78      0.70       415\n",
            "           1       0.92      0.85      0.88      1252\n",
            "\n",
            "    accuracy                           0.83      1667\n",
            "   macro avg       0.78      0.82      0.79      1667\n",
            "weighted avg       0.85      0.83      0.84      1667\n",
            "\n"
          ]
        }
      ]
    },
    {
      "cell_type": "markdown",
      "source": [
        "### Feature Importance"
      ],
      "metadata": {
        "id": "fPP3ERZ32ojG"
      }
    },
    {
      "cell_type": "code",
      "source": [
        "feature_importance = pd.DataFrame({\n",
        "    'Features':X.columns,\n",
        "    'Importance':xgb.feature_importances_}).sort_values('Importance', ascending=False)"
      ],
      "metadata": {
        "id": "FvocUdVI2gIE"
      },
      "execution_count": 52,
      "outputs": []
    },
    {
      "cell_type": "code",
      "source": [
        "plt.figure(figsize=(7, 4))\n",
        "sns.barplot(data=feature_importance, x='Importance', y='Features', color='blue')\n",
        "\n",
        "# function to add value labels\n",
        "def addlabels(x,y):\n",
        "    for i in range(len(x)):\n",
        "        plt.text(x[i],i, round(x[i], 3), fontsize=10, fontweight='bold')\n",
        "\n",
        "x = list(feature_importance['Importance'])\n",
        "y = list(feature_importance['Features'])\n",
        "\n",
        "plt.title('Feature Importance', fontsize=10, color='black', pad=15, fontweight='bold')\n",
        "plt.yticks(fontsize=10)\n",
        "addlabels(x, y)\n",
        "plt.show()"
      ],
      "metadata": {
        "colab": {
          "base_uri": "https://localhost:8080/",
          "height": 428
        },
        "id": "15q1-MHp2rUr",
        "outputId": "efb1fd42-6000-448d-bb27-795b07ba224f"
      },
      "execution_count": 57,
      "outputs": [
        {
          "output_type": "display_data",
          "data": {
            "text/plain": [
              "<Figure size 700x400 with 1 Axes>"
            ],
            "image/png": "[encoded data removed]"
          },
          "metadata": {}
        }
      ]
    },
    {
      "cell_type": "markdown",
      "source": [
        "Dari hasil diatas, fitur taskStatus memiliki nilai yang cukup tinggi dari semua fitur yang digunakan dalam pemodelan."
      ],
      "metadata": {
        "id": "ft9DzTnNrIjr"
      }
    },
    {
      "cell_type": "code",
      "source": [],
      "metadata": {
        "id": "4xRayWRZ2yRz"
      },
      "execution_count": 53,
      "outputs": []
    }
  ]
}